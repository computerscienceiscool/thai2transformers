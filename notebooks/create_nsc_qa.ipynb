{
 "cells": [
  {
   "cell_type": "markdown",
   "metadata": {},
   "source": [
    "# Convert `nsc_qa` to `iapp_wiki_qa_squad` format"
   ]
  },
  {
   "cell_type": "code",
   "execution_count": 114,
   "metadata": {},
   "outputs": [
    {
     "name": "stderr",
     "output_type": "stream",
     "text": [
      "W0707 22:02:20.335740 140472399693632 builder.py:357] Using custom data configuration default-c2ed17d9edc733d0\n",
      "W0707 22:02:20.341271 140472399693632 builder.py:512] Reusing dataset json (/home/cstorm125/.cache/huggingface/datasets/json/default-c2ed17d9edc733d0/0.0.0/dc7ee63ec8b554c48ecc5a8a6fbe27af8071408c244e4347cf9222d6206d83a2)\n",
      "W0707 22:02:20.379956 140472399693632 arrow_dataset.py:1518] Loading cached processed dataset at /home/cstorm125/.cache/huggingface/datasets/json/default-c2ed17d9edc733d0/0.0.0/dc7ee63ec8b554c48ecc5a8a6fbe27af8071408c244e4347cf9222d6206d83a2/cache-eb61fe9da0ad4b56.arrow\n",
      "W0707 22:02:20.387268 140472399693632 arrow_dataset.py:1518] Loading cached processed dataset at /home/cstorm125/.cache/huggingface/datasets/json/default-c2ed17d9edc733d0/0.0.0/dc7ee63ec8b554c48ecc5a8a6fbe27af8071408c244e4347cf9222d6206d83a2/cache-e02350636e79cf03.arrow\n",
      "W0707 22:02:20.393205 140472399693632 arrow_dataset.py:1518] Loading cached processed dataset at /home/cstorm125/.cache/huggingface/datasets/json/default-c2ed17d9edc733d0/0.0.0/dc7ee63ec8b554c48ecc5a8a6fbe27af8071408c244e4347cf9222d6206d83a2/cache-0a5e3bd7f6d611df.arrow\n"
     ]
    }
   ],
   "source": [
    "%matplotlib inline\n",
    "import numpy as np\n",
    "import pandas as pd\n",
    "from datasets import load_dataset,load_from_disk\n",
    "\n",
    "datasets = load_dataset('json', \n",
    "                       data_files={'train':'nsc_qa/train_fold_1.json',\n",
    "                                   'valid':'nsc_qa/validate_fold_1.json',\n",
    "                                   'test':'nsc_qa/test_fold_1.json'},\n",
    "                       field='data')\n",
    "datasets = datasets.map(lambda x: x['paragraphs'][0])"
   ]
  },
  {
   "cell_type": "code",
   "execution_count": 115,
   "metadata": {},
   "outputs": [
    {
     "data": {
      "text/plain": [
       "{'context': 'การทบทวนวรรณกรรม การทบทวนวรรณกรรม () เป็นเนื้อหาหลักส่วนหนึ่งในการเขียนรายงานการวิจัย โดยเน้นอธิบายเกี่ยวกับงานวิจัยหรือความรู้ในหัวข้อเดียวกันหรือใกล้เคียงในอดีต โดยการทบทวนวรรณกรรมนั้นมีจุดหมายในการรวบรวมข้อมูลปัจจุบันของผลงานวิจัยที่เกี่ยวข้อง การทบทวนวรรณกรรมมักจะพบได้ในงานเขียนด้านวิชาการ เช่นในวิทยานิพนธ์ ดุษฎีนิพนธ์ หรือผลงานในวารสารวิชาการ การทบทวนวรรณกรรมมักจะถูกลำดับเป็นส่วนที่สองของงานเขียนต่อจากบทนำ และมักจะอยู่ก่อนหน้าเป้าหมายงานวิจัย และขั้นตอนการวิจัย',\n",
       " 'paragraphs': [{'context': 'การทบทวนวรรณกรรม การทบทวนวรรณกรรม () เป็นเนื้อหาหลักส่วนหนึ่งในการเขียนรายงานการวิจัย โดยเน้นอธิบายเกี่ยวกับงานวิจัยหรือความรู้ในหัวข้อเดียวกันหรือใกล้เคียงในอดีต โดยการทบทวนวรรณกรรมนั้นมีจุดหมายในการรวบรวมข้อมูลปัจจุบันของผลงานวิจัยที่เกี่ยวข้อง การทบทวนวรรณกรรมมักจะพบได้ในงานเขียนด้านวิชาการ เช่นในวิทยานิพนธ์ ดุษฎีนิพนธ์ หรือผลงานในวารสารวิชาการ การทบทวนวรรณกรรมมักจะถูกลำดับเป็นส่วนที่สองของงานเขียนต่อจากบทนำ และมักจะอยู่ก่อนหน้าเป้าหมายงานวิจัย และขั้นตอนการวิจัย',\n",
       "   'qas': [{'answers': [{'answer_start': 410, 'text': 'บทนำ'}],\n",
       "     'factoid/yesno': 'factoid',\n",
       "     'id': 6383,\n",
       "     'question': 'การทบทวนวรรณกรรมซึ่งเป็นเนื้อหาหลักส่วนหนึ่งในการเขียนรายงานการวิจัยมักจะถูกลำดับเป็นส่วนที่สองของงานเขียนต่อจากเนื้อหาส่วนใด'}]}],\n",
       " 'qas': [{'answers': [{'answer_start': 410, 'text': 'บทนำ'}],\n",
       "   'factoid/yesno': 'factoid',\n",
       "   'id': 6383,\n",
       "   'question': 'การทบทวนวรรณกรรมซึ่งเป็นเนื้อหาหลักส่วนหนึ่งในการเขียนรายงานการวิจัยมักจะถูกลำดับเป็นส่วนที่สองของงานเขียนต่อจากเนื้อหาส่วนใด'}],\n",
       " 'title': 224741}"
      ]
     },
     "execution_count": 115,
     "metadata": {},
     "output_type": "execute_result"
    }
   ],
   "source": [
    "datasets['train'][3]"
   ]
  },
  {
   "cell_type": "code",
   "execution_count": 116,
   "metadata": {},
   "outputs": [],
   "source": [
    "def convert_nscqa_to_iapp(example):\n",
    "    example['answers'] = {\n",
    "        'text': example['qas'][0]['answers'][0]['text'],\n",
    "        'answer_start': [np.int32(example['qas'][0]['answers'][0]['answer_start'])],\n",
    "        'answer_end': [np.int32(example['qas'][0]['answers'][0]['answer_start'] + len(example['qas'][0]['answers'][0]['text']))],\n",
    "    }\n",
    "    example['context'] = example['context']\n",
    "    example['article_id'] = str(example['title'])\n",
    "    example['question_id'] = str(example['qas'][0]['id'])\n",
    "    example['title'] = ''\n",
    "    return example"
   ]
  },
  {
   "cell_type": "code",
   "execution_count": 117,
   "metadata": {},
   "outputs": [
    {
     "name": "stderr",
     "output_type": "stream",
     "text": [
      "W0707 22:02:20.476344 140472399693632 arrow_dataset.py:1518] Loading cached processed dataset at /home/cstorm125/.cache/huggingface/datasets/json/default-c2ed17d9edc733d0/0.0.0/dc7ee63ec8b554c48ecc5a8a6fbe27af8071408c244e4347cf9222d6206d83a2/cache-cd1e716d19682244.arrow\n",
      "W0707 22:02:20.491229 140472399693632 arrow_dataset.py:1518] Loading cached processed dataset at /home/cstorm125/.cache/huggingface/datasets/json/default-c2ed17d9edc733d0/0.0.0/dc7ee63ec8b554c48ecc5a8a6fbe27af8071408c244e4347cf9222d6206d83a2/cache-8b5312c02ce0e323.arrow\n",
      "W0707 22:02:20.500206 140472399693632 arrow_dataset.py:1518] Loading cached processed dataset at /home/cstorm125/.cache/huggingface/datasets/json/default-c2ed17d9edc733d0/0.0.0/dc7ee63ec8b554c48ecc5a8a6fbe27af8071408c244e4347cf9222d6206d83a2/cache-b53a32342a272a38.arrow\n"
     ]
    }
   ],
   "source": [
    "datasets = datasets.map(convert_nscqa_to_iapp, remove_columns=['paragraphs','qas'])"
   ]
  },
  {
   "cell_type": "code",
   "execution_count": 118,
   "metadata": {},
   "outputs": [
    {
     "data": {
      "text/plain": [
       "{'answers': {'answer_end': [130],\n",
       "  'answer_start': [109],\n",
       "  'text': 'พิพิธภัณฑสถานแห่งชาติ'},\n",
       " 'article_id': '938376',\n",
       " 'context': 'วัดน้อย (จังหวัดน่าน) โบราณสถานวัดน้อย หรือเรียกโดยย่อว่า วัดน้อย เป็นวัดแห่งหนึ่งในจังหวัดน่าน ตั้งอยู่ภายในพิพิธภัณฑสถานแห่งชาติ น่านใกล้วัดพระธาตุช้างค้ำวรวิหาร สร้างตามพระประสงค์ในพระเจ้าสุริยพงษ์ผริตเดช และมีชื่อเสียงจากการเป็นวัดที่มีขนาดเล็กที่สุดในประเทศไทยประวัติ ประวัติ. พระเจ้าสุริยพงษ์ผริตเดช พระเจ้าผู้ครองนครน่าน ได้มีโอกาสเข้าเฝ้าพระบาทสมเด็จพระจุลจอมเกล้าเจ้าอยู่หัว พระเจ้ากรุงสยามในปี พ.ศ. 2416 เมื่อพระบาทสมเด็จพระจุลจอมเกล้าเจ้าอยู่หัวมีพระดำรัสตรัสถามถึงจำนวนวัดภายในน่าน พระเจ้าสุริยพงษ์ผริตเดชได้กราบทูลว่าในน่านมีวัดทั้งหมด 500 วัด เมื่อพระเจ้าสุริยพงษ์ผริตเดชกลับน่านจึงสำรวจจำนวนวัดใหม่อีกครั้ง ก็พบว่ามีวัดทั้งหมด 499 วัด คลาดไปหนึ่งวัด ด้วยเหตุนี้พระองค์จึงโปรดเกล้าฯ ให้ช่างพื้นเมืองน่านก่อสร้างวัดตรงโคนต้นโพหน้าหอคำหรือวังที่พระองค์ประทับ เพื่อให้วัดครบจำนวนตามที่กราบทูลพระเจ้ากรุงสยามเป็นสัจจวาจา และตั้งชื่อว่า \"วัดน้อย\" ต่อมาหอคำได้กลายสภาพเป็นพิพิธภัณฑสถานแห่งชาติ น่านในปัจจุบัน บางแห่งก็ว่าวัดน้อยคือหอเสื้อเมืองมากกว่าที่จะเป็นวัดในพุทธศาสนาโครงสร้าง โครงสร้าง. โครงสร้างของวัดน้อยมีลักษณะเป็นวิหารก่ออิฐถือปูนศิลปะล้านนาสกุลช่างเมืองน่านผังรูปสี่เหลี่ยมผืนผ้าหันไปทางทิศตะวันออก หลังคาก่ออิฐถือปูนเป็นทรงจั่วซ้อนกันสองชั้น แต่มีขนาดน้อยคล้ายศาลพระภูมิ เพราะมีขนาดกว้าง 1.98 เมตร ยาว 2.34 เมตร และสูง 3.35 เมตร ภายในประดิษฐานพระพุทธรูป และแผงพระพิมพ์ไม้ จากลักษณะที่โดดเด่นของวัดน้อยที่เป็นวัดที่เล็กที่สุดในประเทศไทย การท่องเที่ยวแห่งประเทศไทยจึงยกให้วัดน้อยเป็นสถานที่ท่องเที่ยวอันซีนอินไทยแลนด์ด้วย',\n",
       " 'question_id': '14836',\n",
       " 'title': ''}"
      ]
     },
     "execution_count": 118,
     "metadata": {},
     "output_type": "execute_result"
    }
   ],
   "source": [
    "i = 300\n",
    "example = datasets['train'][i]\n",
    "example"
   ]
  },
  {
   "cell_type": "code",
   "execution_count": 119,
   "metadata": {},
   "outputs": [
    {
     "data": {
      "text/plain": [
       "('พิพิธภัณฑสถานแห่งชาติ', 'พิพิธภัณฑสถานแห่งชาติ')"
      ]
     },
     "execution_count": 119,
     "metadata": {},
     "output_type": "execute_result"
    }
   ],
   "source": [
    "example['context'][example['answers']['answer_start'][0]:example['answers']['answer_end'][0]], example['answers']['text']"
   ]
  },
  {
   "cell_type": "code",
   "execution_count": 120,
   "metadata": {},
   "outputs": [],
   "source": [
    "datasets.save_to_disk(\"nsc_qa_raw\")"
   ]
  },
  {
   "cell_type": "code",
   "execution_count": 121,
   "metadata": {},
   "outputs": [
    {
     "data": {
      "text/plain": [
       "DatasetDict({\n",
       "    train: Dataset({\n",
       "        features: ['answers', 'article_id', 'context', 'question_id', 'title'],\n",
       "        num_rows: 9045\n",
       "    })\n",
       "    valid: Dataset({\n",
       "        features: ['answers', 'article_id', 'context', 'question_id', 'title'],\n",
       "        num_rows: 1005\n",
       "    })\n",
       "    test: Dataset({\n",
       "        features: ['answers', 'article_id', 'context', 'question_id', 'title'],\n",
       "        num_rows: 4950\n",
       "    })\n",
       "})"
      ]
     },
     "execution_count": 121,
     "metadata": {},
     "output_type": "execute_result"
    }
   ],
   "source": [
    "x = load_from_disk('nsc_qa_raw')\n",
    "x"
   ]
  },
  {
   "cell_type": "code",
   "execution_count": 122,
   "metadata": {},
   "outputs": [
    {
     "name": "stderr",
     "output_type": "stream",
     "text": [
      "W0707 22:02:20.865957 140472399693632 arrow_dataset.py:1518] Loading cached processed dataset at /home/cstorm125/.cache/huggingface/datasets/json/default-c2ed17d9edc733d0/0.0.0/dc7ee63ec8b554c48ecc5a8a6fbe27af8071408c244e4347cf9222d6206d83a2/cache-5de765666d6ac9a8.arrow\n",
      "W0707 22:02:20.875899 140472399693632 arrow_dataset.py:1518] Loading cached processed dataset at /home/cstorm125/.cache/huggingface/datasets/json/default-c2ed17d9edc733d0/0.0.0/dc7ee63ec8b554c48ecc5a8a6fbe27af8071408c244e4347cf9222d6206d83a2/cache-ab69346083c02c45.arrow\n",
      "W0707 22:02:20.887345 140472399693632 arrow_dataset.py:1518] Loading cached processed dataset at /home/cstorm125/.cache/huggingface/datasets/json/default-c2ed17d9edc733d0/0.0.0/dc7ee63ec8b554c48ecc5a8a6fbe27af8071408c244e4347cf9222d6206d83a2/cache-cac782aba8f4850e.arrow\n"
     ]
    }
   ],
   "source": [
    "datasets = datasets.map(lambda x: {'context_len':len(x['context'])})"
   ]
  },
  {
   "cell_type": "code",
   "execution_count": 124,
   "metadata": {},
   "outputs": [
    {
     "data": {
      "text/plain": [
       "<matplotlib.axes._subplots.AxesSubplot at 0x7fc158e62c50>"
      ]
     },
     "execution_count": 124,
     "metadata": {},
     "output_type": "execute_result"
    },
    {
     "data": {
      "image/png": "[encoded data removed]",
      "text/plain": [
       "<Figure size 432x288 with 1 Axes>"
      ]
     },
     "metadata": {
      "needs_background": "light"
     },
     "output_type": "display_data"
    }
   ],
   "source": [
    "train_df = pd.DataFrame(datasets['train'])\n",
    "train_df.context_len.hist(bins=30)"
   ]
  },
  {
   "cell_type": "code",
   "execution_count": 128,
   "metadata": {},
   "outputs": [
    {
     "data": {
      "text/plain": [
       "<matplotlib.axes._subplots.AxesSubplot at 0x7fc157f6b2e8>"
      ]
     },
     "execution_count": 128,
     "metadata": {},
     "output_type": "execute_result"
    },
    {
     "data": {
      "image/png": "[encoded data removed]",
      "text/plain": [
       "<Figure size 432x288 with 1 Axes>"
      ]
     },
     "metadata": {
      "needs_background": "light"
     },
     "output_type": "display_data"
    }
   ],
   "source": [
    "train_df[train_df.context_len<20000].context_len.hist(bins=30)"
   ]
  },
  {
   "cell_type": "code",
   "execution_count": 136,
   "metadata": {},
   "outputs": [
    {
     "data": {
      "text/html": [
       "<div>\n",
       "<style scoped>\n",
       "    .dataframe tbody tr th:only-of-type {\n",
       "        vertical-align: middle;\n",
       "    }\n",
       "\n",
       "    .dataframe tbody tr th {\n",
       "        vertical-align: top;\n",
       "    }\n",
       "\n",
       "    .dataframe thead th {\n",
       "        text-align: right;\n",
       "    }\n",
       "</style>\n",
       "<table border=\"1\" class=\"dataframe\">\n",
       "  <thead>\n",
       "    <tr style=\"text-align: right;\">\n",
       "      <th></th>\n",
       "      <th>answers</th>\n",
       "      <th>article_id</th>\n",
       "      <th>context</th>\n",
       "      <th>context_len</th>\n",
       "      <th>question_id</th>\n",
       "      <th>title</th>\n",
       "    </tr>\n",
       "  </thead>\n",
       "  <tbody>\n",
       "    <tr>\n",
       "      <th>3961</th>\n",
       "      <td>{'answer_end': [254], 'answer_start': [238], '...</td>\n",
       "      <td>577444</td>\n",
       "      <td>สยามดารา สตาร์ส ปาร์ตี้ 2008 สยามดารา สตาร์ส ป...</td>\n",
       "      <td>4997</td>\n",
       "      <td>7907</td>\n",
       "      <td></td>\n",
       "    </tr>\n",
       "    <tr>\n",
       "      <th>6365</th>\n",
       "      <td>{'answer_end': [695], 'answer_start': [693], '...</td>\n",
       "      <td>577444</td>\n",
       "      <td>สยามดารา สตาร์ส ปาร์ตี้ 2008 สยามดารา สตาร์ส ป...</td>\n",
       "      <td>4997</td>\n",
       "      <td>7908</td>\n",
       "      <td></td>\n",
       "    </tr>\n",
       "    <tr>\n",
       "      <th>817</th>\n",
       "      <td>{'answer_end': [67], 'answer_start': [49], 'te...</td>\n",
       "      <td>78274</td>\n",
       "      <td>มนต์สิทธิ์ คำสร้อย มนต์สิทธิ์ คำสร้อย (ชื่อจริ...</td>\n",
       "      <td>4994</td>\n",
       "      <td>8900</td>\n",
       "      <td></td>\n",
       "    </tr>\n",
       "    <tr>\n",
       "      <th>1213</th>\n",
       "      <td>{'answer_end': [94], 'answer_start': [91], 'te...</td>\n",
       "      <td>93813</td>\n",
       "      <td>สมเด็จพระอริยวงษญาณ สมเด็จพระสังฆราช (ศรี) สมเ...</td>\n",
       "      <td>4989</td>\n",
       "      <td>8953</td>\n",
       "      <td></td>\n",
       "    </tr>\n",
       "    <tr>\n",
       "      <th>3650</th>\n",
       "      <td>{'answer_end': [180], 'answer_start': [168], '...</td>\n",
       "      <td>93813</td>\n",
       "      <td>สมเด็จพระอริยวงษญาณ สมเด็จพระสังฆราช (ศรี) สมเ...</td>\n",
       "      <td>4989</td>\n",
       "      <td>8954</td>\n",
       "      <td></td>\n",
       "    </tr>\n",
       "    <tr>\n",
       "      <th>...</th>\n",
       "      <td>...</td>\n",
       "      <td>...</td>\n",
       "      <td>...</td>\n",
       "      <td>...</td>\n",
       "      <td>...</td>\n",
       "      <td>...</td>\n",
       "    </tr>\n",
       "    <tr>\n",
       "      <th>4532</th>\n",
       "      <td>{'answer_end': [50], 'answer_start': [42], 'te...</td>\n",
       "      <td>31194</td>\n",
       "      <td>พ.ศ. 331 พุทธศักราช 331 ใกล้เคียงกับ ก่อน ค.ศ....</td>\n",
       "      <td>79</td>\n",
       "      <td>5703</td>\n",
       "      <td></td>\n",
       "    </tr>\n",
       "    <tr>\n",
       "      <th>3585</th>\n",
       "      <td>{'answer_end': [23], 'answer_start': [9], 'tex...</td>\n",
       "      <td>31194</td>\n",
       "      <td>พ.ศ. 331 พุทธศักราช 331 ใกล้เคียงกับ ก่อน ค.ศ....</td>\n",
       "      <td>79</td>\n",
       "      <td>5702</td>\n",
       "      <td></td>\n",
       "    </tr>\n",
       "    <tr>\n",
       "      <th>1198</th>\n",
       "      <td>{'answer_end': [5], 'answer_start': [3], 'text...</td>\n",
       "      <td>170177</td>\n",
       "      <td>ศพ ศพ คือ ร่างของมนุษย์ที่ตายแล้ว สำหรับร่างขอ...</td>\n",
       "      <td>74</td>\n",
       "      <td>3294</td>\n",
       "      <td></td>\n",
       "    </tr>\n",
       "    <tr>\n",
       "      <th>2239</th>\n",
       "      <td>{'answer_end': [44], 'answer_start': [42], 'te...</td>\n",
       "      <td>30742</td>\n",
       "      <td>พ.ศ. 596 พุทธศักราช 596 ใกล้เคียงกับ ค.ศ. 53เห...</td>\n",
       "      <td>73</td>\n",
       "      <td>6553</td>\n",
       "      <td></td>\n",
       "    </tr>\n",
       "    <tr>\n",
       "      <th>353</th>\n",
       "      <td>{'answer_end': [23], 'answer_start': [20], 'te...</td>\n",
       "      <td>30742</td>\n",
       "      <td>พ.ศ. 596 พุทธศักราช 596 ใกล้เคียงกับ ค.ศ. 53เห...</td>\n",
       "      <td>73</td>\n",
       "      <td>6554</td>\n",
       "      <td></td>\n",
       "    </tr>\n",
       "  </tbody>\n",
       "</table>\n",
       "<p>7565 rows × 6 columns</p>\n",
       "</div>"
      ],
      "text/plain": [
       "                                                answers article_id  \\\n",
       "3961  {'answer_end': [254], 'answer_start': [238], '...     577444   \n",
       "6365  {'answer_end': [695], 'answer_start': [693], '...     577444   \n",
       "817   {'answer_end': [67], 'answer_start': [49], 'te...      78274   \n",
       "1213  {'answer_end': [94], 'answer_start': [91], 'te...      93813   \n",
       "3650  {'answer_end': [180], 'answer_start': [168], '...      93813   \n",
       "...                                                 ...        ...   \n",
       "4532  {'answer_end': [50], 'answer_start': [42], 'te...      31194   \n",
       "3585  {'answer_end': [23], 'answer_start': [9], 'tex...      31194   \n",
       "1198  {'answer_end': [5], 'answer_start': [3], 'text...     170177   \n",
       "2239  {'answer_end': [44], 'answer_start': [42], 'te...      30742   \n",
       "353   {'answer_end': [23], 'answer_start': [20], 'te...      30742   \n",
       "\n",
       "                                                context  context_len  \\\n",
       "3961  สยามดารา สตาร์ส ปาร์ตี้ 2008 สยามดารา สตาร์ส ป...         4997   \n",
       "6365  สยามดารา สตาร์ส ปาร์ตี้ 2008 สยามดารา สตาร์ส ป...         4997   \n",
       "817   มนต์สิทธิ์ คำสร้อย มนต์สิทธิ์ คำสร้อย (ชื่อจริ...         4994   \n",
       "1213  สมเด็จพระอริยวงษญาณ สมเด็จพระสังฆราช (ศรี) สมเ...         4989   \n",
       "3650  สมเด็จพระอริยวงษญาณ สมเด็จพระสังฆราช (ศรี) สมเ...         4989   \n",
       "...                                                 ...          ...   \n",
       "4532  พ.ศ. 331 พุทธศักราช 331 ใกล้เคียงกับ ก่อน ค.ศ....           79   \n",
       "3585  พ.ศ. 331 พุทธศักราช 331 ใกล้เคียงกับ ก่อน ค.ศ....           79   \n",
       "1198  ศพ ศพ คือ ร่างของมนุษย์ที่ตายแล้ว สำหรับร่างขอ...           74   \n",
       "2239  พ.ศ. 596 พุทธศักราช 596 ใกล้เคียงกับ ค.ศ. 53เห...           73   \n",
       "353   พ.ศ. 596 พุทธศักราช 596 ใกล้เคียงกับ ค.ศ. 53เห...           73   \n",
       "\n",
       "     question_id title  \n",
       "3961        7907        \n",
       "6365        7908        \n",
       "817         8900        \n",
       "1213        8953        \n",
       "3650        8954        \n",
       "...          ...   ...  \n",
       "4532        5703        \n",
       "3585        5702        \n",
       "1198        3294        \n",
       "2239        6553        \n",
       "353         6554        \n",
       "\n",
       "[7565 rows x 6 columns]"
      ]
     },
     "execution_count": 136,
     "metadata": {},
     "output_type": "execute_result"
    }
   ],
   "source": [
    "train_df[train_df.context_len<5000].sort_values('context_len',ascending=False)"
   ]
  },
  {
   "cell_type": "code",
   "execution_count": 137,
   "metadata": {},
   "outputs": [
    {
     "data": {
      "text/plain": [
       "'สยามดารา สตาร์ส ปาร์ตี้ 2008 สยามดารา สตาร์ส ปาร์ตี้ 2008 เป็นงานที่หนังสือพิมพ์สยามดาราจัดขึ้นเป็นครั้งแรก เพื่อเฉลิมฉลองครบรอบ 3 ปี ก้าวสู่ปีที่ 4 ของสยามดารา จึงได้จัดงาน สยามดารา สตาร์ส ปาร์ตี้ 2008 ในเย็นวันจันทร์ที่ 30 มิ.ย. 2551 ณ บาร์ยันที แม็กซ์ เพื่อมอบรางวัลอันทรงเกียรติแก่บุคคลในวงการบันเทิง โดยคัดเลือกสุดยอดแห่งปีของดารา, นักร้อง, ละคร, ภาพยนตร์, พิเศษเปิดให้แฟนๆ ผู้อ่านสยามดาราได้ร่วมโหวตว่าใครจะเป็นสตาร์เซ็กซี่, ละครยอดฮิต และภาพยนตร์ไทยยอดเยี่ยม พร้อมกับลุ้นของรางวัลมากมายอีกด้วย โดยรางวัลเกียรติยศนั้นทางคณะกรรมการคัดเลือกจากกอง บ.ก. สยามดารา โดยมีหลักเกณฑ์พิจารณาผลงานในรอบขวบปีที่ผ่านมา (ครึ่งหลังของปีพ.ศ. 2550 - ครึ่งแรกของปีพ.ศ. 2551) ได้พิจารณาว่าสมควรให้มีทั้งหมด 19 รางวัล ดังนี้รางวัลจากการคัดเลือกโดยคณะกรรมการนักร้องไทยสากล ยอดนิยมชายรางวัลจากการคัดเลือกโดยคณะกรรมการ. นักร้องไทยสากล ยอดนิยมชาย. - รัฐภูมิ โตคงทรัพย์ - สุกฤษฎิ์ วิเศษแก้ว - ธงไชย แมคอินไตย์ - ศักดิ์สิทธิ์ เวชสุภาพร - เรืองศักดิ์ ลอยชูศักดิ์ - ปองศักดิ์ รัตนพงษ์ - ศรัณยู วินัยพานิช - เจตริน วรรธนะสิน - ธนกฤต พานิชวิทย์นักร้องไทยสากล ยอดนิยมหญิงนักร้องไทยสากล ยอดนิยมหญิง. - ธนิดา ธรรมวิมล - ศรัณย์รัชต์ วิสุทธิธาดา - วรกาญจน์ โรจนวัชร - พัดชา เอนกอายุวัฒน์ - ทาทา ยัง - กันยารัตน์ ติยะพรไชย - มาช่า วัฒนพานิช - เสาวลักษณ์ ลีละบุตรนักร้องลูกทุ่งยอดนิยมชายนักร้องลูกทุ่งยอดนิยมชาย. - พี สะเดิด - บ่าววี - หลวงไก่ - ไผ่ พงศธร - จักรพันธ์ ครบุรีธีรโชติ - ธันวา ราศีธนู - ไมค์ ภิรมย์พรนักร้องลูกทุ่งยอดนิยมหญิงนักร้องลูกทุ่งยอดนิยมหญิง. - นิภาพร แปงอ้วน - ตั๊กแตน ชลดา - บิว กัลยาณี - ต่าย อรทัย - ฝน ธนสุนทร - จินตหรา พูนลาภ - ศิริพร อำไพพงษ์ - เอิร์น เดอะสตาร์เพลงฮิตโดนใจเพลงฮิตโดนใจ. - สาวลาดพร้าว ขับร้องโดย สาวมาด เมกะแด๊นซ์ - ไม่ใช่แฟนทำแทนไม่ได้ ขับร้องโดย ตั๊กแตน ชลดา - จี่หอย ขับร้องโดย พี สะเดิด - อกหัก ขับร้องโดย บอดี้สแลม - จังหวะหัวใจ ขับร้องโดย สุกฤษฎิ์ วิเศษแก้ว - ไก่ตาฟาง ขับร้องโดย ธันวา ราศีธนู - กันและกัน ขับร้องโดย ฟลัว - ขอบคุณนะ ขับร้องโดย คณิตกุล เนตรบุตรดาวรุ่งมาแรงชายดาวรุ่งมาแรงชาย. - มาริโอ เมาเร่อ - ธนพล นิ่มทัยสุข - ณัฐวัฒน์ เปล่งศิริวัธน์ดาวรุ่งมาแรงหญิงดาวรุ่งมาแรงหญิง. - อภิญญา สกุลเจริญสุข - ญาณิน วิสมิตะนันทน์ - กัญญา ลีนุตพงษ์ - เอิร์น เดอะสตาร์ - จรินทร์พร จุนเกียรติจอมขโมยซีนจอมขโมยซีน. - ณัฐริกา ธรรมปรีดานันท์ จากละคร สวรรค์เบี่ยง ช่อง 3 - นริสา พรหมสุภา จากละคร นางทาส ช่อง 7 - พิศาล อัครเศรณี จากละคร รักเล่ห์เสน่ห์ลวง ช่อง 3 - หลุยส์ สก็อต จากละคร สวรรค์เบี่ยง ช่อง 3 - จินตหรา สุขพัฒน์ จากละคร ชมพู่แก้มแหม่ม ช่อง 3 - แอ๊ด มกจ๊ก จากละคร เป็นต่อ ช่อง 3 - จารุณี สุขสวัสดิ์ จากละคร นิมิตรมาร ช่อง 3 - กัญจน์ ภักดีวิจิตร จากละคร ทอง 9 ช่อง 7ร้ายได้ใจร้ายได้ใจ. - ปานวาด เหมมณี จากละคร สงครามนางฟ้า ช่อง 5 - จีรนันท์ มะโนแจ่ม จากละคร นางทาส ช่อง 7 - ณัฐริกา ธรรมปรีดานันท์ จากละคร สวรรค์เบี่ยง ช่อง 3 - ชาตโยดม หิรัณยัษฐิติ จากละคร เมื่อดอกรักบาน ช่อง 3 - พรชิตา ณ สงขลา จากละคร ร่ายริษยา ช่อง 3 - บุษกร วงศ์พัวพันธ์ จากละคร แรมพิศวาส ช่อง 3 - กาญจน์เกล้า ด้วยเศียรเกล้า จากละคร วิมานมังกร ช่อง 7 - รินลณี ศรีเพ็ญ จากละคร จำเลยรัก ช่อง 3 - ปองศักดิ์ รัตนพงษ์ จากละคร อธิษฐานรัก ช่อง 5ละครฮือฮาละครฮือฮา. - สงครามนางฟ้า จากช่อง 5ดารานำชายยอดเยี่ยมดารานำชายยอดเยี่ยม. - ธีรเดช วงศ์พัวพันธ์ จากละคร สวรรค์เบี่ยง ช่อง 3 - อธิชาติ ชุมนานนท์ จากละคร จำเลยรัก ช่อง 3 - ศุกลวัฒน์ คณารศ จากละคร ดั่งดวงหฤทัย ช่อง 7 - ทฤษฎี สหวงษ์ จากละคร รักเล่ห์เสน่ห์ลวง ช่อง 3 - วีรภาพ สุภาพไพบูลย์ จากละคร นางทาส ช่อง 7 - กฤษฎา พรเวโรจน์ จากละคร ลิขิตกามเทพ ช่อง 3 - ณวัฒน์ กุลรัตนรักษ์ จากละคร สงครามนางฟ้า ช่อง 5 - พัชฏะ นามปาน จากละคร ดั่งดวงตะวัน ช่อง 3ดารานำหญิงยอดเยี่ยมดารานำหญิงยอดเยี่ยม. - ทักษอร ภักดิ์สุขเจริญ จากละคร จำเลยรัก ช่อง 3 - แอน ทองประสม จากละคร สวรรค์เบี่ยง ช่อง 3 - สุวนันท์ คงยิ่ง จากละคร นางทาส ช่อง 7 - หยาดทิพย์ ราชปาล จากละคร เล่ห์กุหลาบ ช่อง 3 - น้ำทิพย์ จงรัชตวิบูลย์ จากละคร สงครามนางฟ้า ช่อง 5 - เขมนิจ จามิกรณ์ จากละคร วิมานมังกร ช่อง 7 - อุษามณี ไวทยานนท์ จากละคร ดั่งดวงหฤทัย ช่อง 7 - เฌอมาลย์ บุญยศักดิ์ จากละคร เมื่อดอกรักบาน ช่อง 3 - ศิรพันธ์ วัฒนจินดา จากละคร นางสาวผ้าขี้ริ้ว ช่อง 3 - สุนิสา เจทท์ จากละคร รักเล่ห์เสน่ห์ลวง ช่อง 3ขวัญใจสยามดาราขวัญใจสยามดารา. - พรชิตา ณ สงขลา - วีรภาพ สุภาพไพบูลย์ - เขมนิจ จามิกรณ์ - ชลลดา เมฆราตรี - อุษามณี ไวทยานนท์ - ตรีชฎา เพชรรัตน์ - สาวิกา ไชยเดช - สุระ ธีระกล - เอกรัตน์ วงศ์ฉลาด - วรัทยา นิลคูหา - รัฐภูมิ โตคงทรัพย์ผู้ทรงคุณค่าในวงการบันเทิงผู้ทรงคุณค่าในวงการบันเทิง. - เศรษฐา ศิระฉายารางวัลจากการโหวตโดยผู้อ่านละครยอดฮิตรางวัลจากการโหวตโดยผู้อ่าน. ละครยอดฮิต. - จำเลยรัก จากช่อง 3 - สวรรค์เบี่ยง จากช่อง 3 - นางทาส จากช่อง 7 - สงครามนางฟ้า จากช่อง 5 - แรมพิศวาส จากช่อง 3 - ลิขิตกามเทพ จากช่อง 3 - บุพเพเล่ห์รัก จากช่อง 7 - ชุมแพ จากช่อง 7 - รักแท้แซบหลาย จากช่อง 7 - ร่ายริษยา จากช่อง 3ภาพยนตร์ไทยยอดเยี่ยมภาพยนตร์ไทยยอดเยี่ยม. - รักแห่งสยาม - แฝด - ไชยา - Me...Myself ขอให้รักจงเจริญ - อรหันต์ซัมเมอร์ - สี่แพร่ง - ดรีมทีม - ปิดเทอมใหญ่หัวใจว้าวุ่น - ช็อคโกแลต - ลองของ 2สตาร์เซ็กซี่สตาร์เซ็กซี่. - พัชราภา ไชยเชื้อ - อารยา เอ ฮาร์เก็ต - ศุภักษร ไชยมงคล - หยาดทิพย์ ราชปาล - อาริษา วิลล์ - ไปรยา สวนดอกไม้ - พิชญ์นาฏ สาขากร - แสงทอง เกตุอู่ทอง - สาวิกา ไชยเดช - เขมนิจ จามิกรณ์รางวัลพิเศษสวยทิ่มใจรางวัลพิเศษ. สวยทิ่มใจ. - อุษามณี ไวทยานนท์หล่อทิ่มทรวงหล่อทิ่มทรวง. - สันติ วีระบุญชัย'"
      ]
     },
     "execution_count": 137,
     "metadata": {},
     "output_type": "execute_result"
    }
   ],
   "source": [
    "train_df.context[3961]"
   ]
  },
  {
   "cell_type": "code",
   "execution_count": null,
   "metadata": {},
   "outputs": [],
   "source": []
  }
 ],
 "metadata": {
  "kernelspec": {
   "display_name": "Python 3",
   "language": "python",
   "name": "python3"
  },
  "language_info": {
   "codemirror_mode": {
    "name": "ipython",
    "version": 3
   },
   "file_extension": ".py",
   "mimetype": "text/x-python",
   "name": "python",
   "nbconvert_exporter": "python",
   "pygments_lexer": "ipython3",
   "version": "3.6.9"
  }
 },
 "nbformat": 4,
 "nbformat_minor": 2
}
