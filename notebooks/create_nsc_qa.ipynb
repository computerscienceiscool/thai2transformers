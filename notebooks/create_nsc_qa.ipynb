{
 "cells": [
  {
   "cell_type": "markdown",
   "metadata": {},
   "source": [
    "# Convert `nsc_qa` to `iapp_wiki_qa_squad` format"
   ]
  },
  {
   "cell_type": "code",
   "execution_count": 4,
   "metadata": {},
   "outputs": [],
   "source": [
    "%matplotlib inline\n",
    "import numpy as np\n",
    "import pandas as pd\n",
    "import json\n",
    "from datasets import load_dataset, load_from_disk"
   ]
  },
  {
   "cell_type": "code",
   "execution_count": 15,
   "metadata": {},
   "outputs": [],
   "source": [
    "#convert to jsonl format\n",
    "with open('../data/thwikiqa-15k_passage-w300.squad-format.json') as f:\n",
    "    j = json.load(f)\n",
    "\n",
    "with open('../data/thwikiqa-15k_passage-w300.squad-format.jsonl', 'a') as f:\n",
    "    for i in j:\n",
    "        json.dump(i,f)\n",
    "        f.write('\\n')\n",
    "        \n",
    "with open('../data/thwikiqa-4k_passage-w300.squad-format.json') as f:\n",
    "    j = json.load(f)\n",
    "\n",
    "with open('../data/thwikiqa-4k_passage-w300.squad-format.jsonl', 'a') as f:\n",
    "    for i in j: \n",
    "        json.dump(i,f)\n",
    "        f.write('\\n')"
   ]
  },
  {
   "cell_type": "code",
   "execution_count": 17,
   "metadata": {},
   "outputs": [
    {
     "name": "stderr",
     "output_type": "stream",
     "text": [
      "W0711 22:30:58.632951 139988656719680 builder.py:357] Using custom data configuration default-91e5c645f89bfbf6\n",
      "W0711 22:30:58.679889 139988656719680 builder.py:512] Reusing dataset json (/home/cstorm125/.cache/huggingface/datasets/json/default-91e5c645f89bfbf6/0.0.0/dc7ee63ec8b554c48ecc5a8a6fbe27af8071408c244e4347cf9222d6206d83a2)\n"
     ]
    },
    {
     "data": {
      "text/plain": [
       "DatasetDict({\n",
       "    train: Dataset({\n",
       "        features: ['dataset', 'question', 'question_id', 'doc_id', 'answers', 'passage', 'passage_ntokens_newmm', 'passage_ntokens_wn_att', 'passage_ntokens_wn_thwiki', 'title'],\n",
       "        num_rows: 15010\n",
       "    })\n",
       "    valid: Dataset({\n",
       "        features: ['dataset', 'question', 'question_id', 'doc_id', 'answers', 'passage', 'passage_ntokens_newmm', 'passage_ntokens_wn_att', 'passage_ntokens_wn_thwiki', 'title'],\n",
       "        num_rows: 4010\n",
       "    })\n",
       "})"
      ]
     },
     "execution_count": 17,
     "metadata": {},
     "output_type": "execute_result"
    }
   ],
   "source": [
    "datasets = load_dataset('json', \n",
    "                       data_files={'train':'../data/thwikiqa-15k_passage-w300.squad-format.jsonl',\n",
    "                                   'valid':'../data/thwikiqa-4k_passage-w300.squad-format.jsonl',\n",
    "                                  },)\n",
    "datasets"
   ]
  },
  {
   "cell_type": "code",
   "execution_count": 19,
   "metadata": {},
   "outputs": [
    {
     "data": {
      "text/plain": [
       "{'dataset': 'thwiki_qa15k_newmm-300',\n",
       " 'question': 'เวียนนามถูกจีนปกครองนานนับพันปี ตั้งแต่ พ.ศ. 432 จนถึงปี พ.ศ. ใด',\n",
       " 'question_id': 14947,\n",
       " 'doc_id': 69950,\n",
       " 'answers': {'answer_start': [527], 'answer_end': [531], 'text': ['1481']},\n",
       " 'passage': 'จื๋อโนม จื๋อโนม () เป็นระบบอักษรที่ใช้เขียนภาษาเวียดนาม ปัจจุบันเลิกใช้แล้ว จื๋อโนมประกอบด้วยอักษรจีน (\"ฮั่นจื้อ\" เรียกเป็นภาษาเวียดนามว่า \"ฮ้านตึ\" - ) และอักขระที่ประดิษฐ์ขึ้นตามแบบอักษรจีน ตัวอย่างที่เก่าที่สุดอยู่ในช่วงคริสต์ศตวรรษที่ 13 มักนิยมใช้เฉพาะในหมู่ชนชั้นสูงของเวียดนาม โดยส่วนใหญ่ใช้บันทึกวรรณคดีเวียดนาม (งานเขียนที่เป็นทางการส่วนใหญ่จะใช้ภาษาจีนแบบแผน ไม่ใช่ภาษาเวียดนาม) ปัจจุบันถือว่าถูกแทนที่โดยสมบูรณ์ด้วยจื๋อโกว๊กหงือซึ่งดัดแปลงจากอักษรละตินประวัติ ประวัติ. เวียดนามถูกจีนปกครองนานนับพันปีระหว่าง พ.ศ. 432–1481 เป็นผลให้ภาษาเขียนในทางราชการเป็นภาษาจีนโบราณที่รู้จักในชื่อ \"จื๋อญอ\" () ในภาษาเวียดนาม จื๋อญอยังใช้ต่อมาในเวียดนามร่วมกับจื๋อโนมและจนถึง พ.ศ. 2461 ในช่วงประมาณ พ.ศ. 1500 ชาวเวียดนามปรับปรุงอักษรจีนใช้เขียนภาษาของตน เรียกว่าจื๋อโนมหรืออักษรใต้ ตัวอย่างที่เก่าที่สุดของอักษรนี้คือจารึกโลหะที่เจดีย์บ๋าวอาน () ในจังหวัดหวิญฟุก อายุราว พ.ศ. 1752 ในช่วง พ.ศ. 1800 อักษรชุดนี้ได้เริ่มมีการนำมาใช้ทางวรรณคดี กวีและนักเขียนชาวเวียดนามที่มีชื่อเสียงหลายคนเขียนงานของตนโดยใช้จื๋อโนม เช่น เหงียน เทวียน (), เหงียน สี โก๊ (; พ.ศ. 1900), เหงียน จ๋าย (; พ.ศ. 2000',\n",
       " 'passage_ntokens_newmm': 303,\n",
       " 'passage_ntokens_wn_att': 380,\n",
       " 'passage_ntokens_wn_thwiki': 388,\n",
       " 'title': 'จื๋อโนม'}"
      ]
     },
     "execution_count": 19,
     "metadata": {},
     "output_type": "execute_result"
    }
   ],
   "source": [
    "datasets['train'][0]"
   ]
  },
  {
   "cell_type": "code",
   "execution_count": 20,
   "metadata": {},
   "outputs": [],
   "source": [
    "def convert_nscqa_to_iapp(example):\n",
    "    example['context'] = example['passage']\n",
    "    example['article_id'] = str(example['doc_id'])\n",
    "    return example"
   ]
  },
  {
   "cell_type": "code",
   "execution_count": 21,
   "metadata": {},
   "outputs": [
    {
     "data": {
      "application/vnd.jupyter.widget-view+json": {
       "model_id": "59b141ed540c4ab686e7691c63aabb1d",
       "version_major": 2,
       "version_minor": 0
      },
      "text/plain": [
       "HBox(children=(FloatProgress(value=0.0, max=15010.0), HTML(value='')))"
      ]
     },
     "metadata": {},
     "output_type": "display_data"
    },
    {
     "name": "stdout",
     "output_type": "stream",
     "text": [
      "\n"
     ]
    },
    {
     "data": {
      "application/vnd.jupyter.widget-view+json": {
       "model_id": "4b13fd876f924f6f8faac73c87933d05",
       "version_major": 2,
       "version_minor": 0
      },
      "text/plain": [
       "HBox(children=(FloatProgress(value=0.0, max=4010.0), HTML(value='')))"
      ]
     },
     "metadata": {},
     "output_type": "display_data"
    },
    {
     "name": "stdout",
     "output_type": "stream",
     "text": [
      "\n"
     ]
    }
   ],
   "source": [
    "datasets = datasets.map(convert_nscqa_to_iapp, remove_columns=['dataset',\n",
    "                                                               'doc_id',\n",
    "                                                               'passage',\n",
    "                                                               'passage_ntokens_newmm',\n",
    "                                                               'passage_ntokens_wn_att',\n",
    "                                                               'passage_ntokens_wn_thwiki'])"
   ]
  },
  {
   "cell_type": "code",
   "execution_count": 24,
   "metadata": {},
   "outputs": [
    {
     "data": {
      "text/plain": [
       "{'answers': {'answer_end': [470],\n",
       "  'answer_start': [461],\n",
       "  'text': ['ค.ศ. 2002']},\n",
       " 'article_id': '284937',\n",
       " 'context': 'ลอตเต้เวิลด์ ลอตเต้เวิลด์ (; ) เป็นสวนสนุกแห่งหนึ่งตั้งอยู่ในโซล ประเทศเกาหลีใต้ พื้นที่ประกอบด้วยสวนสนุกในร่มและกลางแจ้ง และมีสิ่งอำนวยความสะดวกอื่นๆในบริเวณสวนสนุก อาทิ การเชื่อมต่อกับระบบรถไฟฟ้ารางเดี่ยว ห้างสรรพสินค้า โรงแรม และพิพิธภัณฑ์พื้นบ้านของเกาหลี รวมทั้งโรงภาพยนตร์ พิพิธภัณฑ์สัตว์น้ำ และพื้นที่สำหรับการกีฬา สวนสนุกในร่มของลอตเต้เวิลด์เป็นสวนสนุกในร่มที่มีขนาดใหญ่ติดอันดับโลก และเคยได้รับการจัดอันดับที่ 7 ของสถานที่ท่องเที่ยวน่าดึงดูดของโลกในปี ค.ศ. 2002 สวนสนุกแห่งนี้เปิดบริการตั้งแต่วันที่ 12 กรกฎาคม ค.ศ. 1989 มีจำนวนนักท่องเที่ยวกว่า 8 ล้านคนต่อปี',\n",
       " 'question': 'สวนสนุกลอตเต้เวิลด์ในประเทศเกาหลีใต้เคยได้รับการจัดอันดับที่ 7 ของสถานที่ท่องเที่ยวน่าดึงดูดของโลกในปีไหน',\n",
       " 'question_id': 6859,\n",
       " 'title': 'ลอตเต้เวิลด์'}"
      ]
     },
     "execution_count": 24,
     "metadata": {},
     "output_type": "execute_result"
    }
   ],
   "source": [
    "i = 301\n",
    "example = datasets['train'][i]\n",
    "example"
   ]
  },
  {
   "cell_type": "code",
   "execution_count": 25,
   "metadata": {},
   "outputs": [
    {
     "data": {
      "text/plain": [
       "('ค.ศ. 2002', ['ค.ศ. 2002'])"
      ]
     },
     "execution_count": 25,
     "metadata": {},
     "output_type": "execute_result"
    }
   ],
   "source": [
    "example['context'][example['answers']['answer_start'][0]:example['answers']['answer_end'][0]], example['answers']['text']"
   ]
  },
  {
   "cell_type": "code",
   "execution_count": 26,
   "metadata": {},
   "outputs": [],
   "source": [
    "datasets.save_to_disk(\"nsc_qa_w300\")"
   ]
  },
  {
   "cell_type": "code",
   "execution_count": 27,
   "metadata": {},
   "outputs": [
    {
     "data": {
      "text/plain": [
       "DatasetDict({\n",
       "    train: Dataset({\n",
       "        features: ['answers', 'article_id', 'context', 'question', 'question_id', 'title'],\n",
       "        num_rows: 15010\n",
       "    })\n",
       "    valid: Dataset({\n",
       "        features: ['answers', 'article_id', 'context', 'question', 'question_id', 'title'],\n",
       "        num_rows: 4010\n",
       "    })\n",
       "})"
      ]
     },
     "execution_count": 27,
     "metadata": {},
     "output_type": "execute_result"
    }
   ],
   "source": [
    "x = load_from_disk('nsc_qa_w300')\n",
    "x"
   ]
  },
  {
   "cell_type": "code",
   "execution_count": 28,
   "metadata": {},
   "outputs": [
    {
     "data": {
      "application/vnd.jupyter.widget-view+json": {
       "model_id": "3d91f842621b49878e008e3fa8aee030",
       "version_major": 2,
       "version_minor": 0
      },
      "text/plain": [
       "HBox(children=(FloatProgress(value=0.0, max=15010.0), HTML(value='')))"
      ]
     },
     "metadata": {},
     "output_type": "display_data"
    },
    {
     "name": "stdout",
     "output_type": "stream",
     "text": [
      "\n"
     ]
    },
    {
     "data": {
      "application/vnd.jupyter.widget-view+json": {
       "model_id": "588146111df34ad199ec876842f4799c",
       "version_major": 2,
       "version_minor": 0
      },
      "text/plain": [
       "HBox(children=(FloatProgress(value=0.0, max=4010.0), HTML(value='')))"
      ]
     },
     "metadata": {},
     "output_type": "display_data"
    },
    {
     "name": "stdout",
     "output_type": "stream",
     "text": [
      "\n"
     ]
    }
   ],
   "source": [
    "datasets = datasets.map(lambda x: {'context_len':len(x['context'])})"
   ]
  },
  {
   "cell_type": "code",
   "execution_count": 29,
   "metadata": {},
   "outputs": [
    {
     "data": {
      "text/plain": [
       "<matplotlib.axes._subplots.AxesSubplot at 0x7f510b6c6048>"
      ]
     },
     "execution_count": 29,
     "metadata": {},
     "output_type": "execute_result"
    },
    {
     "data": {
      "image/png": "[encoded data removed]",
      "text/plain": [
       "<Figure size 432x288 with 1 Axes>"
      ]
     },
     "metadata": {
      "needs_background": "light"
     },
     "output_type": "display_data"
    }
   ],
   "source": [
    "train_df = pd.DataFrame(datasets['train'])\n",
    "train_df.context_len.hist(bins=30)"
   ]
  },
  {
   "cell_type": "code",
   "execution_count": 33,
   "metadata": {},
   "outputs": [
    {
     "data": {
      "text/html": [
       "<div>\n",
       "<style scoped>\n",
       "    .dataframe tbody tr th:only-of-type {\n",
       "        vertical-align: middle;\n",
       "    }\n",
       "\n",
       "    .dataframe tbody tr th {\n",
       "        vertical-align: top;\n",
       "    }\n",
       "\n",
       "    .dataframe thead th {\n",
       "        text-align: right;\n",
       "    }\n",
       "</style>\n",
       "<table border=\"1\" class=\"dataframe\">\n",
       "  <thead>\n",
       "    <tr style=\"text-align: right;\">\n",
       "      <th></th>\n",
       "      <th>answers</th>\n",
       "      <th>article_id</th>\n",
       "      <th>context</th>\n",
       "      <th>context_len</th>\n",
       "      <th>question</th>\n",
       "      <th>question_id</th>\n",
       "      <th>title</th>\n",
       "    </tr>\n",
       "  </thead>\n",
       "  <tbody>\n",
       "    <tr>\n",
       "      <th>5320</th>\n",
       "      <td>{'answer_end': [125], 'answer_start': [107], '...</td>\n",
       "      <td>346369</td>\n",
       "      <td>โรงเรียนเตรียมอุดมศึกษาน้อมเกล้า นครราชสีมา โร...</td>\n",
       "      <td>1683</td>\n",
       "      <td>ชื่อแรกเริ่มของโรงเรียนเตรียมอุดมศึกษาน้อมเกล้...</td>\n",
       "      <td>11804</td>\n",
       "      <td>โรงเรียนเตรียมอุดมศึกษาน้อมเกล้า นครราชสีมา</td>\n",
       "    </tr>\n",
       "    <tr>\n",
       "      <th>3044</th>\n",
       "      <td>{'answer_end': [814], 'answer_start': [804], '...</td>\n",
       "      <td>346369</td>\n",
       "      <td>โรงเรียนเตรียมอุดมศึกษาน้อมเกล้า นครราชสีมา โร...</td>\n",
       "      <td>1683</td>\n",
       "      <td>โรงเรียนเตรียมอุดมศึกษา ภาคตะวันออกเฉียงเหนือ ...</td>\n",
       "      <td>11807</td>\n",
       "      <td>โรงเรียนเตรียมอุดมศึกษาน้อมเกล้า นครราชสีมา</td>\n",
       "    </tr>\n",
       "    <tr>\n",
       "      <th>7791</th>\n",
       "      <td>{'answer_end': [571], 'answer_start': [550], '...</td>\n",
       "      <td>181487</td>\n",
       "      <td>ครุยวิทยฐานะไทย ครุยวิทยฐานะไทย เป็นชุดพิธีการ...</td>\n",
       "      <td>1647</td>\n",
       "      <td>มหาวิทยาลัยใดที่ได้รับพระราชทานพระบรมราชานุญาต...</td>\n",
       "      <td>13688</td>\n",
       "      <td>ครุยวิทยฐานะไทย</td>\n",
       "    </tr>\n",
       "    <tr>\n",
       "      <th>2483</th>\n",
       "      <td>{'answer_end': [71], 'answer_start': [61], 'te...</td>\n",
       "      <td>176649</td>\n",
       "      <td>คณะนิติศาสตร์ มหาวิทยาลัยธรรมศาสตร์ คณะนิติศาส...</td>\n",
       "      <td>1615</td>\n",
       "      <td>คณะนิติศาสตร์ที่เก่าแก่ที่สุดในประเทศไทยอยู่ที...</td>\n",
       "      <td>4622</td>\n",
       "      <td>คณะนิติศาสตร์ มหาวิทยาลัยธรรมศาสตร์</td>\n",
       "    </tr>\n",
       "    <tr>\n",
       "      <th>8971</th>\n",
       "      <td>{'answer_end': [1576], 'answer_start': [1575],...</td>\n",
       "      <td>51190</td>\n",
       "      <td>ชนนีนราธิวาส วิทยาลัยการอาชีพตากใบ เป็นองค์กรเ...</td>\n",
       "      <td>1603</td>\n",
       "      <td>การเรียนการสอนของมหาวิทยาลัยนครพนมมทั้งมดกี่คณะ</td>\n",
       "      <td>5964</td>\n",
       "      <td>มหาวิทยาลัยนครพนม</td>\n",
       "    </tr>\n",
       "    <tr>\n",
       "      <th>...</th>\n",
       "      <td>...</td>\n",
       "      <td>...</td>\n",
       "      <td>...</td>\n",
       "      <td>...</td>\n",
       "      <td>...</td>\n",
       "      <td>...</td>\n",
       "      <td>...</td>\n",
       "    </tr>\n",
       "    <tr>\n",
       "      <th>2032</th>\n",
       "      <td>{'answer_end': [53], 'answer_start': [44], 'te...</td>\n",
       "      <td>841202</td>\n",
       "      <td>แห่งแรกในประเทศจีน ที่พระจักรพรรดิถวายนามว่าวั...</td>\n",
       "      <td>71</td>\n",
       "      <td>วัดภิกษุณีแห่งแรกในประเทศจีนคือวัดใด</td>\n",
       "      <td>5011</td>\n",
       "      <td>วัดอภัยคีรีวิหาร</td>\n",
       "    </tr>\n",
       "    <tr>\n",
       "      <th>14291</th>\n",
       "      <td>{'answer_end': [31], 'answer_start': [30], 'te...</td>\n",
       "      <td>736934</td>\n",
       "      <td>ดา พรหมจรรย์ มีบุตรชายด้วยกัน 2 คนคือ น้องแต๊ง...</td>\n",
       "      <td>64</td>\n",
       "      <td>ต๋อง ชวนชื่น นักแสดงตลกชาวไทยจากคณะชวนชื่น มีบ...</td>\n",
       "      <td>4151</td>\n",
       "      <td>ต๋อง ชวนชื่น</td>\n",
       "    </tr>\n",
       "    <tr>\n",
       "      <th>10316</th>\n",
       "      <td>{'answer_end': [30], 'answer_start': [20], 'te...</td>\n",
       "      <td>577168</td>\n",
       "      <td>จูรง จูรง () เป็นเขตอุตสาหกรรมแห่งหนึ่งในประเท...</td>\n",
       "      <td>55</td>\n",
       "      <td>จูรงเป็นเขตเกี่ยวกับอะไรในประเทศสิงคโปร์</td>\n",
       "      <td>13302</td>\n",
       "      <td>จูรง</td>\n",
       "    </tr>\n",
       "    <tr>\n",
       "      <th>2360</th>\n",
       "      <td>{'answer_end': [22], 'answer_start': [14], 'te...</td>\n",
       "      <td>831669</td>\n",
       "      <td>ประจำโรงเรียน ต้นพะยอมทำเนียบผู้บริหารข้อมูลอาคาร</td>\n",
       "      <td>49</td>\n",
       "      <td>ต้นไม้ชนิดใดเป็นต้นไม้ประจำโรงเรียนวัดใหม่เนิน...</td>\n",
       "      <td>10924</td>\n",
       "      <td>โรงเรียนวัดใหม่เนินพยอม</td>\n",
       "    </tr>\n",
       "    <tr>\n",
       "      <th>14133</th>\n",
       "      <td>{'answer_end': [35], 'answer_start': [27], 'te...</td>\n",
       "      <td>284891</td>\n",
       "      <td>บันไดสำหรับทางขึ้นเขาจำนวน 439 ขั้น</td>\n",
       "      <td>35</td>\n",
       "      <td>บันไดทางขึ้นวัดเขาจีนแล ตั้งอยู่ที่ตำบลนิคมสร้...</td>\n",
       "      <td>1670</td>\n",
       "      <td>วัดเขาจีนแล</td>\n",
       "    </tr>\n",
       "  </tbody>\n",
       "</table>\n",
       "<p>15010 rows × 7 columns</p>\n",
       "</div>"
      ],
      "text/plain": [
       "                                                 answers article_id  \\\n",
       "5320   {'answer_end': [125], 'answer_start': [107], '...     346369   \n",
       "3044   {'answer_end': [814], 'answer_start': [804], '...     346369   \n",
       "7791   {'answer_end': [571], 'answer_start': [550], '...     181487   \n",
       "2483   {'answer_end': [71], 'answer_start': [61], 'te...     176649   \n",
       "8971   {'answer_end': [1576], 'answer_start': [1575],...      51190   \n",
       "...                                                  ...        ...   \n",
       "2032   {'answer_end': [53], 'answer_start': [44], 'te...     841202   \n",
       "14291  {'answer_end': [31], 'answer_start': [30], 'te...     736934   \n",
       "10316  {'answer_end': [30], 'answer_start': [20], 'te...     577168   \n",
       "2360   {'answer_end': [22], 'answer_start': [14], 'te...     831669   \n",
       "14133  {'answer_end': [35], 'answer_start': [27], 'te...     284891   \n",
       "\n",
       "                                                 context  context_len  \\\n",
       "5320   โรงเรียนเตรียมอุดมศึกษาน้อมเกล้า นครราชสีมา โร...         1683   \n",
       "3044   โรงเรียนเตรียมอุดมศึกษาน้อมเกล้า นครราชสีมา โร...         1683   \n",
       "7791   ครุยวิทยฐานะไทย ครุยวิทยฐานะไทย เป็นชุดพิธีการ...         1647   \n",
       "2483   คณะนิติศาสตร์ มหาวิทยาลัยธรรมศาสตร์ คณะนิติศาส...         1615   \n",
       "8971   ชนนีนราธิวาส วิทยาลัยการอาชีพตากใบ เป็นองค์กรเ...         1603   \n",
       "...                                                  ...          ...   \n",
       "2032   แห่งแรกในประเทศจีน ที่พระจักรพรรดิถวายนามว่าวั...           71   \n",
       "14291  ดา พรหมจรรย์ มีบุตรชายด้วยกัน 2 คนคือ น้องแต๊ง...           64   \n",
       "10316  จูรง จูรง () เป็นเขตอุตสาหกรรมแห่งหนึ่งในประเท...           55   \n",
       "2360   ประจำโรงเรียน ต้นพะยอมทำเนียบผู้บริหารข้อมูลอาคาร           49   \n",
       "14133                บันไดสำหรับทางขึ้นเขาจำนวน 439 ขั้น           35   \n",
       "\n",
       "                                                question  question_id  \\\n",
       "5320   ชื่อแรกเริ่มของโรงเรียนเตรียมอุดมศึกษาน้อมเกล้...        11804   \n",
       "3044   โรงเรียนเตรียมอุดมศึกษา ภาคตะวันออกเฉียงเหนือ ...        11807   \n",
       "7791   มหาวิทยาลัยใดที่ได้รับพระราชทานพระบรมราชานุญาต...        13688   \n",
       "2483   คณะนิติศาสตร์ที่เก่าแก่ที่สุดในประเทศไทยอยู่ที...         4622   \n",
       "8971     การเรียนการสอนของมหาวิทยาลัยนครพนมมทั้งมดกี่คณะ         5964   \n",
       "...                                                  ...          ...   \n",
       "2032                วัดภิกษุณีแห่งแรกในประเทศจีนคือวัดใด         5011   \n",
       "14291  ต๋อง ชวนชื่น นักแสดงตลกชาวไทยจากคณะชวนชื่น มีบ...         4151   \n",
       "10316           จูรงเป็นเขตเกี่ยวกับอะไรในประเทศสิงคโปร์        13302   \n",
       "2360   ต้นไม้ชนิดใดเป็นต้นไม้ประจำโรงเรียนวัดใหม่เนิน...        10924   \n",
       "14133  บันไดทางขึ้นวัดเขาจีนแล ตั้งอยู่ที่ตำบลนิคมสร้...         1670   \n",
       "\n",
       "                                             title  \n",
       "5320   โรงเรียนเตรียมอุดมศึกษาน้อมเกล้า นครราชสีมา  \n",
       "3044   โรงเรียนเตรียมอุดมศึกษาน้อมเกล้า นครราชสีมา  \n",
       "7791                               ครุยวิทยฐานะไทย  \n",
       "2483           คณะนิติศาสตร์ มหาวิทยาลัยธรรมศาสตร์  \n",
       "8971                             มหาวิทยาลัยนครพนม  \n",
       "...                                            ...  \n",
       "2032                              วัดอภัยคีรีวิหาร  \n",
       "14291                                 ต๋อง ชวนชื่น  \n",
       "10316                                         จูรง  \n",
       "2360                       โรงเรียนวัดใหม่เนินพยอม  \n",
       "14133                                  วัดเขาจีนแล  \n",
       "\n",
       "[15010 rows x 7 columns]"
      ]
     },
     "execution_count": 33,
     "metadata": {},
     "output_type": "execute_result"
    }
   ],
   "source": [
    "train_df.sort_values('context_len',ascending=False)"
   ]
  },
  {
   "cell_type": "code",
   "execution_count": 34,
   "metadata": {},
   "outputs": [
    {
     "data": {
      "text/plain": [
       "'โรงเรียนเตรียมอุดมศึกษาน้อมเกล้า นครราชสีมา โรงเรียนเตรียมอุดมศึกษาน้อมเกล้า นครราชสีมา แต่เดิมชื่อโรงเรียนนครราชสีมาวิทยาลัยก่อตั้งเมื่อปีพ.ศ. 2538โดยอยู่ภายใต้สังกัดกรมสามัญศึกษา เป็นโรงเรียนที่สร้างขึ้นโดยมีจุดประสงค์เพื่อเป็นศูนย์กลางทางการศึกษาของจังหวัดนครราชสีมาและเพื่อรองรับการสร้าง โรงเรียนเตรียมอุดมศึกษา ภาคตะวันออกเฉียงเหนือตามโครงการของกระทรวงศึกษาธิการเพื่อเปิดโอกาสให้นักเรียนในต่างจังหวัดมีคุณภาพทัดเทียมกับโรงเรียนที่มีชื่อเสียงในกรุงเทพมหานคร จึงประกาศจัดตั้งโรงเรียนเตรียมอุดมศึกษาขึ้นทั้ง 3 แห่งได้แก่ 1.โรงเรียนเตรียมอุดมศึกษา ภาคใต้(โรงเรียนศรีวิชัย อำเภอพระพรหม จังหวัดนครศรีธรรมราช) 2.โรงเรียนเตรียมอุดมศึกษา ภาคเหนือ(โรงเรียนพิษณุโลกศึกษา อำเภอเมืองพิษณุโลก จังหวัดพิษณุโลก) 3.โรงเรียนเตรียมอุดมศึกษา ภาคตะวันออกเฉียงเหนือ(โรงเรียนนครราชสีมาวิทยาลัย อำเภอเมืองนครราชสีมา จังหวัดนครราชสีมา) ในโครงการของกระทรวงศึกษาธิการนั้น ได้เกิดความล้มเหลวเนื่องจากงบที่จะใช้พัฒนาการศึกษาและพัฒนาโรงเรียน(ในช่วงก่อนจะมีโครงการนี้ขึ้น)ได้ไปเข้าโรงเรียนราชสีมาวิทยาลัย โรงเรียนสุรนารีวิทยา โรงเรียนบุญวัฒนา ฯลฯ จนหมด และด้วยเหตุผลเกี่ยวกับผลประโยชน์ไม่ลงตัวของงบประมาณระหว่างองค์การบริหารส่วนจังหวัดนครราชสีมากับกรมสามัญศึกษา เนื่องจากทางองค์การบริหารส่วนจังหวัดนครราชสีมาจัดสรรงบประมาณแก่โรงเรียนมากกว่ากรมสามัญศึกษาทางโรงเรียนนครราชสีมาวิทยาลัยจึงขอเข้าสังกัดขององค์การบริหารส่วนจังหวัดนครราชสีมา ทางกระทรวงศึกษาธิการจึงปรับงบในการที่จะสร้างโรงเรียนเตรียมอุดมศึกษาไปที่โรงเรียนสว่างศึกษา อำเภอสว่างแดนดิน จังหวัดสกลนคร โรงเรียนจึงยังใช้ชื่อโรงเรียนนครราชสีมาวิทยาลัยในฐานะโรงเรียนมัธยมประจำตำบลโคกกรวด จนกระทั่งปีพ.ศ. 2552ประวัติ ประวัติ. เนื่องจาก นายแพทย์สำเริง แหยงกระโทก นายกองค์การบริหารส่วนจังหวัดนครราชสีมาในขณะนั้น เคยเข้าศึกษาระดับชั้นมัธยมศึกษาตอนปลายในโรงเรียน'"
      ]
     },
     "execution_count": 34,
     "metadata": {},
     "output_type": "execute_result"
    }
   ],
   "source": [
    "train_df.context[5320]"
   ]
  },
  {
   "cell_type": "code",
   "execution_count": null,
   "metadata": {},
   "outputs": [],
   "source": []
  }
 ],
 "metadata": {
  "kernelspec": {
   "display_name": "Python 3",
   "language": "python",
   "name": "python3"
  },
  "language_info": {
   "codemirror_mode": {
    "name": "ipython",
    "version": 3
   },
   "file_extension": ".py",
   "mimetype": "text/x-python",
   "name": "python",
   "nbconvert_exporter": "python",
   "pygments_lexer": "ipython3",
   "version": "3.6.9"
  }
 },
 "nbformat": 4,
 "nbformat_minor": 2
}
