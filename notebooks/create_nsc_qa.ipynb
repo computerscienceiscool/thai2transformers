{
 "cells": [
  {
   "cell_type": "markdown",
   "metadata": {},
   "source": [
    "# Convert `nsc_qa` to `iapp_wiki_qa_squad` format"
   ]
  },
  {
   "cell_type": "markdown",
   "metadata": {},
   "source": [
    "We use the `nsc_qa` version where the contexts are truncated to about 300 `newmm` words."
   ]
  },
  {
   "cell_type": "code",
   "execution_count": 47,
   "metadata": {},
   "outputs": [],
   "source": [
    "%matplotlib inline\n",
    "import numpy as np\n",
    "import pandas as pd\n",
    "import json\n",
    "from datasets import load_dataset, load_from_disk"
   ]
  },
  {
   "cell_type": "code",
   "execution_count": 48,
   "metadata": {},
   "outputs": [],
   "source": [
    "# #convert to jsonl format\n",
    "# with open('../data/train_fold_1.newmm-300.right-margin-ntokens-10.json') as f:\n",
    "#     j = json.load(f)\n",
    "\n",
    "# with open('../data/train_fold_1.newmm-300.right-margin-ntokens-10.jsonl', 'a') as f:\n",
    "#     for i in j:\n",
    "#         json.dump(i,f)\n",
    "#         f.write('\\n')\n",
    "        \n",
    "# with open('../data/validate_fold_1.newmm-300.right-margin-ntokens-10.json') as f:\n",
    "#     j = json.load(f)\n",
    "\n",
    "# with open('../data/validate_fold_1.newmm-300.right-margin-ntokens-10.jsonl', 'a') as f:\n",
    "#     for i in j: \n",
    "#         json.dump(i,f)\n",
    "#         f.write('\\n')\n",
    "        \n",
    "# with open('../data/test_fold_1.edited.newmm-300.right-margin-ntokens-10.json') as f:\n",
    "#     j = json.load(f)\n",
    "\n",
    "# with open('../data/test_fold_1.edited.newmm-300.right-margin-ntokens-10.jsonl', 'a') as f:\n",
    "#     for i in j: \n",
    "#         json.dump(i,f)\n",
    "#         f.write('\\n')"
   ]
  },
  {
   "cell_type": "code",
   "execution_count": 86,
   "metadata": {},
   "outputs": [
    {
     "name": "stderr",
     "output_type": "stream",
     "text": [
      "W0712 22:18:58.516806 139784080262976 builder.py:357] Using custom data configuration default-086661ee710dfbfa\n",
      "W0712 22:18:58.549046 139784080262976 builder.py:512] Reusing dataset json (/home/cstorm125/.cache/huggingface/datasets/json/default-086661ee710dfbfa/0.0.0/dc7ee63ec8b554c48ecc5a8a6fbe27af8071408c244e4347cf9222d6206d83a2)\n"
     ]
    },
    {
     "data": {
      "text/plain": [
       "DatasetDict({\n",
       "    train: Dataset({\n",
       "        features: ['dataset', 'question', 'question_id', 'doc_id', 'answers', 'passage', 'passage_ntokens_newmm', 'title'],\n",
       "        num_rows: 9045\n",
       "    })\n",
       "    validation: Dataset({\n",
       "        features: ['dataset', 'question', 'question_id', 'doc_id', 'answers', 'passage', 'passage_ntokens_newmm', 'title'],\n",
       "        num_rows: 1005\n",
       "    })\n",
       "    test: Dataset({\n",
       "        features: ['dataset', 'question', 'question_id', 'doc_id', 'answers', 'passage', 'passage_ntokens_newmm', 'title'],\n",
       "        num_rows: 4950\n",
       "    })\n",
       "})"
      ]
     },
     "execution_count": 86,
     "metadata": {},
     "output_type": "execute_result"
    }
   ],
   "source": [
    "datasets = load_dataset('json', \n",
    "                       data_files={'train':'../data/train_fold_1.newmm-300.right-margin-ntokens-10.jsonl',\n",
    "                                   'validation':'../data/validate_fold_1.newmm-300.right-margin-ntokens-10.jsonl',\n",
    "                                   'test':'../data/test_fold_1.edited.newmm-300.right-margin-ntokens-10.jsonl',\n",
    "                                  },)\n",
    "datasets"
   ]
  },
  {
   "cell_type": "code",
   "execution_count": 87,
   "metadata": {},
   "outputs": [
    {
     "data": {
      "text/plain": [
       "{'dataset': 'thwiki_qa15k_newmm-300',\n",
       " 'question': 'เวียนนามถูกจีนปกครองนานนับพันปี ตั้งแต่ พ.ศ. 432 จนถึงปี พ.ศ. ใด',\n",
       " 'question_id': 14947,\n",
       " 'doc_id': 69950,\n",
       " 'answers': {'answer_start': [527], 'answer_end': [531], 'text': ['1481']},\n",
       " 'passage': 'จื๋อโนม จื๋อโนม () เป็นระบบอักษรที่ใช้เขียนภาษาเวียดนาม ปัจจุบันเลิกใช้แล้ว จื๋อโนมประกอบด้วยอักษรจีน (\"ฮั่นจื้อ\" เรียกเป็นภาษาเวียดนามว่า \"ฮ้านตึ\" - ) และอักขระที่ประดิษฐ์ขึ้นตามแบบอักษรจีน ตัวอย่างที่เก่าที่สุดอยู่ในช่วงคริสต์ศตวรรษที่ 13 มักนิยมใช้เฉพาะในหมู่ชนชั้นสูงของเวียดนาม โดยส่วนใหญ่ใช้บันทึกวรรณคดีเวียดนาม (งานเขียนที่เป็นทางการส่วนใหญ่จะใช้ภาษาจีนแบบแผน ไม่ใช่ภาษาเวียดนาม) ปัจจุบันถือว่าถูกแทนที่โดยสมบูรณ์ด้วยจื๋อโกว๊กหงือซึ่งดัดแปลงจากอักษรละตินประวัติ ประวัติ. เวียดนามถูกจีนปกครองนานนับพันปีระหว่าง พ.ศ. 432–1481 เป็นผลให้ภาษาเขียนในทางราชการเป็นภาษาจีนโบราณที่รู้จักในชื่อ \"จื๋อญอ\" () ในภาษาเวียดนาม จื๋อญอยังใช้ต่อมาในเวียดนามร่วมกับจื๋อโนมและจนถึง พ.ศ. 2461 ในช่วงประมาณ พ.ศ. 1500 ชาวเวียดนามปรับปรุงอักษรจีนใช้เขียนภาษาของตน เรียกว่าจื๋อโนมหรืออักษรใต้ ตัวอย่างที่เก่าที่สุดของอักษรนี้คือจารึกโลหะที่เจดีย์บ๋าวอาน () ในจังหวัดหวิญฟุก อายุราว พ.ศ. 1752 ในช่วง พ.ศ. 1800 อักษรชุดนี้ได้เริ่มมีการนำมาใช้ทางวรรณคดี กวีและนักเขียนชาวเวียดนามที่มีชื่อเสียงหลายคนเขียนงานของตนโดยใช้จื๋อโนม เช่น เหงียน เทวียน (), เหงียน สี โก๊ (; พ.ศ. 1900), เหงียน จ๋าย (; พ.ศ. 2000',\n",
       " 'passage_ntokens_newmm': 303,\n",
       " 'title': 'จื๋อโนม'}"
      ]
     },
     "execution_count": 87,
     "metadata": {},
     "output_type": "execute_result"
    }
   ],
   "source": [
    "datasets['train'][0]"
   ]
  },
  {
   "cell_type": "code",
   "execution_count": 88,
   "metadata": {},
   "outputs": [],
   "source": [
    "def convert_nscqa_to_iapp(example):\n",
    "    example['context'] = example['passage']\n",
    "    example['article_id'] = str(example['doc_id'])\n",
    "    return example"
   ]
  },
  {
   "cell_type": "code",
   "execution_count": 89,
   "metadata": {},
   "outputs": [
    {
     "name": "stderr",
     "output_type": "stream",
     "text": [
      "W0712 22:19:01.317463 139784080262976 arrow_dataset.py:1518] Loading cached processed dataset at /home/cstorm125/.cache/huggingface/datasets/json/default-086661ee710dfbfa/0.0.0/dc7ee63ec8b554c48ecc5a8a6fbe27af8071408c244e4347cf9222d6206d83a2/cache-93825eabf5ea3230.arrow\n",
      "W0712 22:19:01.328203 139784080262976 arrow_dataset.py:1518] Loading cached processed dataset at /home/cstorm125/.cache/huggingface/datasets/json/default-086661ee710dfbfa/0.0.0/dc7ee63ec8b554c48ecc5a8a6fbe27af8071408c244e4347cf9222d6206d83a2/cache-c4753ac8017d6127.arrow\n",
      "W0712 22:19:01.346279 139784080262976 arrow_dataset.py:1518] Loading cached processed dataset at /home/cstorm125/.cache/huggingface/datasets/json/default-086661ee710dfbfa/0.0.0/dc7ee63ec8b554c48ecc5a8a6fbe27af8071408c244e4347cf9222d6206d83a2/cache-fd8e6ecc4dd87fab.arrow\n"
     ]
    }
   ],
   "source": [
    "datasets = datasets.map(convert_nscqa_to_iapp, remove_columns=['dataset',\n",
    "                                                               'doc_id',\n",
    "                                                               'passage',\n",
    "                                                               'passage_ntokens_newmm',])"
   ]
  },
  {
   "cell_type": "code",
   "execution_count": 90,
   "metadata": {},
   "outputs": [
    {
     "data": {
      "text/plain": [
       "{'answers': {'answer_end': [157],\n",
       "  'answer_start': [131],\n",
       "  'text': ['มหาวิทยาลัยศรีนครินทรวิโรฒ']},\n",
       " 'article_id': '459520',\n",
       " 'context': 'มหาวิทยาลัยทักษิณ วิทยาเขตสงขลา มหาวิทยาลัยทักษิณ เป็นสถาบันอุดมศึกษาในกำกับของรัฐ ตั้งอยู่ในจังหวัดสงขลา เดิมเป็นวิทยาเขตหนึ่งของ มหาวิทยาลัยศรีนครินทรวิโรฒ ต่อมา ได้รับการยกฐานะเป็นมหาวิทยาลัยเอกเทศ มีชื่อว่า มหาวิทยาลัยทักษิณ พระราชบัญญัติมหาวิทยาลัยทักษิณได้ผ่านกระบวนการตามกฎหมายครบทุกขั้นตอน และได้ประกาศในราชกิจจานุเบกษา เมื่อวันพฤหัสบดีที่ 31 ตุลาคม พ.ศ. 2539 มีผลบังคับใช้ในวันที่ 1 พฤศจิกายน พ.ศ. 2539 ซึ่งถือเป็นวันสถาปนามหาวิทยาลัยทักษิณ โดยชื่อ มหาวิทยาลัยทักษิณ สื่อถึง \"มหาวิทยาลัยแห่งภาคใต้\" มหาวิทยาลัยทักษิณ จัดอยู่ในกลุ่มสถาบันอุดมศึกษาที่เน้นการผลิตบัณฑิตและพัฒนาศิลปะและวัฒนธรรม ได้รับการประเมินจากสำนักงานรับรองมาตรฐานและประเมินคุณภาพการศึกษาในระดับดี โดยเฉพาะในด้านการบริการแก่สังคม ด้านการทำนุบำรุงศิลปะและวัฒนธรรมและด้านการประกันคุณภาพภายในที่ได้รับการประเมินในระดับดีมาก ปัจจุบัน มหาวิทยาลัยประกอบด้วย 2 วิทยาเขต ได้แก่ วิทยาเขตสงขลาและวิทยาเขตพัทลุง รวมทั้งมีศุนย์อยู่ในกรุงเทพมหานคร 1 แห่ง จัดการเรียนการสินในระดับปริญญาตรี โท และเอก ครอบคลุมสาขาวิชาทางวิทยาศาสตร์ วิทยาศาสตร์สุขภาพ สังคมศาสตร์ และมนุษยศาสตร์ประวัติ ประวัติ. มีจุดเริ่มต้นจากการขยายงานออกสู่ส่วนภูมิภาคของวิทยาลัยวิชาการศึกษา ซึ่งได้กระจายโอกาสทางการศึกษาในระดับอุดมศึกษาให้แก่นักเรียนในส่วนภูมิภาคได้มีโอกาสศึกษาต่อ จึงมีการจัดตั้งวิทยาลัยวิชาการศึกษาสงขลาขึ้น เมื่อวันที่ 1 ตุลาคม พ.ศ. 2511 และผลจากการพัฒนาของวิทยาลัยวิชาการศึกษา ต่อมาจึงได้รับการยกฐานะขึ้นเป็นมหาวิทยาลัยศรีนครินทรวิโรฒ เมื่อวันที่ 29 มิถุนายน พ.ศ. 2517 ณ จุด',\n",
       " 'question': 'ก่อนที่จะได้รับการยกฐานะเป็นมหาวิทยาลัยเอกเทศ มหาวิทยาลัยทักษิณเคยเป็นวิทยาเขตหนึ่งของมหาวิทยาลัยใด',\n",
       " 'question_id': 9967,\n",
       " 'title': 'มหาวิทยาลัยทักษิณ วิทยาเขตสงขลา'}"
      ]
     },
     "execution_count": 90,
     "metadata": {},
     "output_type": "execute_result"
    }
   ],
   "source": [
    "i = 301\n",
    "example = datasets['train'][i]\n",
    "example"
   ]
  },
  {
   "cell_type": "code",
   "execution_count": 91,
   "metadata": {},
   "outputs": [
    {
     "data": {
      "text/plain": [
       "('มหาวิทยาลัยศรีนครินทรวิโรฒ', ['มหาวิทยาลัยศรีนครินทรวิโรฒ'])"
      ]
     },
     "execution_count": 91,
     "metadata": {},
     "output_type": "execute_result"
    }
   ],
   "source": [
    "example['context'][example['answers']['answer_start'][0]:example['answers']['answer_end'][0]], example['answers']['text']"
   ]
  },
  {
   "cell_type": "code",
   "execution_count": 92,
   "metadata": {},
   "outputs": [
    {
     "data": {
      "text/plain": [
       "DatasetDict({\n",
       "    train: Dataset({\n",
       "        features: ['answers', 'article_id', 'context', 'question', 'question_id', 'title'],\n",
       "        num_rows: 9045\n",
       "    })\n",
       "    validation: Dataset({\n",
       "        features: ['answers', 'article_id', 'context', 'question', 'question_id', 'title'],\n",
       "        num_rows: 1005\n",
       "    })\n",
       "    test: Dataset({\n",
       "        features: ['answers', 'article_id', 'context', 'question', 'question_id', 'title'],\n",
       "        num_rows: 4950\n",
       "    })\n",
       "})"
      ]
     },
     "execution_count": 92,
     "metadata": {},
     "output_type": "execute_result"
    }
   ],
   "source": [
    "datasets.save_to_disk(\"nsc_qa_w300\")\n",
    "datasets = load_from_disk('nsc_qa_w300')\n",
    "datasets"
   ]
  },
  {
   "cell_type": "code",
   "execution_count": 93,
   "metadata": {},
   "outputs": [
    {
     "name": "stderr",
     "output_type": "stream",
     "text": [
      "W0712 22:19:15.326496 139784080262976 arrow_dataset.py:1518] Loading cached processed dataset at nsc_qa_w300/train/cache-711672e68c2367a6.arrow\n",
      "W0712 22:19:15.368324 139784080262976 arrow_dataset.py:1518] Loading cached processed dataset at nsc_qa_w300/validation/cache-7d7784d11992bc0e.arrow\n",
      "W0712 22:19:15.390357 139784080262976 arrow_dataset.py:1518] Loading cached processed dataset at nsc_qa_w300/test/cache-8f560c77c99b222b.arrow\n"
     ]
    },
    {
     "data": {
      "text/plain": [
       "<matplotlib.axes._subplots.AxesSubplot at 0x7f20e4a6eac8>"
      ]
     },
     "execution_count": 93,
     "metadata": {},
     "output_type": "execute_result"
    },
    {
     "data": {
      "image/png": "[encoded data removed]",
      "text/plain": [
       "<Figure size 432x288 with 1 Axes>"
      ]
     },
     "metadata": {
      "needs_background": "light"
     },
     "output_type": "display_data"
    }
   ],
   "source": [
    "from pythainlp.tokenize import word_tokenize\n",
    "\n",
    "datasets = datasets.map(lambda x: {'context_newmm':len(word_tokenize(x['context']))})\n",
    "train_df = pd.DataFrame(datasets['train'])\n",
    "train_df.context_newmm.hist(bins=30)"
   ]
  },
  {
   "cell_type": "code",
   "execution_count": 94,
   "metadata": {},
   "outputs": [
    {
     "data": {
      "text/plain": [
       "<matplotlib.axes._subplots.AxesSubplot at 0x7f2124651470>"
      ]
     },
     "execution_count": 94,
     "metadata": {},
     "output_type": "execute_result"
    },
    {
     "data": {
      "image/png": "[encoded data removed]",
      "text/plain": [
       "<Figure size 432x288 with 1 Axes>"
      ]
     },
     "metadata": {
      "needs_background": "light"
     },
     "output_type": "display_data"
    }
   ],
   "source": [
    "valid_df = pd.DataFrame(datasets['validation'])\n",
    "valid_df.context_newmm.hist(bins=30)"
   ]
  },
  {
   "cell_type": "code",
   "execution_count": 95,
   "metadata": {},
   "outputs": [
    {
     "data": {
      "text/plain": [
       "<matplotlib.axes._subplots.AxesSubplot at 0x7f2124575518>"
      ]
     },
     "execution_count": 95,
     "metadata": {},
     "output_type": "execute_result"
    },
    {
     "data": {
      "image/png": "[encoded data removed]",
      "text/plain": [
       "<Figure size 432x288 with 1 Axes>"
      ]
     },
     "metadata": {
      "needs_background": "light"
     },
     "output_type": "display_data"
    }
   ],
   "source": [
    "test_df = pd.DataFrame(datasets['test'])\n",
    "test_df.context_newmm.hist(bins=30)"
   ]
  },
  {
   "cell_type": "markdown",
   "metadata": {},
   "source": [
    "### Does NSC has overlaps with `thaiqa_squad`?"
   ]
  },
  {
   "cell_type": "markdown",
   "metadata": {},
   "source": [
    "Not likely."
   ]
  },
  {
   "cell_type": "code",
   "execution_count": 96,
   "metadata": {},
   "outputs": [
    {
     "name": "stderr",
     "output_type": "stream",
     "text": [
      "W0712 22:19:23.598779 139784080262976 builder.py:512] Reusing dataset thaiqa_squad (/home/cstorm125/.cache/huggingface/datasets/thaiqa_squad/thaiqa_squad/1.0.0/7b7e2b91d89dc82fb5f3daebad1f7760eff94f7df63eaee9c8de1dd700c090b9)\n"
     ]
    },
    {
     "data": {
      "text/plain": [
       "DatasetDict({\n",
       "    train: Dataset({\n",
       "        features: ['question_id', 'article_id', 'context', 'question', 'answers'],\n",
       "        num_rows: 4000\n",
       "    })\n",
       "    validation: Dataset({\n",
       "        features: ['question_id', 'article_id', 'context', 'question', 'answers'],\n",
       "        num_rows: 74\n",
       "    })\n",
       "})"
      ]
     },
     "execution_count": 96,
     "metadata": {},
     "output_type": "execute_result"
    }
   ],
   "source": [
    "x = load_dataset('thaiqa_squad')\n",
    "x"
   ]
  },
  {
   "cell_type": "code",
   "execution_count": 97,
   "metadata": {},
   "outputs": [
    {
     "data": {
      "text/plain": [
       "'วังเป็นลุ่มน้ำสำคัญลุ่มน้ำหนึ่งทางภาคเหนือของประเทศไทย พื้นที่ลุ่มน้ำประมาณ 10,791 ตารางกิโลเมตร มีต้นกำเนิดแม่น้ำบริเวณเทือกเขาทางตอนเหนือของจังหวัดลำปาง (อำเภอวังเหนือ) แล้วไหลลงสู่ทางใต้โดยบรรจบกับแม่น้ำปิง บริเวณทางเหนือของอำเภอบ้านตาก จังหวัดตาก กลายเป็นแม่น้ำปิง ไหลลงสู่แม่น้ำเจ้าพระยาต่อไปการแบ่งเขตการปกครองการปกครองส่วนภูมิภาค การแบ่งเขตการปกครอง. การปกครองส่วนภูมิภาค. อำเภอวังเหนือแบ่งพื้นที่การปกครองออกเป็น 8 ตำบล 80 หมู่บ้าน ได้แก่การปกครองส่วนท้องถิ่น การปกครองส่วนท้องถิ่น. ท้องที่อำเภอวังเหนือประกอบด้วยองค์กรปกครองส่วนท้องถิ่น 9 แห่ง ได้แก่- เทศบาลตำบลบ้านใหม่ ครอบคลุมพื้นที่บางส่วนของตำบลวังเหนือ(เฉพาะนอกเขตเทศบาลตำบลวังเหนือ) - เทศบาลตำบลวังเหนือ ครอบคลุมพื้นที่บางส่วนของตำบลวังเหนือ(เฉพาะนอกเขตเทศบาลตำบลบ้านใหม่) - องค์การบริหารส่วนตำบลทุ่งฮั้ว ครอบคลุมพื้นที่ตำบลทุ่งฮั้วทั้งตำบล - องค์การบริหารส่วนตำบลวังใต้ ครอบคลุมพื้นที่ตำบลวังใต้ทั้งตำบล - องค์การบริหารส่วนตำบลร่องเคาะ ครอบคลุมพื้นที่ตำบลร่องเคาะทั้งตำบล - องค์การบริหารส่วนตำบลวังทอง ครอบคลุมพื้นที่ตำบลวังทองทั้งตำบล - องค์การบริหารส่วนตำบลวังซ้าย ครอบคลุมพื้นที่ตำบลวังซ้ายทั้งตำบล - องค์การบริหารส่วนตำบลวังแก้ว ครอบคลุมพื้นที่ตำบลวังแก้วทั้งตำบล - องค์การบริหารส่วนตำบลวังทรายคำ ครอบคลุมพื้นที่ตำบลวังทรายคำทั้งตำบลธนาคารธนาคาร. - มีธนาคาร จำนวน 3 แห่ง ประกอบด้วย- ธนาคารกรุงไทย - ธนาคารออมสิน - ธนาคารเพื่อการเกษตรและสหกรณ์การเกษตรการเดินทาง การเดินทาง. สามารถ'"
      ]
     },
     "execution_count": 97,
     "metadata": {},
     "output_type": "execute_result"
    }
   ],
   "source": [
    "datasets['train'][50]['context']"
   ]
  },
  {
   "cell_type": "code",
   "execution_count": 98,
   "metadata": {},
   "outputs": [
    {
     "name": "stderr",
     "output_type": "stream",
     "text": [
      "W0712 22:19:23.732116 139784080262976 arrow_dataset.py:1518] Loading cached processed dataset at /home/cstorm125/.cache/huggingface/datasets/thaiqa_squad/thaiqa_squad/1.0.0/7b7e2b91d89dc82fb5f3daebad1f7760eff94f7df63eaee9c8de1dd700c090b9/cache-49f7ea77e69eaa27.arrow\n",
      "W0712 22:19:23.752578 139784080262976 arrow_dataset.py:1518] Loading cached processed dataset at /home/cstorm125/.cache/huggingface/datasets/thaiqa_squad/thaiqa_squad/1.0.0/7b7e2b91d89dc82fb5f3daebad1f7760eff94f7df63eaee9c8de1dd700c090b9/cache-2c3534c8709efe05.arrow\n"
     ]
    },
    {
     "data": {
      "text/plain": [
       "Dataset({\n",
       "    features: ['question_id', 'article_id', 'context', 'question', 'answers'],\n",
       "    num_rows: 2\n",
       "})"
      ]
     },
     "execution_count": 98,
     "metadata": {},
     "output_type": "execute_result"
    }
   ],
   "source": [
    "x.filter(lambda x: 'อำเภอวังเหนือ' in x['context'])['train']"
   ]
  },
  {
   "cell_type": "code",
   "execution_count": 99,
   "metadata": {},
   "outputs": [
    {
     "name": "stderr",
     "output_type": "stream",
     "text": [
      "W0712 22:19:23.806377 139784080262976 arrow_dataset.py:1518] Loading cached processed dataset at /home/cstorm125/.cache/huggingface/datasets/thaiqa_squad/thaiqa_squad/1.0.0/7b7e2b91d89dc82fb5f3daebad1f7760eff94f7df63eaee9c8de1dd700c090b9/cache-49f7ea77e69eaa27.arrow\n",
      "W0712 22:19:23.821449 139784080262976 arrow_dataset.py:1518] Loading cached processed dataset at /home/cstorm125/.cache/huggingface/datasets/thaiqa_squad/thaiqa_squad/1.0.0/7b7e2b91d89dc82fb5f3daebad1f7760eff94f7df63eaee9c8de1dd700c090b9/cache-2c3534c8709efe05.arrow\n"
     ]
    },
    {
     "data": {
      "text/plain": [
       "{'answers': {'answer': ['อุทยานแห่งชาติดอยหลวง'],\n",
       "  'answer_begin_position': [139],\n",
       "  'answer_end_position': [160]},\n",
       " 'article_id': 722741,\n",
       " 'context': '<doc id=\"722741\" url=\"https://th.wikipedia.org/wiki?curid=722741\" title=\"น้ำตกวังแก้ว\">น้ำตกวังแก้ว น้ำตกวังแก้ว เป็นแหล่งท่องเที่ยวหนึ่งในอุทยานแห่งชาติดอยหลวงซึ่งได้รับการประกาศให้เป็นอุทยานแห่งชาติ เมื่อวันที่16 เมษายน พ.ศ. 2533 ครอบคลุมพื้นที่บางส่วนของจังหวัดพะเยา จังหวัดเชียงรายและจังหวัดลำปาง รวมเนื้อที่ประมาณ 731,250 ไร่ สภาพภูมิประเทศเป็นเขาสูงทอดตัวแนวเหนือ-ใต้ มีดอยหลวงเป็นยอดเขาที่สูงที่สุด ประกอบด้วยป่าเบญจพรรณ ป่าดิบชื้นและป่าเต็งรังปะปนกัน มีสัตว์ป่าและน กหลายชนิด ที่ทำการอุทยานฯ ตั้งอยู่ที่บริเวณน้ำตกวังแก้ว น้ำตกวังแก้ว เป็น น้ำตกที่สวยงามที่สุดของจังหวัดลำปาง เกิดจากการทับถมของหินปูนที่ปนมากับน้ำ มีชั้นน้ำตกประมาณ 110 ชั้น แต่เป็นชั้น ใหญ่ 7-8 ชั้น น้ำตกไหลอยู่ตลอดปี เมื่อขึ้นไปถึงชั้นบนสุดของน้ำตกจะพบ หมู่บ้านชาวเขาเผ่าเย้า ที่บ้านป่าคาหลวงและบ้านส้าน ซึ่งมีทางขึ้นค่อนข้างชัน ที่ น้ำตกวังแก้ว ยังมีเส้นทางเดินศึกษา ธรรมชาติระยะสั้น 1.4 กิโลเมตร นอกจากนี้บริเวณใกล้เคียง ยังมี น้ำตกวังทอง ซึ่งมีลักษณะคล้าย น้ำตกวังแก้ว ค่าธรรมเนียมเข้าชม เด็ก 10 บาท ผู้ใหญ่ 20 บาท สามารถกางเต็นท์ได้แต่ต้องเตรียม เสบียง ไปเอง สถานที่พัก มีบ้านพักจำนวน 7 หลัง ราคา 1,000 บาท ทางอุทยานฯ มีเต็นท์ให้เช่า พักได้ 2 คน ราคา 50 บาท/คืนเต็นท์ หรือจะนำเต็นท์มาเองเสียค่าพื้นที่กางเต็นท์ 20 บาท/คน/คืน สอบถามรายละเอียดเพิ่มเติม ได้ ที่ อุทยานแห่งชาติดอยหลวง ตำบลแม่เย็น อำเภอพาน จังหวัดเชียงราย โทร. 0 5360 9042, 0 2562 7060 หรือ www.dng.or.th การเดินทาง ใช้เส้นทาง สายลำปาง - แจ้ห่ม - วังเหนือ ระยะทางประมาณ 110 กิโลเมตร มีทางเข้าสู่น้ำตกทั้งสองข้างที่ว่าการอำเภอวังเหนือ จากปากทางเข้าสู่น้ำตกวังแก้ว เป็นระยะทาง ประมาณ 24 กิโลเมตร สภาพถนนเป็นทางลาดยาง ส่วนทางเข้าน้ำตก วังทองจากปากทางใหญ่ ที่เข้ามาจะถึงก่อนน้ำตกวังแก้วประมาณ 9 กิโลเมตร</doc>\\n',\n",
       " 'question': 'น้ำตกวังแก้วตั้งอยู่ในอุทยานใด',\n",
       " 'question_id': 2924}"
      ]
     },
     "execution_count": 99,
     "metadata": {},
     "output_type": "execute_result"
    }
   ],
   "source": [
    "x.filter(lambda x: 'อำเภอวังเหนือ' in x['context'])['train'][0]"
   ]
  },
  {
   "cell_type": "code",
   "execution_count": 100,
   "metadata": {},
   "outputs": [
    {
     "name": "stderr",
     "output_type": "stream",
     "text": [
      "W0712 22:19:23.845624 139784080262976 arrow_dataset.py:1518] Loading cached processed dataset at /home/cstorm125/.cache/huggingface/datasets/thaiqa_squad/thaiqa_squad/1.0.0/7b7e2b91d89dc82fb5f3daebad1f7760eff94f7df63eaee9c8de1dd700c090b9/cache-49f7ea77e69eaa27.arrow\n",
      "W0712 22:19:23.855583 139784080262976 arrow_dataset.py:1518] Loading cached processed dataset at /home/cstorm125/.cache/huggingface/datasets/thaiqa_squad/thaiqa_squad/1.0.0/7b7e2b91d89dc82fb5f3daebad1f7760eff94f7df63eaee9c8de1dd700c090b9/cache-2c3534c8709efe05.arrow\n"
     ]
    },
    {
     "data": {
      "text/plain": [
       "{'answers': {'answer': ['110'],\n",
       "  'answer_begin_position': [640],\n",
       "  'answer_end_position': [643]},\n",
       " 'article_id': 722741,\n",
       " 'context': '<doc id=\"722741\" url=\"https://th.wikipedia.org/wiki?curid=722741\" title=\"น้ำตกวังแก้ว\">น้ำตกวังแก้ว น้ำตกวังแก้ว เป็นแหล่งท่องเที่ยวหนึ่งในอุทยานแห่งชาติดอยหลวงซึ่งได้รับการประกาศให้เป็นอุทยานแห่งชาติ เมื่อวันที่16 เมษายน พ.ศ. 2533 ครอบคลุมพื้นที่บางส่วนของจังหวัดพะเยา จังหวัดเชียงรายและจังหวัดลำปาง รวมเนื้อที่ประมาณ 731,250 ไร่ สภาพภูมิประเทศเป็นเขาสูงทอดตัวแนวเหนือ-ใต้ มีดอยหลวงเป็นยอดเขาที่สูงที่สุด ประกอบด้วยป่าเบญจพรรณ ป่าดิบชื้นและป่าเต็งรังปะปนกัน มีสัตว์ป่าและน กหลายชนิด ที่ทำการอุทยานฯ ตั้งอยู่ที่บริเวณน้ำตกวังแก้ว น้ำตกวังแก้ว เป็น น้ำตกที่สวยงามที่สุดของจังหวัดลำปาง เกิดจากการทับถมของหินปูนที่ปนมากับน้ำ มีชั้นน้ำตกประมาณ 110 ชั้น แต่เป็นชั้น ใหญ่ 7-8 ชั้น น้ำตกไหลอยู่ตลอดปี เมื่อขึ้นไปถึงชั้นบนสุดของน้ำตกจะพบ หมู่บ้านชาวเขาเผ่าเย้า ที่บ้านป่าคาหลวงและบ้านส้าน ซึ่งมีทางขึ้นค่อนข้างชัน ที่ น้ำตกวังแก้ว ยังมีเส้นทางเดินศึกษา ธรรมชาติระยะสั้น 1.4 กิโลเมตร นอกจากนี้บริเวณใกล้เคียง ยังมี น้ำตกวังทอง ซึ่งมีลักษณะคล้าย น้ำตกวังแก้ว ค่าธรรมเนียมเข้าชม เด็ก 10 บาท ผู้ใหญ่ 20 บาท สามารถกางเต็นท์ได้แต่ต้องเตรียม เสบียง ไปเอง สถานที่พัก มีบ้านพักจำนวน 7 หลัง ราคา 1,000 บาท ทางอุทยานฯ มีเต็นท์ให้เช่า พักได้ 2 คน ราคา 50 บาท/คืนเต็นท์ หรือจะนำเต็นท์มาเองเสียค่าพื้นที่กางเต็นท์ 20 บาท/คน/คืน สอบถามรายละเอียดเพิ่มเติม ได้ ที่ อุทยานแห่งชาติดอยหลวง ตำบลแม่เย็น อำเภอพาน จังหวัดเชียงราย โทร. 0 5360 9042, 0 2562 7060 หรือ www.dng.or.th การเดินทาง ใช้เส้นทาง สายลำปาง - แจ้ห่ม - วังเหนือ ระยะทางประมาณ 110 กิโลเมตร มีทางเข้าสู่น้ำตกทั้งสองข้างที่ว่าการอำเภอวังเหนือ จากปากทางเข้าสู่น้ำตกวังแก้ว เป็นระยะทาง ประมาณ 24 กิโลเมตร สภาพถนนเป็นทางลาดยาง ส่วนทางเข้าน้ำตก วังทองจากปากทางใหญ่ ที่เข้ามาจะถึงก่อนน้ำตกวังแก้วประมาณ 9 กิโลเมตร</doc>\\n',\n",
       " 'question': 'น้ำตกวังแก้วในอุทยานแห่งชาติดอยหลวงมีกี่ชั้น',\n",
       " 'question_id': 2925}"
      ]
     },
     "execution_count": 100,
     "metadata": {},
     "output_type": "execute_result"
    }
   ],
   "source": [
    "x.filter(lambda x: 'อำเภอวังเหนือ' in x['context'])['train'][1]"
   ]
  },
  {
   "cell_type": "markdown",
   "metadata": {},
   "source": [
    "## `thaiqa_squad` Context Length"
   ]
  },
  {
   "cell_type": "markdown",
   "metadata": {},
   "source": [
    "`thaiqa_squad` also has the long-passage issues so we applied the same technique to truncate the contexts to around 300 `newmm` words."
   ]
  },
  {
   "cell_type": "code",
   "execution_count": 101,
   "metadata": {},
   "outputs": [
    {
     "name": "stderr",
     "output_type": "stream",
     "text": [
      "W0712 22:21:25.049294 139784080262976 builder.py:512] Reusing dataset thaiqa_squad (/home/cstorm125/.cache/huggingface/datasets/thaiqa_squad/thaiqa_squad/1.0.0/7b7e2b91d89dc82fb5f3daebad1f7760eff94f7df63eaee9c8de1dd700c090b9)\n"
     ]
    },
    {
     "data": {
      "application/vnd.jupyter.widget-view+json": {
       "model_id": "e65f08e34f8241d79de480aad378a5a9",
       "version_major": 2,
       "version_minor": 0
      },
      "text/plain": [
       "HBox(children=(FloatProgress(value=0.0, max=4000.0), HTML(value='')))"
      ]
     },
     "metadata": {},
     "output_type": "display_data"
    },
    {
     "name": "stdout",
     "output_type": "stream",
     "text": [
      "\n"
     ]
    },
    {
     "data": {
      "application/vnd.jupyter.widget-view+json": {
       "model_id": "5a077951467a413baa3a4e87a50e7208",
       "version_major": 2,
       "version_minor": 0
      },
      "text/plain": [
       "HBox(children=(FloatProgress(value=0.0, max=74.0), HTML(value='')))"
      ]
     },
     "metadata": {},
     "output_type": "display_data"
    },
    {
     "name": "stdout",
     "output_type": "stream",
     "text": [
      "\n"
     ]
    },
    {
     "data": {
      "text/plain": [
       "<matplotlib.axes._subplots.AxesSubplot at 0x7f20e4afae10>"
      ]
     },
     "execution_count": 101,
     "metadata": {},
     "output_type": "execute_result"
    },
    {
     "data": {
      "image/png": "[encoded data removed]",
      "text/plain": [
       "<Figure size 432x288 with 1 Axes>"
      ]
     },
     "metadata": {
      "needs_background": "light"
     },
     "output_type": "display_data"
    }
   ],
   "source": [
    "from pythainlp.tokenize import word_tokenize\n",
    "\n",
    "datasets = load_dataset('thaiqa_squad')\n",
    "datasets = datasets.map(lambda x: {'context_newmm':len(word_tokenize(x['context']))})\n",
    "train_df = pd.DataFrame(datasets['train'])\n",
    "train_df.context_newmm.hist(bins=30)"
   ]
  },
  {
   "cell_type": "code",
   "execution_count": 102,
   "metadata": {},
   "outputs": [
    {
     "data": {
      "text/plain": [
       "<matplotlib.axes._subplots.AxesSubplot at 0x7f21625e0cf8>"
      ]
     },
     "execution_count": 102,
     "metadata": {},
     "output_type": "execute_result"
    },
    {
     "data": {
      "image/png": "[encoded data removed]",
      "text/plain": [
       "<Figure size 432x288 with 1 Axes>"
      ]
     },
     "metadata": {
      "needs_background": "light"
     },
     "output_type": "display_data"
    }
   ],
   "source": [
    "valid_df = pd.DataFrame(datasets['validation'])\n",
    "valid_df.context_newmm.hist(bins=30)"
   ]
  },
  {
   "cell_type": "code",
   "execution_count": 104,
   "metadata": {},
   "outputs": [],
   "source": [
    "# #convert to jsonl format\n",
    "# with open('../data/thwiki_qa.n-4000.newmm-300.rm_left_padding.right-margin-ntokens-10.json') as f:\n",
    "#     j = json.load(f)\n",
    "\n",
    "# with open('../data/thwiki_qa.n-4000.newmm-300.rm_left_padding.right-margin-ntokens-10.jsonl', 'a') as f:\n",
    "#     for i in j:\n",
    "#         json.dump(i,f)\n",
    "#         f.write('\\n')"
   ]
  },
  {
   "cell_type": "code",
   "execution_count": 105,
   "metadata": {},
   "outputs": [
    {
     "name": "stderr",
     "output_type": "stream",
     "text": [
      "W0712 22:27:04.353380 139784080262976 builder.py:357] Using custom data configuration default-5e2cb1e988d7371b\n"
     ]
    },
    {
     "name": "stdout",
     "output_type": "stream",
     "text": [
      "Downloading and preparing dataset json/default (download: Unknown size, generated: Unknown size, post-processed: Unknown size, total: Unknown size) to /home/cstorm125/.cache/huggingface/datasets/json/default-5e2cb1e988d7371b/0.0.0/dc7ee63ec8b554c48ecc5a8a6fbe27af8071408c244e4347cf9222d6206d83a2...\n"
     ]
    },
    {
     "data": {
      "application/vnd.jupyter.widget-view+json": {
       "model_id": "",
       "version_major": 2,
       "version_minor": 0
      },
      "text/plain": [
       "HBox(children=(FloatProgress(value=1.0, bar_style='info', max=1.0), HTML(value='')))"
      ]
     },
     "metadata": {},
     "output_type": "display_data"
    },
    {
     "name": "stdout",
     "output_type": "stream",
     "text": [
      "Dataset json downloaded and prepared to /home/cstorm125/.cache/huggingface/datasets/json/default-5e2cb1e988d7371b/0.0.0/dc7ee63ec8b554c48ecc5a8a6fbe27af8071408c244e4347cf9222d6206d83a2. Subsequent calls will reuse this data.\n"
     ]
    },
    {
     "data": {
      "text/plain": [
       "DatasetDict({\n",
       "    train: Dataset({\n",
       "        features: ['dataset', 'question', 'question_id', 'doc_id', 'answers', 'passage', 'passage_ntokens_newmm', 'title'],\n",
       "        num_rows: 4000\n",
       "    })\n",
       "})"
      ]
     },
     "execution_count": 105,
     "metadata": {},
     "output_type": "execute_result"
    }
   ],
   "source": [
    "datasets = load_dataset('json', \n",
    "                       data_files={'train':'../data/thwiki_qa.n-4000.newmm-300.rm_left_padding.right-margin-ntokens-10.jsonl',\n",
    "                                  },)\n",
    "datasets"
   ]
  },
  {
   "cell_type": "code",
   "execution_count": 106,
   "metadata": {},
   "outputs": [
    {
     "data": {
      "application/vnd.jupyter.widget-view+json": {
       "model_id": "44b1aec4892a4b5e995a8149262dafc9",
       "version_major": 2,
       "version_minor": 0
      },
      "text/plain": [
       "HBox(children=(FloatProgress(value=0.0, max=4000.0), HTML(value='')))"
      ]
     },
     "metadata": {},
     "output_type": "display_data"
    },
    {
     "name": "stdout",
     "output_type": "stream",
     "text": [
      "\n"
     ]
    },
    {
     "data": {
      "text/plain": [
       "DatasetDict({\n",
       "    train: Dataset({\n",
       "        features: ['answers', 'article_id', 'context', 'question', 'question_id', 'title'],\n",
       "        num_rows: 4000\n",
       "    })\n",
       "})"
      ]
     },
     "execution_count": 106,
     "metadata": {},
     "output_type": "execute_result"
    }
   ],
   "source": [
    "datasets = datasets.map(convert_nscqa_to_iapp, remove_columns=['dataset',\n",
    "                                                               'doc_id',\n",
    "                                                               'passage',\n",
    "                                                               'passage_ntokens_newmm',])\n",
    "datasets"
   ]
  },
  {
   "cell_type": "code",
   "execution_count": 107,
   "metadata": {},
   "outputs": [
    {
     "data": {
      "text/plain": [
       "{'answers': {'answer_end': [785],\n",
       "  'answer_start': [773],\n",
       "  'text': ['สาขาชีววิทยา']},\n",
       " 'article_id': '150251',\n",
       " 'context': 'แกรี่ เลวิน แกรี่ เลวิน เป็นหัวหน้าทีมกายภาพบำบัดของสโมสรฟุตบอลอาร์เซนอลและเป็นนักกายภาพบำบัดของทีมชาติอังกฤษอีกด้วยประวัติ ประวัติ. แกรี่ เลวิน เกิดเมื่อวันที่ 16 พฤษภาคม ค.ศ. 1964 ที่อีสต์แฮม(East Ham) กรุงลอนดอน ได้มาอยู่กับอาร์เซนอลด้วยการเป็นผู้รักษาประตูทีมเยาวชนตั้งแต่อายุแค่ 16 ปี และผัดตัวเองมาเป็นนักกายภาพบำบัดของทีมสำรองด้วยอายุที่น้อยมากเพียง 19 ปีเท่านั้น หลังจากนั้นหนึ่งปี ก็ไปเป็นนักเตะของสโมสรฟุตบอลบาร์เน็ต ต่อมาในปี 1986 แกรี่ มีอายุเพียง 22 ปี แต่ก็ได้ทำงานเต็มเวลาในตำแหน่งนักกายภาพบำบัดของทีมชุดใหญ่ในที่สุด เขามีประสบการณ์ด้านงานนี้มาแล้วว่า 1,000 เกม (ครบเกมที่ 1,000 เมื่อธันวาคม ปี 2004) ส่วนการได้รับอนุญาตให้เป็นนักกายภาพบำบัดนั้น เนื่องจากว่าเขาเรียนมาจากโรงพยาบาลกาย วิทยาลัยแห่งวิชากายภาพบำบัดในช่วงปี 1983 ถึง 1986 เขาจบปริญญาตรี (hons) ในสาขาชีววิทยาและอนุปริญญาสาขากายภาพบำบัด เขาเป็นสามาชิกของวิทยาลัยแห่งกายภาพบำบัดการกีฬา และเป็นสมาชิกของสมาคมนักกายภาพบำบัดอาชีพแห่งรัฐอีกด้วย เขามีความเชี่ยวชาญด้านเอ็นร้อยหวายอย่างมาก เนื่องจากว่าเคยมีประสบการณ์กับโทนี อดัมส์ หรือแม้แต่เคยเป็นที่ปรึกษาให้กับนักกายภาพบำบัดของสโมสรฟุตบอลเบอร์มิงแฮมในช่วงที่เดวิด ดันน์ได้รับบาดเจ็บอยู่บ่อย ๆ ด้วย ในเกมลีกคัพรอบชิงชนะเลิศเมื่อวันที่ 25 กุมภาพันธ์ ค.ศ. 2007 นั้น เล',\n",
       " 'question': 'แกรี่ เลวิน จบปริญญาตรี ในสาขาอะไร',\n",
       " 'question_id': 302,\n",
       " 'title': 'แกรี่ เลวิน'}"
      ]
     },
     "execution_count": 107,
     "metadata": {},
     "output_type": "execute_result"
    }
   ],
   "source": [
    "i = 301\n",
    "example = datasets['train'][i]\n",
    "example"
   ]
  },
  {
   "cell_type": "code",
   "execution_count": 108,
   "metadata": {},
   "outputs": [
    {
     "data": {
      "text/plain": [
       "('สาขาชีววิทยา', ['สาขาชีววิทยา'])"
      ]
     },
     "execution_count": 108,
     "metadata": {},
     "output_type": "execute_result"
    }
   ],
   "source": [
    "example['context'][example['answers']['answer_start'][0]:example['answers']['answer_end'][0]], example['answers']['text']"
   ]
  },
  {
   "cell_type": "code",
   "execution_count": 109,
   "metadata": {},
   "outputs": [
    {
     "data": {
      "text/plain": [
       "DatasetDict({\n",
       "    train: Dataset({\n",
       "        features: ['answers', 'article_id', 'context', 'question', 'question_id', 'title'],\n",
       "        num_rows: 4000\n",
       "    })\n",
       "})"
      ]
     },
     "execution_count": 109,
     "metadata": {},
     "output_type": "execute_result"
    }
   ],
   "source": [
    "datasets.save_to_disk(\"thaiqa_w300\")\n",
    "datasets = load_from_disk('thaiqa_w300')\n",
    "datasets"
   ]
  },
  {
   "cell_type": "code",
   "execution_count": 110,
   "metadata": {},
   "outputs": [
    {
     "data": {
      "application/vnd.jupyter.widget-view+json": {
       "model_id": "878f8dc1fc46460ab1628b7350759c04",
       "version_major": 2,
       "version_minor": 0
      },
      "text/plain": [
       "HBox(children=(FloatProgress(value=0.0, max=4000.0), HTML(value='')))"
      ]
     },
     "metadata": {},
     "output_type": "display_data"
    },
    {
     "name": "stdout",
     "output_type": "stream",
     "text": [
      "\n"
     ]
    },
    {
     "data": {
      "text/plain": [
       "<matplotlib.axes._subplots.AxesSubplot at 0x7f20e4ff0860>"
      ]
     },
     "execution_count": 110,
     "metadata": {},
     "output_type": "execute_result"
    },
    {
     "data": {
      "image/png": "[encoded data removed]",
      "text/plain": [
       "<Figure size 432x288 with 1 Axes>"
      ]
     },
     "metadata": {
      "needs_background": "light"
     },
     "output_type": "display_data"
    }
   ],
   "source": [
    "from pythainlp.tokenize import word_tokenize\n",
    "\n",
    "datasets = datasets.map(lambda x: {'context_newmm':len(word_tokenize(x['context']))})\n",
    "train_df = pd.DataFrame(datasets['train'])\n",
    "train_df.context_newmm.hist(bins=30)"
   ]
  },
  {
   "cell_type": "markdown",
   "metadata": {},
   "source": [
    "## `iapp_wiki_qa_squad` Context Length"
   ]
  },
  {
   "cell_type": "markdown",
   "metadata": {},
   "source": [
    "`iapp_wiki_qa_squad` also has some very long-passage issues but not as severe as the original `nsc_qa`, so we decided to NOT preprocess it."
   ]
  },
  {
   "cell_type": "code",
   "execution_count": 26,
   "metadata": {},
   "outputs": [
    {
     "data": {
      "text/plain": [
       "<matplotlib.axes._subplots.AxesSubplot at 0x7f212c3377f0>"
      ]
     },
     "execution_count": 26,
     "metadata": {},
     "output_type": "execute_result"
    },
    {
     "data": {
      "image/png": "[encoded data removed]",
      "text/plain": [
       "<Figure size 432x288 with 1 Axes>"
      ]
     },
     "metadata": {
      "needs_background": "light"
     },
     "output_type": "display_data"
    }
   ],
   "source": [
    "from pythainlp.tokenize import word_tokenize\n",
    "\n",
    "datasets = load_dataset('iapp_wiki_qa_squad')\n",
    "datasets = datasets.map(lambda x: {'context_newmm':len(word_tokenize(x['context']))})\n",
    "train_df = pd.DataFrame(datasets['train'])\n",
    "train_df.context_newmm.hist(bins=30)"
   ]
  },
  {
   "cell_type": "code",
   "execution_count": 27,
   "metadata": {},
   "outputs": [
    {
     "data": {
      "text/plain": [
       "<matplotlib.axes._subplots.AxesSubplot at 0x7f20e50ffa20>"
      ]
     },
     "execution_count": 27,
     "metadata": {},
     "output_type": "execute_result"
    },
    {
     "data": {
      "image/png": "[encoded data removed]",
      "text/plain": [
       "<Figure size 432x288 with 1 Axes>"
      ]
     },
     "metadata": {
      "needs_background": "light"
     },
     "output_type": "display_data"
    }
   ],
   "source": [
    "valid_df = pd.DataFrame(datasets['validation'])\n",
    "valid_df.context_newmm.hist(bins=30)"
   ]
  },
  {
   "cell_type": "code",
   "execution_count": 28,
   "metadata": {},
   "outputs": [
    {
     "data": {
      "text/plain": [
       "<matplotlib.axes._subplots.AxesSubplot at 0x7f20e4e039b0>"
      ]
     },
     "execution_count": 28,
     "metadata": {},
     "output_type": "execute_result"
    },
    {
     "data": {
      "image/png": "[encoded data removed]",
      "text/plain": [
       "<Figure size 432x288 with 1 Axes>"
      ]
     },
     "metadata": {
      "needs_background": "light"
     },
     "output_type": "display_data"
    }
   ],
   "source": [
    "test_df = pd.DataFrame(datasets['test'])\n",
    "test_df.context_newmm.hist(bins=30)"
   ]
  },
  {
   "cell_type": "code",
   "execution_count": null,
   "metadata": {},
   "outputs": [],
   "source": []
  }
 ],
 "metadata": {
  "kernelspec": {
   "display_name": "Python 3",
   "language": "python",
   "name": "python3"
  },
  "language_info": {
   "codemirror_mode": {
    "name": "ipython",
    "version": 3
   },
   "file_extension": ".py",
   "mimetype": "text/x-python",
   "name": "python",
   "nbconvert_exporter": "python",
   "pygments_lexer": "ipython3",
   "version": "3.6.9"
  }
 },
 "nbformat": 4,
 "nbformat_minor": 2
}
