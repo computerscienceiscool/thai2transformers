{
 "cells": [
  {
   "cell_type": "markdown",
   "id": "8b532155-12db-4b79-8813-669f94fdde09",
   "metadata": {},
   "source": [
    "# Error analysis of transformer models finetuned on chimera-qa"
   ]
  },
  {
   "cell_type": "code",
   "execution_count": 1,
   "id": "35ecb45a-4b51-43a4-8ed2-281bf8bb042a",
   "metadata": {},
   "outputs": [
    {
     "data": {
      "text/plain": [
       "('2.2.4', '4.8.2', '1.8.0')"
      ]
     },
     "execution_count": 1,
     "metadata": {},
     "output_type": "execute_result"
    }
   ],
   "source": [
    "%load_ext autoreload\n",
    "%autoreload 2\n",
    "import datasets\n",
    "import pythainlp, transformers\n",
    "pythainlp.__version__, transformers.__version__, \\\n",
    "datasets.__version__ #fix pythainlp to stabilize word tokenization for metrics"
   ]
  },
  {
   "cell_type": "code",
   "execution_count": 2,
   "id": "ranking-freedom",
   "metadata": {},
   "outputs": [
    {
     "name": "stderr",
     "output_type": "stream",
     "text": [
      "/Users/saiko/opt/miniconda3/envs/saiko/lib/python3.7/site-packages/ipykernel_launcher.py:10: FutureWarning: Passing a negative integer is deprecated in version 1.0 and will not be supported in future version. Instead, use None to not limit the column width.\n",
      "  # Remove the CWD from sys.path while we load stuff.\n"
     ]
    }
   ],
   "source": [
    "import collections\n",
    "import logging\n",
    "import pprint\n",
    "import re\n",
    "from tqdm.auto import tqdm\n",
    "from fuzzywuzzy import fuzz\n",
    "import matplotlib.pyplot as plt\n",
    "import numpy as np\n",
    "import pandas as pd\n",
    "pd.set_option('display.max_colwidth', -1)\n",
    "pd.set_option('display.max_rows', 800)\n",
    "\n",
    "import torch\n",
    "\n",
    "#datasets\n",
    "\n",
    "from datasets import (\n",
    "    load_dataset, \n",
    "    load_metric, \n",
    "    load_from_disk,\n",
    ")\n",
    "\n",
    "#transformers\n",
    "from transformers import (\n",
    "    AutoConfig,\n",
    "    AutoTokenizer,\n",
    "    AutoModelForQuestionAnswering,\n",
    "    TrainingArguments,\n",
    "    Trainer,\n",
    "    default_data_collator,\n",
    ")\n",
    "\n",
    "#thai2transformers\n",
    "import thai2transformers\n",
    "from thai2transformers.metrics import (\n",
    "    squad_newmm_metric,\n",
    "    question_answering_metrics,\n",
    "    _postprocess_qa_predictions\n",
    ")\n",
    "from thai2transformers.preprocess import (\n",
    "    prepare_qa_train_features,\n",
    "    prepare_qa_validation_features,\n",
    ")\n",
    "\n",
    "#parameterizing columns\n",
    "CONTEXT_COL = 'context'\n",
    "QUESTION_COL = 'question'\n",
    "ANSWERS_COL = 'answers'\n",
    "TEXT_COL = 'text'\n",
    "START_COL = 'answer_start'\n",
    "END_COL = 'answer_end'\n",
    "QUESTION_ID_COL = 'question_id'"
   ]
  },
  {
   "cell_type": "markdown",
   "id": "usual-contractor",
   "metadata": {},
   "source": [
    "## Datasets"
   ]
  },
  {
   "cell_type": "code",
   "execution_count": 3,
   "id": "compound-indie",
   "metadata": {},
   "outputs": [
    {
     "name": "stderr",
     "output_type": "stream",
     "text": [
      "Loading cached processed dataset at ../../chimera_qa/train/cache-ae7058e3c1cdb159.arrow\n",
      "Loading cached processed dataset at ../../chimera_qa/validation/cache-257265839bc2c86b.arrow\n",
      "Loading cached processed dataset at ../../chimera_qa/test/cache-ed79d8667e817261.arrow\n"
     ]
    }
   ],
   "source": [
    "datasets_cased = load_from_disk('../../chimera_qa')\n",
    "\n",
    "#lowercase when using uncased model\n",
    "def lowercase_example(example):\n",
    "    example[QUESTION_COL] =  example[QUESTION_COL].lower()\n",
    "    example[CONTEXT_COL] =  example[CONTEXT_COL].lower()\n",
    "    example[ANSWERS_COL][TEXT_COL] =  [example[ANSWERS_COL][TEXT_COL][0].lower()]\n",
    "    return example\n",
    "\n",
    "datasets_uncased = datasets_cased.map(lowercase_example)"
   ]
  },
  {
   "cell_type": "markdown",
   "id": "approved-verse",
   "metadata": {},
   "source": [
    "## Models"
   ]
  },
  {
   "cell_type": "code",
   "execution_count": 7,
   "id": "tribal-adapter",
   "metadata": {},
   "outputs": [
    {
     "data": {
      "application/vnd.jupyter.widget-view+json": {
       "model_id": "a38efa4c31234c748db586d5d981ff38",
       "version_major": 2,
       "version_minor": 0
      },
      "text/plain": [
       "HBox(children=(FloatProgress(value=0.0, description='Downloading', max=1109903089.0, style=ProgressStyle(descr…"
      ]
     },
     "metadata": {},
     "output_type": "display_data"
    },
    {
     "name": "stdout",
     "output_type": "stream",
     "text": [
      "\n"
     ]
    }
   ],
   "source": [
    "# #wangchan\n",
    "# tokenizer_wangchan = AutoTokenizer.from_pretrained(\"cstorm125/wangchanberta-base-att-spm-uncased-finetune-qa\")\n",
    "# model_wangchan = AutoModelForQuestionAnswering.from_pretrained(\"cstorm125/wangchanberta-base-att-spm-uncased-finetune-qa\")\n",
    "\n",
    "#wanchan-wiki\n",
    "tokenizer_wcwiki = AutoTokenizer.from_pretrained(\"cstorm125/wangchanberta-base-wiki-20210520-spm-finetune-qa\")\n",
    "model_wcwiki = AutoModelForQuestionAnswering.from_pretrained(\"cstorm125/wangchanberta-base-wiki-20210520-spm-finetune-qa\")\n",
    "\n",
    "#mbert\n",
    "# tokenizer_mbert = AutoTokenizer.from_pretrained(\"cstorm125/bert-base-multilingual-cased-finetune-qa\")\n",
    "# model_mbert = AutoModelForQuestionAnswering.from_pretrained(\"cstorm125/bert-base-multilingual-cased-finetune-qa\")\n",
    "\n",
    "#xlm\n",
    "tokenizer_xlm = AutoTokenizer.from_pretrained(\"cstorm125/xlm-roberta-base-finetune-qa\")\n",
    "model_xlm = AutoModelForQuestionAnswering.from_pretrained(\"cstorm125/xlm-roberta-base-finetune-qa\")"
   ]
  },
  {
   "cell_type": "markdown",
   "id": "specific-swiss",
   "metadata": {},
   "source": [
    "## Compare Final Results"
   ]
  },
  {
   "cell_type": "code",
   "execution_count": 8,
   "id": "coastal-thesaurus",
   "metadata": {},
   "outputs": [],
   "source": [
    "from pythainlp.tokenize import word_tokenize, syllable_tokenize\n",
    "def character_tokenize(word): return [i for i in word]\n",
    "\n",
    "def compare_final_results(tokenizer, \n",
    "                          model, \n",
    "                          datasets,\n",
    "                          tok_func=word_tokenize,\n",
    "                          n_best_size=20,\n",
    "                          max_answer_length=100,\n",
    "                          allow_no_answer=False,\n",
    "                          max_length=416,):\n",
    "    \n",
    "    test_features = datasets.map(\n",
    "        lambda x: prepare_qa_validation_features(x, tokenizer),\n",
    "        batched=True,\n",
    "        remove_columns=datasets.column_names\n",
    "    )\n",
    "    trainer = Trainer(\n",
    "        model=model,\n",
    "        tokenizer=tokenizer,\n",
    "    )\n",
    "    \n",
    "    metrics, formatted_predictions, references = question_answering_metrics(datasets = datasets,\n",
    "                                                                            trainer=trainer,\n",
    "                                                                            metric=squad_newmm_metric,\n",
    "                                                                            tok_func=tok_func,\n",
    "                                                                            n_best_size=n_best_size,\n",
    "                                                                            max_answer_length=max_answer_length,\n",
    "                                                                            allow_no_answer=allow_no_answer,\n",
    "                                                                            question_col='question',\n",
    "                                                                            context_col='context',\n",
    "                                                                            question_id_col='question_id',\n",
    "                                                                            answers_col='answers',\n",
    "                                                                            text_col='text',\n",
    "                                                                            start_col='answer_start',\n",
    "                                                                            pad_on_right=True,\n",
    "                                                                            max_length=max_length,\n",
    "                                                                            doc_stride=128)\n",
    "\n",
    "    pred = pd.DataFrame(formatted_predictions)\n",
    "    ref = pd.DataFrame(references)\n",
    "    ref['answer_text'] = ref.answers.map(lambda x: x['text'][0])\n",
    "    question_df = pd.DataFrame(datasets)[['question_id','context','question']]\n",
    "    question_df.columns = ['id','context','question']\n",
    "\n",
    "    compare = ref[['id','answer_text']].merge(pred).merge(question_df)\n",
    "    compare['exact_match'] = compare.answer_text==compare.prediction_text\n",
    "    compare['f1'] = [squad_newmm_metric.compute(predictions=[p],references=[r])['f1'] for p,r in zip(formatted_predictions, references)]\n",
    "    compare['partial_ratio'] = compare.apply(lambda row: fuzz.partial_ratio(str(row['answer_text']),\n",
    "                                                                            str(row['prediction_text'])),1)\n",
    "\n",
    "    # compare.sort_values('f1')[['question','answer_text','prediction_text','f1']]\n",
    "    return compare, metrics"
   ]
  },
  {
   "cell_type": "code",
   "execution_count": 9,
   "id": "religious-neighborhood",
   "metadata": {},
   "outputs": [
    {
     "data": {
      "application/vnd.jupyter.widget-view+json": {
       "model_id": "7f0409705dec4467ba123022aabac7d4",
       "version_major": 2,
       "version_minor": 0
      },
      "text/plain": [
       "HBox(children=(FloatProgress(value=0.0, max=1.0), HTML(value='')))"
      ]
     },
     "metadata": {},
     "output_type": "display_data"
    },
    {
     "name": "stdout",
     "output_type": "stream",
     "text": [
      "\n"
     ]
    },
    {
     "name": "stderr",
     "output_type": "stream",
     "text": [
      "/Users/saiko/opt/miniconda3/envs/saiko/lib/python3.7/site-packages/torch/storage.py:34: FutureWarning: pickle support for Storage will be removed in 1.5. Use `torch.save` instead\n",
      "  warnings.warn(\"pickle support for Storage will be removed in 1.5. Use `torch.save` instead\", FutureWarning)\n"
     ]
    },
    {
     "data": {
      "application/vnd.jupyter.widget-view+json": {
       "model_id": "4c6522c599604be1968e290f1450c4c9",
       "version_major": 2,
       "version_minor": 0
      },
      "text/plain": [
       "HBox(children=(FloatProgress(value=0.0, max=1.0), HTML(value='')))"
      ]
     },
     "metadata": {},
     "output_type": "display_data"
    },
    {
     "name": "stderr",
     "output_type": "stream",
     "text": [
      "The following columns in the test set  don't have a corresponding argument in `CamembertForQuestionAnswering.forward` and have been ignored: offset_mapping, example_id.\n",
      "***** Running Prediction *****\n",
      "  Num examples = 863\n",
      "  Batch size = 8\n"
     ]
    },
    {
     "name": "stdout",
     "output_type": "stream",
     "text": [
      "\n"
     ]
    },
    {
     "data": {
      "text/html": [
       "\n",
       "    <div>\n",
       "      \n",
       "      <progress value='108' max='108' style='width:300px; height:20px; vertical-align: middle;'></progress>\n",
       "      [108/108 05:51]\n",
       "    </div>\n",
       "    "
      ],
      "text/plain": [
       "<IPython.core.display.HTML object>"
      ]
     },
     "metadata": {},
     "output_type": "display_data"
    },
    {
     "data": {
      "application/vnd.jupyter.widget-view+json": {
       "model_id": "499f6072f2bb4ee0aff54d1781fb7f0a",
       "version_major": 2,
       "version_minor": 0
      },
      "text/plain": [
       "HBox(children=(FloatProgress(value=0.0, max=739.0), HTML(value='')))"
      ]
     },
     "metadata": {},
     "output_type": "display_data"
    },
    {
     "name": "stdout",
     "output_type": "stream",
     "text": [
      "\n"
     ]
    },
    {
     "data": {
      "application/vnd.jupyter.widget-view+json": {
       "model_id": "57e75d0107db46caa37bcee5b89b52ba",
       "version_major": 2,
       "version_minor": 0
      },
      "text/plain": [
       "HBox(children=(FloatProgress(value=0.0, max=1.0), HTML(value='')))"
      ]
     },
     "metadata": {},
     "output_type": "display_data"
    },
    {
     "name": "stderr",
     "output_type": "stream",
     "text": [
      "No `TrainingArguments` passed, using `output_dir=tmp_trainer`.\n",
      "PyTorch: setting up devices\n",
      "The default value for the training argument `--report_to` will change in v5 (from all installed integrations to none). In v5, you will need to use `--report_to all` to get the same behavior as now. You should start updating your code and make this info disappear :-).\n"
     ]
    },
    {
     "name": "stdout",
     "output_type": "stream",
     "text": [
      "\n"
     ]
    },
    {
     "data": {
      "application/vnd.jupyter.widget-view+json": {
       "model_id": "e87110a1da5f42e8b6ec9828760f5e89",
       "version_major": 2,
       "version_minor": 0
      },
      "text/plain": [
       "HBox(children=(FloatProgress(value=0.0, max=1.0), HTML(value='')))"
      ]
     },
     "metadata": {},
     "output_type": "display_data"
    },
    {
     "name": "stderr",
     "output_type": "stream",
     "text": [
      "The following columns in the test set  don't have a corresponding argument in `CamembertForQuestionAnswering.forward` and have been ignored: offset_mapping, example_id.\n",
      "***** Running Prediction *****\n",
      "  Num examples = 890\n",
      "  Batch size = 8\n"
     ]
    },
    {
     "name": "stdout",
     "output_type": "stream",
     "text": [
      "\n"
     ]
    },
    {
     "data": {
      "text/html": [
       "\n",
       "    <div>\n",
       "      \n",
       "      <progress value='112' max='112' style='width:300px; height:20px; vertical-align: middle;'></progress>\n",
       "      [112/112 05:03]\n",
       "    </div>\n",
       "    "
      ],
      "text/plain": [
       "<IPython.core.display.HTML object>"
      ]
     },
     "metadata": {},
     "output_type": "display_data"
    },
    {
     "data": {
      "application/vnd.jupyter.widget-view+json": {
       "model_id": "f418cf5edbf048ff939656343e88608a",
       "version_major": 2,
       "version_minor": 0
      },
      "text/plain": [
       "HBox(children=(FloatProgress(value=0.0, max=739.0), HTML(value='')))"
      ]
     },
     "metadata": {},
     "output_type": "display_data"
    },
    {
     "name": "stdout",
     "output_type": "stream",
     "text": [
      "\n"
     ]
    },
    {
     "data": {
      "application/vnd.jupyter.widget-view+json": {
       "model_id": "094f748f61d44b60ae7d92700fed452f",
       "version_major": 2,
       "version_minor": 0
      },
      "text/plain": [
       "HBox(children=(FloatProgress(value=0.0, max=1.0), HTML(value='')))"
      ]
     },
     "metadata": {},
     "output_type": "display_data"
    },
    {
     "name": "stderr",
     "output_type": "stream",
     "text": [
      "No `TrainingArguments` passed, using `output_dir=tmp_trainer`.\n",
      "PyTorch: setting up devices\n",
      "The default value for the training argument `--report_to` will change in v5 (from all installed integrations to none). In v5, you will need to use `--report_to all` to get the same behavior as now. You should start updating your code and make this info disappear :-).\n"
     ]
    },
    {
     "name": "stdout",
     "output_type": "stream",
     "text": [
      "\n"
     ]
    },
    {
     "data": {
      "application/vnd.jupyter.widget-view+json": {
       "model_id": "cfa5188dc45f4b40b5f72362deb9b27f",
       "version_major": 2,
       "version_minor": 0
      },
      "text/plain": [
       "HBox(children=(FloatProgress(value=0.0, max=1.0), HTML(value='')))"
      ]
     },
     "metadata": {},
     "output_type": "display_data"
    },
    {
     "name": "stderr",
     "output_type": "stream",
     "text": [
      "The following columns in the test set  don't have a corresponding argument in `XLMRobertaForQuestionAnswering.forward` and have been ignored: offset_mapping, example_id.\n",
      "***** Running Prediction *****\n",
      "  Num examples = 844\n",
      "  Batch size = 8\n"
     ]
    },
    {
     "name": "stdout",
     "output_type": "stream",
     "text": [
      "\n"
     ]
    },
    {
     "data": {
      "text/html": [
       "\n",
       "    <div>\n",
       "      \n",
       "      <progress value='106' max='106' style='width:300px; height:20px; vertical-align: middle;'></progress>\n",
       "      [106/106 07:10]\n",
       "    </div>\n",
       "    "
      ],
      "text/plain": [
       "<IPython.core.display.HTML object>"
      ]
     },
     "metadata": {},
     "output_type": "display_data"
    },
    {
     "data": {
      "application/vnd.jupyter.widget-view+json": {
       "model_id": "69ee409f448d488796da1effbb3e46c5",
       "version_major": 2,
       "version_minor": 0
      },
      "text/plain": [
       "HBox(children=(FloatProgress(value=0.0, max=739.0), HTML(value='')))"
      ]
     },
     "metadata": {},
     "output_type": "display_data"
    },
    {
     "name": "stdout",
     "output_type": "stream",
     "text": [
      "\n"
     ]
    }
   ],
   "source": [
    "df_wangchan, metrics_wangchan = compare_final_results(tokenizer_wangchan, \n",
    "                                      model_wangchan, \n",
    "                                      datasets_uncased['test'], \n",
    "                                      tok_func=word_tokenize,\n",
    "                                      n_best_size=20,\n",
    "                                      max_answer_length=100,\n",
    "                                      allow_no_answer=False,\n",
    "                                      max_length=416,)\n",
    "\n",
    "df_wcwiki, metrics_wcwiki = compare_final_results(tokenizer_wcwiki, \n",
    "                                      model_wcwiki, \n",
    "                                      datasets_cased['test'], \n",
    "                                      tok_func=word_tokenize,\n",
    "                                      n_best_size=20,\n",
    "                                      max_answer_length=100,\n",
    "                                      allow_no_answer=False,\n",
    "                                      max_length=400,)\n",
    "\n",
    "df_xlm, metrics_xlm = compare_final_results(tokenizer_xlm, \n",
    "                                      model_xlm, \n",
    "                                      datasets_cased['test'], \n",
    "                                      tok_func=word_tokenize,\n",
    "                                      n_best_size=20,\n",
    "                                      max_answer_length=100,\n",
    "                                      allow_no_answer=False,\n",
    "                                      max_length=512,)\n",
    "\n",
    "# df_mbert, metrics_mbert = compare_final_results(tokenizer_mbert, \n",
    "#                                       model_mbert, \n",
    "#                                       datasets_cased['test'], \n",
    "#                                       tok_func=word_tokenize,\n",
    "#                                       n_best_size=20,\n",
    "#                                       max_answer_length=100,\n",
    "#                                       allow_no_answer=False,\n",
    "#                                       max_length=512,)"
   ]
  },
  {
   "cell_type": "markdown",
   "id": "hispanic-creek",
   "metadata": {},
   "source": [
    "### Metrics"
   ]
  },
  {
   "cell_type": "markdown",
   "id": "chronic-terror",
   "metadata": {},
   "source": [
    "The gap most likely comes from the 7% difference in exact matches."
   ]
  },
  {
   "cell_type": "code",
   "execution_count": 10,
   "id": "hybrid-developer",
   "metadata": {},
   "outputs": [
    {
     "data": {
      "text/plain": [
       "({'exact_match': 50.3382949932341, 'f1': 75.13090065035898},\n",
       " {'exact_match': 49.52638700947226, 'f1': 78.46160140010412},\n",
       " {'exact_match': 55.0744248985115, 'f1': 79.9072559859855})"
      ]
     },
     "execution_count": 10,
     "metadata": {},
     "output_type": "execute_result"
    }
   ],
   "source": [
    "#final metrics; our exact match has a problem\n",
    "metrics_wangchan, metrics_wcwiki, metrics_xlm# , metrics_mbert"
   ]
  },
  {
   "cell_type": "markdown",
   "id": "pediatric-letter",
   "metadata": {},
   "source": [
    "### Deep Dive `wangchanberta` vs `xlmr`"
   ]
  },
  {
   "cell_type": "code",
   "execution_count": 11,
   "id": "turkish-committee",
   "metadata": {},
   "outputs": [
    {
     "data": {
      "text/html": [
       "<div>\n",
       "<style scoped>\n",
       "    .dataframe tbody tr th:only-of-type {\n",
       "        vertical-align: middle;\n",
       "    }\n",
       "\n",
       "    .dataframe tbody tr th {\n",
       "        vertical-align: top;\n",
       "    }\n",
       "\n",
       "    .dataframe thead th {\n",
       "        text-align: right;\n",
       "    }\n",
       "</style>\n",
       "<table border=\"1\" class=\"dataframe\">\n",
       "  <thead>\n",
       "    <tr style=\"text-align: right;\">\n",
       "      <th></th>\n",
       "      <th>id</th>\n",
       "      <th>question</th>\n",
       "      <th>answer_text</th>\n",
       "      <th>prediction_text_wangchan</th>\n",
       "      <th>f1_wangchan</th>\n",
       "      <th>partial_ratio_wangchan</th>\n",
       "      <th>prediction_text_xlm</th>\n",
       "      <th>f1_xlm</th>\n",
       "      <th>partial_ratio_xlm</th>\n",
       "    </tr>\n",
       "  </thead>\n",
       "  <tbody>\n",
       "    <tr>\n",
       "      <th>0</th>\n",
       "      <td>0fI5AjC5sb4CrqcHDvrX_000</td>\n",
       "      <td>อันดับย่อยปลานกขุนทอง เป็นอันดับย่อยของปลาอะไร</td>\n",
       "      <td>ปลาทะเลกระดูกแข็ง</td>\n",
       "      <td>ปลาทะเลกระดูกแข็ง</td>\n",
       "      <td>100.0</td>\n",
       "      <td>100</td>\n",
       "      <td>ปลาทะเลกระดูกแข็ง</td>\n",
       "      <td>100.0</td>\n",
       "      <td>100</td>\n",
       "    </tr>\n",
       "    <tr>\n",
       "      <th>1</th>\n",
       "      <td>0fI5AjC5sb4CrqcHDvrX_001</td>\n",
       "      <td>อันดับย่อยปลานกขุนทอง อยู่ในอันดับอะไร</td>\n",
       "      <td>อันดับปลากะพง</td>\n",
       "      <td>อันดับปลากะพง</td>\n",
       "      <td>100.0</td>\n",
       "      <td>100</td>\n",
       "      <td>อันดับปลากะพง (Perciformes)</td>\n",
       "      <td>60.0</td>\n",
       "      <td>100</td>\n",
       "    </tr>\n",
       "    <tr>\n",
       "      <th>2</th>\n",
       "      <td>0fI5AjC5sb4CrqcHDvrX_002</td>\n",
       "      <td>อันดับย่อยปลานกขุนทอง มีริมฝีปากอย่างไร</td>\n",
       "      <td>ริมฝีปากหนา</td>\n",
       "      <td>ริมฝีปากหนา</td>\n",
       "      <td>100.0</td>\n",
       "      <td>100</td>\n",
       "      <td>ริมฝีปากหนา</td>\n",
       "      <td>100.0</td>\n",
       "      <td>100</td>\n",
       "    </tr>\n",
       "    <tr>\n",
       "      <th>3</th>\n",
       "      <td>1pHZpClsr7QtLpXE7OsW_001</td>\n",
       "      <td>ปิติพงษ์ กุลดิลก เคยทำอาชีพอะไรมาก่อน</td>\n",
       "      <td>นักกีฬาฟุตบอล</td>\n",
       "      <td>เป็นนักกีฬาฟุตบอล</td>\n",
       "      <td>80.0</td>\n",
       "      <td>100</td>\n",
       "      <td>นักกีฬาฟุตบอล</td>\n",
       "      <td>100.0</td>\n",
       "      <td>100</td>\n",
       "    </tr>\n",
       "    <tr>\n",
       "      <th>4</th>\n",
       "      <td>2AQthY1qATWu7AJozsbR_000</td>\n",
       "      <td>คลีโอพัตราที่ 6 ทรีฟาเอนา เป็นสมเด็จพระราชินี แห่งอาณาจักรใด</td>\n",
       "      <td>อาณาจักรอียิปต์โบราณ</td>\n",
       "      <td>อียิปต์โบราณ</td>\n",
       "      <td>80.0</td>\n",
       "      <td>100</td>\n",
       "      <td>อาณาจักรอียิปต์</td>\n",
       "      <td>80.0</td>\n",
       "      <td>100</td>\n",
       "    </tr>\n",
       "  </tbody>\n",
       "</table>\n",
       "</div>"
      ],
      "text/plain": [
       "                         id  \\\n",
       "0  0fI5AjC5sb4CrqcHDvrX_000   \n",
       "1  0fI5AjC5sb4CrqcHDvrX_001   \n",
       "2  0fI5AjC5sb4CrqcHDvrX_002   \n",
       "3  1pHZpClsr7QtLpXE7OsW_001   \n",
       "4  2AQthY1qATWu7AJozsbR_000   \n",
       "\n",
       "                                                       question  \\\n",
       "0  อันดับย่อยปลานกขุนทอง เป็นอันดับย่อยของปลาอะไร                 \n",
       "1  อันดับย่อยปลานกขุนทอง อยู่ในอันดับอะไร                         \n",
       "2  อันดับย่อยปลานกขุนทอง มีริมฝีปากอย่างไร                        \n",
       "3  ปิติพงษ์ กุลดิลก เคยทำอาชีพอะไรมาก่อน                          \n",
       "4  คลีโอพัตราที่ 6 ทรีฟาเอนา เป็นสมเด็จพระราชินี แห่งอาณาจักรใด   \n",
       "\n",
       "            answer_text prediction_text_wangchan  f1_wangchan  \\\n",
       "0  ปลาทะเลกระดูกแข็ง     ปลาทะเลกระดูกแข็ง        100.0         \n",
       "1  อันดับปลากะพง         อันดับปลากะพง            100.0         \n",
       "2  ริมฝีปากหนา           ริมฝีปากหนา              100.0         \n",
       "3  นักกีฬาฟุตบอล         เป็นนักกีฬาฟุตบอล        80.0          \n",
       "4  อาณาจักรอียิปต์โบราณ  อียิปต์โบราณ             80.0          \n",
       "\n",
       "   partial_ratio_wangchan          prediction_text_xlm  f1_xlm  \\\n",
       "0  100                     ปลาทะเลกระดูกแข็ง            100.0    \n",
       "1  100                     อันดับปลากะพง (Perciformes)  60.0     \n",
       "2  100                     ริมฝีปากหนา                  100.0    \n",
       "3  100                     นักกีฬาฟุตบอล                100.0    \n",
       "4  100                     อาณาจักรอียิปต์              80.0     \n",
       "\n",
       "   partial_ratio_xlm  \n",
       "0  100                \n",
       "1  100                \n",
       "2  100                \n",
       "3  100                \n",
       "4  100                "
      ]
     },
     "execution_count": 11,
     "metadata": {},
     "output_type": "execute_result"
    }
   ],
   "source": [
    "a = df_wangchan[['id','question','answer_text','prediction_text','f1','partial_ratio']]\n",
    "a.columns = ['id','question','answer_text','prediction_text_wangchan','f1_wangchan','partial_ratio_wangchan']\n",
    "b = df_xlm[['id','question','answer_text','prediction_text','f1','partial_ratio']]\n",
    "b.columns = ['id','question','answer_text','prediction_text_xlm','f1_xlm','partial_ratio_xlm']\n",
    "\n",
    "ab = a.merge(b, on=['id','question','answer_text'])\n",
    "ab.head()"
   ]
  },
  {
   "cell_type": "markdown",
   "id": "later-mercy",
   "metadata": {},
   "source": [
    "#### Distribution of F1"
   ]
  },
  {
   "cell_type": "markdown",
   "id": "bizarre-appointment",
   "metadata": {},
   "source": [
    "Confirms our hypothesis that difference lies in exact matches. Furthermore, those mistakes mostly come from totally wrong answers (`f1`=0) and mostly wrong answers (`f1`<50).\n",
    "\n",
    "* yellow = `wangchan`\n",
    "* blue = `xlmr`"
   ]
  },
  {
   "cell_type": "code",
   "execution_count": 12,
   "id": "mysterious-barrel",
   "metadata": {},
   "outputs": [
    {
     "data": {
      "text/plain": [
       "<matplotlib.axes._subplots.AxesSubplot at 0x7fa177974b90>"
      ]
     },
     "execution_count": 12,
     "metadata": {},
     "output_type": "execute_result"
    },
    {
     "data": {
      "image/png": "[encoded data removed]",
      "text/plain": [
       "<Figure size 432x288 with 1 Axes>"
      ]
     },
     "metadata": {
      "needs_background": "light"
     },
     "output_type": "display_data"
    }
   ],
   "source": [
    "ab.f1_xlm.hist(bins=30, alpha=0.5)\n",
    "ab.f1_wangchan.hist(bins=30, alpha=0.5)"
   ]
  },
  {
   "cell_type": "code",
   "execution_count": 13,
   "id": "inner-thomas",
   "metadata": {},
   "outputs": [
    {
     "data": {
      "text/plain": [
       "<matplotlib.axes._subplots.AxesSubplot at 0x7fa1c8b839d0>"
      ]
     },
     "execution_count": 13,
     "metadata": {},
     "output_type": "execute_result"
    },
    {
     "data": {
      "image/png": "[encoded data removed]",
      "text/plain": [
       "<Figure size 432x288 with 1 Axes>"
      ]
     },
     "metadata": {
      "needs_background": "light"
     },
     "output_type": "display_data"
    }
   ],
   "source": [
    "#plot only non-exact matches\n",
    "ab[ab.f1_xlm<100].f1_xlm.hist(bins=30, alpha=0.5)\n",
    "ab[ab.f1_wangchan<100].f1_wangchan.hist(bins=30, alpha=0.5)"
   ]
  },
  {
   "cell_type": "code",
   "execution_count": 14,
   "id": "radio-coalition",
   "metadata": {},
   "outputs": [
    {
     "data": {
      "text/plain": [
       "(30, 0.045871559633027525)"
      ]
     },
     "execution_count": 14,
     "metadata": {},
     "output_type": "execute_result"
    }
   ],
   "source": [
    "#difference in exact matches\n",
    "(ab.f1_xlm==100).sum() - (ab.f1_wangchan==100).sum(), ((ab.f1_xlm==100).sum() - (ab.f1_wangchan==100).sum()) / ab.shape[0]"
   ]
  },
  {
   "cell_type": "code",
   "execution_count": 15,
   "id": "sporting-player",
   "metadata": {},
   "outputs": [
    {
     "data": {
      "text/plain": [
       "(13, 0.019877675840978593)"
      ]
     },
     "execution_count": 15,
     "metadata": {},
     "output_type": "execute_result"
    }
   ],
   "source": [
    "#difference in f1 = 0\n",
    "(ab.f1_wangchan==0).sum() - (ab.f1_xlm==0).sum(), ((ab.f1_wangchan==0).sum() - (ab.f1_xlm==0).sum()) / ab.shape[0]"
   ]
  },
  {
   "cell_type": "code",
   "execution_count": 16,
   "id": "rising-syracuse",
   "metadata": {},
   "outputs": [
    {
     "data": {
      "text/plain": [
       "(41, 0.06269113149847094)"
      ]
     },
     "execution_count": 16,
     "metadata": {},
     "output_type": "execute_result"
    }
   ],
   "source": [
    "#difference in f1 < 50\n",
    "(ab.f1_wangchan<50).sum() - (ab.f1_xlm<50).sum(), ((ab.f1_wangchan<50).sum() - (ab.f1_xlm<50).sum()) / ab.shape[0]"
   ]
  },
  {
   "cell_type": "markdown",
   "id": "greatest-batch",
   "metadata": {},
   "source": [
    "#### Token-level F1 vs Fuzziness"
   ]
  },
  {
   "cell_type": "markdown",
   "id": "digital-mobility",
   "metadata": {},
   "source": [
    "Similar patterns suggest we might have same relative performance despite token-level (word, syllable, character) but we will try anyways."
   ]
  },
  {
   "cell_type": "code",
   "execution_count": 17,
   "id": "played-japan",
   "metadata": {},
   "outputs": [
    {
     "data": {
      "text/plain": [
       "<matplotlib.collections.PathCollection at 0x7fa1778f5fd0>"
      ]
     },
     "execution_count": 17,
     "metadata": {},
     "output_type": "execute_result"
    },
    {
     "data": {
      "image/png": "[encoded data removed]",
      "text/plain": [
       "<Figure size 432x288 with 1 Axes>"
      ]
     },
     "metadata": {
      "needs_background": "light"
     },
     "output_type": "display_data"
    }
   ],
   "source": [
    "plt.scatter(df_wangchan.f1, df_wangchan.partial_ratio)"
   ]
  },
  {
   "cell_type": "code",
   "execution_count": 18,
   "id": "narrative-vertical",
   "metadata": {},
   "outputs": [
    {
     "data": {
      "text/plain": [
       "<matplotlib.collections.PathCollection at 0x7fa1c90f1b10>"
      ]
     },
     "execution_count": 18,
     "metadata": {},
     "output_type": "execute_result"
    },
    {
     "data": {
      "image/png": "[encoded data removed]",
      "text/plain": [
       "<Figure size 432x288 with 1 Axes>"
      ]
     },
     "metadata": {
      "needs_background": "light"
     },
     "output_type": "display_data"
    }
   ],
   "source": [
    "plt.scatter(df_xlm.f1, df_xlm.partial_ratio)"
   ]
  },
  {
   "cell_type": "markdown",
   "id": "colored-enzyme",
   "metadata": {},
   "source": [
    "#### Contexts with sub-50 F1"
   ]
  },
  {
   "cell_type": "code",
   "execution_count": 19,
   "id": "renewable-marriage",
   "metadata": {},
   "outputs": [
    {
     "data": {
      "text/html": [
       "<div>\n",
       "<style scoped>\n",
       "    .dataframe tbody tr th:only-of-type {\n",
       "        vertical-align: middle;\n",
       "    }\n",
       "\n",
       "    .dataframe tbody tr th {\n",
       "        vertical-align: top;\n",
       "    }\n",
       "\n",
       "    .dataframe thead th {\n",
       "        text-align: right;\n",
       "    }\n",
       "</style>\n",
       "<table border=\"1\" class=\"dataframe\">\n",
       "  <thead>\n",
       "    <tr style=\"text-align: right;\">\n",
       "      <th></th>\n",
       "      <th>index</th>\n",
       "      <th>context</th>\n",
       "    </tr>\n",
       "  </thead>\n",
       "  <tbody>\n",
       "    <tr>\n",
       "      <th>0</th>\n",
       "      <td>แอนนาเบลล์ (อังกฤษ: annabelle) เป็นตุ๊กตาผ้ารูปเรก</td>\n",
       "      <td>5</td>\n",
       "    </tr>\n",
       "    <tr>\n",
       "      <th>1</th>\n",
       "      <td>ในคริสต์ศตวรรษที่ 19 ชาติมหาอำนาจยุโรปประสบปัญหากั</td>\n",
       "      <td>4</td>\n",
       "    </tr>\n",
       "    <tr>\n",
       "      <th>2</th>\n",
       "      <td>องค์การสุรา กรมสรรพสามิต (อังกฤษ: the liquor disti</td>\n",
       "      <td>4</td>\n",
       "    </tr>\n",
       "    <tr>\n",
       "      <th>3</th>\n",
       "      <td>การยุบสภาผู้แทนราษฎรไทย คือ การทำให้ความเป็นสมาชิก</td>\n",
       "      <td>3</td>\n",
       "    </tr>\n",
       "    <tr>\n",
       "      <th>4</th>\n",
       "      <td>การทำให้เป็นอาณานิคมของยุโรปในทวีปอเมริกา เกิดจากย</td>\n",
       "      <td>3</td>\n",
       "    </tr>\n",
       "    <tr>\n",
       "      <th>5</th>\n",
       "      <td>พังโคน เป็นอำเภอที่ตั้งอยู่เกือบกึ่งกลางจังหวัดสกล</td>\n",
       "      <td>3</td>\n",
       "    </tr>\n",
       "    <tr>\n",
       "      <th>6</th>\n",
       "      <td>หนึ่ง-เก้า-แปด-สี่ (อังกฤษ: nineteen eighty-four)</td>\n",
       "      <td>3</td>\n",
       "    </tr>\n",
       "    <tr>\n",
       "      <th>7</th>\n",
       "      <td>อุโมงค์ฐานก็อทฮาร์ท (เยอรมัน: gotthard-basistunnel</td>\n",
       "      <td>3</td>\n",
       "    </tr>\n",
       "    <tr>\n",
       "      <th>8</th>\n",
       "      <td>จอรัลด์ \"เกอร์รี\" โจเซฟ เพย์ตัน (ไอริช: gerald \"ge</td>\n",
       "      <td>3</td>\n",
       "    </tr>\n",
       "    <tr>\n",
       "      <th>9</th>\n",
       "      <td>เกิดเมื่อวันที่ 10 มีนาคม ค.ศ. 1924 (ตรงกับ พ.ศ. 2</td>\n",
       "      <td>3</td>\n",
       "    </tr>\n",
       "    <tr>\n",
       "      <th>10</th>\n",
       "      <td>เบอร์เซิร์ก (ญี่ปุ่น: ベルセルク โรมาจิ: beruseruku; อั</td>\n",
       "      <td>3</td>\n",
       "    </tr>\n",
       "    <tr>\n",
       "      <th>11</th>\n",
       "      <td>วิวัฒน์ มิลินทจินดา (พ.ศ. 2466 – พ.ศ. 2546) เป็นนั</td>\n",
       "      <td>3</td>\n",
       "    </tr>\n",
       "    <tr>\n",
       "      <th>12</th>\n",
       "      <td>ก้าวสู่ฝันวันหัวใจพบรัก (อังกฤษ: a walk to remembe</td>\n",
       "      <td>3</td>\n",
       "    </tr>\n",
       "    <tr>\n",
       "      <th>13</th>\n",
       "      <td>ทีนา เทอร์เนอร์ (อังกฤษ: tina turner)หรือชื่อจริง</td>\n",
       "      <td>2</td>\n",
       "    </tr>\n",
       "    <tr>\n",
       "      <th>14</th>\n",
       "      <td>มโพฟูขึ้นชกมวยสากลครั้งแรกเมื่อ 29 มีนาคม พ.ศ. 254</td>\n",
       "      <td>2</td>\n",
       "    </tr>\n",
       "    <tr>\n",
       "      <th>15</th>\n",
       "      <td>แม่มด หมายถึง หมอเวทมนตร์หรือหมอผี ถ้าเป็นชายเรียก</td>\n",
       "      <td>2</td>\n",
       "    </tr>\n",
       "    <tr>\n",
       "      <th>16</th>\n",
       "      <td>จังหวัด เป็นเขตบริหารราชการส่วนภูมิภาคของประเทศไทย</td>\n",
       "      <td>2</td>\n",
       "    </tr>\n",
       "    <tr>\n",
       "      <th>17</th>\n",
       "      <td>โกปาเดลเรย์ รอบชิงชนะเลิศปี 2017 เป็นการแข่งขันฟุต</td>\n",
       "      <td>2</td>\n",
       "    </tr>\n",
       "    <tr>\n",
       "      <th>18</th>\n",
       "      <td>พีแคน (อังกฤษ: pecan; ชื่อวิทยาศาสตร์: carya illin</td>\n",
       "      <td>2</td>\n",
       "    </tr>\n",
       "    <tr>\n",
       "      <th>19</th>\n",
       "      <td>เฮอโรโดทัส (herodotos หรือ herodotus – ประมาณ พ.ศ.</td>\n",
       "      <td>2</td>\n",
       "    </tr>\n",
       "    <tr>\n",
       "      <th>20</th>\n",
       "      <td>เขตปริมณฑลและเมืองหลวงแห่งชาติโซล (เอสเอ็นซีเอ) เป</td>\n",
       "      <td>2</td>\n",
       "    </tr>\n",
       "    <tr>\n",
       "      <th>21</th>\n",
       "      <td>เส้นทางสายไหม (อังกฤษ: silk road หรือ silk route)</td>\n",
       "      <td>2</td>\n",
       "    </tr>\n",
       "    <tr>\n",
       "      <th>22</th>\n",
       "      <td>พระพุทธมณีรัตนปฏิมากร เป็นพระพุทธรูปที่สร้างขึ้นใน</td>\n",
       "      <td>2</td>\n",
       "    </tr>\n",
       "    <tr>\n",
       "      <th>23</th>\n",
       "      <td>วู้ดดี้ เวิลด์ เป็นบริษัทผลิตรายการโทรทัศน์ไทย โดย</td>\n",
       "      <td>2</td>\n",
       "    </tr>\n",
       "    <tr>\n",
       "      <th>24</th>\n",
       "      <td>ชุมตาบง เป็นอำเภอหนึ่งของจังหวัดนครสวรรค์\\n\\nอำเภอชุ</td>\n",
       "      <td>2</td>\n",
       "    </tr>\n",
       "    <tr>\n",
       "      <th>25</th>\n",
       "      <td>ปลาใบขนุน หรือที่นิยมเรียกและรู้จักกันในชื่อภาษาแต</td>\n",
       "      <td>2</td>\n",
       "    </tr>\n",
       "    <tr>\n",
       "      <th>26</th>\n",
       "      <td>แผ่นดินไหวในโพฮัง พ.ศ. 2560 เป็นแผ่นดินไหวที่มีขนา</td>\n",
       "      <td>2</td>\n",
       "    </tr>\n",
       "    <tr>\n",
       "      <th>27</th>\n",
       "      <td>ศึก ดีซีพี เวิลด์ มวยไทยซุปเปอร์ไฟท์ เป็นรายการโทร</td>\n",
       "      <td>2</td>\n",
       "    </tr>\n",
       "    <tr>\n",
       "      <th>28</th>\n",
       "      <td>ปลากะพงข้างปาน (อังกฤษ: russell's snapper, moses p</td>\n",
       "      <td>2</td>\n",
       "    </tr>\n",
       "    <tr>\n",
       "      <th>29</th>\n",
       "      <td>ชดช้อย ใหม่เมืองคอนหรือนักมวยไทยชื่อดัง ชดช้อย ชูโ</td>\n",
       "      <td>2</td>\n",
       "    </tr>\n",
       "    <tr>\n",
       "      <th>30</th>\n",
       "      <td>กิ่งจังหวัดฮิดากะ (ญี่ปุ่น: 日高振興局 โรมาจิ: hidaka-s</td>\n",
       "      <td>2</td>\n",
       "    </tr>\n",
       "    <tr>\n",
       "      <th>31</th>\n",
       "      <td>ชาวเบงกอล (เบงกอล: বাঙালি; อังกฤษ: bengali, bangal</td>\n",
       "      <td>2</td>\n",
       "    </tr>\n",
       "    <tr>\n",
       "      <th>32</th>\n",
       "      <td>กีฬาสกีลงเขาในโอลิมปิกฤดูหนาว 2018 เป็นการแข่งขันก</td>\n",
       "      <td>2</td>\n",
       "    </tr>\n",
       "  </tbody>\n",
       "</table>\n",
       "</div>"
      ],
      "text/plain": [
       "                                                   index  context\n",
       "0   แอนนาเบลล์ (อังกฤษ: annabelle) เป็นตุ๊กตาผ้ารูปเรก    5      \n",
       "1   ในคริสต์ศตวรรษที่ 19 ชาติมหาอำนาจยุโรปประสบปัญหากั    4      \n",
       "2   องค์การสุรา กรมสรรพสามิต (อังกฤษ: the liquor disti    4      \n",
       "3   การยุบสภาผู้แทนราษฎรไทย คือ การทำให้ความเป็นสมาชิก    3      \n",
       "4   การทำให้เป็นอาณานิคมของยุโรปในทวีปอเมริกา เกิดจากย    3      \n",
       "5   พังโคน เป็นอำเภอที่ตั้งอยู่เกือบกึ่งกลางจังหวัดสกล    3      \n",
       "6   หนึ่ง-เก้า-แปด-สี่ (อังกฤษ: nineteen eighty-four)     3      \n",
       "7   อุโมงค์ฐานก็อทฮาร์ท (เยอรมัน: gotthard-basistunnel    3      \n",
       "8   จอรัลด์ \"เกอร์รี\" โจเซฟ เพย์ตัน (ไอริช: gerald \"ge    3      \n",
       "9   เกิดเมื่อวันที่ 10 มีนาคม ค.ศ. 1924 (ตรงกับ พ.ศ. 2    3      \n",
       "10  เบอร์เซิร์ก (ญี่ปุ่น: ベルセルク โรมาจิ: beruseruku; อั    3      \n",
       "11  วิวัฒน์ มิลินทจินดา (พ.ศ. 2466 – พ.ศ. 2546) เป็นนั    3      \n",
       "12  ก้าวสู่ฝันวันหัวใจพบรัก (อังกฤษ: a walk to remembe    3      \n",
       "13  ทีนา เทอร์เนอร์ (อังกฤษ: tina turner)หรือชื่อจริง     2      \n",
       "14  มโพฟูขึ้นชกมวยสากลครั้งแรกเมื่อ 29 มีนาคม พ.ศ. 254    2      \n",
       "15  แม่มด หมายถึง หมอเวทมนตร์หรือหมอผี ถ้าเป็นชายเรียก    2      \n",
       "16  จังหวัด เป็นเขตบริหารราชการส่วนภูมิภาคของประเทศไทย    2      \n",
       "17  โกปาเดลเรย์ รอบชิงชนะเลิศปี 2017 เป็นการแข่งขันฟุต    2      \n",
       "18  พีแคน (อังกฤษ: pecan; ชื่อวิทยาศาสตร์: carya illin    2      \n",
       "19  เฮอโรโดทัส (herodotos หรือ herodotus – ประมาณ พ.ศ.    2      \n",
       "20  เขตปริมณฑลและเมืองหลวงแห่งชาติโซล (เอสเอ็นซีเอ) เป    2      \n",
       "21  เส้นทางสายไหม (อังกฤษ: silk road หรือ silk route)     2      \n",
       "22  พระพุทธมณีรัตนปฏิมากร เป็นพระพุทธรูปที่สร้างขึ้นใน    2      \n",
       "23  วู้ดดี้ เวิลด์ เป็นบริษัทผลิตรายการโทรทัศน์ไทย โดย    2      \n",
       "24  ชุมตาบง เป็นอำเภอหนึ่งของจังหวัดนครสวรรค์\\n\\nอำเภอชุ  2      \n",
       "25  ปลาใบขนุน หรือที่นิยมเรียกและรู้จักกันในชื่อภาษาแต    2      \n",
       "26  แผ่นดินไหวในโพฮัง พ.ศ. 2560 เป็นแผ่นดินไหวที่มีขนา    2      \n",
       "27  ศึก ดีซีพี เวิลด์ มวยไทยซุปเปอร์ไฟท์ เป็นรายการโทร    2      \n",
       "28  ปลากะพงข้างปาน (อังกฤษ: russell's snapper, moses p    2      \n",
       "29  ชดช้อย ใหม่เมืองคอนหรือนักมวยไทยชื่อดัง ชดช้อย ชูโ    2      \n",
       "30  กิ่งจังหวัดฮิดากะ (ญี่ปุ่น: 日高振興局 โรมาจิ: hidaka-s    2      \n",
       "31  ชาวเบงกอล (เบงกอล: বাঙালি; อังกฤษ: bengali, bangal    2      \n",
       "32  กีฬาสกีลงเขาในโอลิมปิกฤดูหนาว 2018 เป็นการแข่งขันก    2      "
      ]
     },
     "execution_count": 19,
     "metadata": {},
     "output_type": "execute_result"
    }
   ],
   "source": [
    "wangchan_low =  df_wangchan[df_wangchan.f1<50].context.map(lambda x: x[:50]).value_counts().reset_index()\n",
    "wangchan_low = wangchan_low[wangchan_low.context>1].reset_index(drop=True)\n",
    "wangchan_low"
   ]
  },
  {
   "cell_type": "code",
   "execution_count": 20,
   "id": "minimal-storage",
   "metadata": {},
   "outputs": [
    {
     "data": {
      "text/html": [
       "<div>\n",
       "<style scoped>\n",
       "    .dataframe tbody tr th:only-of-type {\n",
       "        vertical-align: middle;\n",
       "    }\n",
       "\n",
       "    .dataframe tbody tr th {\n",
       "        vertical-align: top;\n",
       "    }\n",
       "\n",
       "    .dataframe thead th {\n",
       "        text-align: right;\n",
       "    }\n",
       "</style>\n",
       "<table border=\"1\" class=\"dataframe\">\n",
       "  <thead>\n",
       "    <tr style=\"text-align: right;\">\n",
       "      <th></th>\n",
       "      <th>index</th>\n",
       "      <th>context</th>\n",
       "    </tr>\n",
       "  </thead>\n",
       "  <tbody>\n",
       "    <tr>\n",
       "      <th>0</th>\n",
       "      <td>เบอร์เซิร์ก (ญี่ปุ่น: ベルセルク โรมาจิ: Beruseruku; อั</td>\n",
       "      <td>3</td>\n",
       "    </tr>\n",
       "    <tr>\n",
       "      <th>1</th>\n",
       "      <td>เส้นทางสายไหม (อังกฤษ: Silk Road หรือ Silk Route)</td>\n",
       "      <td>3</td>\n",
       "    </tr>\n",
       "    <tr>\n",
       "      <th>2</th>\n",
       "      <td>แอนนาเบลล์ (อังกฤษ: Annabelle) เป็นตุ๊กตาผ้ารูปเรก</td>\n",
       "      <td>3</td>\n",
       "    </tr>\n",
       "    <tr>\n",
       "      <th>3</th>\n",
       "      <td>องค์การสุรา กรมสรรพสามิต (อังกฤษ: The Liquor Disti</td>\n",
       "      <td>3</td>\n",
       "    </tr>\n",
       "    <tr>\n",
       "      <th>4</th>\n",
       "      <td>เศวตัมพร หรือ เศวตามพร (สันสกฤต: श्वेतांबर สะ เหฺว</td>\n",
       "      <td>3</td>\n",
       "    </tr>\n",
       "    <tr>\n",
       "      <th>5</th>\n",
       "      <td>หนึ่ง-เก้า-แปด-สี่ (อังกฤษ: Nineteen Eighty-Four)</td>\n",
       "      <td>3</td>\n",
       "    </tr>\n",
       "    <tr>\n",
       "      <th>6</th>\n",
       "      <td>ปลาใบขนุน หรือที่นิยมเรียกและรู้จักกันในชื่อภาษาแต</td>\n",
       "      <td>2</td>\n",
       "    </tr>\n",
       "    <tr>\n",
       "      <th>7</th>\n",
       "      <td>มโพฟูขึ้นชกมวยสากลครั้งแรกเมื่อ 29 มีนาคม พ.ศ. 254</td>\n",
       "      <td>2</td>\n",
       "    </tr>\n",
       "    <tr>\n",
       "      <th>8</th>\n",
       "      <td>อุโมงค์ฐานก็อทฮาร์ท (เยอรมัน: Gotthard-Basistunnel</td>\n",
       "      <td>2</td>\n",
       "    </tr>\n",
       "    <tr>\n",
       "      <th>9</th>\n",
       "      <td>โกปาเดลเรย์ รอบชิงชนะเลิศปี 2017 เป็นการแข่งขันฟุต</td>\n",
       "      <td>2</td>\n",
       "    </tr>\n",
       "    <tr>\n",
       "      <th>10</th>\n",
       "      <td>ชาวเบงกอล (เบงกอล: বাঙালি; อังกฤษ: Bengali, Bangal</td>\n",
       "      <td>2</td>\n",
       "    </tr>\n",
       "    <tr>\n",
       "      <th>11</th>\n",
       "      <td>ชุมตาบง เป็นอำเภอหนึ่งของจังหวัดนครสวรรค์\\n\\nอำเภอชุ</td>\n",
       "      <td>2</td>\n",
       "    </tr>\n",
       "    <tr>\n",
       "      <th>12</th>\n",
       "      <td>จอรัลด์ \"เกอร์รี\" โจเซฟ เพย์ตัน (ไอริช: Gerald \"Ge</td>\n",
       "      <td>2</td>\n",
       "    </tr>\n",
       "    <tr>\n",
       "      <th>13</th>\n",
       "      <td>\"กีฬาจักรยาน\" ในการแข่งขันกีฬาแห่งชาติ ครั้งที่ 42</td>\n",
       "      <td>2</td>\n",
       "    </tr>\n",
       "    <tr>\n",
       "      <th>14</th>\n",
       "      <td>เกิดเมื่อวันที่ 10 มีนาคม ค.ศ. 1924 (ตรงกับ พ.ศ. 2</td>\n",
       "      <td>2</td>\n",
       "    </tr>\n",
       "    <tr>\n",
       "      <th>15</th>\n",
       "      <td>องค์การบริหารส่วนตำบลกุดเพียขอม เป็นองค์กรปกครองส่</td>\n",
       "      <td>2</td>\n",
       "    </tr>\n",
       "    <tr>\n",
       "      <th>16</th>\n",
       "      <td>วู้ดดี้ เวิลด์ เป็นบริษัทผลิตรายการโทรทัศน์ไทย โดย</td>\n",
       "      <td>2</td>\n",
       "    </tr>\n",
       "    <tr>\n",
       "      <th>17</th>\n",
       "      <td>กิ่งจังหวัดฮิดากะ (ญี่ปุ่น: 日高振興局 โรมาจิ: Hidaka-s</td>\n",
       "      <td>2</td>\n",
       "    </tr>\n",
       "  </tbody>\n",
       "</table>\n",
       "</div>"
      ],
      "text/plain": [
       "                                                   index  context\n",
       "0   เบอร์เซิร์ก (ญี่ปุ่น: ベルセルク โรมาจิ: Beruseruku; อั    3      \n",
       "1   เส้นทางสายไหม (อังกฤษ: Silk Road หรือ Silk Route)     3      \n",
       "2   แอนนาเบลล์ (อังกฤษ: Annabelle) เป็นตุ๊กตาผ้ารูปเรก    3      \n",
       "3   องค์การสุรา กรมสรรพสามิต (อังกฤษ: The Liquor Disti    3      \n",
       "4   เศวตัมพร หรือ เศวตามพร (สันสกฤต: श्वेतांबर สะ เหฺว    3      \n",
       "5   หนึ่ง-เก้า-แปด-สี่ (อังกฤษ: Nineteen Eighty-Four)     3      \n",
       "6   ปลาใบขนุน หรือที่นิยมเรียกและรู้จักกันในชื่อภาษาแต    2      \n",
       "7   มโพฟูขึ้นชกมวยสากลครั้งแรกเมื่อ 29 มีนาคม พ.ศ. 254    2      \n",
       "8   อุโมงค์ฐานก็อทฮาร์ท (เยอรมัน: Gotthard-Basistunnel    2      \n",
       "9   โกปาเดลเรย์ รอบชิงชนะเลิศปี 2017 เป็นการแข่งขันฟุต    2      \n",
       "10  ชาวเบงกอล (เบงกอล: বাঙালি; อังกฤษ: Bengali, Bangal    2      \n",
       "11  ชุมตาบง เป็นอำเภอหนึ่งของจังหวัดนครสวรรค์\\n\\nอำเภอชุ  2      \n",
       "12  จอรัลด์ \"เกอร์รี\" โจเซฟ เพย์ตัน (ไอริช: Gerald \"Ge    2      \n",
       "13  \"กีฬาจักรยาน\" ในการแข่งขันกีฬาแห่งชาติ ครั้งที่ 42    2      \n",
       "14  เกิดเมื่อวันที่ 10 มีนาคม ค.ศ. 1924 (ตรงกับ พ.ศ. 2    2      \n",
       "15  องค์การบริหารส่วนตำบลกุดเพียขอม เป็นองค์กรปกครองส่    2      \n",
       "16  วู้ดดี้ เวิลด์ เป็นบริษัทผลิตรายการโทรทัศน์ไทย โดย    2      \n",
       "17  กิ่งจังหวัดฮิดากะ (ญี่ปุ่น: 日高振興局 โรมาจิ: Hidaka-s    2      "
      ]
     },
     "execution_count": 20,
     "metadata": {},
     "output_type": "execute_result"
    }
   ],
   "source": [
    "xlm_low =  df_xlm[df_xlm.f1<50].context.map(lambda x: x[:50]).value_counts().reset_index()\n",
    "xlm_low = xlm_low[xlm_low.context>1].reset_index(drop=True)\n",
    "xlm_low"
   ]
  },
  {
   "cell_type": "markdown",
   "id": "reliable-header",
   "metadata": {},
   "source": [
    "We can confirm this is not because of translation since `wangchanberta` also underperforms in Thai-only contexts."
   ]
  },
  {
   "cell_type": "code",
   "execution_count": 21,
   "id": "excited-insight",
   "metadata": {},
   "outputs": [
    {
     "data": {
      "text/html": [
       "<div>\n",
       "<style scoped>\n",
       "    .dataframe tbody tr th:only-of-type {\n",
       "        vertical-align: middle;\n",
       "    }\n",
       "\n",
       "    .dataframe tbody tr th {\n",
       "        vertical-align: top;\n",
       "    }\n",
       "\n",
       "    .dataframe thead th {\n",
       "        text-align: right;\n",
       "    }\n",
       "</style>\n",
       "<table border=\"1\" class=\"dataframe\">\n",
       "  <thead>\n",
       "    <tr style=\"text-align: right;\">\n",
       "      <th></th>\n",
       "      <th>index</th>\n",
       "      <th>context_x</th>\n",
       "      <th>context_y</th>\n",
       "    </tr>\n",
       "  </thead>\n",
       "  <tbody>\n",
       "    <tr>\n",
       "      <th>0</th>\n",
       "      <td>แอนนาเบลล์ (อังกฤษ: annabelle) เป็นตุ๊กตาผ้ารูปเรก</td>\n",
       "      <td>5</td>\n",
       "      <td>NaN</td>\n",
       "    </tr>\n",
       "    <tr>\n",
       "      <th>1</th>\n",
       "      <td>ในคริสต์ศตวรรษที่ 19 ชาติมหาอำนาจยุโรปประสบปัญหากั</td>\n",
       "      <td>4</td>\n",
       "      <td>NaN</td>\n",
       "    </tr>\n",
       "    <tr>\n",
       "      <th>2</th>\n",
       "      <td>องค์การสุรา กรมสรรพสามิต (อังกฤษ: the liquor disti</td>\n",
       "      <td>4</td>\n",
       "      <td>NaN</td>\n",
       "    </tr>\n",
       "    <tr>\n",
       "      <th>3</th>\n",
       "      <td>การยุบสภาผู้แทนราษฎรไทย คือ การทำให้ความเป็นสมาชิก</td>\n",
       "      <td>3</td>\n",
       "      <td>NaN</td>\n",
       "    </tr>\n",
       "    <tr>\n",
       "      <th>4</th>\n",
       "      <td>การทำให้เป็นอาณานิคมของยุโรปในทวีปอเมริกา เกิดจากย</td>\n",
       "      <td>3</td>\n",
       "      <td>NaN</td>\n",
       "    </tr>\n",
       "    <tr>\n",
       "      <th>5</th>\n",
       "      <td>พังโคน เป็นอำเภอที่ตั้งอยู่เกือบกึ่งกลางจังหวัดสกล</td>\n",
       "      <td>3</td>\n",
       "      <td>NaN</td>\n",
       "    </tr>\n",
       "    <tr>\n",
       "      <th>6</th>\n",
       "      <td>หนึ่ง-เก้า-แปด-สี่ (อังกฤษ: nineteen eighty-four)</td>\n",
       "      <td>3</td>\n",
       "      <td>NaN</td>\n",
       "    </tr>\n",
       "    <tr>\n",
       "      <th>7</th>\n",
       "      <td>อุโมงค์ฐานก็อทฮาร์ท (เยอรมัน: gotthard-basistunnel</td>\n",
       "      <td>3</td>\n",
       "      <td>NaN</td>\n",
       "    </tr>\n",
       "    <tr>\n",
       "      <th>8</th>\n",
       "      <td>จอรัลด์ \"เกอร์รี\" โจเซฟ เพย์ตัน (ไอริช: gerald \"ge</td>\n",
       "      <td>3</td>\n",
       "      <td>NaN</td>\n",
       "    </tr>\n",
       "    <tr>\n",
       "      <th>10</th>\n",
       "      <td>เบอร์เซิร์ก (ญี่ปุ่น: ベルセルク โรมาจิ: beruseruku; อั</td>\n",
       "      <td>3</td>\n",
       "      <td>NaN</td>\n",
       "    </tr>\n",
       "    <tr>\n",
       "      <th>11</th>\n",
       "      <td>วิวัฒน์ มิลินทจินดา (พ.ศ. 2466 – พ.ศ. 2546) เป็นนั</td>\n",
       "      <td>3</td>\n",
       "      <td>NaN</td>\n",
       "    </tr>\n",
       "    <tr>\n",
       "      <th>12</th>\n",
       "      <td>ก้าวสู่ฝันวันหัวใจพบรัก (อังกฤษ: a walk to remembe</td>\n",
       "      <td>3</td>\n",
       "      <td>NaN</td>\n",
       "    </tr>\n",
       "    <tr>\n",
       "      <th>13</th>\n",
       "      <td>ทีนา เทอร์เนอร์ (อังกฤษ: tina turner)หรือชื่อจริง</td>\n",
       "      <td>2</td>\n",
       "      <td>NaN</td>\n",
       "    </tr>\n",
       "    <tr>\n",
       "      <th>15</th>\n",
       "      <td>แม่มด หมายถึง หมอเวทมนตร์หรือหมอผี ถ้าเป็นชายเรียก</td>\n",
       "      <td>2</td>\n",
       "      <td>NaN</td>\n",
       "    </tr>\n",
       "    <tr>\n",
       "      <th>16</th>\n",
       "      <td>จังหวัด เป็นเขตบริหารราชการส่วนภูมิภาคของประเทศไทย</td>\n",
       "      <td>2</td>\n",
       "      <td>NaN</td>\n",
       "    </tr>\n",
       "    <tr>\n",
       "      <th>18</th>\n",
       "      <td>พีแคน (อังกฤษ: pecan; ชื่อวิทยาศาสตร์: carya illin</td>\n",
       "      <td>2</td>\n",
       "      <td>NaN</td>\n",
       "    </tr>\n",
       "    <tr>\n",
       "      <th>19</th>\n",
       "      <td>เฮอโรโดทัส (herodotos หรือ herodotus – ประมาณ พ.ศ.</td>\n",
       "      <td>2</td>\n",
       "      <td>NaN</td>\n",
       "    </tr>\n",
       "    <tr>\n",
       "      <th>20</th>\n",
       "      <td>เขตปริมณฑลและเมืองหลวงแห่งชาติโซล (เอสเอ็นซีเอ) เป</td>\n",
       "      <td>2</td>\n",
       "      <td>NaN</td>\n",
       "    </tr>\n",
       "    <tr>\n",
       "      <th>21</th>\n",
       "      <td>เส้นทางสายไหม (อังกฤษ: silk road หรือ silk route)</td>\n",
       "      <td>2</td>\n",
       "      <td>NaN</td>\n",
       "    </tr>\n",
       "    <tr>\n",
       "      <th>22</th>\n",
       "      <td>พระพุทธมณีรัตนปฏิมากร เป็นพระพุทธรูปที่สร้างขึ้นใน</td>\n",
       "      <td>2</td>\n",
       "      <td>NaN</td>\n",
       "    </tr>\n",
       "    <tr>\n",
       "      <th>26</th>\n",
       "      <td>แผ่นดินไหวในโพฮัง พ.ศ. 2560 เป็นแผ่นดินไหวที่มีขนา</td>\n",
       "      <td>2</td>\n",
       "      <td>NaN</td>\n",
       "    </tr>\n",
       "    <tr>\n",
       "      <th>27</th>\n",
       "      <td>ศึก ดีซีพี เวิลด์ มวยไทยซุปเปอร์ไฟท์ เป็นรายการโทร</td>\n",
       "      <td>2</td>\n",
       "      <td>NaN</td>\n",
       "    </tr>\n",
       "    <tr>\n",
       "      <th>28</th>\n",
       "      <td>ปลากะพงข้างปาน (อังกฤษ: russell's snapper, moses p</td>\n",
       "      <td>2</td>\n",
       "      <td>NaN</td>\n",
       "    </tr>\n",
       "    <tr>\n",
       "      <th>29</th>\n",
       "      <td>ชดช้อย ใหม่เมืองคอนหรือนักมวยไทยชื่อดัง ชดช้อย ชูโ</td>\n",
       "      <td>2</td>\n",
       "      <td>NaN</td>\n",
       "    </tr>\n",
       "    <tr>\n",
       "      <th>30</th>\n",
       "      <td>กิ่งจังหวัดฮิดากะ (ญี่ปุ่น: 日高振興局 โรมาจิ: hidaka-s</td>\n",
       "      <td>2</td>\n",
       "      <td>NaN</td>\n",
       "    </tr>\n",
       "    <tr>\n",
       "      <th>31</th>\n",
       "      <td>ชาวเบงกอล (เบงกอล: বাঙালি; อังกฤษ: bengali, bangal</td>\n",
       "      <td>2</td>\n",
       "      <td>NaN</td>\n",
       "    </tr>\n",
       "    <tr>\n",
       "      <th>32</th>\n",
       "      <td>กีฬาสกีลงเขาในโอลิมปิกฤดูหนาว 2018 เป็นการแข่งขันก</td>\n",
       "      <td>2</td>\n",
       "      <td>NaN</td>\n",
       "    </tr>\n",
       "  </tbody>\n",
       "</table>\n",
       "</div>"
      ],
      "text/plain": [
       "                                                 index  context_x  context_y\n",
       "0   แอนนาเบลล์ (อังกฤษ: annabelle) เป็นตุ๊กตาผ้ารูปเรก  5         NaN       \n",
       "1   ในคริสต์ศตวรรษที่ 19 ชาติมหาอำนาจยุโรปประสบปัญหากั  4         NaN       \n",
       "2   องค์การสุรา กรมสรรพสามิต (อังกฤษ: the liquor disti  4         NaN       \n",
       "3   การยุบสภาผู้แทนราษฎรไทย คือ การทำให้ความเป็นสมาชิก  3         NaN       \n",
       "4   การทำให้เป็นอาณานิคมของยุโรปในทวีปอเมริกา เกิดจากย  3         NaN       \n",
       "5   พังโคน เป็นอำเภอที่ตั้งอยู่เกือบกึ่งกลางจังหวัดสกล  3         NaN       \n",
       "6   หนึ่ง-เก้า-แปด-สี่ (อังกฤษ: nineteen eighty-four)   3         NaN       \n",
       "7   อุโมงค์ฐานก็อทฮาร์ท (เยอรมัน: gotthard-basistunnel  3         NaN       \n",
       "8   จอรัลด์ \"เกอร์รี\" โจเซฟ เพย์ตัน (ไอริช: gerald \"ge  3         NaN       \n",
       "10  เบอร์เซิร์ก (ญี่ปุ่น: ベルセルク โรมาจิ: beruseruku; อั  3         NaN       \n",
       "11  วิวัฒน์ มิลินทจินดา (พ.ศ. 2466 – พ.ศ. 2546) เป็นนั  3         NaN       \n",
       "12  ก้าวสู่ฝันวันหัวใจพบรัก (อังกฤษ: a walk to remembe  3         NaN       \n",
       "13  ทีนา เทอร์เนอร์ (อังกฤษ: tina turner)หรือชื่อจริง   2         NaN       \n",
       "15  แม่มด หมายถึง หมอเวทมนตร์หรือหมอผี ถ้าเป็นชายเรียก  2         NaN       \n",
       "16  จังหวัด เป็นเขตบริหารราชการส่วนภูมิภาคของประเทศไทย  2         NaN       \n",
       "18  พีแคน (อังกฤษ: pecan; ชื่อวิทยาศาสตร์: carya illin  2         NaN       \n",
       "19  เฮอโรโดทัส (herodotos หรือ herodotus – ประมาณ พ.ศ.  2         NaN       \n",
       "20  เขตปริมณฑลและเมืองหลวงแห่งชาติโซล (เอสเอ็นซีเอ) เป  2         NaN       \n",
       "21  เส้นทางสายไหม (อังกฤษ: silk road หรือ silk route)   2         NaN       \n",
       "22  พระพุทธมณีรัตนปฏิมากร เป็นพระพุทธรูปที่สร้างขึ้นใน  2         NaN       \n",
       "26  แผ่นดินไหวในโพฮัง พ.ศ. 2560 เป็นแผ่นดินไหวที่มีขนา  2         NaN       \n",
       "27  ศึก ดีซีพี เวิลด์ มวยไทยซุปเปอร์ไฟท์ เป็นรายการโทร  2         NaN       \n",
       "28  ปลากะพงข้างปาน (อังกฤษ: russell's snapper, moses p  2         NaN       \n",
       "29  ชดช้อย ใหม่เมืองคอนหรือนักมวยไทยชื่อดัง ชดช้อย ชูโ  2         NaN       \n",
       "30  กิ่งจังหวัดฮิดากะ (ญี่ปุ่น: 日高振興局 โรมาจิ: hidaka-s  2         NaN       \n",
       "31  ชาวเบงกอล (เบงกอล: বাঙালি; อังกฤษ: bengali, bangal  2         NaN       \n",
       "32  กีฬาสกีลงเขาในโอลิมปิกฤดูหนาว 2018 เป็นการแข่งขันก  2         NaN       "
      ]
     },
     "execution_count": 21,
     "metadata": {},
     "output_type": "execute_result"
    }
   ],
   "source": [
    "#top wangchan misses vs xlm gets it\n",
    "wx = wangchan_low.merge(xlm_low, how='left', on='index')\n",
    "wx[wx.context_y.isna()]"
   ]
  },
  {
   "cell_type": "code",
   "execution_count": 22,
   "id": "assisted-source",
   "metadata": {},
   "outputs": [
    {
     "data": {
      "text/html": [
       "<div>\n",
       "<style scoped>\n",
       "    .dataframe tbody tr th:only-of-type {\n",
       "        vertical-align: middle;\n",
       "    }\n",
       "\n",
       "    .dataframe tbody tr th {\n",
       "        vertical-align: top;\n",
       "    }\n",
       "\n",
       "    .dataframe thead th {\n",
       "        text-align: right;\n",
       "    }\n",
       "</style>\n",
       "<table border=\"1\" class=\"dataframe\">\n",
       "  <thead>\n",
       "    <tr style=\"text-align: right;\">\n",
       "      <th></th>\n",
       "      <th>index</th>\n",
       "      <th>context_x</th>\n",
       "      <th>context_y</th>\n",
       "    </tr>\n",
       "  </thead>\n",
       "  <tbody>\n",
       "    <tr>\n",
       "      <th>0</th>\n",
       "      <td>เบอร์เซิร์ก (ญี่ปุ่น: ベルセルク โรมาจิ: Beruseruku; อั</td>\n",
       "      <td>3</td>\n",
       "      <td>NaN</td>\n",
       "    </tr>\n",
       "    <tr>\n",
       "      <th>1</th>\n",
       "      <td>เส้นทางสายไหม (อังกฤษ: Silk Road หรือ Silk Route)</td>\n",
       "      <td>3</td>\n",
       "      <td>NaN</td>\n",
       "    </tr>\n",
       "    <tr>\n",
       "      <th>2</th>\n",
       "      <td>แอนนาเบลล์ (อังกฤษ: Annabelle) เป็นตุ๊กตาผ้ารูปเรก</td>\n",
       "      <td>3</td>\n",
       "      <td>NaN</td>\n",
       "    </tr>\n",
       "    <tr>\n",
       "      <th>3</th>\n",
       "      <td>องค์การสุรา กรมสรรพสามิต (อังกฤษ: The Liquor Disti</td>\n",
       "      <td>3</td>\n",
       "      <td>NaN</td>\n",
       "    </tr>\n",
       "    <tr>\n",
       "      <th>4</th>\n",
       "      <td>เศวตัมพร หรือ เศวตามพร (สันสกฤต: श्वेतांबर สะ เหฺว</td>\n",
       "      <td>3</td>\n",
       "      <td>NaN</td>\n",
       "    </tr>\n",
       "    <tr>\n",
       "      <th>5</th>\n",
       "      <td>หนึ่ง-เก้า-แปด-สี่ (อังกฤษ: Nineteen Eighty-Four)</td>\n",
       "      <td>3</td>\n",
       "      <td>NaN</td>\n",
       "    </tr>\n",
       "    <tr>\n",
       "      <th>8</th>\n",
       "      <td>อุโมงค์ฐานก็อทฮาร์ท (เยอรมัน: Gotthard-Basistunnel</td>\n",
       "      <td>2</td>\n",
       "      <td>NaN</td>\n",
       "    </tr>\n",
       "    <tr>\n",
       "      <th>10</th>\n",
       "      <td>ชาวเบงกอล (เบงกอล: বাঙালি; อังกฤษ: Bengali, Bangal</td>\n",
       "      <td>2</td>\n",
       "      <td>NaN</td>\n",
       "    </tr>\n",
       "    <tr>\n",
       "      <th>12</th>\n",
       "      <td>จอรัลด์ \"เกอร์รี\" โจเซฟ เพย์ตัน (ไอริช: Gerald \"Ge</td>\n",
       "      <td>2</td>\n",
       "      <td>NaN</td>\n",
       "    </tr>\n",
       "    <tr>\n",
       "      <th>13</th>\n",
       "      <td>\"กีฬาจักรยาน\" ในการแข่งขันกีฬาแห่งชาติ ครั้งที่ 42</td>\n",
       "      <td>2</td>\n",
       "      <td>NaN</td>\n",
       "    </tr>\n",
       "    <tr>\n",
       "      <th>15</th>\n",
       "      <td>องค์การบริหารส่วนตำบลกุดเพียขอม เป็นองค์กรปกครองส่</td>\n",
       "      <td>2</td>\n",
       "      <td>NaN</td>\n",
       "    </tr>\n",
       "    <tr>\n",
       "      <th>17</th>\n",
       "      <td>กิ่งจังหวัดฮิดากะ (ญี่ปุ่น: 日高振興局 โรมาจิ: Hidaka-s</td>\n",
       "      <td>2</td>\n",
       "      <td>NaN</td>\n",
       "    </tr>\n",
       "  </tbody>\n",
       "</table>\n",
       "</div>"
      ],
      "text/plain": [
       "                                                 index  context_x  context_y\n",
       "0   เบอร์เซิร์ก (ญี่ปุ่น: ベルセルク โรมาจิ: Beruseruku; อั  3         NaN       \n",
       "1   เส้นทางสายไหม (อังกฤษ: Silk Road หรือ Silk Route)   3         NaN       \n",
       "2   แอนนาเบลล์ (อังกฤษ: Annabelle) เป็นตุ๊กตาผ้ารูปเรก  3         NaN       \n",
       "3   องค์การสุรา กรมสรรพสามิต (อังกฤษ: The Liquor Disti  3         NaN       \n",
       "4   เศวตัมพร หรือ เศวตามพร (สันสกฤต: श्वेतांबर สะ เหฺว  3         NaN       \n",
       "5   หนึ่ง-เก้า-แปด-สี่ (อังกฤษ: Nineteen Eighty-Four)   3         NaN       \n",
       "8   อุโมงค์ฐานก็อทฮาร์ท (เยอรมัน: Gotthard-Basistunnel  2         NaN       \n",
       "10  ชาวเบงกอล (เบงกอล: বাঙালি; อังกฤษ: Bengali, Bangal  2         NaN       \n",
       "12  จอรัลด์ \"เกอร์รี\" โจเซฟ เพย์ตัน (ไอริช: Gerald \"Ge  2         NaN       \n",
       "13  \"กีฬาจักรยาน\" ในการแข่งขันกีฬาแห่งชาติ ครั้งที่ 42  2         NaN       \n",
       "15  องค์การบริหารส่วนตำบลกุดเพียขอม เป็นองค์กรปกครองส่  2         NaN       \n",
       "17  กิ่งจังหวัดฮิดากะ (ญี่ปุ่น: 日高振興局 โรมาจิ: Hidaka-s  2         NaN       "
      ]
     },
     "execution_count": 22,
     "metadata": {},
     "output_type": "execute_result"
    }
   ],
   "source": [
    "#top xlm misses vs wangchan gets it; significantly fewer\n",
    "xw = xlm_low.merge(wangchan_low, how='left', on='index')\n",
    "xw[xw.context_y.isna()]"
   ]
  },
  {
   "cell_type": "markdown",
   "id": "fiscal-ratio",
   "metadata": {},
   "source": [
    "### `xlmr` Exact Matches vs `wangchanberta` Non-Exact Matches"
   ]
  },
  {
   "cell_type": "markdown",
   "id": "organic-fortune",
   "metadata": {},
   "source": [
    "There seems to be a problem in word tokenization."
   ]
  },
  {
   "cell_type": "code",
   "execution_count": 23,
   "id": "given-cream",
   "metadata": {},
   "outputs": [
    {
     "data": {
      "text/plain": [
       "(['ภาษามลายู'], ['มลายู'])"
      ]
     },
     "execution_count": 23,
     "metadata": {},
     "output_type": "execute_result"
    }
   ],
   "source": [
    "from pythainlp.tokenize import word_tokenize\n",
    "word_tokenize('ภาษามลายู'), word_tokenize('มลายู')"
   ]
  },
  {
   "cell_type": "code",
   "execution_count": 25,
   "id": "lovely-simon",
   "metadata": {},
   "outputs": [
    {
     "name": "stdout",
     "output_type": "stream",
     "text": [
      "(82, 9)\n"
     ]
    },
    {
     "data": {
      "text/html": [
       "<div>\n",
       "<style scoped>\n",
       "    .dataframe tbody tr th:only-of-type {\n",
       "        vertical-align: middle;\n",
       "    }\n",
       "\n",
       "    .dataframe tbody tr th {\n",
       "        vertical-align: top;\n",
       "    }\n",
       "\n",
       "    .dataframe thead th {\n",
       "        text-align: right;\n",
       "    }\n",
       "</style>\n",
       "<table border=\"1\" class=\"dataframe\">\n",
       "  <thead>\n",
       "    <tr style=\"text-align: right;\">\n",
       "      <th></th>\n",
       "      <th>id</th>\n",
       "      <th>question</th>\n",
       "      <th>answer_text</th>\n",
       "      <th>prediction_text_wangchan</th>\n",
       "      <th>f1_wangchan</th>\n",
       "      <th>partial_ratio_wangchan</th>\n",
       "      <th>prediction_text_xlm</th>\n",
       "      <th>f1_xlm</th>\n",
       "      <th>partial_ratio_xlm</th>\n",
       "    </tr>\n",
       "  </thead>\n",
       "  <tbody>\n",
       "    <tr>\n",
       "      <th>406</th>\n",
       "      <td>bpJegMoxglH9pw81Twcx_004</td>\n",
       "      <td>นางเอกในเรื่องสัญญารัก วันหิมะโปรยมาจากประเทศไหน</td>\n",
       "      <td>ญี่ปุ่น</td>\n",
       "      <td>เกาหลี</td>\n",
       "      <td>0.000000</td>\n",
       "      <td>17</td>\n",
       "      <td>ญี่ปุ่น</td>\n",
       "      <td>100.0</td>\n",
       "      <td>100</td>\n",
       "    </tr>\n",
       "    <tr>\n",
       "      <th>479</th>\n",
       "      <td>iPqFGfJfyRwBMRdpJGjR_004</td>\n",
       "      <td>ปลากัดเขียวมีชื่อเรียกทางพื้นเมืองว่าอะไร</td>\n",
       "      <td>ปลากัดอีสาน</td>\n",
       "      <td>ปลากัดป่าหางลาย</td>\n",
       "      <td>0.000000</td>\n",
       "      <td>64</td>\n",
       "      <td>ปลากัดอีสาน</td>\n",
       "      <td>100.0</td>\n",
       "      <td>100</td>\n",
       "    </tr>\n",
       "    <tr>\n",
       "      <th>34</th>\n",
       "      <td>4VzSiTQUkEYvvwqX2mrU_004</td>\n",
       "      <td>ปลาบู่เขือคางยื่นในแวดวงปลาสวยงามมีชื่อเรียกว่าอะไร</td>\n",
       "      <td>มังกรแยงซีเกียง</td>\n",
       "      <td>bearded worm goby</td>\n",
       "      <td>0.000000</td>\n",
       "      <td>0</td>\n",
       "      <td>มังกรแยงซีเกียง</td>\n",
       "      <td>100.0</td>\n",
       "      <td>100</td>\n",
       "    </tr>\n",
       "    <tr>\n",
       "      <th>500</th>\n",
       "      <td>kcBcsOOHl1AFkBBmxq6L_004</td>\n",
       "      <td>ในหนังสือแห่งความตาย เมืองไทนิสมีบทบาทเป็นตำนานเรื่องใด</td>\n",
       "      <td>ตำนานในสวรรค์</td>\n",
       "      <td>จักรวาลวิทยาของชาวอียิปต์โบราณ</td>\n",
       "      <td>0.000000</td>\n",
       "      <td>15</td>\n",
       "      <td>ตำนานในสวรรค์</td>\n",
       "      <td>100.0</td>\n",
       "      <td>100</td>\n",
       "    </tr>\n",
       "    <tr>\n",
       "      <th>47</th>\n",
       "      <td>5tqFr8zFIJvE6uQqXJ7H_007</td>\n",
       "      <td>ตีพิมพ์ครั้งแรกในประเทศไทยเมื่อไร</td>\n",
       "      <td>พ.ศ. 2560</td>\n",
       "      <td>สำนักพิมพ์วิบูลย์กิจ</td>\n",
       "      <td>0.000000</td>\n",
       "      <td>11</td>\n",
       "      <td>พ.ศ. 2560</td>\n",
       "      <td>100.0</td>\n",
       "      <td>100</td>\n",
       "    </tr>\n",
       "    <tr>\n",
       "      <th>549</th>\n",
       "      <td>n3rJc6GRdfaU4MO3Xsum_003</td>\n",
       "      <td>ใครปกครองแต่ละจังหวัด</td>\n",
       "      <td>ผู้ว่าราชการจังหวัด</td>\n",
       "      <td></td>\n",
       "      <td>0.000000</td>\n",
       "      <td>0</td>\n",
       "      <td>ผู้ว่าราชการจังหวัด</td>\n",
       "      <td>100.0</td>\n",
       "      <td>100</td>\n",
       "    </tr>\n",
       "    <tr>\n",
       "      <th>475</th>\n",
       "      <td>gaBznBUpXw7qSvFaQ4kP_004</td>\n",
       "      <td>รายละเอียดของสินค้า</td>\n",
       "      <td>ใช้สำหรับงานตกแต่งภายในทั่วไป เช่น ฉากกั้นที่มีเฟรมต่างๆ หน้าบานตู้ ประตู และ หน้าต่างเข้าเฟรมต่างๆ</td>\n",
       "      <td>t line</td>\n",
       "      <td>6.896552</td>\n",
       "      <td>17</td>\n",
       "      <td>ใช้สำหรับงานตกแต่งภายในทั่วไป เช่น ฉากกั้นที่มีเฟรมต่างๆ หน้าบานตู้ ประตู และ หน้าต่างเข้าเฟรมต่างๆ</td>\n",
       "      <td>100.0</td>\n",
       "      <td>100</td>\n",
       "    </tr>\n",
       "    <tr>\n",
       "      <th>88</th>\n",
       "      <td>AJxNSv4lXJWFr1wg48ZN_004</td>\n",
       "      <td>ปลาก้างพระร่วงเคยถูกค้นพบที่ต่างประเทศคือที่ใด</td>\n",
       "      <td>รัฐปีนังของมาเลเซีย</td>\n",
       "      <td>ในตลาดซื้อขายปลาน้ำจืดสวยงามโดยเป็นปลาส่งออกที่ขึ้นชื่อชนิดหนึ่ง แต่อนุกรมวิธานของปลาชนิดนี้เป็นที่สับสนกันมานานและเพิ่งได้รับการจำแนกอย่างชัดเจนในปี พ.ศ. 2556 ปลาก้างพระร่วงเป็นปลาประจำถิ่นของไทย อาศัยอยู่ตามแม่น้ำลำธารที่มีกระแสน้ำไหลแรงในภาคกลาง ภาคตะวันออก และภาคใต้ของประเทศ ปัจจุบันพบมากที่สุดตามลำน้ำทางตอนใต้ของคอคอดกระที่ไหลลงสู่อ่าวไทยและตามลำน้ำแถบทิวเขาบรรทัดในภาคตะวันออก นอกจากนี้ยังมีรายงานการพบเห็นที่รัฐปีนังของมาเลเซีย</td>\n",
       "      <td>7.272727</td>\n",
       "      <td>100</td>\n",
       "      <td>รัฐปีนังของมาเลเซีย</td>\n",
       "      <td>100.0</td>\n",
       "      <td>100</td>\n",
       "    </tr>\n",
       "    <tr>\n",
       "      <th>375</th>\n",
       "      <td>XlXpU8w6aUcV1Y7M6VrR_004</td>\n",
       "      <td>เอ็ดเวิร์ด มโพฟู ป้องกันแชม กับใคร</td>\n",
       "      <td>อินโดนเซนต์ มทาลาเน</td>\n",
       "      <td>แอนโทนี ทเซลา ที่แอฟริกาใต้ จากนั้นขึ้นชกชนะเป็นส่วนใหญ่ จนได้ชิงแชมป์แอฟริกาใต้รุ่นซูเปอร์แบนตัมเวทที่ว่างเมื่อ 25 มกราคม พ.ศ. 2543 ชนะน็อค วูยิซิเล ติงกา</td>\n",
       "      <td>7.547170</td>\n",
       "      <td>42</td>\n",
       "      <td>อินโดนเซนต์ มทาลาเน</td>\n",
       "      <td>100.0</td>\n",
       "      <td>100</td>\n",
       "    </tr>\n",
       "    <tr>\n",
       "      <th>110</th>\n",
       "      <td>BVccu2vbXhlKavM15M2p_002</td>\n",
       "      <td>โอลิวีน มีอีกความหมายว่าอะไร</td>\n",
       "      <td>แร่ประกอบหิน</td>\n",
       "      <td>สีเขียวมะกอก (olive green) และยังหมายถึงว่า เป็น แร่ประกอบหิน แต่ในลักษณะที่เป็นรัตนชาติ เรียกว่า เพริดอต (peridot) ส่วนคำว่า คริโซไลต์</td>\n",
       "      <td>12.244898</td>\n",
       "      <td>100</td>\n",
       "      <td>แร่ประกอบหิน</td>\n",
       "      <td>100.0</td>\n",
       "      <td>100</td>\n",
       "    </tr>\n",
       "    <tr>\n",
       "      <th>510</th>\n",
       "      <td>l1eNQQZmVIYlkrem4xo8_004</td>\n",
       "      <td>แลนดอน รอลลิน คาร์เตอร์ คือใคร</td>\n",
       "      <td>นักเรียนชายเสน่ห์แรงวัย 17 ของโรงเรียนมัธยมปลายแห่งหนึ่ง</td>\n",
       "      <td>เชน เวสท์</td>\n",
       "      <td>12.500000</td>\n",
       "      <td>33</td>\n",
       "      <td>นักเรียนชายเสน่ห์แรงวัย 17 ของโรงเรียนมัธยมปลายแห่งหนึ่ง</td>\n",
       "      <td>100.0</td>\n",
       "      <td>100</td>\n",
       "    </tr>\n",
       "    <tr>\n",
       "      <th>542</th>\n",
       "      <td>mIEUhmVfrZlOz9y3WMaY_004</td>\n",
       "      <td>เอ็ด และลอร์เรน วอร์เรนคือใคร</td>\n",
       "      <td>คู่สามีภรรยาซึ่งเป็นนักปิศาจวิทยาและนักสืบสวนสอบสวนเรื่องลึกลับเหนือธรรมชาติที่มีชื่อเสียง</td>\n",
       "      <td>ตุ๊กตาผ้ารูปเรกกาดี แอนน์ ที่เล่าลือกันว่าเป็นตุ๊กตาผีสิง</td>\n",
       "      <td>13.333333</td>\n",
       "      <td>26</td>\n",
       "      <td>คู่สามีภรรยาซึ่งเป็นนักปิศาจวิทยาและนักสืบสวนสอบสวนเรื่องลึกลับเหนือธรรมชาติที่มีชื่อเสียง</td>\n",
       "      <td>100.0</td>\n",
       "      <td>100</td>\n",
       "    </tr>\n",
       "    <tr>\n",
       "      <th>509</th>\n",
       "      <td>l1eNQQZmVIYlkrem4xo8_003</td>\n",
       "      <td>ตัวเอกของเรื่องก้าวสู่ฝันวันหัวใจพบรักชื่อว่าอะไร</td>\n",
       "      <td>แลนดอน รอลลิน คาร์เตอร์</td>\n",
       "      <td>เชน เวสต์</td>\n",
       "      <td>13.333333</td>\n",
       "      <td>33</td>\n",
       "      <td>แลนดอน รอลลิน คาร์เตอร์</td>\n",
       "      <td>100.0</td>\n",
       "      <td>100</td>\n",
       "    </tr>\n",
       "    <tr>\n",
       "      <th>572</th>\n",
       "      <td>onsIqe2KNjtw2qu4bL1B_000</td>\n",
       "      <td>การทำให้เป็นอาณานิคมของยุโรปในทวีปอเมริกา มีจุดประสงค์อะไร</td>\n",
       "      <td>เพื่อหาคู่ค้าขายใหม่</td>\n",
       "      <td>การแสวงหาสินค้าเพื่อสนองความต้องการของตลาดตามต้องการ</td>\n",
       "      <td>16.666667</td>\n",
       "      <td>40</td>\n",
       "      <td>เพื่อหาคู่ค้าขายใหม่</td>\n",
       "      <td>100.0</td>\n",
       "      <td>100</td>\n",
       "    </tr>\n",
       "    <tr>\n",
       "      <th>30</th>\n",
       "      <td>4DXNngdRuttYF6DgsF1H_001</td>\n",
       "      <td>ปัจจุบันมีตำแหน่งอะไร</td>\n",
       "      <td>เป็นผู้ฝึกสอนการรักษาประตูให้แก่สโมสรฟุตบอลอาร์เซนอล</td>\n",
       "      <td>เป็นผู้รักษาประตู</td>\n",
       "      <td>18.181818</td>\n",
       "      <td>65</td>\n",
       "      <td>เป็นผู้ฝึกสอนการรักษาประตูให้แก่สโมสรฟุตบอลอาร์เซนอล</td>\n",
       "      <td>100.0</td>\n",
       "      <td>100</td>\n",
       "    </tr>\n",
       "    <tr>\n",
       "      <th>575</th>\n",
       "      <td>onsIqe2KNjtw2qu4bL1B_003</td>\n",
       "      <td>คริสโตเฟอร์ โคลัมบัสได้ค้นพบ โลกใหม่ ชื่อว่าอะไร</td>\n",
       "      <td>ทวีปอเมริกา</td>\n",
       "      <td>ทวีปอเมริกา ในปี ค.ศ. 1500</td>\n",
       "      <td>22.222222</td>\n",
       "      <td>100</td>\n",
       "      <td>ทวีปอเมริกา</td>\n",
       "      <td>100.0</td>\n",
       "      <td>100</td>\n",
       "    </tr>\n",
       "    <tr>\n",
       "      <th>635</th>\n",
       "      <td>xQVJ3NCRkMXS28QJpCyU_004</td>\n",
       "      <td>อะตอม ปรากฏตัวครั้งแรกในการ์ตูนวันที่เท่าไร</td>\n",
       "      <td>ตุลาคม 1961</td>\n",
       "      <td>showcase ฉบับที่ 34</td>\n",
       "      <td>22.222222</td>\n",
       "      <td>9</td>\n",
       "      <td>ตุลาคม 1961</td>\n",
       "      <td>100.0</td>\n",
       "      <td>100</td>\n",
       "    </tr>\n",
       "    <tr>\n",
       "      <th>155</th>\n",
       "      <td>Gh5T3VGrULp4HblYPOUS_003</td>\n",
       "      <td>สถานที่เกิดของกิมย้ง?</td>\n",
       "      <td>อำเภอไฮ้เล้ง เขตไห่หนิง มณฑลเจ้อเจียง แห่งภาคตะวันออกของจีน</td>\n",
       "      <td>วันที่ 10 มีนาคม ค.ศ. 1924</td>\n",
       "      <td>24.000000</td>\n",
       "      <td>19</td>\n",
       "      <td>อำเภอไฮ้เล้ง เขตไห่หนิง มณฑลเจ้อเจียง แห่งภาคตะวันออกของจีน</td>\n",
       "      <td>100.0</td>\n",
       "      <td>100</td>\n",
       "    </tr>\n",
       "    <tr>\n",
       "      <th>152</th>\n",
       "      <td>Gh5T3VGrULp4HblYPOUS_000</td>\n",
       "      <td>กิมย้งเสียชีวิตวันที่เท่าไหร่?</td>\n",
       "      <td>30 ตุลาคม พ.ศ. 2561</td>\n",
       "      <td>30</td>\n",
       "      <td>25.000000</td>\n",
       "      <td>100</td>\n",
       "      <td>30 ตุลาคม พ.ศ. 2561</td>\n",
       "      <td>100.0</td>\n",
       "      <td>100</td>\n",
       "    </tr>\n",
       "    <tr>\n",
       "      <th>485</th>\n",
       "      <td>jcC5YDlxyw1edEbDMnez_003</td>\n",
       "      <td>ใครเป็นู้แต่งโรบินสัน ครูโซ</td>\n",
       "      <td>แดเนียล เดโฟ</td>\n",
       "      <td>อเล็กซานเดอร์ เซลเคิร์ก</td>\n",
       "      <td>25.000000</td>\n",
       "      <td>31</td>\n",
       "      <td>แดเนียล เดโฟ</td>\n",
       "      <td>100.0</td>\n",
       "      <td>100</td>\n",
       "    </tr>\n",
       "    <tr>\n",
       "      <th>248</th>\n",
       "      <td>N35drponWNTJE9BGy2lS_004</td>\n",
       "      <td>ศึกดีซีพีเวิลด์มวยไทยซุปเปอร์ไฟท์ เริ่มในวันที่เท่าไร</td>\n",
       "      <td>12 กุมภาพันธ์ พ.ศ. 2562</td>\n",
       "      <td>12</td>\n",
       "      <td>25.000000</td>\n",
       "      <td>100</td>\n",
       "      <td>12 กุมภาพันธ์ พ.ศ. 2562</td>\n",
       "      <td>100.0</td>\n",
       "      <td>100</td>\n",
       "    </tr>\n",
       "    <tr>\n",
       "      <th>421</th>\n",
       "      <td>ctXxwh1mGOGCgiasfBrK_005</td>\n",
       "      <td>วู้ดดี้เวิลด์ผลิตรายการอะไรบ้าง</td>\n",
       "      <td>รายการวู้ดดี้ เกิดมาคุย และ รายการเช้าดูวู้ดดี้</td>\n",
       "      <td>รายการโทรทัศน์ไทย โดยมีวุฒิธร มิลินทจินดาเป็นประธานบริษัท เดิมชื่อ \"ดับเบิ้ลยู เน็ทเวิร์คส์ จำกัด\" ก่อตั้งเมื่อปี 2547 ต่อมาในปี 2552 จึงมีการเปลี่ยนชื่อเป็น บริษัท วู้ดดี้ เวิลด์ จำกัด\\n\\nปัจจุบัน บริษัท วู้ดดี้ เวิลด์ จำกัด ผลิตรายการโทรทัศน์สองรายการ ได้แก่ รายการวู้ดดี้ เกิดมาคุย และ รายการเช้าดูวู้ดดี้</td>\n",
       "      <td>28.301887</td>\n",
       "      <td>100</td>\n",
       "      <td>รายการวู้ดดี้ เกิดมาคุย และ รายการเช้าดูวู้ดดี้</td>\n",
       "      <td>100.0</td>\n",
       "      <td>100</td>\n",
       "    </tr>\n",
       "    <tr>\n",
       "      <th>432</th>\n",
       "      <td>dBXCgEwtZkNCsX9RWubo_001</td>\n",
       "      <td>เพลงเพื่อชีวิตแรกเริ่มหมายถึงเพลงที่มีเนื้อหากล่าวถึงสิ่งใด</td>\n",
       "      <td>ชีวิตของคน โดยเฉพาะคนชนชั้นล่าง กล่าวถึงความยากลำบากในการใช้ชีวิต การถูกเอารัดเอาเปรียบ</td>\n",
       "      <td>ชีวิตของคน</td>\n",
       "      <td>30.000000</td>\n",
       "      <td>100</td>\n",
       "      <td>ชีวิตของคน โดยเฉพาะคนชนชั้นล่าง กล่าวถึงความยากลำบากในการใช้ชีวิต การถูกเอารัดเอาเปรียบ</td>\n",
       "      <td>100.0</td>\n",
       "      <td>100</td>\n",
       "    </tr>\n",
       "    <tr>\n",
       "      <th>205</th>\n",
       "      <td>Juy8PqofQQuRJXM9LT3A_002</td>\n",
       "      <td>เขตปริมณฑลและเมืองหลวงแห่งชาติ (เกาหลีใต้) รวมเขตการปกครองระดับจังหวัดไว้เขตใดบ้าง</td>\n",
       "      <td>3 เขต คือ โซล, อินช็อน และจังหวัดคย็องกี</td>\n",
       "      <td>3 เขต</td>\n",
       "      <td>31.578947</td>\n",
       "      <td>100</td>\n",
       "      <td>3 เขต คือ โซล, อินช็อน และจังหวัดคย็องกี</td>\n",
       "      <td>100.0</td>\n",
       "      <td>100</td>\n",
       "    </tr>\n",
       "    <tr>\n",
       "      <th>232</th>\n",
       "      <td>LXbbBplLMTGicMcRcwuj_001</td>\n",
       "      <td>มดหมอหมายความว่าอะไร</td>\n",
       "      <td>หมอทั่ว ๆ ไป</td>\n",
       "      <td>หมอเวทมนตร์หรือหมอผี</td>\n",
       "      <td>33.333333</td>\n",
       "      <td>33</td>\n",
       "      <td>หมอทั่ว ๆ ไป</td>\n",
       "      <td>100.0</td>\n",
       "      <td>100</td>\n",
       "    </tr>\n",
       "    <tr>\n",
       "      <th>333</th>\n",
       "      <td>W2sSdQ4VkNDY3z1dLi6X_003</td>\n",
       "      <td>เจ้าแก้วนวรัฐ เป็นเจ้าผู้ครองนครเชียงใหม่องค์ที่เท่าไร</td>\n",
       "      <td>องค์ที่ 9</td>\n",
       "      <td>9</td>\n",
       "      <td>40.000000</td>\n",
       "      <td>100</td>\n",
       "      <td>องค์ที่ 9</td>\n",
       "      <td>100.0</td>\n",
       "      <td>100</td>\n",
       "    </tr>\n",
       "    <tr>\n",
       "      <th>508</th>\n",
       "      <td>l1eNQQZmVIYlkrem4xo8_002</td>\n",
       "      <td>ก้าวสู่ฝันวันหัวใจพบรักนำแสดงโดยใคร</td>\n",
       "      <td>เชน เวสต์ และ แมนดี้ มัวร์</td>\n",
       "      <td>เชน เวสต์</td>\n",
       "      <td>46.153846</td>\n",
       "      <td>100</td>\n",
       "      <td>เชน เวสต์ และ แมนดี้ มัวร์</td>\n",
       "      <td>100.0</td>\n",
       "      <td>100</td>\n",
       "    </tr>\n",
       "    <tr>\n",
       "      <th>411</th>\n",
       "      <td>cdS8ORNMM9iEgmR2Ua0m_000</td>\n",
       "      <td>วิวัฒน์ มิลินทจินดา เกิดปีอะไร</td>\n",
       "      <td>พ.ศ. 2466</td>\n",
       "      <td>พ.ศ. 2466 – พ.ศ. 2546</td>\n",
       "      <td>50.000000</td>\n",
       "      <td>100</td>\n",
       "      <td>พ.ศ. 2466</td>\n",
       "      <td>100.0</td>\n",
       "      <td>100</td>\n",
       "    </tr>\n",
       "    <tr>\n",
       "      <th>444</th>\n",
       "      <td>e5VxIZKGUZNsqwStD0V7_004</td>\n",
       "      <td>ธนโชติ กุสุมรสนานันท์ มีพี่น้องกี่คน</td>\n",
       "      <td>3 คน</td>\n",
       "      <td>3</td>\n",
       "      <td>50.000000</td>\n",
       "      <td>100</td>\n",
       "      <td>3 คน</td>\n",
       "      <td>100.0</td>\n",
       "      <td>100</td>\n",
       "    </tr>\n",
       "    <tr>\n",
       "      <th>368</th>\n",
       "      <td>Xf9Eov8n6X21Qv8wtq5g_004</td>\n",
       "      <td>กัปตันอเมริกา: ศึกฮีโร่ระห่ำโลกเรื่มต้นถ่ายทำช่วงไหน</td>\n",
       "      <td>เดือนเมษายน ค.ศ. 2015</td>\n",
       "      <td>ช่วงปลายปี ค.ศ. 2013</td>\n",
       "      <td>50.000000</td>\n",
       "      <td>56</td>\n",
       "      <td>เดือนเมษายน ค.ศ. 2015</td>\n",
       "      <td>100.0</td>\n",
       "      <td>100</td>\n",
       "    </tr>\n",
       "    <tr>\n",
       "      <th>534</th>\n",
       "      <td>lnXZtRQ6zgJtElYJe1Kd_003</td>\n",
       "      <td>บรรทัดห้าเส้นจึงสามารถบันทึกระดับเสียงของตัวโน้ตได้กี่ระดับ ?</td>\n",
       "      <td>11 ระดับ</td>\n",
       "      <td>11</td>\n",
       "      <td>50.000000</td>\n",
       "      <td>100</td>\n",
       "      <td>11 ระดับ</td>\n",
       "      <td>100.0</td>\n",
       "      <td>100</td>\n",
       "    </tr>\n",
       "    <tr>\n",
       "      <th>19</th>\n",
       "      <td>3x7OrbaHtZPRCiNV4Pm6_004</td>\n",
       "      <td>เวลาที่เสด็จประพาสทั้งสิ้นจำนวนกี่วัน</td>\n",
       "      <td>253 วัน</td>\n",
       "      <td>253</td>\n",
       "      <td>50.000000</td>\n",
       "      <td>100</td>\n",
       "      <td>253 วัน</td>\n",
       "      <td>100.0</td>\n",
       "      <td>100</td>\n",
       "    </tr>\n",
       "    <tr>\n",
       "      <th>537</th>\n",
       "      <td>lpbzKYcVTkgTu1RNpIj8_001</td>\n",
       "      <td>นิวไคลด์ ที่เกิดจากอะไร</td>\n",
       "      <td>คุณลักษณะเฉพาะของนิวเคลียสของมัน</td>\n",
       "      <td>นิวเคลียส) คือกลุ่มลักษณะของอะตอมที่เกิดจากคุณลักษณะเฉพาะของนิวเคลียสของมัน</td>\n",
       "      <td>54.545455</td>\n",
       "      <td>100</td>\n",
       "      <td>คุณลักษณะเฉพาะของนิวเคลียสของมัน</td>\n",
       "      <td>100.0</td>\n",
       "      <td>100</td>\n",
       "    </tr>\n",
       "    <tr>\n",
       "      <th>246</th>\n",
       "      <td>N35drponWNTJE9BGy2lS_002</td>\n",
       "      <td>ศึกดีซีพีเวิลด์มวยไทยซุปเปอร์ไฟท์ รายการนี้ทำการถ่ายทอดทางช่องอะไร</td>\n",
       "      <td>ช่อง 5</td>\n",
       "      <td>ทางช่อง 5 และ tgn</td>\n",
       "      <td>54.545455</td>\n",
       "      <td>100</td>\n",
       "      <td>ช่อง 5</td>\n",
       "      <td>100.0</td>\n",
       "      <td>100</td>\n",
       "    </tr>\n",
       "    <tr>\n",
       "      <th>230</th>\n",
       "      <td>Kyj5nGPNftBOlA9gWKYc_003</td>\n",
       "      <td>วิทยาลัยเทคโนโลยีบริหารธุรกิจรักไทย สิรินธร ตั้งอยู่ที่ไหน</td>\n",
       "      <td>อำเภอสิรินธร จังหวัดอุบลราชธานี</td>\n",
       "      <td>จังหวัดอุบลราชธานี</td>\n",
       "      <td>57.142857</td>\n",
       "      <td>100</td>\n",
       "      <td>อำเภอสิรินธร จังหวัดอุบลราชธานี</td>\n",
       "      <td>100.0</td>\n",
       "      <td>100</td>\n",
       "    </tr>\n",
       "    <tr>\n",
       "      <th>653</th>\n",
       "      <td>zN5CMTrctw5KbMsAqTyS_004</td>\n",
       "      <td>โรงเรียนวัดน้อยนพคุณ ปัจจุบันตั้งอยู่ที่ไหน</td>\n",
       "      <td>เลขที่ 2/1 ถ.พระราม 5 แขวงถนนนครไชยศรี เขตดุสิต กรุงเทพมหานคร 10300</td>\n",
       "      <td>ตั้งอยู่เลขที่ 2/1 ถ.พระราม 5</td>\n",
       "      <td>58.823529</td>\n",
       "      <td>72</td>\n",
       "      <td>เลขที่ 2/1 ถ.พระราม 5 แขวงถนนนครไชยศรี เขตดุสิต กรุงเทพมหานคร 10300</td>\n",
       "      <td>100.0</td>\n",
       "      <td>100</td>\n",
       "    </tr>\n",
       "    <tr>\n",
       "      <th>531</th>\n",
       "      <td>lnXZtRQ6zgJtElYJe1Kd_000</td>\n",
       "      <td>บรรทัดห้าเส้น (อังกฤษอเมริกัน: staff; อังกฤษบริเตน: stave) คือ ?</td>\n",
       "      <td>กลุ่มของเส้นตรงตามแนวนอน 5 เส้น</td>\n",
       "      <td>กลุ่มของเส้นตรงตามแนวนอน 5 เส้น และอยู่ห่างเป็นระยะเท่ากันเป็นจำนวน 4 ช่อง</td>\n",
       "      <td>60.000000</td>\n",
       "      <td>100</td>\n",
       "      <td>กลุ่มของเส้นตรงตามแนวนอน 5 เส้น</td>\n",
       "      <td>100.0</td>\n",
       "      <td>100</td>\n",
       "    </tr>\n",
       "    <tr>\n",
       "      <th>283</th>\n",
       "      <td>Sw8hZjR4crKekUP4vEgK_003</td>\n",
       "      <td>อุโมงค์ฐานก็อทฮาร์ท สามารถรองรับรถไฟได้กี่ขบวน</td>\n",
       "      <td>200–250 ขบวนต่อวัน</td>\n",
       "      <td>200–250</td>\n",
       "      <td>60.000000</td>\n",
       "      <td>100</td>\n",
       "      <td>200–250 ขบวนต่อวัน</td>\n",
       "      <td>100.0</td>\n",
       "      <td>100</td>\n",
       "    </tr>\n",
       "    <tr>\n",
       "      <th>443</th>\n",
       "      <td>e5VxIZKGUZNsqwStD0V7_003</td>\n",
       "      <td>ธนโชติ กุสุมรสนานันท์ เกิดที่ไหน</td>\n",
       "      <td>กรุงเทพมหานคร</td>\n",
       "      <td>ที่กรุงเทพมหานคร</td>\n",
       "      <td>66.666667</td>\n",
       "      <td>100</td>\n",
       "      <td>กรุงเทพมหานคร</td>\n",
       "      <td>100.0</td>\n",
       "      <td>100</td>\n",
       "    </tr>\n",
       "    <tr>\n",
       "      <th>548</th>\n",
       "      <td>n3rJc6GRdfaU4MO3Xsum_002</td>\n",
       "      <td>จังหวัดถือเป็นการปกครองของใครในลำดับแรก</td>\n",
       "      <td>รัฐบาล</td>\n",
       "      <td>ของรัฐบาล</td>\n",
       "      <td>66.666667</td>\n",
       "      <td>100</td>\n",
       "      <td>รัฐบาล</td>\n",
       "      <td>100.0</td>\n",
       "      <td>100</td>\n",
       "    </tr>\n",
       "    <tr>\n",
       "      <th>560</th>\n",
       "      <td>nvuuq0WU87n5jyOR5obi_004</td>\n",
       "      <td>ชื่อคีวชูหมายถึงอะไร</td>\n",
       "      <td>เก้าแคว้น</td>\n",
       "      <td>เก้า</td>\n",
       "      <td>66.666667</td>\n",
       "      <td>100</td>\n",
       "      <td>เก้าแคว้น</td>\n",
       "      <td>100.0</td>\n",
       "      <td>100</td>\n",
       "    </tr>\n",
       "    <tr>\n",
       "      <th>378</th>\n",
       "      <td>YJZxmyxqHLoM0AbyPtKP_000</td>\n",
       "      <td>ผู้ชาย 2 อดีต คือภาพยนตร์แนวอะไร</td>\n",
       "      <td>แนวดราม่า</td>\n",
       "      <td>ดราม่า</td>\n",
       "      <td>66.666667</td>\n",
       "      <td>100</td>\n",
       "      <td>แนวดราม่า</td>\n",
       "      <td>100.0</td>\n",
       "      <td>100</td>\n",
       "    </tr>\n",
       "    <tr>\n",
       "      <th>341</th>\n",
       "      <td>WOj7bFv9nln3HJ7oTDfY_002</td>\n",
       "      <td>จอร์จ ออร์เวลล์เป็นนักเขียนประเทศใด</td>\n",
       "      <td>อังกฤษ</td>\n",
       "      <td>ชาวอังกฤษ</td>\n",
       "      <td>66.666667</td>\n",
       "      <td>100</td>\n",
       "      <td>อังกฤษ</td>\n",
       "      <td>100.0</td>\n",
       "      <td>100</td>\n",
       "    </tr>\n",
       "    <tr>\n",
       "      <th>349</th>\n",
       "      <td>WrcScfge1kj3d7fPRMjc_000</td>\n",
       "      <td>ลูพิน เป็นพืชดอกที่อยู่ในสกุลอะไร</td>\n",
       "      <td>สกุลลูพินนัส</td>\n",
       "      <td>ลูพินนัส</td>\n",
       "      <td>66.666667</td>\n",
       "      <td>100</td>\n",
       "      <td>สกุลลูพินนัส</td>\n",
       "      <td>100.0</td>\n",
       "      <td>100</td>\n",
       "    </tr>\n",
       "    <tr>\n",
       "      <th>157</th>\n",
       "      <td>GpA8cQoTE0FRSVMIfwmx_000</td>\n",
       "      <td>ดอยหล่อ เป็นอำเภอหนึ่งของจังหวัดอะไร</td>\n",
       "      <td>จังหวัดเชียงใหม่</td>\n",
       "      <td>เชียงใหม่</td>\n",
       "      <td>66.666667</td>\n",
       "      <td>100</td>\n",
       "      <td>จังหวัดเชียงใหม่</td>\n",
       "      <td>100.0</td>\n",
       "      <td>100</td>\n",
       "    </tr>\n",
       "    <tr>\n",
       "      <th>126</th>\n",
       "      <td>DiPQsuesveJren3LbElk_001</td>\n",
       "      <td>เกิลส์เดย์ สัญชาติอะไร</td>\n",
       "      <td>เกาหลีใต้</td>\n",
       "      <td>สัญชาติเกาหลีใต้</td>\n",
       "      <td>66.666667</td>\n",
       "      <td>100</td>\n",
       "      <td>เกาหลีใต้</td>\n",
       "      <td>100.0</td>\n",
       "      <td>100</td>\n",
       "    </tr>\n",
       "    <tr>\n",
       "      <th>120</th>\n",
       "      <td>Cz7K5Bg0pmW8Ecn0NsyS_002</td>\n",
       "      <td>จีจ้า เป็นภาษาอะไร</td>\n",
       "      <td>ภาษาตากาล็อก</td>\n",
       "      <td>ตากาล็อก</td>\n",
       "      <td>66.666667</td>\n",
       "      <td>100</td>\n",
       "      <td>ภาษาตากาล็อก</td>\n",
       "      <td>100.0</td>\n",
       "      <td>100</td>\n",
       "    </tr>\n",
       "    <tr>\n",
       "      <th>108</th>\n",
       "      <td>BVccu2vbXhlKavM15M2p_000</td>\n",
       "      <td>โอลิวีน เป็นภาษาอะไร</td>\n",
       "      <td>ภาษาโบราณ</td>\n",
       "      <td>เป็นภาษาโบราณ</td>\n",
       "      <td>66.666667</td>\n",
       "      <td>100</td>\n",
       "      <td>ภาษาโบราณ</td>\n",
       "      <td>100.0</td>\n",
       "      <td>100</td>\n",
       "    </tr>\n",
       "    <tr>\n",
       "      <th>106</th>\n",
       "      <td>BOGCaXXwgyY1bvhw1Cgd_000</td>\n",
       "      <td>ต้นกาหลงมีถิ่นกำเนิดที่ไหน</td>\n",
       "      <td>เอเชียตะวันออกเฉียงใต้</td>\n",
       "      <td>ในเอเชียตะวันออกเฉียงใต้</td>\n",
       "      <td>66.666667</td>\n",
       "      <td>100</td>\n",
       "      <td>เอเชียตะวันออกเฉียงใต้</td>\n",
       "      <td>100.0</td>\n",
       "      <td>100</td>\n",
       "    </tr>\n",
       "    <tr>\n",
       "      <th>252</th>\n",
       "      <td>NE1CdYOtEv83BbKIcZq3_003</td>\n",
       "      <td>แอนโธซัวแบ่งออกเป็นกี่กลุ่ม</td>\n",
       "      <td>สี่กลุ่ม</td>\n",
       "      <td>สี่</td>\n",
       "      <td>66.666667</td>\n",
       "      <td>100</td>\n",
       "      <td>สี่กลุ่ม</td>\n",
       "      <td>100.0</td>\n",
       "      <td>100</td>\n",
       "    </tr>\n",
       "    <tr>\n",
       "      <th>360</th>\n",
       "      <td>XHdXAShicgjJXf2L3cw1_003</td>\n",
       "      <td>แผ่นดินไหวในโพฮัง เกิดขึ้นที่จังหวัดอะไร</td>\n",
       "      <td>จังหวัดคย็องซังเหนือ</td>\n",
       "      <td>จังหวัดคย็องซังเหนือ, ประเทศเกาหลีใต้</td>\n",
       "      <td>66.666667</td>\n",
       "      <td>100</td>\n",
       "      <td>จังหวัดคย็องซังเหนือ</td>\n",
       "      <td>100.0</td>\n",
       "      <td>100</td>\n",
       "    </tr>\n",
       "    <tr>\n",
       "      <th>255</th>\n",
       "      <td>OI8qJ97eGWpwIhuFP7pk_000</td>\n",
       "      <td>อำเภอพังโคน อยู่ในจังหวัดอะไร</td>\n",
       "      <td>จังหวัดสกลนคร</td>\n",
       "      <td>สกลนคร</td>\n",
       "      <td>66.666667</td>\n",
       "      <td>100</td>\n",
       "      <td>จังหวัดสกลนคร</td>\n",
       "      <td>100.0</td>\n",
       "      <td>100</td>\n",
       "    </tr>\n",
       "    <tr>\n",
       "      <th>338</th>\n",
       "      <td>WK2HfUtX0PfZDiuYfnmn_004</td>\n",
       "      <td>\"คำสอนต้องเชื่อว่าพระสันตะปาปาไม่เคยผิดพลาดในการกำหนดหลักความเชื่อและศีลธรรม\" มีประกาศขึ้นเมื่อใด</td>\n",
       "      <td>ค.ศ. 1870</td>\n",
       "      <td>ค.ศ. 1950</td>\n",
       "      <td>66.666667</td>\n",
       "      <td>78</td>\n",
       "      <td>ค.ศ. 1870</td>\n",
       "      <td>100.0</td>\n",
       "      <td>100</td>\n",
       "    </tr>\n",
       "    <tr>\n",
       "      <th>650</th>\n",
       "      <td>zN5CMTrctw5KbMsAqTyS_001</td>\n",
       "      <td>โรงเรียนวัดน้อยนพคุณ สอนระดับอะไร</td>\n",
       "      <td>ระดับมัธยมศึกษา</td>\n",
       "      <td>มัธยมศึกษา</td>\n",
       "      <td>66.666667</td>\n",
       "      <td>100</td>\n",
       "      <td>ระดับมัธยมศึกษา</td>\n",
       "      <td>100.0</td>\n",
       "      <td>100</td>\n",
       "    </tr>\n",
       "    <tr>\n",
       "      <th>223</th>\n",
       "      <td>Khk0jiSWQG3NDYIRa2Qu_000</td>\n",
       "      <td>โดนต์เซย์ยูเลิฟมี เป็นซิงเกิลเปิดตัวของวงอะไร</td>\n",
       "      <td>วงเอ็มทูเอ็ม</td>\n",
       "      <td>เอ็มทูเอ็ม ดูโอ</td>\n",
       "      <td>66.666667</td>\n",
       "      <td>83</td>\n",
       "      <td>วงเอ็มทูเอ็ม</td>\n",
       "      <td>100.0</td>\n",
       "      <td>100</td>\n",
       "    </tr>\n",
       "    <tr>\n",
       "      <th>70</th>\n",
       "      <td>7kWgUx05OcXXoSuKPWl3_001</td>\n",
       "      <td>ครัชออน เป็นอัมบั้มของใคร</td>\n",
       "      <td>ภคมน บุณยะภูติ</td>\n",
       "      <td>ภคมน บุณยะภูติหรือลูกโป่ง af4</td>\n",
       "      <td>70.588235</td>\n",
       "      <td>100</td>\n",
       "      <td>ภคมน บุณยะภูติ</td>\n",
       "      <td>100.0</td>\n",
       "      <td>100</td>\n",
       "    </tr>\n",
       "    <tr>\n",
       "      <th>608</th>\n",
       "      <td>tdd6kO6Iw04Wp8K0Ah4A_004</td>\n",
       "      <td>ศตวรรษ เศรษฐกร สมรสกับใคร</td>\n",
       "      <td>เอริน ไซย์</td>\n",
       "      <td>เอริน ไซย์ สตรีลูกครึ่งญี่ปุ่น</td>\n",
       "      <td>71.428571</td>\n",
       "      <td>100</td>\n",
       "      <td>เอริน ไซย์</td>\n",
       "      <td>100.0</td>\n",
       "      <td>100</td>\n",
       "    </tr>\n",
       "    <tr>\n",
       "      <th>442</th>\n",
       "      <td>e5VxIZKGUZNsqwStD0V7_002</td>\n",
       "      <td>ธนโชติ กุสุมรสนานันท์ เป็นที่รู้จักจากการแข่งขันรายการอะไร</td>\n",
       "      <td>เดอะสตาร์ ค้นฟ้าคว้าดาว ปี 11</td>\n",
       "      <td>เดอะสตาร์ ค้นฟ้าคว้าดาว</td>\n",
       "      <td>75.000000</td>\n",
       "      <td>100</td>\n",
       "      <td>เดอะสตาร์ ค้นฟ้าคว้าดาว ปี 11</td>\n",
       "      <td>100.0</td>\n",
       "      <td>100</td>\n",
       "    </tr>\n",
       "    <tr>\n",
       "      <th>606</th>\n",
       "      <td>tdd6kO6Iw04Wp8K0Ah4A_002</td>\n",
       "      <td>ศตวรรษ เศรษฐกร เกิดที่จังหวัดอะไร</td>\n",
       "      <td>จังหวัดกาญจนบุรี</td>\n",
       "      <td>ที่จังหวัดกาญจนบุรี</td>\n",
       "      <td>80.000000</td>\n",
       "      <td>100</td>\n",
       "      <td>จังหวัดกาญจนบุรี</td>\n",
       "      <td>100.0</td>\n",
       "      <td>100</td>\n",
       "    </tr>\n",
       "    <tr>\n",
       "      <th>45</th>\n",
       "      <td>5tqFr8zFIJvE6uQqXJ7H_005</td>\n",
       "      <td>ตีพิมพ์ในนิตยสาร ชื่อว่าอะไร</td>\n",
       "      <td>ยัง แอนิมอล</td>\n",
       "      <td>แอนิมอล</td>\n",
       "      <td>80.000000</td>\n",
       "      <td>100</td>\n",
       "      <td>ยัง แอนิมอล</td>\n",
       "      <td>100.0</td>\n",
       "      <td>100</td>\n",
       "    </tr>\n",
       "    <tr>\n",
       "      <th>158</th>\n",
       "      <td>GpA8cQoTE0FRSVMIfwmx_001</td>\n",
       "      <td>ดอยหล่อ แยกพื้นที่ออกจากอำเภออะไร</td>\n",
       "      <td>อำเภอจอมทอง</td>\n",
       "      <td>จอมทอง</td>\n",
       "      <td>80.000000</td>\n",
       "      <td>100</td>\n",
       "      <td>อำเภอจอมทอง</td>\n",
       "      <td>100.0</td>\n",
       "      <td>100</td>\n",
       "    </tr>\n",
       "    <tr>\n",
       "      <th>189</th>\n",
       "      <td>IsDU5EcltUTy8qS2lst8_000</td>\n",
       "      <td>ประเทศเกาหลีใต้ เข้าร่วมแข่งขันกีฬาอะไร</td>\n",
       "      <td>กีฬาโอลิมปิก</td>\n",
       "      <td>แข่งขันกีฬาโอลิมปิก</td>\n",
       "      <td>80.000000</td>\n",
       "      <td>100</td>\n",
       "      <td>กีฬาโอลิมปิก</td>\n",
       "      <td>100.0</td>\n",
       "      <td>100</td>\n",
       "    </tr>\n",
       "    <tr>\n",
       "      <th>3</th>\n",
       "      <td>1pHZpClsr7QtLpXE7OsW_001</td>\n",
       "      <td>ปิติพงษ์ กุลดิลก เคยทำอาชีพอะไรมาก่อน</td>\n",
       "      <td>นักกีฬาฟุตบอล</td>\n",
       "      <td>เป็นนักกีฬาฟุตบอล</td>\n",
       "      <td>80.000000</td>\n",
       "      <td>100</td>\n",
       "      <td>นักกีฬาฟุตบอล</td>\n",
       "      <td>100.0</td>\n",
       "      <td>100</td>\n",
       "    </tr>\n",
       "    <tr>\n",
       "      <th>478</th>\n",
       "      <td>hioO0n7P6vCTEHksOPFj_004</td>\n",
       "      <td>หวังปัวนั้นเป็นเพื่อนสนิทของใคร</td>\n",
       "      <td>หลัวปินหวัง</td>\n",
       "      <td>หลัวปิน</td>\n",
       "      <td>80.000000</td>\n",
       "      <td>100</td>\n",
       "      <td>หลัวปินหวัง</td>\n",
       "      <td>100.0</td>\n",
       "      <td>100</td>\n",
       "    </tr>\n",
       "    <tr>\n",
       "      <th>334</th>\n",
       "      <td>W2sSdQ4VkNDY3z1dLi6X_004</td>\n",
       "      <td>เจ้าแก้วนวรัฐ เป็นเจ้าผู้ครองนครเชียงใหม่องค์ที่ 9 แห่งราชวงศ์อะไร</td>\n",
       "      <td>ราชวงศ์ทิพย์จักร</td>\n",
       "      <td>ทิพย์จักร</td>\n",
       "      <td>80.000000</td>\n",
       "      <td>100</td>\n",
       "      <td>ราชวงศ์ทิพย์จักร</td>\n",
       "      <td>100.0</td>\n",
       "      <td>100</td>\n",
       "    </tr>\n",
       "    <tr>\n",
       "      <th>495</th>\n",
       "      <td>jykECpZ63qP8veGTsbzb_004</td>\n",
       "      <td>สงครามประกาศอิสรภาพสกอตแลนด์ เปิดฉากขึ้นด้วยการรุกรานของฝ่ายใด</td>\n",
       "      <td>ฝ่ายอังกฤษ</td>\n",
       "      <td>ของฝ่ายอังกฤษ</td>\n",
       "      <td>80.000000</td>\n",
       "      <td>100</td>\n",
       "      <td>ฝ่ายอังกฤษ</td>\n",
       "      <td>100.0</td>\n",
       "      <td>100</td>\n",
       "    </tr>\n",
       "    <tr>\n",
       "      <th>609</th>\n",
       "      <td>tgRTULlPuemkQUWv2G8C_000</td>\n",
       "      <td>สะพานมิตรภาพไทย-ลาว 3 สร้างขึ้นเมื่อไหร่</td>\n",
       "      <td>11 พฤศจิกายน พ.ศ. 2554</td>\n",
       "      <td>ในวันที่ 11 พฤศจิกายน พ.ศ. 2554</td>\n",
       "      <td>82.352941</td>\n",
       "      <td>100</td>\n",
       "      <td>11 พฤศจิกายน พ.ศ. 2554</td>\n",
       "      <td>100.0</td>\n",
       "      <td>100</td>\n",
       "    </tr>\n",
       "    <tr>\n",
       "      <th>339</th>\n",
       "      <td>WOj7bFv9nln3HJ7oTDfY_000</td>\n",
       "      <td>1984 เป็นนวนิยายแนวใด</td>\n",
       "      <td>ดิสโทเปีย</td>\n",
       "      <td>นวนิยายดิสโทเปีย</td>\n",
       "      <td>85.714286</td>\n",
       "      <td>100</td>\n",
       "      <td>ดิสโทเปีย</td>\n",
       "      <td>100.0</td>\n",
       "      <td>100</td>\n",
       "    </tr>\n",
       "    <tr>\n",
       "      <th>52</th>\n",
       "      <td>6oOvX1bEfPq62jqsoUqM_002</td>\n",
       "      <td>ตานดำกระจายพันธุ์ไปที่ใด</td>\n",
       "      <td>อินเดียถึงเอเชียตะวันออกเฉียงใต้</td>\n",
       "      <td>ในอินเดียถึงเอเชียตะวันออกเฉียงใต้</td>\n",
       "      <td>85.714286</td>\n",
       "      <td>100</td>\n",
       "      <td>อินเดียถึงเอเชียตะวันออกเฉียงใต้</td>\n",
       "      <td>100.0</td>\n",
       "      <td>100</td>\n",
       "    </tr>\n",
       "    <tr>\n",
       "      <th>154</th>\n",
       "      <td>Gh5T3VGrULp4HblYPOUS_002</td>\n",
       "      <td>วันเกิดของกิมย้ง?</td>\n",
       "      <td>10 มีนาคม ค.ศ. 1924</td>\n",
       "      <td>วันที่ 10 มีนาคม ค.ศ. 1924</td>\n",
       "      <td>87.500000</td>\n",
       "      <td>100</td>\n",
       "      <td>10 มีนาคม ค.ศ. 1924</td>\n",
       "      <td>100.0</td>\n",
       "      <td>100</td>\n",
       "    </tr>\n",
       "    <tr>\n",
       "      <th>285</th>\n",
       "      <td>T6wSCcS7Hy9QcG4JV9hu_000</td>\n",
       "      <td>พังก์ร็อก คืออะไร</td>\n",
       "      <td>ดนตรีร็อกประเภทหนึ่ง</td>\n",
       "      <td>เป็นดนตรีร็อกประเภทหนึ่ง</td>\n",
       "      <td>88.888889</td>\n",
       "      <td>100</td>\n",
       "      <td>ดนตรีร็อกประเภทหนึ่ง</td>\n",
       "      <td>100.0</td>\n",
       "      <td>100</td>\n",
       "    </tr>\n",
       "    <tr>\n",
       "      <th>480</th>\n",
       "      <td>j5jDkthGOw9bJSjX1pBR_000</td>\n",
       "      <td>ภาษาบาเลนเซียจัดอยู่ในกลุ่มภาษาอะไร</td>\n",
       "      <td>ภาษากาตาลาตะวันตก</td>\n",
       "      <td>กาตาลาตะวันตก</td>\n",
       "      <td>88.888889</td>\n",
       "      <td>100</td>\n",
       "      <td>ภาษากาตาลาตะวันตก</td>\n",
       "      <td>100.0</td>\n",
       "      <td>100</td>\n",
       "    </tr>\n",
       "    <tr>\n",
       "      <th>244</th>\n",
       "      <td>N35drponWNTJE9BGy2lS_000</td>\n",
       "      <td>ศึกดีซีพีเวิลด์มวยไทยซุปเปอร์ไฟท์ เป็นรายการอะไร</td>\n",
       "      <td>รายการโทรทัศน์ถ่ายทอดสดกีฬามวยไทย</td>\n",
       "      <td>เป็นรายการโทรทัศน์ถ่ายทอดสดกีฬามวยไทย</td>\n",
       "      <td>88.888889</td>\n",
       "      <td>100</td>\n",
       "      <td>รายการโทรทัศน์ถ่ายทอดสดกีฬามวยไทย</td>\n",
       "      <td>100.0</td>\n",
       "      <td>100</td>\n",
       "    </tr>\n",
       "    <tr>\n",
       "      <th>228</th>\n",
       "      <td>Kyj5nGPNftBOlA9gWKYc_001</td>\n",
       "      <td>วิทยาลัยเทคโนโลยีบริหารธุรกิจรักไทย สิรินธร อยู่ในสังกัดอะไร</td>\n",
       "      <td>สำนักงานคณะกรรมการการอาชีวศึกษา</td>\n",
       "      <td>ในสังกัดสำนักงานคณะกรรมการการอาชีวศึกษา</td>\n",
       "      <td>88.888889</td>\n",
       "      <td>100</td>\n",
       "      <td>สำนักงานคณะกรรมการการอาชีวศึกษา</td>\n",
       "      <td>100.0</td>\n",
       "      <td>100</td>\n",
       "    </tr>\n",
       "    <tr>\n",
       "      <th>139</th>\n",
       "      <td>FFzDRwSqYuO5OTdKQd0B_002</td>\n",
       "      <td>ธงไชยแมคอินไตย์เป็นนักร้องในสังกัดค่ายใด</td>\n",
       "      <td>จีเอ็มเอ็ม แกรมมี่ จำกัด (มหาชน)</td>\n",
       "      <td>บริษัท จีเอ็มเอ็ม แกรมมี่ จำกัด (มหาชน)</td>\n",
       "      <td>90.000000</td>\n",
       "      <td>98</td>\n",
       "      <td>จีเอ็มเอ็ม แกรมมี่ จำกัด (มหาชน)</td>\n",
       "      <td>100.0</td>\n",
       "      <td>100</td>\n",
       "    </tr>\n",
       "    <tr>\n",
       "      <th>87</th>\n",
       "      <td>AJxNSv4lXJWFr1wg48ZN_003</td>\n",
       "      <td>ปลาก้างพระร่วงมีถิ่นที่อยู่อาศัยเป็นลักษณะใดอธิบาย</td>\n",
       "      <td>อาศัยอยู่ตามแม่น้ำลำธารที่มีกระแสน้ำไหลแรงในภาคกลาง ภาคตะวันออก และภาคใต้ของประเทศ</td>\n",
       "      <td>แม่น้ำลำธารที่มีกระแสน้ำไหลแรงในภาคกลาง ภาคตะวันออก และภาคใต้ของประเทศ</td>\n",
       "      <td>92.307692</td>\n",
       "      <td>100</td>\n",
       "      <td>อาศัยอยู่ตามแม่น้ำลำธารที่มีกระแสน้ำไหลแรงในภาคกลาง ภาคตะวันออก และภาคใต้ของประเทศ</td>\n",
       "      <td>100.0</td>\n",
       "      <td>100</td>\n",
       "    </tr>\n",
       "    <tr>\n",
       "      <th>114</th>\n",
       "      <td>CuH3DbNPQi3wmQT54wwQ_001</td>\n",
       "      <td>ซูปเปอร์มูนครั้งก่อนเกิดขึ้นเมื่อเดือนอะไร และพ.ศ.อะไร</td>\n",
       "      <td>เดือนกันยายน พ.ศ.​ 2558</td>\n",
       "      <td>กันยายน พ.ศ.​ 2558</td>\n",
       "      <td>92.307692</td>\n",
       "      <td>100</td>\n",
       "      <td>เดือนกันยายน พ.ศ.​ 2558</td>\n",
       "      <td>100.0</td>\n",
       "      <td>100</td>\n",
       "    </tr>\n",
       "    <tr>\n",
       "      <th>465</th>\n",
       "      <td>fxTQ2IUh0WoVnl1ppX1B_000</td>\n",
       "      <td>ยุทธการที่นิวบรีครั้งที่ 1 เป็นยุทรการอะไร</td>\n",
       "      <td>สงครามกลางเมืองอังกฤษครั้งที่ 1</td>\n",
       "      <td>ในสงครามกลางเมืองอังกฤษครั้งที่ 1</td>\n",
       "      <td>92.307692</td>\n",
       "      <td>100</td>\n",
       "      <td>สงครามกลางเมืองอังกฤษครั้งที่ 1</td>\n",
       "      <td>100.0</td>\n",
       "      <td>100</td>\n",
       "    </tr>\n",
       "    <tr>\n",
       "      <th>464</th>\n",
       "      <td>fqfRfk8evDNz7ONYj8kD_003</td>\n",
       "      <td>ในปีพ.ศ. 2504 ใครเป็นคนเรียกชื่อวัดเป็น วัดบ้านน้ำใส</td>\n",
       "      <td>พระง่อง จนตสีโล</td>\n",
       "      <td>มีพระง่อง จนตสีโล</td>\n",
       "      <td>93.333333</td>\n",
       "      <td>97</td>\n",
       "      <td>พระง่อง จนตสีโล</td>\n",
       "      <td>100.0</td>\n",
       "      <td>100</td>\n",
       "    </tr>\n",
       "    <tr>\n",
       "      <th>287</th>\n",
       "      <td>T6wSCcS7Hy9QcG4JV9hu_002</td>\n",
       "      <td>ระหว่างปี ค.ศ. 1974 และ ค.ศ. 1977 พังก์ร็อกได้ถูกพัฒนาในประเทศใดบ้าง</td>\n",
       "      <td>สหรัฐอเมริกา, สหราชอาณาจักร และ ออสเตรเลีย</td>\n",
       "      <td>ในสหรัฐอเมริกา, สหราชอาณาจักร และ ออสเตรเลีย</td>\n",
       "      <td>94.117647</td>\n",
       "      <td>100</td>\n",
       "      <td>สหรัฐอเมริกา, สหราชอาณาจักร และ ออสเตรเลีย</td>\n",
       "      <td>100.0</td>\n",
       "      <td>100</td>\n",
       "    </tr>\n",
       "    <tr>\n",
       "      <th>468</th>\n",
       "      <td>fxTQ2IUh0WoVnl1ppX1B_003</td>\n",
       "      <td>ยุทธการที่นิวบรีครั้งที่ 1 เป็นการต่อสู้รหว่างใคร</td>\n",
       "      <td>กองทัพของฝ่ายนิยมกษัตริย์ของพระเจ้าชาลส์ที่ 1</td>\n",
       "      <td>ของฝ่ายนิยมกษัตริย์ของพระเจ้าชาลส์ที่ 1</td>\n",
       "      <td>95.652174</td>\n",
       "      <td>100</td>\n",
       "      <td>กองทัพของฝ่ายนิยมกษัตริย์ของพระเจ้าชาลส์ที่ 1</td>\n",
       "      <td>100.0</td>\n",
       "      <td>100</td>\n",
       "    </tr>\n",
       "    <tr>\n",
       "      <th>556</th>\n",
       "      <td>nvuuq0WU87n5jyOR5obi_000</td>\n",
       "      <td>เกาะคีวชูคืออะไร</td>\n",
       "      <td>เกาะที่มีขนาดใหญ่เป็นอันดับ 3 ของประเทศญี่ปุ่น</td>\n",
       "      <td>เป็นเกาะที่มีขนาดใหญ่เป็นอันดับ 3 ของประเทศญี่ปุ่น</td>\n",
       "      <td>96.000000</td>\n",
       "      <td>100</td>\n",
       "      <td>เกาะที่มีขนาดใหญ่เป็นอันดับ 3 ของประเทศญี่ปุ่น</td>\n",
       "      <td>100.0</td>\n",
       "      <td>100</td>\n",
       "    </tr>\n",
       "  </tbody>\n",
       "</table>\n",
       "</div>"
      ],
      "text/plain": [
       "                           id  \\\n",
       "406  bpJegMoxglH9pw81Twcx_004   \n",
       "479  iPqFGfJfyRwBMRdpJGjR_004   \n",
       "34   4VzSiTQUkEYvvwqX2mrU_004   \n",
       "500  kcBcsOOHl1AFkBBmxq6L_004   \n",
       "47   5tqFr8zFIJvE6uQqXJ7H_007   \n",
       "549  n3rJc6GRdfaU4MO3Xsum_003   \n",
       "475  gaBznBUpXw7qSvFaQ4kP_004   \n",
       "88   AJxNSv4lXJWFr1wg48ZN_004   \n",
       "375  XlXpU8w6aUcV1Y7M6VrR_004   \n",
       "110  BVccu2vbXhlKavM15M2p_002   \n",
       "510  l1eNQQZmVIYlkrem4xo8_004   \n",
       "542  mIEUhmVfrZlOz9y3WMaY_004   \n",
       "509  l1eNQQZmVIYlkrem4xo8_003   \n",
       "572  onsIqe2KNjtw2qu4bL1B_000   \n",
       "30   4DXNngdRuttYF6DgsF1H_001   \n",
       "575  onsIqe2KNjtw2qu4bL1B_003   \n",
       "635  xQVJ3NCRkMXS28QJpCyU_004   \n",
       "155  Gh5T3VGrULp4HblYPOUS_003   \n",
       "152  Gh5T3VGrULp4HblYPOUS_000   \n",
       "485  jcC5YDlxyw1edEbDMnez_003   \n",
       "248  N35drponWNTJE9BGy2lS_004   \n",
       "421  ctXxwh1mGOGCgiasfBrK_005   \n",
       "432  dBXCgEwtZkNCsX9RWubo_001   \n",
       "205  Juy8PqofQQuRJXM9LT3A_002   \n",
       "232  LXbbBplLMTGicMcRcwuj_001   \n",
       "333  W2sSdQ4VkNDY3z1dLi6X_003   \n",
       "508  l1eNQQZmVIYlkrem4xo8_002   \n",
       "411  cdS8ORNMM9iEgmR2Ua0m_000   \n",
       "444  e5VxIZKGUZNsqwStD0V7_004   \n",
       "368  Xf9Eov8n6X21Qv8wtq5g_004   \n",
       "534  lnXZtRQ6zgJtElYJe1Kd_003   \n",
       "19   3x7OrbaHtZPRCiNV4Pm6_004   \n",
       "537  lpbzKYcVTkgTu1RNpIj8_001   \n",
       "246  N35drponWNTJE9BGy2lS_002   \n",
       "230  Kyj5nGPNftBOlA9gWKYc_003   \n",
       "653  zN5CMTrctw5KbMsAqTyS_004   \n",
       "531  lnXZtRQ6zgJtElYJe1Kd_000   \n",
       "283  Sw8hZjR4crKekUP4vEgK_003   \n",
       "443  e5VxIZKGUZNsqwStD0V7_003   \n",
       "548  n3rJc6GRdfaU4MO3Xsum_002   \n",
       "560  nvuuq0WU87n5jyOR5obi_004   \n",
       "378  YJZxmyxqHLoM0AbyPtKP_000   \n",
       "341  WOj7bFv9nln3HJ7oTDfY_002   \n",
       "349  WrcScfge1kj3d7fPRMjc_000   \n",
       "157  GpA8cQoTE0FRSVMIfwmx_000   \n",
       "126  DiPQsuesveJren3LbElk_001   \n",
       "120  Cz7K5Bg0pmW8Ecn0NsyS_002   \n",
       "108  BVccu2vbXhlKavM15M2p_000   \n",
       "106  BOGCaXXwgyY1bvhw1Cgd_000   \n",
       "252  NE1CdYOtEv83BbKIcZq3_003   \n",
       "360  XHdXAShicgjJXf2L3cw1_003   \n",
       "255  OI8qJ97eGWpwIhuFP7pk_000   \n",
       "338  WK2HfUtX0PfZDiuYfnmn_004   \n",
       "650  zN5CMTrctw5KbMsAqTyS_001   \n",
       "223  Khk0jiSWQG3NDYIRa2Qu_000   \n",
       "70   7kWgUx05OcXXoSuKPWl3_001   \n",
       "608  tdd6kO6Iw04Wp8K0Ah4A_004   \n",
       "442  e5VxIZKGUZNsqwStD0V7_002   \n",
       "606  tdd6kO6Iw04Wp8K0Ah4A_002   \n",
       "45   5tqFr8zFIJvE6uQqXJ7H_005   \n",
       "158  GpA8cQoTE0FRSVMIfwmx_001   \n",
       "189  IsDU5EcltUTy8qS2lst8_000   \n",
       "3    1pHZpClsr7QtLpXE7OsW_001   \n",
       "478  hioO0n7P6vCTEHksOPFj_004   \n",
       "334  W2sSdQ4VkNDY3z1dLi6X_004   \n",
       "495  jykECpZ63qP8veGTsbzb_004   \n",
       "609  tgRTULlPuemkQUWv2G8C_000   \n",
       "339  WOj7bFv9nln3HJ7oTDfY_000   \n",
       "52   6oOvX1bEfPq62jqsoUqM_002   \n",
       "154  Gh5T3VGrULp4HblYPOUS_002   \n",
       "285  T6wSCcS7Hy9QcG4JV9hu_000   \n",
       "480  j5jDkthGOw9bJSjX1pBR_000   \n",
       "244  N35drponWNTJE9BGy2lS_000   \n",
       "228  Kyj5nGPNftBOlA9gWKYc_001   \n",
       "139  FFzDRwSqYuO5OTdKQd0B_002   \n",
       "87   AJxNSv4lXJWFr1wg48ZN_003   \n",
       "114  CuH3DbNPQi3wmQT54wwQ_001   \n",
       "465  fxTQ2IUh0WoVnl1ppX1B_000   \n",
       "464  fqfRfk8evDNz7ONYj8kD_003   \n",
       "287  T6wSCcS7Hy9QcG4JV9hu_002   \n",
       "468  fxTQ2IUh0WoVnl1ppX1B_003   \n",
       "556  nvuuq0WU87n5jyOR5obi_000   \n",
       "\n",
       "                                                                                              question  \\\n",
       "406  นางเอกในเรื่องสัญญารัก วันหิมะโปรยมาจากประเทศไหน                                                    \n",
       "479  ปลากัดเขียวมีชื่อเรียกทางพื้นเมืองว่าอะไร                                                           \n",
       "34   ปลาบู่เขือคางยื่นในแวดวงปลาสวยงามมีชื่อเรียกว่าอะไร                                                 \n",
       "500  ในหนังสือแห่งความตาย เมืองไทนิสมีบทบาทเป็นตำนานเรื่องใด                                             \n",
       "47   ตีพิมพ์ครั้งแรกในประเทศไทยเมื่อไร                                                                   \n",
       "549  ใครปกครองแต่ละจังหวัด                                                                               \n",
       "475  รายละเอียดของสินค้า                                                                                 \n",
       "88   ปลาก้างพระร่วงเคยถูกค้นพบที่ต่างประเทศคือที่ใด                                                      \n",
       "375  เอ็ดเวิร์ด มโพฟู ป้องกันแชม กับใคร                                                                  \n",
       "110  โอลิวีน มีอีกความหมายว่าอะไร                                                                        \n",
       "510  แลนดอน รอลลิน คาร์เตอร์ คือใคร                                                                      \n",
       "542  เอ็ด และลอร์เรน วอร์เรนคือใคร                                                                       \n",
       "509  ตัวเอกของเรื่องก้าวสู่ฝันวันหัวใจพบรักชื่อว่าอะไร                                                   \n",
       "572  การทำให้เป็นอาณานิคมของยุโรปในทวีปอเมริกา มีจุดประสงค์อะไร                                          \n",
       "30   ปัจจุบันมีตำแหน่งอะไร                                                                               \n",
       "575  คริสโตเฟอร์ โคลัมบัสได้ค้นพบ โลกใหม่ ชื่อว่าอะไร                                                    \n",
       "635  อะตอม ปรากฏตัวครั้งแรกในการ์ตูนวันที่เท่าไร                                                         \n",
       "155  สถานที่เกิดของกิมย้ง?                                                                               \n",
       "152  กิมย้งเสียชีวิตวันที่เท่าไหร่?                                                                      \n",
       "485  ใครเป็นู้แต่งโรบินสัน ครูโซ                                                                         \n",
       "248  ศึกดีซีพีเวิลด์มวยไทยซุปเปอร์ไฟท์ เริ่มในวันที่เท่าไร                                               \n",
       "421  วู้ดดี้เวิลด์ผลิตรายการอะไรบ้าง                                                                     \n",
       "432  เพลงเพื่อชีวิตแรกเริ่มหมายถึงเพลงที่มีเนื้อหากล่าวถึงสิ่งใด                                         \n",
       "205  เขตปริมณฑลและเมืองหลวงแห่งชาติ (เกาหลีใต้) รวมเขตการปกครองระดับจังหวัดไว้เขตใดบ้าง                  \n",
       "232  มดหมอหมายความว่าอะไร                                                                                \n",
       "333  เจ้าแก้วนวรัฐ เป็นเจ้าผู้ครองนครเชียงใหม่องค์ที่เท่าไร                                              \n",
       "508  ก้าวสู่ฝันวันหัวใจพบรักนำแสดงโดยใคร                                                                 \n",
       "411  วิวัฒน์ มิลินทจินดา เกิดปีอะไร                                                                      \n",
       "444  ธนโชติ กุสุมรสนานันท์ มีพี่น้องกี่คน                                                                \n",
       "368  กัปตันอเมริกา: ศึกฮีโร่ระห่ำโลกเรื่มต้นถ่ายทำช่วงไหน                                                \n",
       "534  บรรทัดห้าเส้นจึงสามารถบันทึกระดับเสียงของตัวโน้ตได้กี่ระดับ ?                                       \n",
       "19   เวลาที่เสด็จประพาสทั้งสิ้นจำนวนกี่วัน                                                               \n",
       "537  นิวไคลด์ ที่เกิดจากอะไร                                                                             \n",
       "246  ศึกดีซีพีเวิลด์มวยไทยซุปเปอร์ไฟท์ รายการนี้ทำการถ่ายทอดทางช่องอะไร                                  \n",
       "230  วิทยาลัยเทคโนโลยีบริหารธุรกิจรักไทย สิรินธร ตั้งอยู่ที่ไหน                                          \n",
       "653  โรงเรียนวัดน้อยนพคุณ ปัจจุบันตั้งอยู่ที่ไหน                                                         \n",
       "531  บรรทัดห้าเส้น (อังกฤษอเมริกัน: staff; อังกฤษบริเตน: stave) คือ ?                                    \n",
       "283  อุโมงค์ฐานก็อทฮาร์ท สามารถรองรับรถไฟได้กี่ขบวน                                                      \n",
       "443  ธนโชติ กุสุมรสนานันท์ เกิดที่ไหน                                                                    \n",
       "548  จังหวัดถือเป็นการปกครองของใครในลำดับแรก                                                             \n",
       "560  ชื่อคีวชูหมายถึงอะไร                                                                                \n",
       "378  ผู้ชาย 2 อดีต คือภาพยนตร์แนวอะไร                                                                    \n",
       "341  จอร์จ ออร์เวลล์เป็นนักเขียนประเทศใด                                                                 \n",
       "349  ลูพิน เป็นพืชดอกที่อยู่ในสกุลอะไร                                                                   \n",
       "157  ดอยหล่อ เป็นอำเภอหนึ่งของจังหวัดอะไร                                                                \n",
       "126  เกิลส์เดย์ สัญชาติอะไร                                                                              \n",
       "120  จีจ้า เป็นภาษาอะไร                                                                                  \n",
       "108  โอลิวีน เป็นภาษาอะไร                                                                                \n",
       "106  ต้นกาหลงมีถิ่นกำเนิดที่ไหน                                                                          \n",
       "252  แอนโธซัวแบ่งออกเป็นกี่กลุ่ม                                                                         \n",
       "360  แผ่นดินไหวในโพฮัง เกิดขึ้นที่จังหวัดอะไร                                                            \n",
       "255  อำเภอพังโคน อยู่ในจังหวัดอะไร                                                                       \n",
       "338  \"คำสอนต้องเชื่อว่าพระสันตะปาปาไม่เคยผิดพลาดในการกำหนดหลักความเชื่อและศีลธรรม\" มีประกาศขึ้นเมื่อใด   \n",
       "650  โรงเรียนวัดน้อยนพคุณ สอนระดับอะไร                                                                   \n",
       "223  โดนต์เซย์ยูเลิฟมี เป็นซิงเกิลเปิดตัวของวงอะไร                                                       \n",
       "70   ครัชออน เป็นอัมบั้มของใคร                                                                           \n",
       "608  ศตวรรษ เศรษฐกร สมรสกับใคร                                                                           \n",
       "442  ธนโชติ กุสุมรสนานันท์ เป็นที่รู้จักจากการแข่งขันรายการอะไร                                          \n",
       "606  ศตวรรษ เศรษฐกร เกิดที่จังหวัดอะไร                                                                   \n",
       "45   ตีพิมพ์ในนิตยสาร ชื่อว่าอะไร                                                                        \n",
       "158  ดอยหล่อ แยกพื้นที่ออกจากอำเภออะไร                                                                   \n",
       "189  ประเทศเกาหลีใต้ เข้าร่วมแข่งขันกีฬาอะไร                                                             \n",
       "3    ปิติพงษ์ กุลดิลก เคยทำอาชีพอะไรมาก่อน                                                               \n",
       "478  หวังปัวนั้นเป็นเพื่อนสนิทของใคร                                                                     \n",
       "334  เจ้าแก้วนวรัฐ เป็นเจ้าผู้ครองนครเชียงใหม่องค์ที่ 9 แห่งราชวงศ์อะไร                                  \n",
       "495  สงครามประกาศอิสรภาพสกอตแลนด์ เปิดฉากขึ้นด้วยการรุกรานของฝ่ายใด                                      \n",
       "609  สะพานมิตรภาพไทย-ลาว 3 สร้างขึ้นเมื่อไหร่                                                            \n",
       "339  1984 เป็นนวนิยายแนวใด                                                                               \n",
       "52   ตานดำกระจายพันธุ์ไปที่ใด                                                                            \n",
       "154  วันเกิดของกิมย้ง?                                                                                   \n",
       "285  พังก์ร็อก คืออะไร                                                                                   \n",
       "480  ภาษาบาเลนเซียจัดอยู่ในกลุ่มภาษาอะไร                                                                 \n",
       "244  ศึกดีซีพีเวิลด์มวยไทยซุปเปอร์ไฟท์ เป็นรายการอะไร                                                    \n",
       "228  วิทยาลัยเทคโนโลยีบริหารธุรกิจรักไทย สิรินธร อยู่ในสังกัดอะไร                                        \n",
       "139  ธงไชยแมคอินไตย์เป็นนักร้องในสังกัดค่ายใด                                                            \n",
       "87   ปลาก้างพระร่วงมีถิ่นที่อยู่อาศัยเป็นลักษณะใดอธิบาย                                                  \n",
       "114  ซูปเปอร์มูนครั้งก่อนเกิดขึ้นเมื่อเดือนอะไร และพ.ศ.อะไร                                              \n",
       "465  ยุทธการที่นิวบรีครั้งที่ 1 เป็นยุทรการอะไร                                                          \n",
       "464  ในปีพ.ศ. 2504 ใครเป็นคนเรียกชื่อวัดเป็น วัดบ้านน้ำใส                                                \n",
       "287  ระหว่างปี ค.ศ. 1974 และ ค.ศ. 1977 พังก์ร็อกได้ถูกพัฒนาในประเทศใดบ้าง                                \n",
       "468  ยุทธการที่นิวบรีครั้งที่ 1 เป็นการต่อสู้รหว่างใคร                                                   \n",
       "556  เกาะคีวชูคืออะไร                                                                                    \n",
       "\n",
       "                                                                                             answer_text  \\\n",
       "406  ญี่ปุ่น                                                                                               \n",
       "479  ปลากัดอีสาน                                                                                           \n",
       "34   มังกรแยงซีเกียง                                                                                       \n",
       "500  ตำนานในสวรรค์                                                                                         \n",
       "47   พ.ศ. 2560                                                                                             \n",
       "549  ผู้ว่าราชการจังหวัด                                                                                   \n",
       "475  ใช้สำหรับงานตกแต่งภายในทั่วไป เช่น ฉากกั้นที่มีเฟรมต่างๆ หน้าบานตู้ ประตู และ หน้าต่างเข้าเฟรมต่างๆ   \n",
       "88   รัฐปีนังของมาเลเซีย                                                                                   \n",
       "375  อินโดนเซนต์ มทาลาเน                                                                                   \n",
       "110  แร่ประกอบหิน                                                                                          \n",
       "510  นักเรียนชายเสน่ห์แรงวัย 17 ของโรงเรียนมัธยมปลายแห่งหนึ่ง                                              \n",
       "542  คู่สามีภรรยาซึ่งเป็นนักปิศาจวิทยาและนักสืบสวนสอบสวนเรื่องลึกลับเหนือธรรมชาติที่มีชื่อเสียง            \n",
       "509  แลนดอน รอลลิน คาร์เตอร์                                                                               \n",
       "572  เพื่อหาคู่ค้าขายใหม่                                                                                  \n",
       "30   เป็นผู้ฝึกสอนการรักษาประตูให้แก่สโมสรฟุตบอลอาร์เซนอล                                                  \n",
       "575  ทวีปอเมริกา                                                                                           \n",
       "635  ตุลาคม 1961                                                                                           \n",
       "155  อำเภอไฮ้เล้ง เขตไห่หนิง มณฑลเจ้อเจียง แห่งภาคตะวันออกของจีน                                           \n",
       "152  30 ตุลาคม พ.ศ. 2561                                                                                   \n",
       "485  แดเนียล เดโฟ                                                                                          \n",
       "248  12 กุมภาพันธ์ พ.ศ. 2562                                                                               \n",
       "421  รายการวู้ดดี้ เกิดมาคุย และ รายการเช้าดูวู้ดดี้                                                       \n",
       "432  ชีวิตของคน โดยเฉพาะคนชนชั้นล่าง กล่าวถึงความยากลำบากในการใช้ชีวิต การถูกเอารัดเอาเปรียบ               \n",
       "205  3 เขต คือ โซล, อินช็อน และจังหวัดคย็องกี                                                              \n",
       "232  หมอทั่ว ๆ ไป                                                                                          \n",
       "333  องค์ที่ 9                                                                                             \n",
       "508  เชน เวสต์ และ แมนดี้ มัวร์                                                                            \n",
       "411  พ.ศ. 2466                                                                                             \n",
       "444  3 คน                                                                                                  \n",
       "368  เดือนเมษายน ค.ศ. 2015                                                                                 \n",
       "534   11 ระดับ                                                                                             \n",
       "19   253 วัน                                                                                               \n",
       "537  คุณลักษณะเฉพาะของนิวเคลียสของมัน                                                                      \n",
       "246  ช่อง 5                                                                                                \n",
       "230  อำเภอสิรินธร จังหวัดอุบลราชธานี                                                                       \n",
       "653  เลขที่ 2/1 ถ.พระราม 5 แขวงถนนนครไชยศรี เขตดุสิต กรุงเทพมหานคร 10300                                   \n",
       "531  กลุ่มของเส้นตรงตามแนวนอน 5 เส้น                                                                       \n",
       "283  200–250 ขบวนต่อวัน                                                                                    \n",
       "443  กรุงเทพมหานคร                                                                                         \n",
       "548  รัฐบาล                                                                                                \n",
       "560  เก้าแคว้น                                                                                             \n",
       "378  แนวดราม่า                                                                                             \n",
       "341  อังกฤษ                                                                                                \n",
       "349  สกุลลูพินนัส                                                                                          \n",
       "157  จังหวัดเชียงใหม่                                                                                      \n",
       "126  เกาหลีใต้                                                                                             \n",
       "120  ภาษาตากาล็อก                                                                                          \n",
       "108  ภาษาโบราณ                                                                                             \n",
       "106  เอเชียตะวันออกเฉียงใต้                                                                                \n",
       "252  สี่กลุ่ม                                                                                              \n",
       "360  จังหวัดคย็องซังเหนือ                                                                                  \n",
       "255  จังหวัดสกลนคร                                                                                         \n",
       "338  ค.ศ. 1870                                                                                             \n",
       "650  ระดับมัธยมศึกษา                                                                                       \n",
       "223  วงเอ็มทูเอ็ม                                                                                          \n",
       "70   ภคมน บุณยะภูติ                                                                                        \n",
       "608  เอริน ไซย์                                                                                            \n",
       "442  เดอะสตาร์ ค้นฟ้าคว้าดาว ปี 11                                                                         \n",
       "606  จังหวัดกาญจนบุรี                                                                                      \n",
       "45   ยัง แอนิมอล                                                                                           \n",
       "158  อำเภอจอมทอง                                                                                           \n",
       "189  กีฬาโอลิมปิก                                                                                          \n",
       "3    นักกีฬาฟุตบอล                                                                                         \n",
       "478  หลัวปินหวัง                                                                                           \n",
       "334  ราชวงศ์ทิพย์จักร                                                                                      \n",
       "495  ฝ่ายอังกฤษ                                                                                            \n",
       "609  11 พฤศจิกายน พ.ศ. 2554                                                                                \n",
       "339  ดิสโทเปีย                                                                                             \n",
       "52   อินเดียถึงเอเชียตะวันออกเฉียงใต้                                                                      \n",
       "154  10 มีนาคม ค.ศ. 1924                                                                                   \n",
       "285  ดนตรีร็อกประเภทหนึ่ง                                                                                  \n",
       "480  ภาษากาตาลาตะวันตก                                                                                     \n",
       "244  รายการโทรทัศน์ถ่ายทอดสดกีฬามวยไทย                                                                     \n",
       "228  สำนักงานคณะกรรมการการอาชีวศึกษา                                                                       \n",
       "139  จีเอ็มเอ็ม แกรมมี่ จำกัด (มหาชน)                                                                      \n",
       "87   อาศัยอยู่ตามแม่น้ำลำธารที่มีกระแสน้ำไหลแรงในภาคกลาง ภาคตะวันออก และภาคใต้ของประเทศ                    \n",
       "114  เดือนกันยายน พ.ศ.​ 2558                                                                               \n",
       "465  สงครามกลางเมืองอังกฤษครั้งที่ 1                                                                       \n",
       "464  พระง่อง จนตสีโล                                                                                       \n",
       "287  สหรัฐอเมริกา, สหราชอาณาจักร และ ออสเตรเลีย                                                            \n",
       "468  กองทัพของฝ่ายนิยมกษัตริย์ของพระเจ้าชาลส์ที่ 1                                                         \n",
       "556  เกาะที่มีขนาดใหญ่เป็นอันดับ 3 ของประเทศญี่ปุ่น                                                        \n",
       "\n",
       "                                                                                                                                                                                                                                                                                                                                                                                                                                 prediction_text_wangchan  \\\n",
       "406  เกาหลี                                                                                                                                                                                                                                                                                                                                                                                                                                                 \n",
       "479  ปลากัดป่าหางลาย                                                                                                                                                                                                                                                                                                                                                                                                                                        \n",
       "34   bearded worm goby                                                                                                                                                                                                                                                                                                                                                                                                                                      \n",
       "500  จักรวาลวิทยาของชาวอียิปต์โบราณ                                                                                                                                                                                                                                                                                                                                                                                                                         \n",
       "47   สำนักพิมพ์วิบูลย์กิจ                                                                                                                                                                                                                                                                                                                                                                                                                                   \n",
       "549                                                                                                                                                                                                                                                                                                                                                                                                                                                         \n",
       "475  t line                                                                                                                                                                                                                                                                                                                                                                                                                                                 \n",
       "88   ในตลาดซื้อขายปลาน้ำจืดสวยงามโดยเป็นปลาส่งออกที่ขึ้นชื่อชนิดหนึ่ง แต่อนุกรมวิธานของปลาชนิดนี้เป็นที่สับสนกันมานานและเพิ่งได้รับการจำแนกอย่างชัดเจนในปี พ.ศ. 2556 ปลาก้างพระร่วงเป็นปลาประจำถิ่นของไทย อาศัยอยู่ตามแม่น้ำลำธารที่มีกระแสน้ำไหลแรงในภาคกลาง ภาคตะวันออก และภาคใต้ของประเทศ ปัจจุบันพบมากที่สุดตามลำน้ำทางตอนใต้ของคอคอดกระที่ไหลลงสู่อ่าวไทยและตามลำน้ำแถบทิวเขาบรรทัดในภาคตะวันออก นอกจากนี้ยังมีรายงานการพบเห็นที่รัฐปีนังของมาเลเซีย   \n",
       "375  แอนโทนี ทเซลา ที่แอฟริกาใต้ จากนั้นขึ้นชกชนะเป็นส่วนใหญ่ จนได้ชิงแชมป์แอฟริกาใต้รุ่นซูเปอร์แบนตัมเวทที่ว่างเมื่อ 25 มกราคม พ.ศ. 2543 ชนะน็อค วูยิซิเล ติงกา                                                                                                                                                                                                                                                                                            \n",
       "110  สีเขียวมะกอก (olive green) และยังหมายถึงว่า เป็น แร่ประกอบหิน แต่ในลักษณะที่เป็นรัตนชาติ เรียกว่า เพริดอต (peridot) ส่วนคำว่า คริโซไลต์                                                                                                                                                                                                                                                                                                                \n",
       "510  เชน เวสท์                                                                                                                                                                                                                                                                                                                                                                                                                                              \n",
       "542  ตุ๊กตาผ้ารูปเรกกาดี แอนน์ ที่เล่าลือกันว่าเป็นตุ๊กตาผีสิง                                                                                                                                                                                                                                                                                                                                                                                              \n",
       "509  เชน เวสต์                                                                                                                                                                                                                                                                                                                                                                                                                                              \n",
       "572  การแสวงหาสินค้าเพื่อสนองความต้องการของตลาดตามต้องการ                                                                                                                                                                                                                                                                                                                                                                                                   \n",
       "30   เป็นผู้รักษาประตู                                                                                                                                                                                                                                                                                                                                                                                                                                      \n",
       "575  ทวีปอเมริกา ในปี ค.ศ. 1500                                                                                                                                                                                                                                                                                                                                                                                                                             \n",
       "635  showcase ฉบับที่ 34                                                                                                                                                                                                                                                                                                                                                                                                                                    \n",
       "155  วันที่ 10 มีนาคม ค.ศ. 1924                                                                                                                                                                                                                                                                                                                                                                                                                             \n",
       "152  30                                                                                                                                                                                                                                                                                                                                                                                                                                                     \n",
       "485  อเล็กซานเดอร์ เซลเคิร์ก                                                                                                                                                                                                                                                                                                                                                                                                                                \n",
       "248  12                                                                                                                                                                                                                                                                                                                                                                                                                                                     \n",
       "421  รายการโทรทัศน์ไทย โดยมีวุฒิธร มิลินทจินดาเป็นประธานบริษัท เดิมชื่อ \"ดับเบิ้ลยู เน็ทเวิร์คส์ จำกัด\" ก่อตั้งเมื่อปี 2547 ต่อมาในปี 2552 จึงมีการเปลี่ยนชื่อเป็น บริษัท วู้ดดี้ เวิลด์ จำกัด\\n\\nปัจจุบัน บริษัท วู้ดดี้ เวิลด์ จำกัด ผลิตรายการโทรทัศน์สองรายการ ได้แก่ รายการวู้ดดี้ เกิดมาคุย และ รายการเช้าดูวู้ดดี้                                                                                                                                   \n",
       "432  ชีวิตของคน                                                                                                                                                                                                                                                                                                                                                                                                                                             \n",
       "205  3 เขต                                                                                                                                                                                                                                                                                                                                                                                                                                                  \n",
       "232   หมอเวทมนตร์หรือหมอผี                                                                                                                                                                                                                                                                                                                                                                                                                                  \n",
       "333  9                                                                                                                                                                                                                                                                                                                                                                                                                                                      \n",
       "508  เชน เวสต์                                                                                                                                                                                                                                                                                                                                                                                                                                              \n",
       "411  พ.ศ. 2466 – พ.ศ. 2546                                                                                                                                                                                                                                                                                                                                                                                                                                  \n",
       "444  3                                                                                                                                                                                                                                                                                                                                                                                                                                                      \n",
       "368  ช่วงปลายปี ค.ศ. 2013                                                                                                                                                                                                                                                                                                                                                                                                                                   \n",
       "534  11                                                                                                                                                                                                                                                                                                                                                                                                                                                     \n",
       "19   253                                                                                                                                                                                                                                                                                                                                                                                                                                                    \n",
       "537  นิวเคลียส) คือกลุ่มลักษณะของอะตอมที่เกิดจากคุณลักษณะเฉพาะของนิวเคลียสของมัน                                                                                                                                                                                                                                                                                                                                                                            \n",
       "246  ทางช่อง 5 และ tgn                                                                                                                                                                                                                                                                                                                                                                                                                                      \n",
       "230  จังหวัดอุบลราชธานี                                                                                                                                                                                                                                                                                                                                                                                                                                     \n",
       "653  ตั้งอยู่เลขที่ 2/1 ถ.พระราม 5                                                                                                                                                                                                                                                                                                                                                                                                                          \n",
       "531  กลุ่มของเส้นตรงตามแนวนอน 5 เส้น และอยู่ห่างเป็นระยะเท่ากันเป็นจำนวน 4 ช่อง                                                                                                                                                                                                                                                                                                                                                                             \n",
       "283  200–250                                                                                                                                                                                                                                                                                                                                                                                                                                                \n",
       "443  ที่กรุงเทพมหานคร                                                                                                                                                                                                                                                                                                                                                                                                                                       \n",
       "548  ของรัฐบาล                                                                                                                                                                                                                                                                                                                                                                                                                                              \n",
       "560  เก้า                                                                                                                                                                                                                                                                                                                                                                                                                                                   \n",
       "378  ดราม่า                                                                                                                                                                                                                                                                                                                                                                                                                                                 \n",
       "341  ชาวอังกฤษ                                                                                                                                                                                                                                                                                                                                                                                                                                              \n",
       "349  ลูพินนัส                                                                                                                                                                                                                                                                                                                                                                                                                                               \n",
       "157  เชียงใหม่                                                                                                                                                                                                                                                                                                                                                                                                                                              \n",
       "126  สัญชาติเกาหลีใต้                                                                                                                                                                                                                                                                                                                                                                                                                                       \n",
       "120  ตากาล็อก                                                                                                                                                                                                                                                                                                                                                                                                                                               \n",
       "108  เป็นภาษาโบราณ                                                                                                                                                                                                                                                                                                                                                                                                                                          \n",
       "106  ในเอเชียตะวันออกเฉียงใต้                                                                                                                                                                                                                                                                                                                                                                                                                               \n",
       "252  สี่                                                                                                                                                                                                                                                                                                                                                                                                                                                    \n",
       "360  จังหวัดคย็องซังเหนือ, ประเทศเกาหลีใต้                                                                                                                                                                                                                                                                                                                                                                                                                  \n",
       "255  สกลนคร                                                                                                                                                                                                                                                                                                                                                                                                                                                 \n",
       "338  ค.ศ. 1950                                                                                                                                                                                                                                                                                                                                                                                                                                              \n",
       "650  มัธยมศึกษา                                                                                                                                                                                                                                                                                                                                                                                                                                             \n",
       "223  เอ็มทูเอ็ม ดูโอ                                                                                                                                                                                                                                                                                                                                                                                                                                        \n",
       "70   ภคมน บุณยะภูติหรือลูกโป่ง af4                                                                                                                                                                                                                                                                                                                                                                                                                          \n",
       "608  เอริน ไซย์ สตรีลูกครึ่งญี่ปุ่น                                                                                                                                                                                                                                                                                                                                                                                                                         \n",
       "442  เดอะสตาร์ ค้นฟ้าคว้าดาว                                                                                                                                                                                                                                                                                                                                                                                                                                \n",
       "606  ที่จังหวัดกาญจนบุรี                                                                                                                                                                                                                                                                                                                                                                                                                                    \n",
       "45   แอนิมอล                                                                                                                                                                                                                                                                                                                                                                                                                                                \n",
       "158  จอมทอง                                                                                                                                                                                                                                                                                                                                                                                                                                                 \n",
       "189  แข่งขันกีฬาโอลิมปิก                                                                                                                                                                                                                                                                                                                                                                                                                                    \n",
       "3    เป็นนักกีฬาฟุตบอล                                                                                                                                                                                                                                                                                                                                                                                                                                      \n",
       "478  หลัวปิน                                                                                                                                                                                                                                                                                                                                                                                                                                                \n",
       "334  ทิพย์จักร                                                                                                                                                                                                                                                                                                                                                                                                                                              \n",
       "495  ของฝ่ายอังกฤษ                                                                                                                                                                                                                                                                                                                                                                                                                                          \n",
       "609  ในวันที่ 11 พฤศจิกายน พ.ศ. 2554                                                                                                                                                                                                                                                                                                                                                                                                                        \n",
       "339  นวนิยายดิสโทเปีย                                                                                                                                                                                                                                                                                                                                                                                                                                       \n",
       "52   ในอินเดียถึงเอเชียตะวันออกเฉียงใต้                                                                                                                                                                                                                                                                                                                                                                                                                     \n",
       "154  วันที่ 10 มีนาคม ค.ศ. 1924                                                                                                                                                                                                                                                                                                                                                                                                                             \n",
       "285  เป็นดนตรีร็อกประเภทหนึ่ง                                                                                                                                                                                                                                                                                                                                                                                                                               \n",
       "480  กาตาลาตะวันตก                                                                                                                                                                                                                                                                                                                                                                                                                                          \n",
       "244  เป็นรายการโทรทัศน์ถ่ายทอดสดกีฬามวยไทย                                                                                                                                                                                                                                                                                                                                                                                                                  \n",
       "228  ในสังกัดสำนักงานคณะกรรมการการอาชีวศึกษา                                                                                                                                                                                                                                                                                                                                                                                                                \n",
       "139  บริษัท จีเอ็มเอ็ม แกรมมี่ จำกัด (มหาชน)                                                                                                                                                                                                                                                                                                                                                                                                                \n",
       "87   แม่น้ำลำธารที่มีกระแสน้ำไหลแรงในภาคกลาง ภาคตะวันออก และภาคใต้ของประเทศ                                                                                                                                                                                                                                                                                                                                                                                 \n",
       "114  กันยายน พ.ศ.​ 2558                                                                                                                                                                                                                                                                                                                                                                                                                                     \n",
       "465  ในสงครามกลางเมืองอังกฤษครั้งที่ 1                                                                                                                                                                                                                                                                                                                                                                                                                      \n",
       "464  มีพระง่อง จนตสีโล                                                                                                                                                                                                                                                                                                                                                                                                                                      \n",
       "287  ในสหรัฐอเมริกา, สหราชอาณาจักร และ ออสเตรเลีย                                                                                                                                                                                                                                                                                                                                                                                                           \n",
       "468  ของฝ่ายนิยมกษัตริย์ของพระเจ้าชาลส์ที่ 1                                                                                                                                                                                                                                                                                                                                                                                                                \n",
       "556  เป็นเกาะที่มีขนาดใหญ่เป็นอันดับ 3 ของประเทศญี่ปุ่น                                                                                                                                                                                                                                                                                                                                                                                                     \n",
       "\n",
       "     f1_wangchan  partial_ratio_wangchan  \\\n",
       "406  0.000000     17                       \n",
       "479  0.000000     64                       \n",
       "34   0.000000     0                        \n",
       "500  0.000000     15                       \n",
       "47   0.000000     11                       \n",
       "549  0.000000     0                        \n",
       "475  6.896552     17                       \n",
       "88   7.272727     100                      \n",
       "375  7.547170     42                       \n",
       "110  12.244898    100                      \n",
       "510  12.500000    33                       \n",
       "542  13.333333    26                       \n",
       "509  13.333333    33                       \n",
       "572  16.666667    40                       \n",
       "30   18.181818    65                       \n",
       "575  22.222222    100                      \n",
       "635  22.222222    9                        \n",
       "155  24.000000    19                       \n",
       "152  25.000000    100                      \n",
       "485  25.000000    31                       \n",
       "248  25.000000    100                      \n",
       "421  28.301887    100                      \n",
       "432  30.000000    100                      \n",
       "205  31.578947    100                      \n",
       "232  33.333333    33                       \n",
       "333  40.000000    100                      \n",
       "508  46.153846    100                      \n",
       "411  50.000000    100                      \n",
       "444  50.000000    100                      \n",
       "368  50.000000    56                       \n",
       "534  50.000000    100                      \n",
       "19   50.000000    100                      \n",
       "537  54.545455    100                      \n",
       "246  54.545455    100                      \n",
       "230  57.142857    100                      \n",
       "653  58.823529    72                       \n",
       "531  60.000000    100                      \n",
       "283  60.000000    100                      \n",
       "443  66.666667    100                      \n",
       "548  66.666667    100                      \n",
       "560  66.666667    100                      \n",
       "378  66.666667    100                      \n",
       "341  66.666667    100                      \n",
       "349  66.666667    100                      \n",
       "157  66.666667    100                      \n",
       "126  66.666667    100                      \n",
       "120  66.666667    100                      \n",
       "108  66.666667    100                      \n",
       "106  66.666667    100                      \n",
       "252  66.666667    100                      \n",
       "360  66.666667    100                      \n",
       "255  66.666667    100                      \n",
       "338  66.666667    78                       \n",
       "650  66.666667    100                      \n",
       "223  66.666667    83                       \n",
       "70   70.588235    100                      \n",
       "608  71.428571    100                      \n",
       "442  75.000000    100                      \n",
       "606  80.000000    100                      \n",
       "45   80.000000    100                      \n",
       "158  80.000000    100                      \n",
       "189  80.000000    100                      \n",
       "3    80.000000    100                      \n",
       "478  80.000000    100                      \n",
       "334  80.000000    100                      \n",
       "495  80.000000    100                      \n",
       "609  82.352941    100                      \n",
       "339  85.714286    100                      \n",
       "52   85.714286    100                      \n",
       "154  87.500000    100                      \n",
       "285  88.888889    100                      \n",
       "480  88.888889    100                      \n",
       "244  88.888889    100                      \n",
       "228  88.888889    100                      \n",
       "139  90.000000    98                       \n",
       "87   92.307692    100                      \n",
       "114  92.307692    100                      \n",
       "465  92.307692    100                      \n",
       "464  93.333333    97                       \n",
       "287  94.117647    100                      \n",
       "468  95.652174    100                      \n",
       "556  96.000000    100                      \n",
       "\n",
       "                                                                                     prediction_text_xlm  \\\n",
       "406  ญี่ปุ่น                                                                                               \n",
       "479  ปลากัดอีสาน                                                                                           \n",
       "34   มังกรแยงซีเกียง                                                                                       \n",
       "500  ตำนานในสวรรค์                                                                                         \n",
       "47   พ.ศ. 2560                                                                                             \n",
       "549  ผู้ว่าราชการจังหวัด                                                                                   \n",
       "475  ใช้สำหรับงานตกแต่งภายในทั่วไป เช่น ฉากกั้นที่มีเฟรมต่างๆ หน้าบานตู้ ประตู และ หน้าต่างเข้าเฟรมต่างๆ   \n",
       "88   รัฐปีนังของมาเลเซีย                                                                                   \n",
       "375  อินโดนเซนต์ มทาลาเน                                                                                   \n",
       "110  แร่ประกอบหิน                                                                                          \n",
       "510  นักเรียนชายเสน่ห์แรงวัย 17 ของโรงเรียนมัธยมปลายแห่งหนึ่ง                                              \n",
       "542  คู่สามีภรรยาซึ่งเป็นนักปิศาจวิทยาและนักสืบสวนสอบสวนเรื่องลึกลับเหนือธรรมชาติที่มีชื่อเสียง            \n",
       "509  แลนดอน รอลลิน คาร์เตอร์                                                                               \n",
       "572  เพื่อหาคู่ค้าขายใหม่                                                                                  \n",
       "30   เป็นผู้ฝึกสอนการรักษาประตูให้แก่สโมสรฟุตบอลอาร์เซนอล                                                  \n",
       "575  ทวีปอเมริกา                                                                                           \n",
       "635  ตุลาคม 1961                                                                                           \n",
       "155  อำเภอไฮ้เล้ง เขตไห่หนิง มณฑลเจ้อเจียง แห่งภาคตะวันออกของจีน                                           \n",
       "152  30 ตุลาคม พ.ศ. 2561                                                                                   \n",
       "485  แดเนียล เดโฟ                                                                                          \n",
       "248  12 กุมภาพันธ์ พ.ศ. 2562                                                                               \n",
       "421  รายการวู้ดดี้ เกิดมาคุย และ รายการเช้าดูวู้ดดี้                                                       \n",
       "432  ชีวิตของคน โดยเฉพาะคนชนชั้นล่าง กล่าวถึงความยากลำบากในการใช้ชีวิต การถูกเอารัดเอาเปรียบ               \n",
       "205  3 เขต คือ โซล, อินช็อน และจังหวัดคย็องกี                                                              \n",
       "232  หมอทั่ว ๆ ไป                                                                                          \n",
       "333  องค์ที่ 9                                                                                             \n",
       "508  เชน เวสต์ และ แมนดี้ มัวร์                                                                            \n",
       "411  พ.ศ. 2466                                                                                             \n",
       "444  3 คน                                                                                                  \n",
       "368  เดือนเมษายน ค.ศ. 2015                                                                                 \n",
       "534  11 ระดับ                                                                                              \n",
       "19   253 วัน                                                                                               \n",
       "537  คุณลักษณะเฉพาะของนิวเคลียสของมัน                                                                      \n",
       "246  ช่อง 5                                                                                                \n",
       "230  อำเภอสิรินธร จังหวัดอุบลราชธานี                                                                       \n",
       "653  เลขที่ 2/1 ถ.พระราม 5 แขวงถนนนครไชยศรี เขตดุสิต กรุงเทพมหานคร 10300                                   \n",
       "531  กลุ่มของเส้นตรงตามแนวนอน 5 เส้น                                                                       \n",
       "283  200–250 ขบวนต่อวัน                                                                                    \n",
       "443  กรุงเทพมหานคร                                                                                         \n",
       "548  รัฐบาล                                                                                                \n",
       "560  เก้าแคว้น                                                                                             \n",
       "378  แนวดราม่า                                                                                             \n",
       "341  อังกฤษ                                                                                                \n",
       "349  สกุลลูพินนัส                                                                                          \n",
       "157  จังหวัดเชียงใหม่                                                                                      \n",
       "126  เกาหลีใต้                                                                                             \n",
       "120  ภาษาตากาล็อก                                                                                          \n",
       "108  ภาษาโบราณ                                                                                             \n",
       "106  เอเชียตะวันออกเฉียงใต้                                                                                \n",
       "252  สี่กลุ่ม                                                                                              \n",
       "360  จังหวัดคย็องซังเหนือ                                                                                  \n",
       "255  จังหวัดสกลนคร                                                                                         \n",
       "338  ค.ศ. 1870                                                                                             \n",
       "650  ระดับมัธยมศึกษา                                                                                       \n",
       "223  วงเอ็มทูเอ็ม                                                                                          \n",
       "70   ภคมน บุณยะภูติ                                                                                        \n",
       "608  เอริน ไซย์                                                                                            \n",
       "442  เดอะสตาร์ ค้นฟ้าคว้าดาว ปี 11                                                                         \n",
       "606  จังหวัดกาญจนบุรี                                                                                      \n",
       "45   ยัง แอนิมอล                                                                                           \n",
       "158  อำเภอจอมทอง                                                                                           \n",
       "189  กีฬาโอลิมปิก                                                                                          \n",
       "3    นักกีฬาฟุตบอล                                                                                         \n",
       "478  หลัวปินหวัง                                                                                           \n",
       "334  ราชวงศ์ทิพย์จักร                                                                                      \n",
       "495  ฝ่ายอังกฤษ                                                                                            \n",
       "609  11 พฤศจิกายน พ.ศ. 2554                                                                                \n",
       "339  ดิสโทเปีย                                                                                             \n",
       "52   อินเดียถึงเอเชียตะวันออกเฉียงใต้                                                                      \n",
       "154  10 มีนาคม ค.ศ. 1924                                                                                   \n",
       "285  ดนตรีร็อกประเภทหนึ่ง                                                                                  \n",
       "480  ภาษากาตาลาตะวันตก                                                                                     \n",
       "244  รายการโทรทัศน์ถ่ายทอดสดกีฬามวยไทย                                                                     \n",
       "228  สำนักงานคณะกรรมการการอาชีวศึกษา                                                                       \n",
       "139  จีเอ็มเอ็ม แกรมมี่ จำกัด (มหาชน)                                                                      \n",
       "87   อาศัยอยู่ตามแม่น้ำลำธารที่มีกระแสน้ำไหลแรงในภาคกลาง ภาคตะวันออก และภาคใต้ของประเทศ                    \n",
       "114  เดือนกันยายน พ.ศ.​ 2558                                                                               \n",
       "465  สงครามกลางเมืองอังกฤษครั้งที่ 1                                                                       \n",
       "464  พระง่อง จนตสีโล                                                                                       \n",
       "287  สหรัฐอเมริกา, สหราชอาณาจักร และ ออสเตรเลีย                                                            \n",
       "468  กองทัพของฝ่ายนิยมกษัตริย์ของพระเจ้าชาลส์ที่ 1                                                         \n",
       "556  เกาะที่มีขนาดใหญ่เป็นอันดับ 3 ของประเทศญี่ปุ่น                                                        \n",
       "\n",
       "     f1_xlm  partial_ratio_xlm  \n",
       "406  100.0   100                \n",
       "479  100.0   100                \n",
       "34   100.0   100                \n",
       "500  100.0   100                \n",
       "47   100.0   100                \n",
       "549  100.0   100                \n",
       "475  100.0   100                \n",
       "88   100.0   100                \n",
       "375  100.0   100                \n",
       "110  100.0   100                \n",
       "510  100.0   100                \n",
       "542  100.0   100                \n",
       "509  100.0   100                \n",
       "572  100.0   100                \n",
       "30   100.0   100                \n",
       "575  100.0   100                \n",
       "635  100.0   100                \n",
       "155  100.0   100                \n",
       "152  100.0   100                \n",
       "485  100.0   100                \n",
       "248  100.0   100                \n",
       "421  100.0   100                \n",
       "432  100.0   100                \n",
       "205  100.0   100                \n",
       "232  100.0   100                \n",
       "333  100.0   100                \n",
       "508  100.0   100                \n",
       "411  100.0   100                \n",
       "444  100.0   100                \n",
       "368  100.0   100                \n",
       "534  100.0   100                \n",
       "19   100.0   100                \n",
       "537  100.0   100                \n",
       "246  100.0   100                \n",
       "230  100.0   100                \n",
       "653  100.0   100                \n",
       "531  100.0   100                \n",
       "283  100.0   100                \n",
       "443  100.0   100                \n",
       "548  100.0   100                \n",
       "560  100.0   100                \n",
       "378  100.0   100                \n",
       "341  100.0   100                \n",
       "349  100.0   100                \n",
       "157  100.0   100                \n",
       "126  100.0   100                \n",
       "120  100.0   100                \n",
       "108  100.0   100                \n",
       "106  100.0   100                \n",
       "252  100.0   100                \n",
       "360  100.0   100                \n",
       "255  100.0   100                \n",
       "338  100.0   100                \n",
       "650  100.0   100                \n",
       "223  100.0   100                \n",
       "70   100.0   100                \n",
       "608  100.0   100                \n",
       "442  100.0   100                \n",
       "606  100.0   100                \n",
       "45   100.0   100                \n",
       "158  100.0   100                \n",
       "189  100.0   100                \n",
       "3    100.0   100                \n",
       "478  100.0   100                \n",
       "334  100.0   100                \n",
       "495  100.0   100                \n",
       "609  100.0   100                \n",
       "339  100.0   100                \n",
       "52   100.0   100                \n",
       "154  100.0   100                \n",
       "285  100.0   100                \n",
       "480  100.0   100                \n",
       "244  100.0   100                \n",
       "228  100.0   100                \n",
       "139  100.0   100                \n",
       "87   100.0   100                \n",
       "114  100.0   100                \n",
       "465  100.0   100                \n",
       "464  100.0   100                \n",
       "287  100.0   100                \n",
       "468  100.0   100                \n",
       "556  100.0   100                "
      ]
     },
     "execution_count": 25,
     "metadata": {},
     "output_type": "execute_result"
    }
   ],
   "source": [
    "xlm_better_wangchan = ab[(ab.f1_xlm==100)&(ab.f1_wangchan<100)]\n",
    "print(xlm_better_wangchan.shape)\n",
    "xlm_better_wangchan.sort_values('f1_wangchan')"
   ]
  },
  {
   "cell_type": "markdown",
   "id": "hidden-birmingham",
   "metadata": {},
   "source": [
    "#### Syllable and Character Levels"
   ]
  },
  {
   "cell_type": "markdown",
   "id": "alternative-honor",
   "metadata": {},
   "source": [
    "`wangchanberta` consistently underperforms in word, syllable and character tokenizations."
   ]
  },
  {
   "cell_type": "code",
   "execution_count": 22,
   "id": "brave-recycling",
   "metadata": {},
   "outputs": [
    {
     "name": "stderr",
     "output_type": "stream",
     "text": [
      "Loading cached processed dataset at iapp_thaiqa/test/cache-3536c2cdfb6da01d.arrow\n"
     ]
    },
    {
     "data": {
      "application/vnd.jupyter.widget-view+json": {
       "model_id": "ddb6f4925d09483aad164fdd084004a3",
       "version_major": 2,
       "version_minor": 0
      },
      "text/plain": [
       "HBox(children=(FloatProgress(value=0.0, max=1.0), HTML(value='')))"
      ]
     },
     "metadata": {},
     "output_type": "display_data"
    },
    {
     "name": "stdout",
     "output_type": "stream",
     "text": [
      "\n"
     ]
    },
    {
     "data": {
      "text/html": [
       "\n",
       "    <div>\n",
       "        <style>\n",
       "            /* Turns off some styling */\n",
       "            progress {\n",
       "                /* gets rid of default border in Firefox and Opera. */\n",
       "                border: none;\n",
       "                /* Needs to be in here for Safari polyfill so background images work as expected. */\n",
       "                background-size: auto;\n",
       "            }\n",
       "        </style>\n",
       "      \n",
       "      <progress value='108' max='108' style='width:300px; height:20px; vertical-align: middle;'></progress>\n",
       "      [108/108 00:06]\n",
       "    </div>\n",
       "    "
      ],
      "text/plain": [
       "<IPython.core.display.HTML object>"
      ]
     },
     "metadata": {},
     "output_type": "display_data"
    },
    {
     "data": {
      "application/vnd.jupyter.widget-view+json": {
       "model_id": "fa6444b91d5a4a92a19f5717adf1b836",
       "version_major": 2,
       "version_minor": 0
      },
      "text/plain": [
       "HBox(children=(FloatProgress(value=0.0, max=739.0), HTML(value='')))"
      ]
     },
     "metadata": {},
     "output_type": "display_data"
    },
    {
     "name": "stdout",
     "output_type": "stream",
     "text": [
      "\n"
     ]
    },
    {
     "name": "stderr",
     "output_type": "stream",
     "text": [
      "Loading cached processed dataset at iapp_thaiqa/test/cache-a3f38ec505e52afd.arrow\n"
     ]
    },
    {
     "data": {
      "application/vnd.jupyter.widget-view+json": {
       "model_id": "a107c554e33f4cb883aa90bf183d2a0e",
       "version_major": 2,
       "version_minor": 0
      },
      "text/plain": [
       "HBox(children=(FloatProgress(value=0.0, max=1.0), HTML(value='')))"
      ]
     },
     "metadata": {},
     "output_type": "display_data"
    },
    {
     "name": "stdout",
     "output_type": "stream",
     "text": [
      "\n"
     ]
    },
    {
     "data": {
      "text/html": [
       "\n",
       "    <div>\n",
       "        <style>\n",
       "            /* Turns off some styling */\n",
       "            progress {\n",
       "                /* gets rid of default border in Firefox and Opera. */\n",
       "                border: none;\n",
       "                /* Needs to be in here for Safari polyfill so background images work as expected. */\n",
       "                background-size: auto;\n",
       "            }\n",
       "        </style>\n",
       "      \n",
       "      <progress value='112' max='112' style='width:300px; height:20px; vertical-align: middle;'></progress>\n",
       "      [112/112 00:06]\n",
       "    </div>\n",
       "    "
      ],
      "text/plain": [
       "<IPython.core.display.HTML object>"
      ]
     },
     "metadata": {},
     "output_type": "display_data"
    },
    {
     "data": {
      "application/vnd.jupyter.widget-view+json": {
       "model_id": "b74d585d57cc452eb4292a080054deca",
       "version_major": 2,
       "version_minor": 0
      },
      "text/plain": [
       "HBox(children=(FloatProgress(value=0.0, max=739.0), HTML(value='')))"
      ]
     },
     "metadata": {},
     "output_type": "display_data"
    },
    {
     "name": "stdout",
     "output_type": "stream",
     "text": [
      "\n"
     ]
    },
    {
     "name": "stderr",
     "output_type": "stream",
     "text": [
      "Loading cached processed dataset at iapp_thaiqa/test/cache-34596a785f80a720.arrow\n"
     ]
    },
    {
     "data": {
      "application/vnd.jupyter.widget-view+json": {
       "model_id": "ea84248335714ca09aabadeba87438db",
       "version_major": 2,
       "version_minor": 0
      },
      "text/plain": [
       "HBox(children=(FloatProgress(value=0.0, max=1.0), HTML(value='')))"
      ]
     },
     "metadata": {},
     "output_type": "display_data"
    },
    {
     "name": "stdout",
     "output_type": "stream",
     "text": [
      "\n"
     ]
    },
    {
     "data": {
      "text/html": [
       "\n",
       "    <div>\n",
       "        <style>\n",
       "            /* Turns off some styling */\n",
       "            progress {\n",
       "                /* gets rid of default border in Firefox and Opera. */\n",
       "                border: none;\n",
       "                /* Needs to be in here for Safari polyfill so background images work as expected. */\n",
       "                background-size: auto;\n",
       "            }\n",
       "        </style>\n",
       "      \n",
       "      <progress value='106' max='106' style='width:300px; height:20px; vertical-align: middle;'></progress>\n",
       "      [106/106 00:08]\n",
       "    </div>\n",
       "    "
      ],
      "text/plain": [
       "<IPython.core.display.HTML object>"
      ]
     },
     "metadata": {},
     "output_type": "display_data"
    },
    {
     "data": {
      "application/vnd.jupyter.widget-view+json": {
       "model_id": "57ad565e393e4953a17d936e530da7c5",
       "version_major": 2,
       "version_minor": 0
      },
      "text/plain": [
       "HBox(children=(FloatProgress(value=0.0, max=739.0), HTML(value='')))"
      ]
     },
     "metadata": {},
     "output_type": "display_data"
    },
    {
     "name": "stdout",
     "output_type": "stream",
     "text": [
      "\n"
     ]
    },
    {
     "name": "stderr",
     "output_type": "stream",
     "text": [
      "Loading cached processed dataset at iapp_thaiqa/test/cache-1f5464554ef516eb.arrow\n"
     ]
    },
    {
     "data": {
      "application/vnd.jupyter.widget-view+json": {
       "model_id": "56a338e1120f44bdba527433e89c6992",
       "version_major": 2,
       "version_minor": 0
      },
      "text/plain": [
       "HBox(children=(FloatProgress(value=0.0, max=1.0), HTML(value='')))"
      ]
     },
     "metadata": {},
     "output_type": "display_data"
    },
    {
     "name": "stdout",
     "output_type": "stream",
     "text": [
      "\n"
     ]
    },
    {
     "data": {
      "text/html": [
       "\n",
       "    <div>\n",
       "        <style>\n",
       "            /* Turns off some styling */\n",
       "            progress {\n",
       "                /* gets rid of default border in Firefox and Opera. */\n",
       "                border: none;\n",
       "                /* Needs to be in here for Safari polyfill so background images work as expected. */\n",
       "                background-size: auto;\n",
       "            }\n",
       "        </style>\n",
       "      \n",
       "      <progress value='167' max='167' style='width:300px; height:20px; vertical-align: middle;'></progress>\n",
       "      [167/167 00:13]\n",
       "    </div>\n",
       "    "
      ],
      "text/plain": [
       "<IPython.core.display.HTML object>"
      ]
     },
     "metadata": {},
     "output_type": "display_data"
    },
    {
     "data": {
      "application/vnd.jupyter.widget-view+json": {
       "model_id": "e7866c66ba574e5ea5e09c203ba5e569",
       "version_major": 2,
       "version_minor": 0
      },
      "text/plain": [
       "HBox(children=(FloatProgress(value=0.0, max=739.0), HTML(value='')))"
      ]
     },
     "metadata": {},
     "output_type": "display_data"
    },
    {
     "name": "stdout",
     "output_type": "stream",
     "text": [
      "\n"
     ]
    }
   ],
   "source": [
    "df_wangchan_syllable, metrics_wangchan_syllable = compare_final_results(tokenizer_wangchan, \n",
    "                                      model_wangchan, \n",
    "                                      datasets_uncased['test'], \n",
    "                                      tok_func=syllable_tokenize,\n",
    "                                      n_best_size=20,\n",
    "                                      max_answer_length=100,\n",
    "                                      allow_no_answer=False,\n",
    "                                      max_length=416,)\n",
    "\n",
    "df_wcwiki_syllable, metrics_wcwiki_syllable = compare_final_results(tokenizer_wcwiki, \n",
    "                                      model_wcwiki, \n",
    "                                      datasets_cased['test'], \n",
    "                                      tok_func=syllable_tokenize,\n",
    "                                      n_best_size=20,\n",
    "                                      max_answer_length=100,\n",
    "                                      allow_no_answer=False,\n",
    "                                      max_length=400,)\n",
    "\n",
    "df_xlm_syllable, metrics_xlm_syllable = compare_final_results(tokenizer_xlm, \n",
    "                                      model_xlm, \n",
    "                                      datasets_cased['test'], \n",
    "                                      tok_func=syllable_tokenize,\n",
    "                                      n_best_size=20,\n",
    "                                      max_answer_length=100,\n",
    "                                      allow_no_answer=False,\n",
    "                                      max_length=512,)\n",
    "\n",
    "df_mbert_syllable, metrics_mbert_syllable = compare_final_results(tokenizer_mbert, \n",
    "                                      model_mbert, \n",
    "                                      datasets_cased['test'], \n",
    "                                      tok_func=syllable_tokenize,\n",
    "                                      n_best_size=20,\n",
    "                                      max_answer_length=100,\n",
    "                                      allow_no_answer=False,\n",
    "                                      max_length=512,)"
   ]
  },
  {
   "cell_type": "code",
   "execution_count": 23,
   "id": "provincial-crawford",
   "metadata": {},
   "outputs": [
    {
     "name": "stderr",
     "output_type": "stream",
     "text": [
      "Loading cached processed dataset at iapp_thaiqa/test/cache-3536c2cdfb6da01d.arrow\n"
     ]
    },
    {
     "data": {
      "application/vnd.jupyter.widget-view+json": {
       "model_id": "072a141e14a54cad898a4fa0b430e573",
       "version_major": 2,
       "version_minor": 0
      },
      "text/plain": [
       "HBox(children=(FloatProgress(value=0.0, max=1.0), HTML(value='')))"
      ]
     },
     "metadata": {},
     "output_type": "display_data"
    },
    {
     "name": "stdout",
     "output_type": "stream",
     "text": [
      "\n"
     ]
    },
    {
     "data": {
      "text/html": [
       "\n",
       "    <div>\n",
       "        <style>\n",
       "            /* Turns off some styling */\n",
       "            progress {\n",
       "                /* gets rid of default border in Firefox and Opera. */\n",
       "                border: none;\n",
       "                /* Needs to be in here for Safari polyfill so background images work as expected. */\n",
       "                background-size: auto;\n",
       "            }\n",
       "        </style>\n",
       "      \n",
       "      <progress value='108' max='108' style='width:300px; height:20px; vertical-align: middle;'></progress>\n",
       "      [108/108 00:06]\n",
       "    </div>\n",
       "    "
      ],
      "text/plain": [
       "<IPython.core.display.HTML object>"
      ]
     },
     "metadata": {},
     "output_type": "display_data"
    },
    {
     "data": {
      "application/vnd.jupyter.widget-view+json": {
       "model_id": "a97ccfa137e544eea881a0c2d7bead5a",
       "version_major": 2,
       "version_minor": 0
      },
      "text/plain": [
       "HBox(children=(FloatProgress(value=0.0, max=739.0), HTML(value='')))"
      ]
     },
     "metadata": {},
     "output_type": "display_data"
    },
    {
     "name": "stdout",
     "output_type": "stream",
     "text": [
      "\n"
     ]
    },
    {
     "name": "stderr",
     "output_type": "stream",
     "text": [
      "Loading cached processed dataset at iapp_thaiqa/test/cache-a3f38ec505e52afd.arrow\n"
     ]
    },
    {
     "data": {
      "application/vnd.jupyter.widget-view+json": {
       "model_id": "b0a51ca61ceb41d398fb1b04f8941f2e",
       "version_major": 2,
       "version_minor": 0
      },
      "text/plain": [
       "HBox(children=(FloatProgress(value=0.0, max=1.0), HTML(value='')))"
      ]
     },
     "metadata": {},
     "output_type": "display_data"
    },
    {
     "name": "stdout",
     "output_type": "stream",
     "text": [
      "\n"
     ]
    },
    {
     "data": {
      "text/html": [
       "\n",
       "    <div>\n",
       "        <style>\n",
       "            /* Turns off some styling */\n",
       "            progress {\n",
       "                /* gets rid of default border in Firefox and Opera. */\n",
       "                border: none;\n",
       "                /* Needs to be in here for Safari polyfill so background images work as expected. */\n",
       "                background-size: auto;\n",
       "            }\n",
       "        </style>\n",
       "      \n",
       "      <progress value='112' max='112' style='width:300px; height:20px; vertical-align: middle;'></progress>\n",
       "      [112/112 00:06]\n",
       "    </div>\n",
       "    "
      ],
      "text/plain": [
       "<IPython.core.display.HTML object>"
      ]
     },
     "metadata": {},
     "output_type": "display_data"
    },
    {
     "data": {
      "application/vnd.jupyter.widget-view+json": {
       "model_id": "00ee335546714c95a66ad3d2a280c634",
       "version_major": 2,
       "version_minor": 0
      },
      "text/plain": [
       "HBox(children=(FloatProgress(value=0.0, max=739.0), HTML(value='')))"
      ]
     },
     "metadata": {},
     "output_type": "display_data"
    },
    {
     "name": "stdout",
     "output_type": "stream",
     "text": [
      "\n"
     ]
    },
    {
     "name": "stderr",
     "output_type": "stream",
     "text": [
      "Loading cached processed dataset at iapp_thaiqa/test/cache-34596a785f80a720.arrow\n"
     ]
    },
    {
     "data": {
      "application/vnd.jupyter.widget-view+json": {
       "model_id": "56843e60c4184f20af6ef22d94c0ad0b",
       "version_major": 2,
       "version_minor": 0
      },
      "text/plain": [
       "HBox(children=(FloatProgress(value=0.0, max=1.0), HTML(value='')))"
      ]
     },
     "metadata": {},
     "output_type": "display_data"
    },
    {
     "name": "stdout",
     "output_type": "stream",
     "text": [
      "\n"
     ]
    },
    {
     "data": {
      "text/html": [
       "\n",
       "    <div>\n",
       "        <style>\n",
       "            /* Turns off some styling */\n",
       "            progress {\n",
       "                /* gets rid of default border in Firefox and Opera. */\n",
       "                border: none;\n",
       "                /* Needs to be in here for Safari polyfill so background images work as expected. */\n",
       "                background-size: auto;\n",
       "            }\n",
       "        </style>\n",
       "      \n",
       "      <progress value='106' max='106' style='width:300px; height:20px; vertical-align: middle;'></progress>\n",
       "      [106/106 00:08]\n",
       "    </div>\n",
       "    "
      ],
      "text/plain": [
       "<IPython.core.display.HTML object>"
      ]
     },
     "metadata": {},
     "output_type": "display_data"
    },
    {
     "data": {
      "application/vnd.jupyter.widget-view+json": {
       "model_id": "5d3b538c16b84b028037bfa9c609e538",
       "version_major": 2,
       "version_minor": 0
      },
      "text/plain": [
       "HBox(children=(FloatProgress(value=0.0, max=739.0), HTML(value='')))"
      ]
     },
     "metadata": {},
     "output_type": "display_data"
    },
    {
     "name": "stdout",
     "output_type": "stream",
     "text": [
      "\n"
     ]
    },
    {
     "name": "stderr",
     "output_type": "stream",
     "text": [
      "Loading cached processed dataset at iapp_thaiqa/test/cache-1f5464554ef516eb.arrow\n"
     ]
    },
    {
     "data": {
      "application/vnd.jupyter.widget-view+json": {
       "model_id": "e96d1732efc54efc8272c6c338f5eee8",
       "version_major": 2,
       "version_minor": 0
      },
      "text/plain": [
       "HBox(children=(FloatProgress(value=0.0, max=1.0), HTML(value='')))"
      ]
     },
     "metadata": {},
     "output_type": "display_data"
    },
    {
     "name": "stdout",
     "output_type": "stream",
     "text": [
      "\n"
     ]
    },
    {
     "data": {
      "text/html": [
       "\n",
       "    <div>\n",
       "        <style>\n",
       "            /* Turns off some styling */\n",
       "            progress {\n",
       "                /* gets rid of default border in Firefox and Opera. */\n",
       "                border: none;\n",
       "                /* Needs to be in here for Safari polyfill so background images work as expected. */\n",
       "                background-size: auto;\n",
       "            }\n",
       "        </style>\n",
       "      \n",
       "      <progress value='167' max='167' style='width:300px; height:20px; vertical-align: middle;'></progress>\n",
       "      [167/167 00:13]\n",
       "    </div>\n",
       "    "
      ],
      "text/plain": [
       "<IPython.core.display.HTML object>"
      ]
     },
     "metadata": {},
     "output_type": "display_data"
    },
    {
     "data": {
      "application/vnd.jupyter.widget-view+json": {
       "model_id": "20b10b4a4fe844f883b4efcc3b167c1e",
       "version_major": 2,
       "version_minor": 0
      },
      "text/plain": [
       "HBox(children=(FloatProgress(value=0.0, max=739.0), HTML(value='')))"
      ]
     },
     "metadata": {},
     "output_type": "display_data"
    },
    {
     "name": "stdout",
     "output_type": "stream",
     "text": [
      "\n"
     ]
    }
   ],
   "source": [
    "df_wangchan_character, metrics_wangchan_character = compare_final_results(tokenizer_wangchan, \n",
    "                                      model_wangchan, \n",
    "                                      datasets_uncased['test'], \n",
    "                                      tok_func=character_tokenize,\n",
    "                                      n_best_size=20,\n",
    "                                      max_answer_length=100,\n",
    "                                      allow_no_answer=False,\n",
    "                                      max_length=416,)\n",
    "\n",
    "df_wcwiki_character, metrics_wcwiki_character = compare_final_results(tokenizer_wcwiki, \n",
    "                                      model_wcwiki, \n",
    "                                      datasets_cased['test'], \n",
    "                                      tok_func=character_tokenize,\n",
    "                                      n_best_size=20,\n",
    "                                      max_answer_length=100,\n",
    "                                      allow_no_answer=False,\n",
    "                                      max_length=400,)\n",
    "\n",
    "df_xlm_character, metrics_xlm_character = compare_final_results(tokenizer_xlm, \n",
    "                                      model_xlm, \n",
    "                                      datasets_cased['test'], \n",
    "                                      tok_func=character_tokenize,\n",
    "                                      n_best_size=20,\n",
    "                                      max_answer_length=100,\n",
    "                                      allow_no_answer=False,\n",
    "                                      max_length=512,)\n",
    "\n",
    "df_mbert_character, metrics_mbert_character = compare_final_results(tokenizer_mbert, \n",
    "                                      model_mbert, \n",
    "                                      datasets_cased['test'], \n",
    "                                      tok_func=character_tokenize,\n",
    "                                      n_best_size=20,\n",
    "                                      max_answer_length=100,\n",
    "                                      allow_no_answer=False,\n",
    "                                      max_length=512,)"
   ]
  },
  {
   "cell_type": "code",
   "execution_count": 24,
   "id": "liquid-intake",
   "metadata": {},
   "outputs": [
    {
     "data": {
      "text/plain": [
       "({'exact_match': 48.57916102841678, 'f1': 73.72159565026034},\n",
       " {'exact_match': 50.20297699594046, 'f1': 78.20811420963103},\n",
       " {'exact_match': 54.66847090663058, 'f1': 79.35555876284236},\n",
       " {'exact_match': 51.42083897158322, 'f1': 75.79187183319615})"
      ]
     },
     "execution_count": 24,
     "metadata": {},
     "output_type": "execute_result"
    }
   ],
   "source": [
    "metrics_wangchan, metrics_wcwiki, metrics_xlm, metrics_mbert"
   ]
  },
  {
   "cell_type": "code",
   "execution_count": 25,
   "id": "massive-mount",
   "metadata": {},
   "outputs": [
    {
     "data": {
      "text/plain": [
       "({'exact_match': 48.57916102841678, 'f1': 75.26453989608667},\n",
       " {'exact_match': 50.20297699594046, 'f1': 79.91758975969252},\n",
       " {'exact_match': 54.66847090663058, 'f1': 81.15183608864342},\n",
       " {'exact_match': 51.42083897158322, 'f1': 77.3011529514406})"
      ]
     },
     "execution_count": 25,
     "metadata": {},
     "output_type": "execute_result"
    }
   ],
   "source": [
    "metrics_wangchan_syllable, metrics_wcwiki_syllable, metrics_xlm_syllable, metrics_mbert_syllable"
   ]
  },
  {
   "cell_type": "code",
   "execution_count": 26,
   "id": "exclusive-heater",
   "metadata": {},
   "outputs": [
    {
     "data": {
      "text/plain": [
       "({'exact_match': 48.57916102841678, 'f1': 77.6488627139421},\n",
       " {'exact_match': 50.20297699594046, 'f1': 82.07507307584167},\n",
       " {'exact_match': 54.66847090663058, 'f1': 82.81788338530721},\n",
       " {'exact_match': 51.42083897158322, 'f1': 79.45429201568685})"
      ]
     },
     "execution_count": 26,
     "metadata": {},
     "output_type": "execute_result"
    }
   ],
   "source": [
    "metrics_wangchan_character, metrics_wcwiki_character, metrics_xlm_character, metrics_mbert_character"
   ]
  },
  {
   "cell_type": "markdown",
   "id": "respected-problem",
   "metadata": {},
   "source": [
    "## `wangchanberta` Trained Only on Wikipedia"
   ]
  },
  {
   "cell_type": "markdown",
   "id": "contemporary-patrol",
   "metadata": {},
   "source": [
    "Domain mismatch can be one of the key reasons `wangchanberta` underperforms multilingual models. This seems to be the cased as shown in [experiment results](https://wandb.ai/cstorm125/wangchanberta-qa?workspace=user-cstorm125)"
   ]
  },
  {
   "cell_type": "code",
   "execution_count": null,
   "id": "short-migration",
   "metadata": {},
   "outputs": [],
   "source": []
  }
 ],
 "metadata": {
  "kernelspec": {
   "display_name": "Python 3",
   "language": "python",
   "name": "python3"
  },
  "language_info": {
   "codemirror_mode": {
    "name": "ipython",
    "version": 3
   },
   "file_extension": ".py",
   "mimetype": "text/x-python",
   "name": "python",
   "nbconvert_exporter": "python",
   "pygments_lexer": "ipython3",
   "version": "3.7.6"
  }
 },
 "nbformat": 4,
 "nbformat_minor": 5
}
