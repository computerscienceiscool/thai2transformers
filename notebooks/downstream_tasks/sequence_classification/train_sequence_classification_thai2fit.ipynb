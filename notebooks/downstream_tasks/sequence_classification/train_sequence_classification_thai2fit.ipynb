{
 "cells": [
  {
   "cell_type": "code",
   "execution_count": 4,
   "metadata": {},
   "outputs": [],
   "source": [
    "#imports\n",
    "from datasets import load_dataset\n",
    "from thai2transformers.metrics import classification_metrics\n",
    "from pythainlp.ulmfit import process_thai, THWIKI_LSTM, ThaiTokenizer, pre_rules_th, post_rules_th\n",
    "import pandas as pd\n",
    "from fastai.text import *\n",
    "from fastai.callbacks import CSVLogger, SaveModelCallback\n",
    "import os"
   ]
  },
  {
   "cell_type": "code",
   "execution_count": 98,
   "metadata": {},
   "outputs": [],
   "source": [
    "#parameters\n",
    "class Args:\n",
    "    dataset_name_or_path = 'prachathai67k'\n",
    "    feature_col = 'title'\n",
    "    label_col = 'review_star'\n",
    "    label_cols = ['politics', 'human_rights', 'quality_of_life', \n",
    "                  'international', 'social', 'environment', 'economics', \n",
    "                  'culture', 'labor', 'national_security', 'ict', 'education']\n",
    "    output_dir = 'prachathai67k'\n",
    "    batch_size = 64\n",
    "    is_multilabel = True\n",
    "\n",
    "args = Args()"
   ]
  },
  {
   "cell_type": "code",
   "execution_count": 99,
   "metadata": {},
   "outputs": [],
   "source": [
    "if not os.path.exists(args.output_dir):\n",
    "    os.makedirs(args.output_dir)"
   ]
  },
  {
   "cell_type": "code",
   "execution_count": 100,
   "metadata": {},
   "outputs": [
    {
     "name": "stderr",
     "output_type": "stream",
     "text": [
      "Reusing dataset prachathai67k (/home/admin/.cache/huggingface/datasets/prachathai67k/prachathai67k/1.1.0/2eeb3bfaf307043e606a58f1f2af8b3d6bbf8a2d0b957d7bfafaf1dc1ef4b5ac)\n"
     ]
    },
    {
     "data": {
      "text/plain": [
       "DatasetDict({\n",
       "    train: Dataset({\n",
       "        features: ['url', 'date', 'title', 'body_text', 'politics', 'human_rights', 'quality_of_life', 'international', 'social', 'environment', 'economics', 'culture', 'labor', 'national_security', 'ict', 'education'],\n",
       "        num_rows: 54379\n",
       "    })\n",
       "    validation: Dataset({\n",
       "        features: ['url', 'date', 'title', 'body_text', 'politics', 'human_rights', 'quality_of_life', 'international', 'social', 'environment', 'economics', 'culture', 'labor', 'national_security', 'ict', 'education'],\n",
       "        num_rows: 6721\n",
       "    })\n",
       "    test: Dataset({\n",
       "        features: ['url', 'date', 'title', 'body_text', 'politics', 'human_rights', 'quality_of_life', 'international', 'social', 'environment', 'economics', 'culture', 'labor', 'national_security', 'ict', 'education'],\n",
       "        num_rows: 6789\n",
       "    })\n",
       "})"
      ]
     },
     "execution_count": 100,
     "metadata": {},
     "output_type": "execute_result"
    }
   ],
   "source": [
    "dataset = load_dataset(args.dataset_name_or_path)\n",
    "dataset"
   ]
  },
  {
   "cell_type": "code",
   "execution_count": 101,
   "metadata": {},
   "outputs": [
    {
     "data": {
      "text/plain": [
       "DatasetDict({\n",
       "    train: Dataset({\n",
       "        features: ['url', 'date', 'title', 'body_text', 'politics', 'human_rights', 'quality_of_life', 'international', 'social', 'environment', 'economics', 'culture', 'labor', 'national_security', 'ict', 'education'],\n",
       "        num_rows: 54379\n",
       "    })\n",
       "    validation: Dataset({\n",
       "        features: ['url', 'date', 'title', 'body_text', 'politics', 'human_rights', 'quality_of_life', 'international', 'social', 'environment', 'economics', 'culture', 'labor', 'national_security', 'ict', 'education'],\n",
       "        num_rows: 6721\n",
       "    })\n",
       "    test: Dataset({\n",
       "        features: ['url', 'date', 'title', 'body_text', 'politics', 'human_rights', 'quality_of_life', 'international', 'social', 'environment', 'economics', 'culture', 'labor', 'national_security', 'ict', 'education'],\n",
       "        num_rows: 6789\n",
       "    })\n",
       "})"
      ]
     },
     "execution_count": 101,
     "metadata": {},
     "output_type": "execute_result"
    }
   ],
   "source": [
    "if args.dataset_name_or_path == 'wongnai_reviews':\n",
    "    train_val_split = dataset['train'].train_test_split(test_size=0.1, shuffle=True, seed=2020)\n",
    "    dataset['train'] = train_val_split['train']\n",
    "    dataset['validation'] = train_val_split['test']\n",
    "dataset"
   ]
  },
  {
   "cell_type": "code",
   "execution_count": 102,
   "metadata": {},
   "outputs": [
    {
     "data": {
      "text/plain": [
       "((54379, 13), (6721, 13), (6789, 13))"
      ]
     },
     "execution_count": 102,
     "metadata": {},
     "output_type": "execute_result"
    }
   ],
   "source": [
    "#feature labels\n",
    "if args.is_multilabel:\n",
    "    train_df = pd.DataFrame(dataset['train'])[[args.feature_col] + args.label_cols]\n",
    "    train_df.columns = ['texts'] + args.label_cols\n",
    "    valid_df = pd.DataFrame(dataset['validation'])[[args.feature_col] + args.label_cols]\n",
    "    valid_df.columns = ['texts'] + args.label_cols\n",
    "    test_df = pd.DataFrame(dataset['test'])[[args.feature_col] + args.label_cols]\n",
    "    test_df.columns = ['texts'] + args.label_cols\n",
    "else:\n",
    "    #x\n",
    "    if args.dataset_name_or_path == 'generated_reviews_enth':\n",
    "        texts_train = [i['th'] for i in dataset['train'][args.feature_col]]\n",
    "        texts_valid = [i['th'] for i in dataset['validation'][args.feature_col]]\n",
    "        texts_test = [i['th'] for i in dataset['test'][args.feature_col]]\n",
    "    else:\n",
    "        texts_train = dataset['train'][args.feature_col]\n",
    "        texts_valid = dataset['validation'][args.feature_col]\n",
    "        texts_test = dataset['test'][args.feature_col]\n",
    "    #y\n",
    "    if args.dataset_name_or_path == 'generated_reviews_enth' and args.label_col=='review_star':\n",
    "        labels_train = [i-1 for i in dataset['train'][args.label_col]]\n",
    "        labels_valid = [i-1 for i in dataset['validation'][args.label_col]]\n",
    "        labels_test = [i-1 for i in dataset['test'][args.label_col]]\n",
    "    else:\n",
    "        labels_train = dataset['train'][args.label_col]\n",
    "        labels_valid = dataset['validation'][args.label_col]\n",
    "        labels_test = dataset['test'][args.label_col]\n",
    "    #df\n",
    "    train_df = pd.DataFrame({'texts':texts_train, 'labels':labels_train})\n",
    "    valid_df = pd.DataFrame({'texts':texts_valid, 'labels':labels_valid})\n",
    "    test_df = pd.DataFrame({'texts':texts_test, 'labels':labels_test})\n",
    "\n",
    "train_df.shape, valid_df.shape, test_df.shape"
   ]
  },
  {
   "cell_type": "code",
   "execution_count": 10,
   "metadata": {},
   "outputs": [
    {
     "data": {
      "text/html": [],
      "text/plain": [
       "<IPython.core.display.HTML object>"
      ]
     },
     "metadata": {},
     "output_type": "display_data"
    },
    {
     "data": {
      "text/html": [],
      "text/plain": [
       "<IPython.core.display.HTML object>"
      ]
     },
     "metadata": {},
     "output_type": "display_data"
    }
   ],
   "source": [
    "tt = Tokenizer(tok_func = ThaiTokenizer, lang = 'th', pre_rules = pre_rules_th, post_rules=post_rules_th)\n",
    "\n",
    "processor = [TokenizeProcessor(tokenizer=tt, chunksize=10000, mark_fields=False),\n",
    "            NumericalizeProcessor(vocab=None, max_vocab=60000, min_freq=3)]\n",
    "\n",
    "data_lm = (ItemLists(args.output_dir, \n",
    "            train=TextList.from_df(train_df, args.output_dir, cols=[\"texts\"], processor=processor),\n",
    "            valid=TextList.from_df(valid_df, args.output_dir, cols=[\"texts\"], processor=processor))\n",
    "    .label_for_lm()\n",
    "    .databunch(bs=args.batch_size))\n",
    "data_lm.sanity_check()\n",
    "data_lm.save(f'{args.dataset_name_or_path}_lm.pkl')"
   ]
  },
  {
   "cell_type": "code",
   "execution_count": 11,
   "metadata": {},
   "outputs": [],
   "source": [
    "config = dict(emb_sz=400, n_hid=1550, n_layers=4, pad_token=1, qrnn=False, tie_weights=True, out_bias=True,\n",
    "             output_p=0.25, hidden_p=0.1, input_p=0.2, embed_p=0.02, weight_p=0.15)\n",
    "trn_args = dict(drop_mult=1., clip=0.12, alpha=2, beta=1)\n",
    "\n",
    "learn = language_model_learner(data_lm, AWD_LSTM, config=config, pretrained=False, **trn_args)\n",
    "\n",
    "#load pretrained models\n",
    "learn.load_pretrained(**THWIKI_LSTM);"
   ]
  },
  {
   "cell_type": "code",
   "execution_count": 12,
   "metadata": {},
   "outputs": [
    {
     "name": "stdout",
     "output_type": "stream",
     "text": [
      "training frozen\n"
     ]
    },
    {
     "data": {
      "text/html": [
       "<table border=\"1\" class=\"dataframe\">\n",
       "  <thead>\n",
       "    <tr style=\"text-align: left;\">\n",
       "      <th>epoch</th>\n",
       "      <th>train_loss</th>\n",
       "      <th>valid_loss</th>\n",
       "      <th>accuracy</th>\n",
       "      <th>time</th>\n",
       "    </tr>\n",
       "  </thead>\n",
       "  <tbody>\n",
       "    <tr>\n",
       "      <td>0</td>\n",
       "      <td>4.770234</td>\n",
       "      <td>4.421361</td>\n",
       "      <td>0.318327</td>\n",
       "      <td>00:28</td>\n",
       "    </tr>\n",
       "  </tbody>\n",
       "</table>"
      ],
      "text/plain": [
       "<IPython.core.display.HTML object>"
      ]
     },
     "metadata": {},
     "output_type": "display_data"
    }
   ],
   "source": [
    "print(\"training frozen\")\n",
    "learn.freeze_to(-1)\n",
    "learn.fit_one_cycle(1, 1e-2, moms=(0.8, 0.7))"
   ]
  },
  {
   "cell_type": "code",
   "execution_count": 13,
   "metadata": {},
   "outputs": [
    {
     "name": "stdout",
     "output_type": "stream",
     "text": [
      "training unfrozen\n"
     ]
    },
    {
     "data": {
      "text/html": [
       "<table border=\"1\" class=\"dataframe\">\n",
       "  <thead>\n",
       "    <tr style=\"text-align: left;\">\n",
       "      <th>epoch</th>\n",
       "      <th>train_loss</th>\n",
       "      <th>valid_loss</th>\n",
       "      <th>accuracy</th>\n",
       "      <th>time</th>\n",
       "    </tr>\n",
       "  </thead>\n",
       "  <tbody>\n",
       "    <tr>\n",
       "      <td>0</td>\n",
       "      <td>4.347134</td>\n",
       "      <td>4.142264</td>\n",
       "      <td>0.347872</td>\n",
       "      <td>00:38</td>\n",
       "    </tr>\n",
       "    <tr>\n",
       "      <td>1</td>\n",
       "      <td>4.150784</td>\n",
       "      <td>3.989359</td>\n",
       "      <td>0.359503</td>\n",
       "      <td>00:39</td>\n",
       "    </tr>\n",
       "    <tr>\n",
       "      <td>2</td>\n",
       "      <td>3.950324</td>\n",
       "      <td>3.895626</td>\n",
       "      <td>0.370871</td>\n",
       "      <td>00:39</td>\n",
       "    </tr>\n",
       "    <tr>\n",
       "      <td>3</td>\n",
       "      <td>3.784429</td>\n",
       "      <td>3.858943</td>\n",
       "      <td>0.374530</td>\n",
       "      <td>00:39</td>\n",
       "    </tr>\n",
       "    <tr>\n",
       "      <td>4</td>\n",
       "      <td>3.709645</td>\n",
       "      <td>3.854859</td>\n",
       "      <td>0.374904</td>\n",
       "      <td>00:39</td>\n",
       "    </tr>\n",
       "  </tbody>\n",
       "</table>"
      ],
      "text/plain": [
       "<IPython.core.display.HTML object>"
      ]
     },
     "metadata": {},
     "output_type": "display_data"
    }
   ],
   "source": [
    "#train unfrozen\n",
    "print(\"training unfrozen\")\n",
    "learn.unfreeze()\n",
    "learn.fit_one_cycle(5, 1e-3, moms=(0.8, 0.7))"
   ]
  },
  {
   "cell_type": "code",
   "execution_count": 14,
   "metadata": {},
   "outputs": [],
   "source": [
    "learn.save_encoder(\"lm_enc\")"
   ]
  },
  {
   "cell_type": "code",
   "execution_count": 17,
   "metadata": {},
   "outputs": [
    {
     "data": {
      "text/html": [],
      "text/plain": [
       "<IPython.core.display.HTML object>"
      ]
     },
     "metadata": {},
     "output_type": "display_data"
    },
    {
     "data": {
      "text/html": [],
      "text/plain": [
       "<IPython.core.display.HTML object>"
      ]
     },
     "metadata": {},
     "output_type": "display_data"
    },
    {
     "name": "stdout",
     "output_type": "stream",
     "text": [
      "11856\n"
     ]
    }
   ],
   "source": [
    "#lm data\n",
    "data_lm = load_data(args.output_dir, f\"{args.dataset_name_or_path}_lm.pkl\")\n",
    "data_lm.sanity_check()\n",
    "\n",
    "#classification data\n",
    "tt = Tokenizer(tok_func=ThaiTokenizer, lang=\"th\", pre_rules=pre_rules_th, post_rules=post_rules_th)\n",
    "processor = [TokenizeProcessor(tokenizer=tt, chunksize=10000, mark_fields=False),\n",
    "            NumericalizeProcessor(vocab=data_lm.vocab, max_vocab=60000, min_freq=3)]\n",
    "\n",
    "if args.is_multilabel:\n",
    "    data_cls = (ItemLists(args.output_dir, \n",
    "                train=TextList.from_df(train_df, args.output_dir, cols=[\"texts\"], processor=processor),\n",
    "                valid=TextList.from_df(valid_df, args.output_dir, cols=[\"texts\"], processor=processor),)\n",
    "        .label_from_df(list(train_df.columns[1:]))\n",
    "        .databunch(bs=args.batch_size)\n",
    "        )\n",
    "else:\n",
    "    data_cls = (ItemLists(args.output_dir, \n",
    "                train=TextList.from_df(train_df, args.output_dir, cols=[\"texts\"], processor=processor),\n",
    "                valid=TextList.from_df(valid_df, args.output_dir, cols=[\"texts\"], processor=processor),)\n",
    "        .label_from_df(\"labels\")\n",
    "        .databunch(bs=args.batch_size)\n",
    "        )\n",
    "data_cls.sanity_check()\n",
    "print(len(data_cls.vocab.itos))"
   ]
  },
  {
   "cell_type": "code",
   "execution_count": 21,
   "metadata": {},
   "outputs": [],
   "source": [
    "#model\n",
    "config = dict(emb_sz=400, n_hid=1550, n_layers=4, pad_token=1, qrnn=False,\n",
    "             output_p=0.4, hidden_p=0.2, input_p=0.6, embed_p=0.1, weight_p=0.5)\n",
    "trn_args = dict(bptt=70, drop_mult=0.7, alpha=2, beta=1, max_len=500)\n",
    "\n",
    "learn = text_classifier_learner(data_cls, AWD_LSTM, config=config, pretrained=False, **trn_args)\n",
    "#load pretrained finetuned model\n",
    "learn.load_encoder(\"lm_enc\");"
   ]
  },
  {
   "cell_type": "code",
   "execution_count": 22,
   "metadata": {},
   "outputs": [
    {
     "data": {
      "text/html": [
       "<table border=\"1\" class=\"dataframe\">\n",
       "  <thead>\n",
       "    <tr style=\"text-align: left;\">\n",
       "      <th>epoch</th>\n",
       "      <th>train_loss</th>\n",
       "      <th>valid_loss</th>\n",
       "      <th>time</th>\n",
       "    </tr>\n",
       "  </thead>\n",
       "  <tbody>\n",
       "    <tr>\n",
       "      <td>0</td>\n",
       "      <td>0.263054</td>\n",
       "      <td>0.240299</td>\n",
       "      <td>00:20</td>\n",
       "    </tr>\n",
       "  </tbody>\n",
       "</table>"
      ],
      "text/plain": [
       "<IPython.core.display.HTML object>"
      ]
     },
     "metadata": {},
     "output_type": "display_data"
    },
    {
     "data": {
      "text/html": [
       "<table border=\"1\" class=\"dataframe\">\n",
       "  <thead>\n",
       "    <tr style=\"text-align: left;\">\n",
       "      <th>epoch</th>\n",
       "      <th>train_loss</th>\n",
       "      <th>valid_loss</th>\n",
       "      <th>time</th>\n",
       "    </tr>\n",
       "  </thead>\n",
       "  <tbody>\n",
       "    <tr>\n",
       "      <td>0</td>\n",
       "      <td>0.246976</td>\n",
       "      <td>0.227380</td>\n",
       "      <td>00:22</td>\n",
       "    </tr>\n",
       "  </tbody>\n",
       "</table>"
      ],
      "text/plain": [
       "<IPython.core.display.HTML object>"
      ]
     },
     "metadata": {},
     "output_type": "display_data"
    },
    {
     "data": {
      "text/html": [
       "<table border=\"1\" class=\"dataframe\">\n",
       "  <thead>\n",
       "    <tr style=\"text-align: left;\">\n",
       "      <th>epoch</th>\n",
       "      <th>train_loss</th>\n",
       "      <th>valid_loss</th>\n",
       "      <th>time</th>\n",
       "    </tr>\n",
       "  </thead>\n",
       "  <tbody>\n",
       "    <tr>\n",
       "      <td>0</td>\n",
       "      <td>0.234152</td>\n",
       "      <td>0.217878</td>\n",
       "      <td>00:32</td>\n",
       "    </tr>\n",
       "  </tbody>\n",
       "</table>"
      ],
      "text/plain": [
       "<IPython.core.display.HTML object>"
      ]
     },
     "metadata": {},
     "output_type": "display_data"
    },
    {
     "data": {
      "text/html": [
       "<table border=\"1\" class=\"dataframe\">\n",
       "  <thead>\n",
       "    <tr style=\"text-align: left;\">\n",
       "      <th>epoch</th>\n",
       "      <th>train_loss</th>\n",
       "      <th>valid_loss</th>\n",
       "      <th>time</th>\n",
       "    </tr>\n",
       "  </thead>\n",
       "  <tbody>\n",
       "    <tr>\n",
       "      <td>0</td>\n",
       "      <td>0.224458</td>\n",
       "      <td>0.214642</td>\n",
       "      <td>00:53</td>\n",
       "    </tr>\n",
       "    <tr>\n",
       "      <td>1</td>\n",
       "      <td>0.219356</td>\n",
       "      <td>0.211842</td>\n",
       "      <td>00:51</td>\n",
       "    </tr>\n",
       "    <tr>\n",
       "      <td>2</td>\n",
       "      <td>0.213312</td>\n",
       "      <td>0.209700</td>\n",
       "      <td>00:51</td>\n",
       "    </tr>\n",
       "    <tr>\n",
       "      <td>3</td>\n",
       "      <td>0.206874</td>\n",
       "      <td>0.208715</td>\n",
       "      <td>00:52</td>\n",
       "    </tr>\n",
       "    <tr>\n",
       "      <td>4</td>\n",
       "      <td>0.203129</td>\n",
       "      <td>0.208968</td>\n",
       "      <td>00:50</td>\n",
       "    </tr>\n",
       "  </tbody>\n",
       "</table>"
      ],
      "text/plain": [
       "<IPython.core.display.HTML object>"
      ]
     },
     "metadata": {},
     "output_type": "display_data"
    },
    {
     "name": "stdout",
     "output_type": "stream",
     "text": [
      "Better model found at epoch 0 with valid_loss value: 0.2146424502134323.\n",
      "Better model found at epoch 1 with valid_loss value: 0.21184176206588745.\n",
      "Better model found at epoch 2 with valid_loss value: 0.20970037579536438.\n",
      "Better model found at epoch 3 with valid_loss value: 0.20871511101722717.\n"
     ]
    }
   ],
   "source": [
    "#train\n",
    "monitor_metric = 'valid_loss' if args.is_multilabel else 'accuracy' \n",
    "learn.freeze_to(-1)\n",
    "learn.fit_one_cycle(1, 2e-2, moms=(0.8, 0.7))\n",
    "learn.freeze_to(-2)\n",
    "learn.fit_one_cycle(1, slice(1e-2 / (2.6 ** 4), 1e-2), moms=(0.8, 0.7))\n",
    "learn.freeze_to(-3)\n",
    "learn.fit_one_cycle(1, slice(5e-3 / (2.6 ** 4), 5e-3), moms=(0.8, 0.7))\n",
    "learn.unfreeze()\n",
    "learn.fit_one_cycle(5, slice(1e-3 / (2.6 ** 4), 1e-3), moms=(0.8, 0.7),\n",
    "                   callbacks=[SaveModelCallback(learn, every='improvement', monitor=monitor_metric, name='bestmodel')])"
   ]
  },
  {
   "cell_type": "code",
   "execution_count": 103,
   "metadata": {},
   "outputs": [
    {
     "data": {
      "text/html": [],
      "text/plain": [
       "<IPython.core.display.HTML object>"
      ]
     },
     "metadata": {},
     "output_type": "display_data"
    },
    {
     "data": {
      "text/html": [],
      "text/plain": [
       "<IPython.core.display.HTML object>"
      ]
     },
     "metadata": {},
     "output_type": "display_data"
    },
    {
     "name": "stdout",
     "output_type": "stream",
     "text": [
      "11856\n"
     ]
    },
    {
     "data": {
      "text/html": [],
      "text/plain": [
       "<IPython.core.display.HTML object>"
      ]
     },
     "metadata": {},
     "output_type": "display_data"
    }
   ],
   "source": [
    "#thresholding\n",
    "from sklearn.metrics import f1_score, accuracy_score, recall_score, precision_score\n",
    "\n",
    "def best_threshold(y, probs):\n",
    "    f1s = []\n",
    "    for th in range(1,100):\n",
    "        f1s.append((th/100,f1_score(y,(probs> (th/100)).astype(int))))\n",
    "    f1s_df = pd.DataFrame(f1s).sort_values(1,ascending=False).reset_index(drop=True)\n",
    "    f1s_df.columns = ['th_label','f1_label']\n",
    "    return f1s_df.th_label[0], f1s_df.f1_label[0]\n",
    "\n",
    "if args.is_multilabel:\n",
    "    #databunch\n",
    "    data_lm = load_data(args.output_dir, f\"{args.dataset_name_or_path}_lm.pkl\")\n",
    "    data_lm.sanity_check()\n",
    "\n",
    "    #classification data\n",
    "    tt = Tokenizer(tok_func=ThaiTokenizer, lang=\"th\", pre_rules=pre_rules_th, post_rules=post_rules_th)\n",
    "    processor = [TokenizeProcessor(tokenizer=tt, chunksize=10000, mark_fields=False),\n",
    "                NumericalizeProcessor(vocab=data_lm.vocab, max_vocab=60000, min_freq=3)]\n",
    "\n",
    "    if args.is_multilabel:\n",
    "        data_cls = (ItemLists(args.output_dir, \n",
    "                    train=TextList.from_df(train_df, args.output_dir, cols=[\"texts\"], processor=processor),\n",
    "                    valid=TextList.from_df(valid_df, args.output_dir, cols=[\"texts\"], processor=processor),)\n",
    "            .label_from_df(list(train_df.columns[1:]))\n",
    "            .databunch(bs=args.batch_size)\n",
    "            )\n",
    "    else:\n",
    "        data_cls = (ItemLists(args.output_dir, \n",
    "                    train=TextList.from_df(train_df, args.output_dir, cols=[\"texts\"], processor=processor),\n",
    "                    valid=TextList.from_df(valid_df, args.output_dir, cols=[\"texts\"], processor=processor),)\n",
    "            .label_from_df(\"labels\")\n",
    "            .databunch(bs=args.batch_size)\n",
    "            )\n",
    "    data_cls.sanity_check()\n",
    "    print(len(data_cls.vocab.itos))\n",
    "\n",
    "    #model\n",
    "    config = dict(emb_sz=400, n_hid=1550, n_layers=4, pad_token=1, qrnn=False,\n",
    "                 output_p=0.4, hidden_p=0.2, input_p=0.6, embed_p=0.1, weight_p=0.5)\n",
    "    trn_args = dict(bptt=70, drop_mult=0.7, alpha=2, beta=1, max_len=500)\n",
    "\n",
    "    learn = text_classifier_learner(data_cls, AWD_LSTM, config=config, pretrained=False, **trn_args)\n",
    "    learn.load(\"bestmodel\");\n",
    "\n",
    "\n",
    "    #get predictions\n",
    "    probs, y_true, loss = learn.get_preds(ds_type = DatasetType.Valid, ordered=True, with_loss=True)\n",
    "    y_true = y_true.numpy()\n",
    "    probs = probs.numpy()\n",
    "    best_ths = []\n",
    "    for i in range(y_true.shape[1]):\n",
    "        best_th, _ = best_threshold(y_true[:,i], probs[:,i])\n",
    "        best_ths.append(best_th)"
   ]
  },
  {
   "cell_type": "code",
   "execution_count": 104,
   "metadata": {},
   "outputs": [
    {
     "data": {
      "text/html": [],
      "text/plain": [
       "<IPython.core.display.HTML object>"
      ]
     },
     "metadata": {},
     "output_type": "display_data"
    },
    {
     "data": {
      "text/html": [],
      "text/plain": [
       "<IPython.core.display.HTML object>"
      ]
     },
     "metadata": {},
     "output_type": "display_data"
    },
    {
     "name": "stdout",
     "output_type": "stream",
     "text": [
      "11856\n"
     ]
    },
    {
     "data": {
      "text/html": [],
      "text/plain": [
       "<IPython.core.display.HTML object>"
      ]
     },
     "metadata": {},
     "output_type": "display_data"
    }
   ],
   "source": [
    "#test\n",
    "#databunch\n",
    "data_lm = load_data(args.output_dir, f\"{args.dataset_name_or_path}_lm.pkl\")\n",
    "data_lm.sanity_check()\n",
    "\n",
    "#classification data\n",
    "tt = Tokenizer(tok_func=ThaiTokenizer, lang=\"th\", pre_rules=pre_rules_th, post_rules=post_rules_th)\n",
    "processor = [TokenizeProcessor(tokenizer=tt, chunksize=10000, mark_fields=False),\n",
    "            NumericalizeProcessor(vocab=data_lm.vocab, max_vocab=60000, min_freq=3)]\n",
    "\n",
    "if args.is_multilabel:\n",
    "    data_cls = (ItemLists(args.output_dir, \n",
    "                train=TextList.from_df(train_df, args.output_dir, cols=[\"texts\"], processor=processor),\n",
    "                valid=TextList.from_df(test_df, args.output_dir, cols=[\"texts\"], processor=processor),)\n",
    "        .label_from_df(list(train_df.columns[1:]))\n",
    "        .databunch(bs=args.batch_size)\n",
    "        )\n",
    "else:\n",
    "    data_cls = (ItemLists(args.output_dir, \n",
    "                train=TextList.from_df(train_df, args.output_dir, cols=[\"texts\"], processor=processor),\n",
    "                valid=TextList.from_df(test_df, args.output_dir, cols=[\"texts\"], processor=processor),)\n",
    "        .label_from_df(\"labels\")\n",
    "        .databunch(bs=args.batch_size)\n",
    "        )\n",
    "data_cls.sanity_check()\n",
    "print(len(data_cls.vocab.itos))\n",
    "            \n",
    "#model\n",
    "config = dict(emb_sz=400, n_hid=1550, n_layers=4, pad_token=1, qrnn=False,\n",
    "             output_p=0.4, hidden_p=0.2, input_p=0.6, embed_p=0.1, weight_p=0.5)\n",
    "trn_args = dict(bptt=70, drop_mult=0.7, alpha=2, beta=1, max_len=500)\n",
    "\n",
    "learn = text_classifier_learner(data_cls, AWD_LSTM, config=config, pretrained=False, **trn_args)\n",
    "learn.load(\"bestmodel\");\n",
    "\n",
    "\n",
    "#get predictions\n",
    "probs, y_true, loss = learn.get_preds(ds_type = DatasetType.Valid, ordered=True, with_loss=True)\n",
    "classes = learn.data.train_ds.classes"
   ]
  },
  {
   "cell_type": "code",
   "execution_count": 105,
   "metadata": {},
   "outputs": [],
   "source": [
    "if args.is_multilabel:\n",
    "    probs = probs.numpy()\n",
    "    y_true = y_true.numpy()\n",
    "    preds = np.zeros((y_true.shape[0], y_true.shape[1]))\n",
    "    for i in range(y_true.shape[1]):\n",
    "        preds[:,i] = (probs[:,i] > best_ths[i]).astype(int)\n",
    "        \n",
    "    #micro\n",
    "    micro_df = pd.DataFrame.from_dict({'accuracy': (preds==y_true).mean(),\n",
    "    'f1_micro':f1_score(y_true.reshape(-1),preds.reshape(-1)),\n",
    "    'precision_micro':precision_score(y_true.reshape(-1),preds.reshape(-1)),\n",
    "    'recall_micro':recall_score(y_true.reshape(-1),preds.reshape(-1))}, orient='index').transpose()\n",
    "    \n",
    "    #macro\n",
    "    test_performances = []\n",
    "    for i in range(y_true.shape[1]):\n",
    "        d = {}\n",
    "        d['f1_macro'] = f1_score(y_true[:,i],preds[:,i])\n",
    "        d['precision_macro'] = precision_score(y_true[:,i],preds[:,i])\n",
    "        d['recall_macro'] = recall_score(y_true[:,i],preds[:,i])\n",
    "        test_performances.append(d)\n",
    "    macro_df = pd.DataFrame(pd.DataFrame(test_performances).mean()).transpose()\n",
    "    \n",
    "    #test performance\n",
    "    results = pd.concat([micro_df,macro_df],1)\n",
    "else:\n",
    "    y_true = np.array([classes[i] for i in y_true.numpy()])\n",
    "    preds = np.array([classes[i] for i in probs.argmax(1).numpy()])\n",
    "    prob = probs.numpy()\n",
    "\n",
    "    class Preds:\n",
    "        label_ids = y_true\n",
    "        predictions = prob\n",
    "\n",
    "    results = pd.DataFrame.from_dict(classification_metrics(Preds),orient='index').transpose()"
   ]
  },
  {
   "cell_type": "code",
   "execution_count": 106,
   "metadata": {},
   "outputs": [
    {
     "data": {
      "text/html": [
       "<div>\n",
       "<style scoped>\n",
       "    .dataframe tbody tr th:only-of-type {\n",
       "        vertical-align: middle;\n",
       "    }\n",
       "\n",
       "    .dataframe tbody tr th {\n",
       "        vertical-align: top;\n",
       "    }\n",
       "\n",
       "    .dataframe thead th {\n",
       "        text-align: right;\n",
       "    }\n",
       "</style>\n",
       "<table border=\"1\" class=\"dataframe\">\n",
       "  <thead>\n",
       "    <tr style=\"text-align: right;\">\n",
       "      <th></th>\n",
       "      <th>accuracy</th>\n",
       "      <th>f1_micro</th>\n",
       "      <th>precision_micro</th>\n",
       "      <th>recall_micro</th>\n",
       "      <th>f1_macro</th>\n",
       "      <th>precision_macro</th>\n",
       "      <th>recall_macro</th>\n",
       "    </tr>\n",
       "  </thead>\n",
       "  <tbody>\n",
       "    <tr>\n",
       "      <th>0</th>\n",
       "      <td>0.899642</td>\n",
       "      <td>0.662065</td>\n",
       "      <td>0.608263</td>\n",
       "      <td>0.726308</td>\n",
       "      <td>0.602147</td>\n",
       "      <td>0.566918</td>\n",
       "      <td>0.651016</td>\n",
       "    </tr>\n",
       "  </tbody>\n",
       "</table>\n",
       "</div>"
      ],
      "text/plain": [
       "   accuracy  f1_micro  precision_micro  recall_micro  f1_macro  \\\n",
       "0  0.899642  0.662065         0.608263      0.726308  0.602147   \n",
       "\n",
       "   precision_macro  recall_macro  \n",
       "0         0.566918      0.651016  "
      ]
     },
     "execution_count": 106,
     "metadata": {},
     "output_type": "execute_result"
    }
   ],
   "source": [
    "results"
   ]
  },
  {
   "cell_type": "code",
   "execution_count": null,
   "metadata": {},
   "outputs": [],
   "source": []
  }
 ],
 "metadata": {
  "hide_input": false,
  "kernelspec": {
   "display_name": "Python 3",
   "language": "python",
   "name": "python3"
  },
  "language_info": {
   "codemirror_mode": {
    "name": "ipython",
    "version": 3
   },
   "file_extension": ".py",
   "mimetype": "text/x-python",
   "name": "python",
   "nbconvert_exporter": "python",
   "pygments_lexer": "ipython3",
   "version": "3.7.8"
  }
 },
 "nbformat": 4,
 "nbformat_minor": 4
}
