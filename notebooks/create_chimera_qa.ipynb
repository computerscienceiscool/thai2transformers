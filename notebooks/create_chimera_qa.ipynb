{
 "cells": [
  {
   "cell_type": "markdown",
   "metadata": {},
   "source": [
    "# Combine `nsc_qa`, `thaiqa_squad` and `iapp_wiki_qa_squad` to create `chimera_qa`"
   ]
  },
  {
   "cell_type": "markdown",
   "metadata": {},
   "source": [
    "We use the `nsc_qa` version where the contexts are truncated to about 300 `newmm` words."
   ]
  },
  {
   "cell_type": "code",
   "execution_count": 1,
   "metadata": {},
   "outputs": [],
   "source": [
    "%matplotlib inline\n",
    "import numpy as np\n",
    "import pandas as pd\n",
    "import json\n",
    "from datasets import load_dataset, load_from_disk"
   ]
  },
  {
   "cell_type": "code",
   "execution_count": 2,
   "metadata": {},
   "outputs": [],
   "source": [
    "# #convert to jsonl format\n",
    "# with open('../data/train_fold_1.newmm-300.right-margin-ntokens-10.json') as f:\n",
    "#     j = json.load(f)\n",
    "\n",
    "# with open('../data/train_fold_1.newmm-300.right-margin-ntokens-10.jsonl', 'a') as f:\n",
    "#     for i in j:\n",
    "#         json.dump(i,f)\n",
    "#         f.write('\\n')\n",
    "        \n",
    "# with open('../data/validate_fold_1.newmm-300.right-margin-ntokens-10.json') as f:\n",
    "#     j = json.load(f)\n",
    "\n",
    "# with open('../data/validate_fold_1.newmm-300.right-margin-ntokens-10.jsonl', 'a') as f:\n",
    "#     for i in j: \n",
    "#         json.dump(i,f)\n",
    "#         f.write('\\n')\n",
    "        \n",
    "# with open('../data/test_fold_1.edited.newmm-300.right-margin-ntokens-10.json') as f:\n",
    "#     j = json.load(f)\n",
    "\n",
    "# with open('../data/test_fold_1.edited.newmm-300.right-margin-ntokens-10.jsonl', 'a') as f:\n",
    "#     for i in j: \n",
    "#         json.dump(i,f)\n",
    "#         f.write('\\n')"
   ]
  },
  {
   "cell_type": "code",
   "execution_count": 3,
   "metadata": {},
   "outputs": [
    {
     "name": "stderr",
     "output_type": "stream",
     "text": [
      "Using custom data configuration default-b82e3872aa7e7976\n"
     ]
    },
    {
     "name": "stdout",
     "output_type": "stream",
     "text": [
      "Downloading and preparing dataset json/default (download: Unknown size, generated: Unknown size, post-processed: Unknown size, total: Unknown size) to /home/cstorm125/.cache/huggingface/datasets/json/default-b82e3872aa7e7976/0.0.0/83d5b3a2f62630efc6b5315f00f20209b4ad91a00ac586597caee3a4da0bef02...\n"
     ]
    },
    {
     "data": {
      "application/vnd.jupyter.widget-view+json": {
       "model_id": "",
       "version_major": 2,
       "version_minor": 0
      },
      "text/plain": [
       "HBox(children=(FloatProgress(value=1.0, bar_style='info', layout=Layout(width='20px'), max=1.0), HTML(value=''…"
      ]
     },
     "metadata": {},
     "output_type": "display_data"
    },
    {
     "data": {
      "application/vnd.jupyter.widget-view+json": {
       "model_id": "",
       "version_major": 2,
       "version_minor": 0
      },
      "text/plain": [
       "HBox(children=(FloatProgress(value=1.0, bar_style='info', layout=Layout(width='20px'), max=1.0), HTML(value=''…"
      ]
     },
     "metadata": {},
     "output_type": "display_data"
    },
    {
     "data": {
      "application/vnd.jupyter.widget-view+json": {
       "model_id": "",
       "version_major": 2,
       "version_minor": 0
      },
      "text/plain": [
       "HBox(children=(FloatProgress(value=1.0, bar_style='info', layout=Layout(width='20px'), max=1.0), HTML(value=''…"
      ]
     },
     "metadata": {},
     "output_type": "display_data"
    },
    {
     "name": "stdout",
     "output_type": "stream",
     "text": [
      "Dataset json downloaded and prepared to /home/cstorm125/.cache/huggingface/datasets/json/default-b82e3872aa7e7976/0.0.0/83d5b3a2f62630efc6b5315f00f20209b4ad91a00ac586597caee3a4da0bef02. Subsequent calls will reuse this data.\n"
     ]
    },
    {
     "data": {
      "text/plain": [
       "DatasetDict({\n",
       "    train: Dataset({\n",
       "        features: ['dataset', 'question', 'question_id', 'doc_id', 'answers', 'passage', 'passage_ntokens_newmm', 'title'],\n",
       "        num_rows: 9045\n",
       "    })\n",
       "    validation: Dataset({\n",
       "        features: ['dataset', 'question', 'question_id', 'doc_id', 'answers', 'passage', 'passage_ntokens_newmm', 'title'],\n",
       "        num_rows: 1005\n",
       "    })\n",
       "    test: Dataset({\n",
       "        features: ['dataset', 'question', 'question_id', 'doc_id', 'answers', 'passage', 'passage_ntokens_newmm', 'title'],\n",
       "        num_rows: 4950\n",
       "    })\n",
       "})"
      ]
     },
     "execution_count": 3,
     "metadata": {},
     "output_type": "execute_result"
    }
   ],
   "source": [
    "datasets = load_dataset('json', \n",
    "                       data_files={'train':'../data/train_fold_1.newmm-300.right-margin-ntokens-10.jsonl',\n",
    "                                   'validation':'../data/validate_fold_1.newmm-300.right-margin-ntokens-10.jsonl',\n",
    "                                   'test':'../data/test_fold_1.edited.newmm-300.right-margin-ntokens-10.jsonl',\n",
    "                                  },\n",
    "                       )\n",
    "datasets"
   ]
  },
  {
   "cell_type": "code",
   "execution_count": 4,
   "metadata": {},
   "outputs": [
    {
     "data": {
      "text/plain": [
       "{'dataset': 'thwiki_qa15k_newmm-300',\n",
       " 'question': 'เวียนนามถูกจีนปกครองนานนับพันปี ตั้งแต่ พ.ศ. 432 จนถึงปี พ.ศ. ใด',\n",
       " 'question_id': 14947,\n",
       " 'doc_id': 69950,\n",
       " 'answers': {'answer_start': [527], 'answer_end': [531], 'text': ['1481']},\n",
       " 'passage': 'จื๋อโนม จื๋อโนม () เป็นระบบอักษรที่ใช้เขียนภาษาเวียดนาม ปัจจุบันเลิกใช้แล้ว จื๋อโนมประกอบด้วยอักษรจีน (\"ฮั่นจื้อ\" เรียกเป็นภาษาเวียดนามว่า \"ฮ้านตึ\" - ) และอักขระที่ประดิษฐ์ขึ้นตามแบบอักษรจีน ตัวอย่างที่เก่าที่สุดอยู่ในช่วงคริสต์ศตวรรษที่ 13 มักนิยมใช้เฉพาะในหมู่ชนชั้นสูงของเวียดนาม โดยส่วนใหญ่ใช้บันทึกวรรณคดีเวียดนาม (งานเขียนที่เป็นทางการส่วนใหญ่จะใช้ภาษาจีนแบบแผน ไม่ใช่ภาษาเวียดนาม) ปัจจุบันถือว่าถูกแทนที่โดยสมบูรณ์ด้วยจื๋อโกว๊กหงือซึ่งดัดแปลงจากอักษรละตินประวัติ ประวัติ. เวียดนามถูกจีนปกครองนานนับพันปีระหว่าง พ.ศ. 432–1481 เป็นผลให้ภาษาเขียนในทางราชการเป็นภาษาจีนโบราณที่รู้จักในชื่อ \"จื๋อญอ\" () ในภาษาเวียดนาม จื๋อญอยังใช้ต่อมาในเวียดนามร่วมกับจื๋อโนมและจนถึง พ.ศ. 2461 ในช่วงประมาณ พ.ศ. 1500 ชาวเวียดนามปรับปรุงอักษรจีนใช้เขียนภาษาของตน เรียกว่าจื๋อโนมหรืออักษรใต้ ตัวอย่างที่เก่าที่สุดของอักษรนี้คือจารึกโลหะที่เจดีย์บ๋าวอาน () ในจังหวัดหวิญฟุก อายุราว พ.ศ. 1752 ในช่วง พ.ศ. 1800 อักษรชุดนี้ได้เริ่มมีการนำมาใช้ทางวรรณคดี กวีและนักเขียนชาวเวียดนามที่มีชื่อเสียงหลายคนเขียนงานของตนโดยใช้จื๋อโนม เช่น เหงียน เทวียน (), เหงียน สี โก๊ (; พ.ศ. 1900), เหงียน จ๋าย (; พ.ศ. 2000',\n",
       " 'passage_ntokens_newmm': 303,\n",
       " 'title': 'จื๋อโนม'}"
      ]
     },
     "execution_count": 4,
     "metadata": {},
     "output_type": "execute_result"
    }
   ],
   "source": [
    "datasets['train'][0]"
   ]
  },
  {
   "cell_type": "code",
   "execution_count": 5,
   "metadata": {},
   "outputs": [],
   "source": [
    "def convert_nscqa_to_iapp(example):\n",
    "    example['context'] = example['passage']\n",
    "    example['article_id'] = str(example['doc_id'])\n",
    "    example['question_id'] = str(example['question_id'])\n",
    "    return example"
   ]
  },
  {
   "cell_type": "code",
   "execution_count": 6,
   "metadata": {},
   "outputs": [
    {
     "data": {
      "application/vnd.jupyter.widget-view+json": {
       "model_id": "669cb1c5fee040faae307312331abcb9",
       "version_major": 2,
       "version_minor": 0
      },
      "text/plain": [
       "HBox(children=(FloatProgress(value=0.0, max=9045.0), HTML(value='')))"
      ]
     },
     "metadata": {},
     "output_type": "display_data"
    },
    {
     "name": "stdout",
     "output_type": "stream",
     "text": [
      "\n"
     ]
    },
    {
     "data": {
      "application/vnd.jupyter.widget-view+json": {
       "model_id": "003101cb3be74bddbe22e22d11ee2268",
       "version_major": 2,
       "version_minor": 0
      },
      "text/plain": [
       "HBox(children=(FloatProgress(value=0.0, max=1005.0), HTML(value='')))"
      ]
     },
     "metadata": {},
     "output_type": "display_data"
    },
    {
     "name": "stdout",
     "output_type": "stream",
     "text": [
      "\n"
     ]
    },
    {
     "data": {
      "application/vnd.jupyter.widget-view+json": {
       "model_id": "97fc490c3c1c4a3c8f18b7fbf59fe8b2",
       "version_major": 2,
       "version_minor": 0
      },
      "text/plain": [
       "HBox(children=(FloatProgress(value=0.0, max=4950.0), HTML(value='')))"
      ]
     },
     "metadata": {},
     "output_type": "display_data"
    },
    {
     "name": "stdout",
     "output_type": "stream",
     "text": [
      "\n"
     ]
    }
   ],
   "source": [
    "datasets = datasets.map(convert_nscqa_to_iapp, remove_columns=['dataset',\n",
    "                                                               'doc_id',\n",
    "                                                               'passage',\n",
    "                                                               'passage_ntokens_newmm',])"
   ]
  },
  {
   "cell_type": "code",
   "execution_count": 7,
   "metadata": {},
   "outputs": [
    {
     "data": {
      "text/plain": [
       "{'answers': {'answer_end': [157],\n",
       "  'answer_start': [131],\n",
       "  'text': ['มหาวิทยาลัยศรีนครินทรวิโรฒ']},\n",
       " 'article_id': '459520',\n",
       " 'context': 'มหาวิทยาลัยทักษิณ วิทยาเขตสงขลา มหาวิทยาลัยทักษิณ เป็นสถาบันอุดมศึกษาในกำกับของรัฐ ตั้งอยู่ในจังหวัดสงขลา เดิมเป็นวิทยาเขตหนึ่งของ มหาวิทยาลัยศรีนครินทรวิโรฒ ต่อมา ได้รับการยกฐานะเป็นมหาวิทยาลัยเอกเทศ มีชื่อว่า มหาวิทยาลัยทักษิณ พระราชบัญญัติมหาวิทยาลัยทักษิณได้ผ่านกระบวนการตามกฎหมายครบทุกขั้นตอน และได้ประกาศในราชกิจจานุเบกษา เมื่อวันพฤหัสบดีที่ 31 ตุลาคม พ.ศ. 2539 มีผลบังคับใช้ในวันที่ 1 พฤศจิกายน พ.ศ. 2539 ซึ่งถือเป็นวันสถาปนามหาวิทยาลัยทักษิณ โดยชื่อ มหาวิทยาลัยทักษิณ สื่อถึง \"มหาวิทยาลัยแห่งภาคใต้\" มหาวิทยาลัยทักษิณ จัดอยู่ในกลุ่มสถาบันอุดมศึกษาที่เน้นการผลิตบัณฑิตและพัฒนาศิลปะและวัฒนธรรม ได้รับการประเมินจากสำนักงานรับรองมาตรฐานและประเมินคุณภาพการศึกษาในระดับดี โดยเฉพาะในด้านการบริการแก่สังคม ด้านการทำนุบำรุงศิลปะและวัฒนธรรมและด้านการประกันคุณภาพภายในที่ได้รับการประเมินในระดับดีมาก ปัจจุบัน มหาวิทยาลัยประกอบด้วย 2 วิทยาเขต ได้แก่ วิทยาเขตสงขลาและวิทยาเขตพัทลุง รวมทั้งมีศุนย์อยู่ในกรุงเทพมหานคร 1 แห่ง จัดการเรียนการสินในระดับปริญญาตรี โท และเอก ครอบคลุมสาขาวิชาทางวิทยาศาสตร์ วิทยาศาสตร์สุขภาพ สังคมศาสตร์ และมนุษยศาสตร์ประวัติ ประวัติ. มีจุดเริ่มต้นจากการขยายงานออกสู่ส่วนภูมิภาคของวิทยาลัยวิชาการศึกษา ซึ่งได้กระจายโอกาสทางการศึกษาในระดับอุดมศึกษาให้แก่นักเรียนในส่วนภูมิภาคได้มีโอกาสศึกษาต่อ จึงมีการจัดตั้งวิทยาลัยวิชาการศึกษาสงขลาขึ้น เมื่อวันที่ 1 ตุลาคม พ.ศ. 2511 และผลจากการพัฒนาของวิทยาลัยวิชาการศึกษา ต่อมาจึงได้รับการยกฐานะขึ้นเป็นมหาวิทยาลัยศรีนครินทรวิโรฒ เมื่อวันที่ 29 มิถุนายน พ.ศ. 2517 ณ จุด',\n",
       " 'question': 'ก่อนที่จะได้รับการยกฐานะเป็นมหาวิทยาลัยเอกเทศ มหาวิทยาลัยทักษิณเคยเป็นวิทยาเขตหนึ่งของมหาวิทยาลัยใด',\n",
       " 'question_id': '9967',\n",
       " 'title': 'มหาวิทยาลัยทักษิณ วิทยาเขตสงขลา'}"
      ]
     },
     "execution_count": 7,
     "metadata": {},
     "output_type": "execute_result"
    }
   ],
   "source": [
    "i = 301\n",
    "example = datasets['train'][i]\n",
    "example"
   ]
  },
  {
   "cell_type": "code",
   "execution_count": 8,
   "metadata": {},
   "outputs": [
    {
     "data": {
      "text/plain": [
       "('มหาวิทยาลัยศรีนครินทรวิโรฒ', ['มหาวิทยาลัยศรีนครินทรวิโรฒ'])"
      ]
     },
     "execution_count": 8,
     "metadata": {},
     "output_type": "execute_result"
    }
   ],
   "source": [
    "example['context'][example['answers']['answer_start'][0]:example['answers']['answer_end'][0]], example['answers']['text']"
   ]
  },
  {
   "cell_type": "code",
   "execution_count": 9,
   "metadata": {},
   "outputs": [
    {
     "data": {
      "text/plain": [
       "DatasetDict({\n",
       "    train: Dataset({\n",
       "        features: ['answers', 'article_id', 'context', 'question', 'question_id', 'title'],\n",
       "        num_rows: 9045\n",
       "    })\n",
       "    validation: Dataset({\n",
       "        features: ['answers', 'article_id', 'context', 'question', 'question_id', 'title'],\n",
       "        num_rows: 1005\n",
       "    })\n",
       "    test: Dataset({\n",
       "        features: ['answers', 'article_id', 'context', 'question', 'question_id', 'title'],\n",
       "        num_rows: 4950\n",
       "    })\n",
       "})"
      ]
     },
     "execution_count": 9,
     "metadata": {},
     "output_type": "execute_result"
    }
   ],
   "source": [
    "datasets.save_to_disk(\"nsc_qa_w300\")\n",
    "datasets = load_from_disk('nsc_qa_w300')\n",
    "datasets"
   ]
  },
  {
   "cell_type": "code",
   "execution_count": 19,
   "metadata": {},
   "outputs": [
    {
     "data": {
      "application/vnd.jupyter.widget-view+json": {
       "model_id": "7b6718b237ff4b59bd923f9716e27be2",
       "version_major": 2,
       "version_minor": 0
      },
      "text/plain": [
       "  0%|          | 0/9045 [00:00<?, ?ex/s]"
      ]
     },
     "metadata": {},
     "output_type": "display_data"
    },
    {
     "data": {
      "application/vnd.jupyter.widget-view+json": {
       "model_id": "198a92aaa3904e7f9c6e6d482b4afbf1",
       "version_major": 2,
       "version_minor": 0
      },
      "text/plain": [
       "  0%|          | 0/1005 [00:00<?, ?ex/s]"
      ]
     },
     "metadata": {},
     "output_type": "display_data"
    },
    {
     "data": {
      "application/vnd.jupyter.widget-view+json": {
       "model_id": "8296cb1a3b9847c08f72a83a34947f3f",
       "version_major": 2,
       "version_minor": 0
      },
      "text/plain": [
       "  0%|          | 0/4950 [00:00<?, ?ex/s]"
      ]
     },
     "metadata": {},
     "output_type": "display_data"
    },
    {
     "data": {
      "text/plain": [
       "<AxesSubplot:>"
      ]
     },
     "execution_count": 19,
     "metadata": {},
     "output_type": "execute_result"
    },
    {
     "data": {
      "image/png": "[encoded data removed]",
      "text/plain": [
       "<Figure size 432x288 with 1 Axes>"
      ]
     },
     "metadata": {
      "needs_background": "light"
     },
     "output_type": "display_data"
    }
   ],
   "source": [
    "from pythainlp.tokenize import word_tokenize\n",
    "\n",
    "datasets = datasets.map(lambda x: {'context_newmm':len(word_tokenize(x['context']))})\n",
    "train_df = pd.DataFrame(datasets['train'])\n",
    "train_df.context_newmm.hist(bins=30)"
   ]
  },
  {
   "cell_type": "code",
   "execution_count": 20,
   "metadata": {},
   "outputs": [
    {
     "data": {
      "text/plain": [
       "<AxesSubplot:>"
      ]
     },
     "execution_count": 20,
     "metadata": {},
     "output_type": "execute_result"
    },
    {
     "data": {
      "image/png": "[encoded data removed]",
      "text/plain": [
       "<Figure size 432x288 with 1 Axes>"
      ]
     },
     "metadata": {
      "needs_background": "light"
     },
     "output_type": "display_data"
    }
   ],
   "source": [
    "valid_df = pd.DataFrame(datasets['validation'])\n",
    "valid_df.context_newmm.hist(bins=30)"
   ]
  },
  {
   "cell_type": "code",
   "execution_count": 21,
   "metadata": {},
   "outputs": [
    {
     "data": {
      "text/plain": [
       "<AxesSubplot:>"
      ]
     },
     "execution_count": 21,
     "metadata": {},
     "output_type": "execute_result"
    },
    {
     "data": {
      "image/png": "[encoded data removed]",
      "text/plain": [
       "<Figure size 432x288 with 1 Axes>"
      ]
     },
     "metadata": {
      "needs_background": "light"
     },
     "output_type": "display_data"
    }
   ],
   "source": [
    "test_df = pd.DataFrame(datasets['test'])\n",
    "test_df.context_newmm.hist(bins=30)"
   ]
  },
  {
   "cell_type": "markdown",
   "metadata": {},
   "source": [
    "### Does NSC has overlaps with `thaiqa_squad`?"
   ]
  },
  {
   "cell_type": "markdown",
   "metadata": {},
   "source": [
    "Not likely."
   ]
  },
  {
   "cell_type": "code",
   "execution_count": 22,
   "metadata": {},
   "outputs": [
    {
     "data": {
      "application/vnd.jupyter.widget-view+json": {
       "model_id": "e66089184e43474b8008e9378d57daaf",
       "version_major": 2,
       "version_minor": 0
      },
      "text/plain": [
       "Downloading:   0%|          | 0.00/1.36k [00:00<?, ?B/s]"
      ]
     },
     "metadata": {},
     "output_type": "display_data"
    },
    {
     "data": {
      "application/vnd.jupyter.widget-view+json": {
       "model_id": "2c8957990abb41d0ba908c2a348be647",
       "version_major": 2,
       "version_minor": 0
      },
      "text/plain": [
       "Downloading:   0%|          | 0.00/775 [00:00<?, ?B/s]"
      ]
     },
     "metadata": {},
     "output_type": "display_data"
    },
    {
     "name": "stdout",
     "output_type": "stream",
     "text": [
      "Downloading and preparing dataset thaiqa_squad/thaiqa_squad (download: 9.54 MiB, generated: 46.40 MiB, post-processed: Unknown size, total: 55.94 MiB) to /home/cstorm125/.cache/huggingface/datasets/thaiqa_squad/thaiqa_squad/1.0.0/fce14864b511d48464540780f328f4b415746b63f2fd934ad0b06c3eead7787b...\n"
     ]
    },
    {
     "data": {
      "application/vnd.jupyter.widget-view+json": {
       "model_id": "f6f1cbff0a06411191cff56e3986c20e",
       "version_major": 2,
       "version_minor": 0
      },
      "text/plain": [
       "Downloading:   0%|          | 0.00/10.0M [00:00<?, ?B/s]"
      ]
     },
     "metadata": {},
     "output_type": "display_data"
    },
    {
     "data": {
      "application/vnd.jupyter.widget-view+json": {
       "model_id": "",
       "version_major": 2,
       "version_minor": 0
      },
      "text/plain": [
       "0 examples [00:00, ? examples/s]"
      ]
     },
     "metadata": {},
     "output_type": "display_data"
    },
    {
     "data": {
      "application/vnd.jupyter.widget-view+json": {
       "model_id": "",
       "version_major": 2,
       "version_minor": 0
      },
      "text/plain": [
       "0 examples [00:00, ? examples/s]"
      ]
     },
     "metadata": {},
     "output_type": "display_data"
    },
    {
     "name": "stdout",
     "output_type": "stream",
     "text": [
      "Dataset thaiqa_squad downloaded and prepared to /home/cstorm125/.cache/huggingface/datasets/thaiqa_squad/thaiqa_squad/1.0.0/fce14864b511d48464540780f328f4b415746b63f2fd934ad0b06c3eead7787b. Subsequent calls will reuse this data.\n"
     ]
    },
    {
     "data": {
      "text/plain": [
       "DatasetDict({\n",
       "    train: Dataset({\n",
       "        features: ['question_id', 'article_id', 'context', 'question', 'answers'],\n",
       "        num_rows: 4000\n",
       "    })\n",
       "    validation: Dataset({\n",
       "        features: ['question_id', 'article_id', 'context', 'question', 'answers'],\n",
       "        num_rows: 74\n",
       "    })\n",
       "})"
      ]
     },
     "execution_count": 22,
     "metadata": {},
     "output_type": "execute_result"
    }
   ],
   "source": [
    "x = load_dataset('thaiqa_squad')\n",
    "x"
   ]
  },
  {
   "cell_type": "code",
   "execution_count": 23,
   "metadata": {},
   "outputs": [
    {
     "data": {
      "text/plain": [
       "'วังเป็นลุ่มน้ำสำคัญลุ่มน้ำหนึ่งทางภาคเหนือของประเทศไทย พื้นที่ลุ่มน้ำประมาณ 10,791 ตารางกิโลเมตร มีต้นกำเนิดแม่น้ำบริเวณเทือกเขาทางตอนเหนือของจังหวัดลำปาง (อำเภอวังเหนือ) แล้วไหลลงสู่ทางใต้โดยบรรจบกับแม่น้ำปิง บริเวณทางเหนือของอำเภอบ้านตาก จังหวัดตาก กลายเป็นแม่น้ำปิง ไหลลงสู่แม่น้ำเจ้าพระยาต่อไปการแบ่งเขตการปกครองการปกครองส่วนภูมิภาค การแบ่งเขตการปกครอง. การปกครองส่วนภูมิภาค. อำเภอวังเหนือแบ่งพื้นที่การปกครองออกเป็น 8 ตำบล 80 หมู่บ้าน ได้แก่การปกครองส่วนท้องถิ่น การปกครองส่วนท้องถิ่น. ท้องที่อำเภอวังเหนือประกอบด้วยองค์กรปกครองส่วนท้องถิ่น 9 แห่ง ได้แก่- เทศบาลตำบลบ้านใหม่ ครอบคลุมพื้นที่บางส่วนของตำบลวังเหนือ(เฉพาะนอกเขตเทศบาลตำบลวังเหนือ) - เทศบาลตำบลวังเหนือ ครอบคลุมพื้นที่บางส่วนของตำบลวังเหนือ(เฉพาะนอกเขตเทศบาลตำบลบ้านใหม่) - องค์การบริหารส่วนตำบลทุ่งฮั้ว ครอบคลุมพื้นที่ตำบลทุ่งฮั้วทั้งตำบล - องค์การบริหารส่วนตำบลวังใต้ ครอบคลุมพื้นที่ตำบลวังใต้ทั้งตำบล - องค์การบริหารส่วนตำบลร่องเคาะ ครอบคลุมพื้นที่ตำบลร่องเคาะทั้งตำบล - องค์การบริหารส่วนตำบลวังทอง ครอบคลุมพื้นที่ตำบลวังทองทั้งตำบล - องค์การบริหารส่วนตำบลวังซ้าย ครอบคลุมพื้นที่ตำบลวังซ้ายทั้งตำบล - องค์การบริหารส่วนตำบลวังแก้ว ครอบคลุมพื้นที่ตำบลวังแก้วทั้งตำบล - องค์การบริหารส่วนตำบลวังทรายคำ ครอบคลุมพื้นที่ตำบลวังทรายคำทั้งตำบลธนาคารธนาคาร. - มีธนาคาร จำนวน 3 แห่ง ประกอบด้วย- ธนาคารกรุงไทย - ธนาคารออมสิน - ธนาคารเพื่อการเกษตรและสหกรณ์การเกษตรการเดินทาง การเดินทาง. สามารถ'"
      ]
     },
     "execution_count": 23,
     "metadata": {},
     "output_type": "execute_result"
    }
   ],
   "source": [
    "datasets['train'][50]['context']"
   ]
  },
  {
   "cell_type": "code",
   "execution_count": 24,
   "metadata": {},
   "outputs": [
    {
     "data": {
      "application/vnd.jupyter.widget-view+json": {
       "model_id": "6df2f702d9b34bae8b528cab78bf7825",
       "version_major": 2,
       "version_minor": 0
      },
      "text/plain": [
       "  0%|          | 0/4 [00:00<?, ?ba/s]"
      ]
     },
     "metadata": {},
     "output_type": "display_data"
    },
    {
     "data": {
      "application/vnd.jupyter.widget-view+json": {
       "model_id": "21f7063d7d07422fa17cfbf5379963ef",
       "version_major": 2,
       "version_minor": 0
      },
      "text/plain": [
       "  0%|          | 0/1 [00:00<?, ?ba/s]"
      ]
     },
     "metadata": {},
     "output_type": "display_data"
    },
    {
     "data": {
      "text/plain": [
       "Dataset({\n",
       "    features: ['question_id', 'article_id', 'context', 'question', 'answers'],\n",
       "    num_rows: 2\n",
       "})"
      ]
     },
     "execution_count": 24,
     "metadata": {},
     "output_type": "execute_result"
    }
   ],
   "source": [
    "x.filter(lambda x: 'อำเภอวังเหนือ' in x['context'])['train']"
   ]
  },
  {
   "cell_type": "code",
   "execution_count": 25,
   "metadata": {},
   "outputs": [
    {
     "name": "stderr",
     "output_type": "stream",
     "text": [
      "Loading cached processed dataset at /home/cstorm125/.cache/huggingface/datasets/thaiqa_squad/thaiqa_squad/1.0.0/fce14864b511d48464540780f328f4b415746b63f2fd934ad0b06c3eead7787b/cache-f9aaa525bcb07e14.arrow\n",
      "Loading cached processed dataset at /home/cstorm125/.cache/huggingface/datasets/thaiqa_squad/thaiqa_squad/1.0.0/fce14864b511d48464540780f328f4b415746b63f2fd934ad0b06c3eead7787b/cache-56458cd0cae80c5f.arrow\n"
     ]
    },
    {
     "data": {
      "text/plain": [
       "{'question_id': 2924,\n",
       " 'article_id': 722741,\n",
       " 'context': '<doc id=\"722741\" url=\"https://th.wikipedia.org/wiki?curid=722741\" title=\"น้ำตกวังแก้ว\">น้ำตกวังแก้ว น้ำตกวังแก้ว เป็นแหล่งท่องเที่ยวหนึ่งในอุทยานแห่งชาติดอยหลวงซึ่งได้รับการประกาศให้เป็นอุทยานแห่งชาติ เมื่อวันที่16 เมษายน พ.ศ. 2533 ครอบคลุมพื้นที่บางส่วนของจังหวัดพะเยา จังหวัดเชียงรายและจังหวัดลำปาง รวมเนื้อที่ประมาณ 731,250 ไร่ สภาพภูมิประเทศเป็นเขาสูงทอดตัวแนวเหนือ-ใต้ มีดอยหลวงเป็นยอดเขาที่สูงที่สุด ประกอบด้วยป่าเบญจพรรณ ป่าดิบชื้นและป่าเต็งรังปะปนกัน มีสัตว์ป่าและน กหลายชนิด ที่ทำการอุทยานฯ ตั้งอยู่ที่บริเวณน้ำตกวังแก้ว น้ำตกวังแก้ว เป็น น้ำตกที่สวยงามที่สุดของจังหวัดลำปาง เกิดจากการทับถมของหินปูนที่ปนมากับน้ำ มีชั้นน้ำตกประมาณ 110 ชั้น แต่เป็นชั้น ใหญ่ 7-8 ชั้น น้ำตกไหลอยู่ตลอดปี เมื่อขึ้นไปถึงชั้นบนสุดของน้ำตกจะพบ หมู่บ้านชาวเขาเผ่าเย้า ที่บ้านป่าคาหลวงและบ้านส้าน ซึ่งมีทางขึ้นค่อนข้างชัน ที่ น้ำตกวังแก้ว ยังมีเส้นทางเดินศึกษา ธรรมชาติระยะสั้น 1.4 กิโลเมตร นอกจากนี้บริเวณใกล้เคียง ยังมี น้ำตกวังทอง ซึ่งมีลักษณะคล้าย น้ำตกวังแก้ว ค่าธรรมเนียมเข้าชม เด็ก 10 บาท ผู้ใหญ่ 20 บาท สามารถกางเต็นท์ได้แต่ต้องเตรียม เสบียง ไปเอง สถานที่พัก มีบ้านพักจำนวน 7 หลัง ราคา 1,000 บาท ทางอุทยานฯ มีเต็นท์ให้เช่า พักได้ 2 คน ราคา 50 บาท/คืนเต็นท์ หรือจะนำเต็นท์มาเองเสียค่าพื้นที่กางเต็นท์ 20 บาท/คน/คืน สอบถามรายละเอียดเพิ่มเติม ได้ ที่ อุทยานแห่งชาติดอยหลวง ตำบลแม่เย็น อำเภอพาน จังหวัดเชียงราย โทร. 0 5360 9042, 0 2562 7060 หรือ www.dng.or.th การเดินทาง ใช้เส้นทาง สายลำปาง - แจ้ห่ม - วังเหนือ ระยะทางประมาณ 110 กิโลเมตร มีทางเข้าสู่น้ำตกทั้งสองข้างที่ว่าการอำเภอวังเหนือ จากปากทางเข้าสู่น้ำตกวังแก้ว เป็นระยะทาง ประมาณ 24 กิโลเมตร สภาพถนนเป็นทางลาดยาง ส่วนทางเข้าน้ำตก วังทองจากปากทางใหญ่ ที่เข้ามาจะถึงก่อนน้ำตกวังแก้วประมาณ 9 กิโลเมตร</doc>\\n',\n",
       " 'question': 'น้ำตกวังแก้วตั้งอยู่ในอุทยานใด',\n",
       " 'answers': {'answer': ['อุทยานแห่งชาติดอยหลวง'],\n",
       "  'answer_begin_position': [139],\n",
       "  'answer_end_position': [160]}}"
      ]
     },
     "execution_count": 25,
     "metadata": {},
     "output_type": "execute_result"
    }
   ],
   "source": [
    "x.filter(lambda x: 'อำเภอวังเหนือ' in x['context'])['train'][0]"
   ]
  },
  {
   "cell_type": "code",
   "execution_count": 26,
   "metadata": {},
   "outputs": [
    {
     "name": "stderr",
     "output_type": "stream",
     "text": [
      "Loading cached processed dataset at /home/cstorm125/.cache/huggingface/datasets/thaiqa_squad/thaiqa_squad/1.0.0/fce14864b511d48464540780f328f4b415746b63f2fd934ad0b06c3eead7787b/cache-f9aaa525bcb07e14.arrow\n",
      "Loading cached processed dataset at /home/cstorm125/.cache/huggingface/datasets/thaiqa_squad/thaiqa_squad/1.0.0/fce14864b511d48464540780f328f4b415746b63f2fd934ad0b06c3eead7787b/cache-56458cd0cae80c5f.arrow\n"
     ]
    },
    {
     "data": {
      "text/plain": [
       "{'question_id': 2925,\n",
       " 'article_id': 722741,\n",
       " 'context': '<doc id=\"722741\" url=\"https://th.wikipedia.org/wiki?curid=722741\" title=\"น้ำตกวังแก้ว\">น้ำตกวังแก้ว น้ำตกวังแก้ว เป็นแหล่งท่องเที่ยวหนึ่งในอุทยานแห่งชาติดอยหลวงซึ่งได้รับการประกาศให้เป็นอุทยานแห่งชาติ เมื่อวันที่16 เมษายน พ.ศ. 2533 ครอบคลุมพื้นที่บางส่วนของจังหวัดพะเยา จังหวัดเชียงรายและจังหวัดลำปาง รวมเนื้อที่ประมาณ 731,250 ไร่ สภาพภูมิประเทศเป็นเขาสูงทอดตัวแนวเหนือ-ใต้ มีดอยหลวงเป็นยอดเขาที่สูงที่สุด ประกอบด้วยป่าเบญจพรรณ ป่าดิบชื้นและป่าเต็งรังปะปนกัน มีสัตว์ป่าและน กหลายชนิด ที่ทำการอุทยานฯ ตั้งอยู่ที่บริเวณน้ำตกวังแก้ว น้ำตกวังแก้ว เป็น น้ำตกที่สวยงามที่สุดของจังหวัดลำปาง เกิดจากการทับถมของหินปูนที่ปนมากับน้ำ มีชั้นน้ำตกประมาณ 110 ชั้น แต่เป็นชั้น ใหญ่ 7-8 ชั้น น้ำตกไหลอยู่ตลอดปี เมื่อขึ้นไปถึงชั้นบนสุดของน้ำตกจะพบ หมู่บ้านชาวเขาเผ่าเย้า ที่บ้านป่าคาหลวงและบ้านส้าน ซึ่งมีทางขึ้นค่อนข้างชัน ที่ น้ำตกวังแก้ว ยังมีเส้นทางเดินศึกษา ธรรมชาติระยะสั้น 1.4 กิโลเมตร นอกจากนี้บริเวณใกล้เคียง ยังมี น้ำตกวังทอง ซึ่งมีลักษณะคล้าย น้ำตกวังแก้ว ค่าธรรมเนียมเข้าชม เด็ก 10 บาท ผู้ใหญ่ 20 บาท สามารถกางเต็นท์ได้แต่ต้องเตรียม เสบียง ไปเอง สถานที่พัก มีบ้านพักจำนวน 7 หลัง ราคา 1,000 บาท ทางอุทยานฯ มีเต็นท์ให้เช่า พักได้ 2 คน ราคา 50 บาท/คืนเต็นท์ หรือจะนำเต็นท์มาเองเสียค่าพื้นที่กางเต็นท์ 20 บาท/คน/คืน สอบถามรายละเอียดเพิ่มเติม ได้ ที่ อุทยานแห่งชาติดอยหลวง ตำบลแม่เย็น อำเภอพาน จังหวัดเชียงราย โทร. 0 5360 9042, 0 2562 7060 หรือ www.dng.or.th การเดินทาง ใช้เส้นทาง สายลำปาง - แจ้ห่ม - วังเหนือ ระยะทางประมาณ 110 กิโลเมตร มีทางเข้าสู่น้ำตกทั้งสองข้างที่ว่าการอำเภอวังเหนือ จากปากทางเข้าสู่น้ำตกวังแก้ว เป็นระยะทาง ประมาณ 24 กิโลเมตร สภาพถนนเป็นทางลาดยาง ส่วนทางเข้าน้ำตก วังทองจากปากทางใหญ่ ที่เข้ามาจะถึงก่อนน้ำตกวังแก้วประมาณ 9 กิโลเมตร</doc>\\n',\n",
       " 'question': 'น้ำตกวังแก้วในอุทยานแห่งชาติดอยหลวงมีกี่ชั้น',\n",
       " 'answers': {'answer': ['110'],\n",
       "  'answer_begin_position': [640],\n",
       "  'answer_end_position': [643]}}"
      ]
     },
     "execution_count": 26,
     "metadata": {},
     "output_type": "execute_result"
    }
   ],
   "source": [
    "x.filter(lambda x: 'อำเภอวังเหนือ' in x['context'])['train'][1]"
   ]
  },
  {
   "cell_type": "markdown",
   "metadata": {},
   "source": [
    "## `thaiqa_squad` Context Length"
   ]
  },
  {
   "cell_type": "markdown",
   "metadata": {},
   "source": [
    "`thaiqa_squad` also has the long-passage issues so we applied the same technique to truncate the contexts to around 300 `newmm` words."
   ]
  },
  {
   "cell_type": "code",
   "execution_count": 27,
   "metadata": {},
   "outputs": [
    {
     "name": "stderr",
     "output_type": "stream",
     "text": [
      "Reusing dataset thaiqa_squad (/home/cstorm125/.cache/huggingface/datasets/thaiqa_squad/thaiqa_squad/1.0.0/fce14864b511d48464540780f328f4b415746b63f2fd934ad0b06c3eead7787b)\n"
     ]
    },
    {
     "data": {
      "application/vnd.jupyter.widget-view+json": {
       "model_id": "3985cb2d8b5b45eda734b07e75ddb240",
       "version_major": 2,
       "version_minor": 0
      },
      "text/plain": [
       "  0%|          | 0/4000 [00:00<?, ?ex/s]"
      ]
     },
     "metadata": {},
     "output_type": "display_data"
    },
    {
     "data": {
      "application/vnd.jupyter.widget-view+json": {
       "model_id": "7e3d7abf91914c60a59611353cf7d8d4",
       "version_major": 2,
       "version_minor": 0
      },
      "text/plain": [
       "  0%|          | 0/74 [00:00<?, ?ex/s]"
      ]
     },
     "metadata": {},
     "output_type": "display_data"
    },
    {
     "data": {
      "text/plain": [
       "<AxesSubplot:>"
      ]
     },
     "execution_count": 27,
     "metadata": {},
     "output_type": "execute_result"
    },
    {
     "data": {
      "image/png": "[encoded data removed]",
      "text/plain": [
       "<Figure size 432x288 with 1 Axes>"
      ]
     },
     "metadata": {
      "needs_background": "light"
     },
     "output_type": "display_data"
    }
   ],
   "source": [
    "from pythainlp.tokenize import word_tokenize\n",
    "\n",
    "datasets = load_dataset('thaiqa_squad')\n",
    "datasets = datasets.map(lambda x: {'context_newmm':len(word_tokenize(x['context']))})\n",
    "train_df = pd.DataFrame(datasets['train'])\n",
    "train_df.context_newmm.hist(bins=30)"
   ]
  },
  {
   "cell_type": "code",
   "execution_count": 28,
   "metadata": {},
   "outputs": [
    {
     "data": {
      "text/plain": [
       "<AxesSubplot:>"
      ]
     },
     "execution_count": 28,
     "metadata": {},
     "output_type": "execute_result"
    },
    {
     "data": {
      "image/png": "[encoded data removed]",
      "text/plain": [
       "<Figure size 432x288 with 1 Axes>"
      ]
     },
     "metadata": {
      "needs_background": "light"
     },
     "output_type": "display_data"
    }
   ],
   "source": [
    "valid_df = pd.DataFrame(datasets['validation'])\n",
    "valid_df.context_newmm.hist(bins=30)"
   ]
  },
  {
   "cell_type": "code",
   "execution_count": 30,
   "metadata": {},
   "outputs": [],
   "source": [
    "# #convert to jsonl format\n",
    "# with open('../data/thwiki_qa.n-4000.newmm-300.rm_left_padding.right-margin-ntokens-10.json') as f:\n",
    "#     j = json.load(f)\n",
    "\n",
    "# with open('../data/thwiki_qa.n-4000.newmm-300.rm_left_padding.right-margin-ntokens-10.jsonl', 'a') as f:\n",
    "#     for i in j:\n",
    "#         json.dump(i,f)\n",
    "#         f.write('\\n')"
   ]
  },
  {
   "cell_type": "code",
   "execution_count": 11,
   "metadata": {},
   "outputs": [
    {
     "name": "stderr",
     "output_type": "stream",
     "text": [
      "Using custom data configuration default-e743f38f9852a6c2\n",
      "Reusing dataset json (/home/cstorm125/.cache/huggingface/datasets/json/default-e743f38f9852a6c2/0.0.0/83d5b3a2f62630efc6b5315f00f20209b4ad91a00ac586597caee3a4da0bef02)\n"
     ]
    },
    {
     "data": {
      "text/plain": [
       "DatasetDict({\n",
       "    train: Dataset({\n",
       "        features: ['dataset', 'question', 'question_id', 'doc_id', 'answers', 'passage', 'passage_ntokens_newmm', 'title'],\n",
       "        num_rows: 4000\n",
       "    })\n",
       "})"
      ]
     },
     "execution_count": 11,
     "metadata": {},
     "output_type": "execute_result"
    }
   ],
   "source": [
    "datasets = load_dataset('json', \n",
    "                       data_files={'train':'../data/thwiki_qa.n-4000.newmm-300.rm_left_padding.right-margin-ntokens-10.jsonl',\n",
    "                                  },)\n",
    "datasets"
   ]
  },
  {
   "cell_type": "code",
   "execution_count": 12,
   "metadata": {},
   "outputs": [
    {
     "data": {
      "application/vnd.jupyter.widget-view+json": {
       "model_id": "55cebae7a2d143db9bf59a98d16af4ed",
       "version_major": 2,
       "version_minor": 0
      },
      "text/plain": [
       "HBox(children=(FloatProgress(value=0.0, max=4000.0), HTML(value='')))"
      ]
     },
     "metadata": {},
     "output_type": "display_data"
    },
    {
     "name": "stdout",
     "output_type": "stream",
     "text": [
      "\n"
     ]
    },
    {
     "data": {
      "text/plain": [
       "DatasetDict({\n",
       "    train: Dataset({\n",
       "        features: ['answers', 'article_id', 'context', 'question', 'question_id', 'title'],\n",
       "        num_rows: 4000\n",
       "    })\n",
       "})"
      ]
     },
     "execution_count": 12,
     "metadata": {},
     "output_type": "execute_result"
    }
   ],
   "source": [
    "datasets = datasets.map(convert_nscqa_to_iapp, remove_columns=['dataset',\n",
    "                                                               'doc_id',\n",
    "                                                               'passage',\n",
    "                                                               'passage_ntokens_newmm',])\n",
    "datasets"
   ]
  },
  {
   "cell_type": "code",
   "execution_count": 13,
   "metadata": {},
   "outputs": [
    {
     "data": {
      "text/plain": [
       "{'answers': {'answer_end': [785],\n",
       "  'answer_start': [773],\n",
       "  'text': ['สาขาชีววิทยา']},\n",
       " 'article_id': '150251',\n",
       " 'context': 'แกรี่ เลวิน แกรี่ เลวิน เป็นหัวหน้าทีมกายภาพบำบัดของสโมสรฟุตบอลอาร์เซนอลและเป็นนักกายภาพบำบัดของทีมชาติอังกฤษอีกด้วยประวัติ ประวัติ. แกรี่ เลวิน เกิดเมื่อวันที่ 16 พฤษภาคม ค.ศ. 1964 ที่อีสต์แฮม(East Ham) กรุงลอนดอน ได้มาอยู่กับอาร์เซนอลด้วยการเป็นผู้รักษาประตูทีมเยาวชนตั้งแต่อายุแค่ 16 ปี และผัดตัวเองมาเป็นนักกายภาพบำบัดของทีมสำรองด้วยอายุที่น้อยมากเพียง 19 ปีเท่านั้น หลังจากนั้นหนึ่งปี ก็ไปเป็นนักเตะของสโมสรฟุตบอลบาร์เน็ต ต่อมาในปี 1986 แกรี่ มีอายุเพียง 22 ปี แต่ก็ได้ทำงานเต็มเวลาในตำแหน่งนักกายภาพบำบัดของทีมชุดใหญ่ในที่สุด เขามีประสบการณ์ด้านงานนี้มาแล้วว่า 1,000 เกม (ครบเกมที่ 1,000 เมื่อธันวาคม ปี 2004) ส่วนการได้รับอนุญาตให้เป็นนักกายภาพบำบัดนั้น เนื่องจากว่าเขาเรียนมาจากโรงพยาบาลกาย วิทยาลัยแห่งวิชากายภาพบำบัดในช่วงปี 1983 ถึง 1986 เขาจบปริญญาตรี (hons) ในสาขาชีววิทยาและอนุปริญญาสาขากายภาพบำบัด เขาเป็นสามาชิกของวิทยาลัยแห่งกายภาพบำบัดการกีฬา และเป็นสมาชิกของสมาคมนักกายภาพบำบัดอาชีพแห่งรัฐอีกด้วย เขามีความเชี่ยวชาญด้านเอ็นร้อยหวายอย่างมาก เนื่องจากว่าเคยมีประสบการณ์กับโทนี อดัมส์ หรือแม้แต่เคยเป็นที่ปรึกษาให้กับนักกายภาพบำบัดของสโมสรฟุตบอลเบอร์มิงแฮมในช่วงที่เดวิด ดันน์ได้รับบาดเจ็บอยู่บ่อย ๆ ด้วย ในเกมลีกคัพรอบชิงชนะเลิศเมื่อวันที่ 25 กุมภาพันธ์ ค.ศ. 2007 นั้น เล',\n",
       " 'question': 'แกรี่ เลวิน จบปริญญาตรี ในสาขาอะไร',\n",
       " 'question_id': '302',\n",
       " 'title': 'แกรี่ เลวิน'}"
      ]
     },
     "execution_count": 13,
     "metadata": {},
     "output_type": "execute_result"
    }
   ],
   "source": [
    "i = 301\n",
    "example = datasets['train'][i]\n",
    "example"
   ]
  },
  {
   "cell_type": "code",
   "execution_count": 14,
   "metadata": {},
   "outputs": [
    {
     "data": {
      "text/plain": [
       "('สาขาชีววิทยา', ['สาขาชีววิทยา'])"
      ]
     },
     "execution_count": 14,
     "metadata": {},
     "output_type": "execute_result"
    }
   ],
   "source": [
    "example['context'][example['answers']['answer_start'][0]:example['answers']['answer_end'][0]], example['answers']['text']"
   ]
  },
  {
   "cell_type": "code",
   "execution_count": 15,
   "metadata": {},
   "outputs": [
    {
     "data": {
      "text/plain": [
       "DatasetDict({\n",
       "    train: Dataset({\n",
       "        features: ['answers', 'article_id', 'context', 'question', 'question_id', 'title'],\n",
       "        num_rows: 4000\n",
       "    })\n",
       "})"
      ]
     },
     "execution_count": 15,
     "metadata": {},
     "output_type": "execute_result"
    }
   ],
   "source": [
    "datasets.save_to_disk(\"thaiqa_w300\")\n",
    "datasets = load_from_disk('thaiqa_w300')\n",
    "datasets"
   ]
  },
  {
   "cell_type": "code",
   "execution_count": 36,
   "metadata": {},
   "outputs": [
    {
     "data": {
      "application/vnd.jupyter.widget-view+json": {
       "model_id": "afce711c4bec4a45b053c7a7de194965",
       "version_major": 2,
       "version_minor": 0
      },
      "text/plain": [
       "  0%|          | 0/4000 [00:00<?, ?ex/s]"
      ]
     },
     "metadata": {},
     "output_type": "display_data"
    },
    {
     "data": {
      "text/plain": [
       "<AxesSubplot:>"
      ]
     },
     "execution_count": 36,
     "metadata": {},
     "output_type": "execute_result"
    },
    {
     "data": {
      "image/png": "[encoded data removed]",
      "text/plain": [
       "<Figure size 432x288 with 1 Axes>"
      ]
     },
     "metadata": {
      "needs_background": "light"
     },
     "output_type": "display_data"
    }
   ],
   "source": [
    "from pythainlp.tokenize import word_tokenize\n",
    "\n",
    "datasets = datasets.map(lambda x: {'context_newmm':len(word_tokenize(x['context']))})\n",
    "train_df = pd.DataFrame(datasets['train'])\n",
    "train_df.context_newmm.hist(bins=30)"
   ]
  },
  {
   "cell_type": "markdown",
   "metadata": {},
   "source": [
    "## `iapp_wiki_qa_squad` Context Length"
   ]
  },
  {
   "cell_type": "markdown",
   "metadata": {},
   "source": [
    "`iapp_wiki_qa_squad` also has some very long-passage issues but not as severe as the original `nsc_qa`, so we decided to NOT preprocess it."
   ]
  },
  {
   "cell_type": "code",
   "execution_count": 2,
   "metadata": {},
   "outputs": [
    {
     "data": {
      "application/vnd.jupyter.widget-view+json": {
       "model_id": "b37b5bd5636248f7b5fd4422e256c8e6",
       "version_major": 2,
       "version_minor": 0
      },
      "text/plain": [
       "Downloading:   0%|          | 0.00/1.42k [00:00<?, ?B/s]"
      ]
     },
     "metadata": {},
     "output_type": "display_data"
    },
    {
     "data": {
      "application/vnd.jupyter.widget-view+json": {
       "model_id": "c90b6b4bcfcb4366b3e3b9ebb9adb020",
       "version_major": 2,
       "version_minor": 0
      },
      "text/plain": [
       "Downloading:   0%|          | 0.00/893 [00:00<?, ?B/s]"
      ]
     },
     "metadata": {},
     "output_type": "display_data"
    },
    {
     "name": "stdout",
     "output_type": "stream",
     "text": [
      "Downloading and preparing dataset iapp_wiki_qa_squad/iapp_wiki_qa_squad (download: 2.74 MiB, generated: 19.32 MiB, post-processed: Unknown size, total: 22.07 MiB) to /home/cstorm125/.cache/huggingface/datasets/iapp_wiki_qa_squad/iapp_wiki_qa_squad/1.0.0/c1455d806e5a66ca9ee5c03b4aeaeaef4410afca6263c0bfb440ff1db28e20c3...\n"
     ]
    },
    {
     "data": {
      "application/vnd.jupyter.widget-view+json": {
       "model_id": "83d4b099e7f2438db81861764c1415b2",
       "version_major": 2,
       "version_minor": 0
      },
      "text/plain": [
       "Downloading:   0%|          | 0.00/2.88M [00:00<?, ?B/s]"
      ]
     },
     "metadata": {},
     "output_type": "display_data"
    },
    {
     "data": {
      "application/vnd.jupyter.widget-view+json": {
       "model_id": "",
       "version_major": 2,
       "version_minor": 0
      },
      "text/plain": [
       "0 examples [00:00, ? examples/s]"
      ]
     },
     "metadata": {},
     "output_type": "display_data"
    },
    {
     "data": {
      "application/vnd.jupyter.widget-view+json": {
       "model_id": "",
       "version_major": 2,
       "version_minor": 0
      },
      "text/plain": [
       "0 examples [00:00, ? examples/s]"
      ]
     },
     "metadata": {},
     "output_type": "display_data"
    },
    {
     "data": {
      "application/vnd.jupyter.widget-view+json": {
       "model_id": "",
       "version_major": 2,
       "version_minor": 0
      },
      "text/plain": [
       "0 examples [00:00, ? examples/s]"
      ]
     },
     "metadata": {},
     "output_type": "display_data"
    },
    {
     "name": "stdout",
     "output_type": "stream",
     "text": [
      "Dataset iapp_wiki_qa_squad downloaded and prepared to /home/cstorm125/.cache/huggingface/datasets/iapp_wiki_qa_squad/iapp_wiki_qa_squad/1.0.0/c1455d806e5a66ca9ee5c03b4aeaeaef4410afca6263c0bfb440ff1db28e20c3. Subsequent calls will reuse this data.\n"
     ]
    },
    {
     "data": {
      "application/vnd.jupyter.widget-view+json": {
       "model_id": "aea7fc0d628941a492bb3d2620de9d5a",
       "version_major": 2,
       "version_minor": 0
      },
      "text/plain": [
       "  0%|          | 0/5761 [00:00<?, ?ex/s]"
      ]
     },
     "metadata": {},
     "output_type": "display_data"
    },
    {
     "data": {
      "application/vnd.jupyter.widget-view+json": {
       "model_id": "31fff80d9b7f405c914a7c52eb2b9d9d",
       "version_major": 2,
       "version_minor": 0
      },
      "text/plain": [
       "  0%|          | 0/742 [00:00<?, ?ex/s]"
      ]
     },
     "metadata": {},
     "output_type": "display_data"
    },
    {
     "data": {
      "application/vnd.jupyter.widget-view+json": {
       "model_id": "074e86069c9f496598ebbb704d1b4af2",
       "version_major": 2,
       "version_minor": 0
      },
      "text/plain": [
       "  0%|          | 0/739 [00:00<?, ?ex/s]"
      ]
     },
     "metadata": {},
     "output_type": "display_data"
    },
    {
     "data": {
      "text/plain": [
       "<AxesSubplot:>"
      ]
     },
     "execution_count": 2,
     "metadata": {},
     "output_type": "execute_result"
    },
    {
     "data": {
      "image/png": "[encoded data removed]",
      "text/plain": [
       "<Figure size 432x288 with 1 Axes>"
      ]
     },
     "metadata": {
      "needs_background": "light"
     },
     "output_type": "display_data"
    }
   ],
   "source": [
    "from pythainlp.tokenize import word_tokenize\n",
    "\n",
    "datasets = load_dataset('iapp_wiki_qa_squad')\n",
    "datasets = datasets.map(lambda x: {'context_newmm':len(word_tokenize(x['context']))})\n",
    "train_df = pd.DataFrame(datasets['train'])\n",
    "train_df.context_newmm.hist(bins=30)"
   ]
  },
  {
   "cell_type": "code",
   "execution_count": 3,
   "metadata": {},
   "outputs": [
    {
     "data": {
      "text/plain": [
       "<AxesSubplot:>"
      ]
     },
     "execution_count": 3,
     "metadata": {},
     "output_type": "execute_result"
    },
    {
     "data": {
      "image/png": "[encoded data removed]",
      "text/plain": [
       "<Figure size 432x288 with 1 Axes>"
      ]
     },
     "metadata": {
      "needs_background": "light"
     },
     "output_type": "display_data"
    }
   ],
   "source": [
    "valid_df = pd.DataFrame(datasets['validation'])\n",
    "valid_df.context_newmm.hist(bins=30)"
   ]
  },
  {
   "cell_type": "code",
   "execution_count": 4,
   "metadata": {},
   "outputs": [
    {
     "data": {
      "text/plain": [
       "<AxesSubplot:>"
      ]
     },
     "execution_count": 4,
     "metadata": {},
     "output_type": "execute_result"
    },
    {
     "data": {
      "image/png": "[encoded data removed]",
      "text/plain": [
       "<Figure size 432x288 with 1 Axes>"
      ]
     },
     "metadata": {
      "needs_background": "light"
     },
     "output_type": "display_data"
    }
   ],
   "source": [
    "test_df = pd.DataFrame(datasets['test'])\n",
    "test_df.context_newmm.hist(bins=30)"
   ]
  },
  {
   "cell_type": "markdown",
   "metadata": {},
   "source": [
    "But we will need to reconvert and reread from `.jsonl` due to pyarrow bug."
   ]
  },
  {
   "cell_type": "code",
   "execution_count": 2,
   "metadata": {},
   "outputs": [
    {
     "data": {
      "application/vnd.jupyter.widget-view+json": {
       "model_id": "cdeb25be4b284bb08690e13a8b480c52",
       "version_major": 2,
       "version_minor": 0
      },
      "text/plain": [
       "HBox(children=(FloatProgress(value=0.0, description='Downloading', max=1420.0, style=ProgressStyle(description…"
      ]
     },
     "metadata": {},
     "output_type": "display_data"
    },
    {
     "name": "stdout",
     "output_type": "stream",
     "text": [
      "\n"
     ]
    },
    {
     "data": {
      "application/vnd.jupyter.widget-view+json": {
       "model_id": "846b20b0c3c8463888692c2d4e4f46a9",
       "version_major": 2,
       "version_minor": 0
      },
      "text/plain": [
       "HBox(children=(FloatProgress(value=0.0, description='Downloading', max=893.0, style=ProgressStyle(description_…"
      ]
     },
     "metadata": {},
     "output_type": "display_data"
    },
    {
     "name": "stderr",
     "output_type": "stream",
     "text": [
      "Reusing dataset iapp_wiki_qa_squad (/home/cstorm125/.cache/huggingface/datasets/iapp_wiki_qa_squad/iapp_wiki_qa_squad/1.0.0/c1455d806e5a66ca9ee5c03b4aeaeaef4410afca6263c0bfb440ff1db28e20c3)\n"
     ]
    },
    {
     "name": "stdout",
     "output_type": "stream",
     "text": [
      "\n"
     ]
    }
   ],
   "source": [
    "iapp = load_dataset('iapp_wiki_qa_squad')"
   ]
  },
  {
   "cell_type": "code",
   "execution_count": 16,
   "metadata": {},
   "outputs": [],
   "source": [
    "#convert to jsonl format\n",
    "with open('../data/iapp_train.jsonl', 'a') as f:\n",
    "    for i in iapp['train']:\n",
    "        #fix order to align\n",
    "        i['answers'] = {'answer_end': i['answers']['answer_end'],\n",
    "                        'answer_start': i['answers']['answer_start'],\n",
    "                       'text': i['answers']['text'],}\n",
    "        json.dump(i,f)\n",
    "        f.write('\\n')\n",
    "\n",
    "with open('../data/iapp_validation.jsonl', 'a') as f:\n",
    "    for i in iapp['validation']: \n",
    "        #fix order to align\n",
    "        i['answers'] = {'answer_end': i['answers']['answer_end'],\n",
    "                        'answer_start': i['answers']['answer_start'],\n",
    "                       'text': i['answers']['text'],}\n",
    "        json.dump(i,f)\n",
    "        f.write('\\n')\n",
    "\n",
    "with open('../data/iapp_test.jsonl', 'a') as f:\n",
    "    for i in iapp['test']: \n",
    "        #fix order to align\n",
    "        i['answers'] = {'answer_end': i['answers']['answer_end'],\n",
    "                        'answer_start': i['answers']['answer_start'],\n",
    "                       'text': i['answers']['text'],}\n",
    "        json.dump(i,f)\n",
    "        f.write('\\n')"
   ]
  },
  {
   "cell_type": "code",
   "execution_count": 17,
   "metadata": {},
   "outputs": [
    {
     "name": "stderr",
     "output_type": "stream",
     "text": [
      "Using custom data configuration default-3965586e07602d5c\n"
     ]
    },
    {
     "name": "stdout",
     "output_type": "stream",
     "text": [
      "Downloading and preparing dataset json/default (download: Unknown size, generated: Unknown size, post-processed: Unknown size, total: Unknown size) to /home/cstorm125/.cache/huggingface/datasets/json/default-3965586e07602d5c/0.0.0/83d5b3a2f62630efc6b5315f00f20209b4ad91a00ac586597caee3a4da0bef02...\n"
     ]
    },
    {
     "data": {
      "application/vnd.jupyter.widget-view+json": {
       "model_id": "",
       "version_major": 2,
       "version_minor": 0
      },
      "text/plain": [
       "HBox(children=(FloatProgress(value=1.0, bar_style='info', layout=Layout(width='20px'), max=1.0), HTML(value=''…"
      ]
     },
     "metadata": {},
     "output_type": "display_data"
    },
    {
     "data": {
      "application/vnd.jupyter.widget-view+json": {
       "model_id": "",
       "version_major": 2,
       "version_minor": 0
      },
      "text/plain": [
       "HBox(children=(FloatProgress(value=1.0, bar_style='info', layout=Layout(width='20px'), max=1.0), HTML(value=''…"
      ]
     },
     "metadata": {},
     "output_type": "display_data"
    },
    {
     "data": {
      "application/vnd.jupyter.widget-view+json": {
       "model_id": "",
       "version_major": 2,
       "version_minor": 0
      },
      "text/plain": [
       "HBox(children=(FloatProgress(value=1.0, bar_style='info', layout=Layout(width='20px'), max=1.0), HTML(value=''…"
      ]
     },
     "metadata": {},
     "output_type": "display_data"
    },
    {
     "name": "stdout",
     "output_type": "stream",
     "text": [
      "Dataset json downloaded and prepared to /home/cstorm125/.cache/huggingface/datasets/json/default-3965586e07602d5c/0.0.0/83d5b3a2f62630efc6b5315f00f20209b4ad91a00ac586597caee3a4da0bef02. Subsequent calls will reuse this data.\n"
     ]
    },
    {
     "data": {
      "text/plain": [
       "DatasetDict({\n",
       "    train: Dataset({\n",
       "        features: ['question_id', 'article_id', 'title', 'context', 'question', 'answers'],\n",
       "        num_rows: 5761\n",
       "    })\n",
       "    validation: Dataset({\n",
       "        features: ['answers', 'article_id', 'context', 'question', 'question_id', 'title'],\n",
       "        num_rows: 742\n",
       "    })\n",
       "    test: Dataset({\n",
       "        features: ['answers', 'article_id', 'context', 'question', 'question_id', 'title'],\n",
       "        num_rows: 739\n",
       "    })\n",
       "})"
      ]
     },
     "execution_count": 17,
     "metadata": {},
     "output_type": "execute_result"
    }
   ],
   "source": [
    "datasets = load_dataset('json', \n",
    "                       data_files={'train':'../data/iapp_train.jsonl',\n",
    "                                   'validation':'../data/iapp_validation.jsonl',\n",
    "                                   'test':'../data/iapp_test.jsonl',\n",
    "                                  },\n",
    "                       )\n",
    "datasets"
   ]
  },
  {
   "cell_type": "code",
   "execution_count": 18,
   "metadata": {},
   "outputs": [
    {
     "data": {
      "text/plain": [
       "{'question_id': Value(dtype='string', id=None),\n",
       " 'article_id': Value(dtype='string', id=None),\n",
       " 'title': Value(dtype='string', id=None),\n",
       " 'context': Value(dtype='string', id=None),\n",
       " 'question': Value(dtype='string', id=None),\n",
       " 'answers': {'answer_end': Sequence(feature=Value(dtype='int64', id=None), length=-1, id=None),\n",
       "  'answer_start': Sequence(feature=Value(dtype='int64', id=None), length=-1, id=None),\n",
       "  'text': Sequence(feature=Value(dtype='string', id=None), length=-1, id=None)}}"
      ]
     },
     "execution_count": 18,
     "metadata": {},
     "output_type": "execute_result"
    }
   ],
   "source": [
    "datasets['train'].features"
   ]
  },
  {
   "cell_type": "code",
   "execution_count": 19,
   "metadata": {},
   "outputs": [
    {
     "data": {
      "text/plain": [
       "DatasetDict({\n",
       "    train: Dataset({\n",
       "        features: ['question_id', 'article_id', 'title', 'context', 'question', 'answers'],\n",
       "        num_rows: 5761\n",
       "    })\n",
       "    validation: Dataset({\n",
       "        features: ['answers', 'article_id', 'context', 'question', 'question_id', 'title'],\n",
       "        num_rows: 742\n",
       "    })\n",
       "    test: Dataset({\n",
       "        features: ['answers', 'article_id', 'context', 'question', 'question_id', 'title'],\n",
       "        num_rows: 739\n",
       "    })\n",
       "})"
      ]
     },
     "execution_count": 19,
     "metadata": {},
     "output_type": "execute_result"
    }
   ],
   "source": [
    "datasets.save_to_disk(\"iapp_wiki_qa_squadx\")\n",
    "datasets = load_from_disk('iapp_wiki_qa_squadx')\n",
    "datasets"
   ]
  },
  {
   "cell_type": "code",
   "execution_count": null,
   "metadata": {},
   "outputs": [],
   "source": []
  }
 ],
 "metadata": {
  "kernelspec": {
   "display_name": "Python 3",
   "language": "python",
   "name": "python3"
  },
  "language_info": {
   "codemirror_mode": {
    "name": "ipython",
    "version": 3
   },
   "file_extension": ".py",
   "mimetype": "text/x-python",
   "name": "python",
   "nbconvert_exporter": "python",
   "pygments_lexer": "ipython3",
   "version": "3.7.10"
  }
 },
 "nbformat": 4,
 "nbformat_minor": 2
}
