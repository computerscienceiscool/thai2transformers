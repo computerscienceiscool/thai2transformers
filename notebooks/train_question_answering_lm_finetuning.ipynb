{
 "cells": [
  {
   "cell_type": "markdown",
   "metadata": {
    "id": "X4cRE8IbIrIV"
   },
   "source": [
    "# Question Answering with [WangchanBERTa](https://colab.research.google.com/drive/1Kbk6sBspZLwcnOE61adAQo30xxqOQ9ko#scrollTo=CbEzo1R2vp_H)"
   ]
  },
  {
   "cell_type": "markdown",
   "metadata": {
    "id": "WG7JU638f6P7"
   },
   "source": [
    "This notebook is adapted from [HuggingFace example on QA](https://huggingface.co/transformers/examples.html) for WangchanBERTa. We have modified text processing functions and metrics to suit Thai language."
   ]
  },
  {
   "cell_type": "markdown",
   "metadata": {
    "id": "AaYNxLGFvUTA"
   },
   "source": [
    "## Installs and Imports"
   ]
  },
  {
   "cell_type": "code",
   "execution_count": 1,
   "metadata": {
    "id": "MOsHUjgdIrIW"
   },
   "outputs": [],
   "source": [
    "# !pip install -Uqq datasets pythainlp==2.2.4 transformers==4.4.0"
   ]
  },
  {
   "cell_type": "code",
   "execution_count": 2,
   "metadata": {},
   "outputs": [
    {
     "data": {
      "text/plain": [
       "('2.2.4', '4.4.0')"
      ]
     },
     "execution_count": 2,
     "metadata": {},
     "output_type": "execute_result"
    }
   ],
   "source": [
    "%load_ext autoreload\n",
    "%autoreload 2\n",
    "\n",
    "import pythainlp, transformers\n",
    "pythainlp.__version__, transformers.__version__ #fix pythainlp to stabilize word tokenization for metrics"
   ]
  },
  {
   "cell_type": "code",
   "execution_count": 3,
   "metadata": {
    "id": "0WsNAI2LkHq1"
   },
   "outputs": [],
   "source": [
    "import collections\n",
    "import logging\n",
    "import pprint\n",
    "import re\n",
    "from tqdm.auto import tqdm\n",
    "\n",
    "import numpy as np\n",
    "import torch\n",
    "\n",
    "#datasets\n",
    "from datasets import (\n",
    "    load_dataset, \n",
    "    load_metric, \n",
    "    concatenate_datasets,\n",
    "    load_from_disk,\n",
    ")\n",
    "\n",
    "#transformers\n",
    "from transformers import (\n",
    "    AutoConfig,\n",
    "    AutoTokenizer,\n",
    "    AutoModelForQuestionAnswering,\n",
    "    TrainingArguments,\n",
    "    Trainer,\n",
    "    default_data_collator,\n",
    ")\n",
    "\n",
    "#thai2transformers\n",
    "import thai2transformers\n",
    "from thai2transformers.metrics import (\n",
    "    squad_newmm_metric,\n",
    "    question_answering_metrics,\n",
    ")\n",
    "from thai2transformers.preprocess import (\n",
    "    prepare_qa_train_features\n",
    ")\n",
    "from thai2transformers.tokenizers import (\n",
    "    ThaiRobertaTokenizer,\n",
    "    ThaiWordsNewmmTokenizer,\n",
    "    ThaiWordsSyllableTokenizer,\n",
    "    FakeSefrCutTokenizer,\n",
    "    SEFR_SPLIT_TOKEN\n",
    ")"
   ]
  },
  {
   "cell_type": "markdown",
   "metadata": {
    "id": "rEJBSTyZIrIb"
   },
   "source": [
    "## Choose Pretrained Models"
   ]
  },
  {
   "cell_type": "code",
   "execution_count": 4,
   "metadata": {
    "id": "6PRUebZzkPBU"
   },
   "outputs": [],
   "source": [
    "model_names = [\n",
    "    'wangchanberta-base-att-spm-uncased',\n",
    "    'xlm-roberta-base',\n",
    "    'bert-base-multilingual-cased',\n",
    "    'wangchanberta-base-wiki-newmm',\n",
    "    'wangchanberta-base-wiki-ssg',\n",
    "    'wangchanberta-base-wiki-sefr',\n",
    "    'wangchanberta-base-wiki-spm',\n",
    "]\n",
    "\n",
    "tokenizers = {\n",
    "    'wangchanberta-base-att-spm-uncased': AutoTokenizer,\n",
    "    'xlm-roberta-base': AutoTokenizer,\n",
    "    'bert-base-multilingual-cased': AutoTokenizer,\n",
    "    'wangchanberta-base-wiki-newmm': ThaiWordsNewmmTokenizer,\n",
    "    'wangchanberta-base-wiki-ssg': ThaiWordsSyllableTokenizer,\n",
    "    'wangchanberta-base-wiki-sefr': FakeSefrCutTokenizer,\n",
    "    'wangchanberta-base-wiki-spm': ThaiRobertaTokenizer,\n",
    "}\n",
    "public_models = ['xlm-roberta-base', 'bert-base-multilingual-cased'] \n",
    "#@title Choose Pretrained Model\n",
    "model_name = \"wangchanberta-base-att-spm-uncased\" #@param [\"wangchanberta-base-att-spm-uncased\", \"xlm-roberta-base\", \"bert-base-multilingual-cased\", \"wangchanberta-base-wiki-newmm\", \"wangchanberta-base-wiki-syllable\", \"wangchanberta-base-wiki-sefr\", \"wangchanberta-base-wiki-spm\"]\n",
    "\n",
    "#create tokenizer\n",
    "tokenizer = tokenizers[model_name].from_pretrained(\n",
    "                f'airesearch/{model_name}' if model_name not in public_models else f'{model_name}',\n",
    "                revision='main',\n",
    "                model_max_length=416,)"
   ]
  },
  {
   "cell_type": "markdown",
   "metadata": {
    "id": "whPRbBNbIrIl"
   },
   "source": [
    "## Load datasets"
   ]
  },
  {
   "cell_type": "code",
   "execution_count": 5,
   "metadata": {},
   "outputs": [],
   "source": [
    "#parameterizing columns\n",
    "CONTEXT_COL = 'context'\n",
    "QUESTION_COL = 'question'\n",
    "ANSWERS_COL = 'answers'\n",
    "TEXT_COL = 'text'\n",
    "START_COL = 'answer_start'\n",
    "END_COL = 'answer_end'\n",
    "QUESTION_ID_COL = 'question_id'"
   ]
  },
  {
   "cell_type": "markdown",
   "metadata": {},
   "source": [
    "### `iapp_wiki_qa_squad` and `thaiqa_squad`"
   ]
  },
  {
   "cell_type": "markdown",
   "metadata": {},
   "source": [
    "Question answering datasets in Thai are relatively small (`squad` has 87,599 examples in training set whereas the numbers are 5,761 and 4,000 for `iapp_wiki_qa_squad` and `thaiqa_squad` respectively). Therefore, we will merge `iapp_wiki_qa_squad` with `thaiqa_squad`. Since we are using train and valiation sets of `iapp_wiki_qa_squad`, we will make sure that there are no overlapping contexts between those datasets and the training set of `thaiqa_squad` that we are merging with the training set of `iapp_wiki_qa_squad`."
   ]
  },
  {
   "cell_type": "code",
   "execution_count": 6,
   "metadata": {
    "id": "HyCTSP-Ya8f6"
   },
   "outputs": [],
   "source": [
    "# #make thaiqa looks like iapp\n",
    "# def convert_to_iapp(example):\n",
    "#     extra_tag = re.match('<doc.*>', example['context'][:-7]).group(0)\n",
    "#     example['answers'] = {\n",
    "#         'text': example['answers']['answer'],\n",
    "#         'answer_start': [np.int32(example['answers']['answer_begin_position'][0] - len(extra_tag))],\n",
    "#         'answer_end': [np.int32(example['answers']['answer_end_position'][0] - len(extra_tag))],\n",
    "#     }\n",
    "#     example['context'] = example['context'][len(extra_tag):-7]\n",
    "#     example['article_id'] = str(example['article_id'])\n",
    "#     example['question_id'] = str(example['question_id'])\n",
    "#     example['title'] = ''\n",
    "#     return example\n",
    "\n",
    "# thaiqa = load_dataset('thaiqa_squad')\n",
    "# thaiqa2 = thaiqa.map(convert_to_iapp)\n",
    "# thaiqa2"
   ]
  },
  {
   "cell_type": "code",
   "execution_count": 7,
   "metadata": {
    "id": "qDfqefuaeWBo"
   },
   "outputs": [],
   "source": [
    "# iapp = load_dataset('iapp_wiki_qa_squad')\n",
    "# iapp"
   ]
  },
  {
   "cell_type": "code",
   "execution_count": 8,
   "metadata": {},
   "outputs": [],
   "source": [
    "# #see if there is an exact match\n",
    "# iapp_contexts = set(iapp['validation']['context'] + iapp['test']['context'])\n",
    "# thaiqa2_contexts = set(thaiqa2['train']['context'])\n",
    "# len(iapp_contexts), len(thaiqa2_contexts), iapp_contexts.intersection(thaiqa2_contexts)"
   ]
  },
  {
   "cell_type": "code",
   "execution_count": 9,
   "metadata": {},
   "outputs": [],
   "source": [
    "# #see if there are contextually similar sentences using USE\n",
    "# #code adapted from https://github.com/cstorm125/thxxwiki/blob/main/align_sentences.py\n",
    "\n",
    "# # !pip install tensorflow==2.3.0 tensorflow_text tensorflow_hub\n",
    "# import tensorflow_hub as hub\n",
    "# import tensorflow_text\n",
    "# import tensorflow as tf  # tensorflow 2.3.0\n",
    "# import pandas as pd\n",
    "\n",
    "# def match_sentences(lang1_sentences, lang2_sentences, model):\n",
    "#     embedding_1 = model(lang1_sentences)\n",
    "#     embedding_2 = model(lang2_sentences)\n",
    "#     distance_matrix_12 = tf.matmul(embedding_1, embedding_2, transpose_b=True)\n",
    "#     print(embedding_1.shape, embedding_2.shape, distance_matrix_12.shape)\n",
    "#     best_distances = tf.argmax(distance_matrix_12, axis=1).numpy()\n",
    "\n",
    "#     matched_sentences_lang2 = []\n",
    "#     scores = []\n",
    "#     for i, lang2_idx in enumerate(best_distances):\n",
    "#         score = distance_matrix_12[i][lang2_idx].numpy()\n",
    "#         scores.append(score)\n",
    "#         matched_sentences_lang2.append(lang2_sentences[lang2_idx])\n",
    "#     return matched_sentences_lang2, scores\n",
    "\n",
    "# _model = hub.load(\n",
    "#         \"https://tfhub.dev/google/universal-sentence-encoder-multilingual/3\"\n",
    "#     )\n",
    "\n",
    "# bs = 1000\n",
    "# use_thres = 0.5 #output everything where dot product is more than 0.5\n",
    "# sent_iapp = list(iapp_contexts)\n",
    "# sent_thaiqa = list(thaiqa2_contexts)\n",
    "\n",
    "# dfs = []\n",
    "# for i in tqdm(range(len(sent_iapp) // bs + 1)):\n",
    "#     for j in tqdm(range(len(sent_thaiqa) // bs + 1)):\n",
    "#         matched_sentences, scores = match_sentences(\n",
    "#             sent_iapp[i * bs : (i + 1) * bs],\n",
    "#             sent_thaiqa[j * bs : (j + 1) * bs],\n",
    "#             _model,\n",
    "#         )\n",
    "#         df = pd.DataFrame(\n",
    "#             {\n",
    "#                 \"iapp_context\": sent_iapp[i * bs : (i + 1) * bs],\n",
    "#                 \"thaiqa_context\": matched_sentences,\n",
    "#                 \"use_score\": scores,\n",
    "#             }\n",
    "#         )\n",
    "#         df = df[(df.use_score > use_thres)]\n",
    "#         dfs.append(df)\n",
    "#         print(\n",
    "#             f\"{df.shape[0]} sentences above {use_thres} threshold\"\n",
    "#         )\n",
    "\n",
    "# df_cc = pd.concat(dfs).sort_values('use_score',ascending=False).reset_index(drop=True)\n",
    "# df_cc.head(50)"
   ]
  },
  {
   "cell_type": "code",
   "execution_count": 10,
   "metadata": {},
   "outputs": [],
   "source": [
    "# #we see very few overlaps but to be sure we remove all thaiqa_squad training examples with context similarity 0.8 or above\n",
    "# overlaps = df_cc[df_cc.use_score>=0.8].thaiqa_context.tolist()\n",
    "# len(overlaps)"
   ]
  },
  {
   "cell_type": "code",
   "execution_count": 11,
   "metadata": {},
   "outputs": [],
   "source": [
    "# #filter out overlappers\n",
    "# def filter_overlaps(example, overlaps):\n",
    "#     return False if example['context'] in overlaps else True\n",
    "\n",
    "# thaiqa3 = thaiqa2.filter(lambda x: filter_overlaps(x,overlaps))\n",
    "# thaiqa3"
   ]
  },
  {
   "cell_type": "code",
   "execution_count": 12,
   "metadata": {},
   "outputs": [],
   "source": [
    "# #combine to datasets\n",
    "# #train: iapp_wiki_qa + thaiqa3\n",
    "# #validation: iapp_wiki_qa\n",
    "# #test: iapp_wiki_qa\n",
    "\n",
    "# datasets = iapp\n",
    "# datasets['train'] = concatenate_datasets([datasets['train'],thaiqa3['train']])\n",
    "# datasets"
   ]
  },
  {
   "cell_type": "code",
   "execution_count": 13,
   "metadata": {},
   "outputs": [],
   "source": [
    "# #save to disk\n",
    "# datasets.save_to_disk('iapp_thaiqa')"
   ]
  },
  {
   "cell_type": "markdown",
   "metadata": {},
   "source": [
    "### Putting them together"
   ]
  },
  {
   "cell_type": "code",
   "execution_count": 14,
   "metadata": {},
   "outputs": [
    {
     "data": {
      "text/plain": [
       "DatasetDict({\n",
       "    train: Dataset({\n",
       "        features: ['answers', 'article_id', 'context', 'question', 'question_id', 'title'],\n",
       "        num_rows: 9723\n",
       "    })\n",
       "    validation: Dataset({\n",
       "        features: ['answers', 'article_id', 'context', 'question', 'question_id', 'title'],\n",
       "        num_rows: 742\n",
       "    })\n",
       "    test: Dataset({\n",
       "        features: ['answers', 'article_id', 'context', 'question', 'question_id', 'title'],\n",
       "        num_rows: 739\n",
       "    })\n",
       "})"
      ]
     },
     "execution_count": 14,
     "metadata": {},
     "output_type": "execute_result"
    }
   ],
   "source": [
    "datasets = load_from_disk('iapp_thaiqa')\n",
    "datasets"
   ]
  },
  {
   "cell_type": "code",
   "execution_count": 15,
   "metadata": {
    "id": "YqgCUGVpbmNF"
   },
   "outputs": [
    {
     "name": "stderr",
     "output_type": "stream",
     "text": [
      "Loading cached processed dataset at iapp_thaiqa/train/cache-ffa098ec2666f141.arrow\n",
      "Loading cached processed dataset at iapp_thaiqa/validation/cache-8c23515661e2ced7.arrow\n",
      "Loading cached processed dataset at iapp_thaiqa/test/cache-1466b900c9be98ee.arrow\n"
     ]
    }
   ],
   "source": [
    "#lowercase when using uncased model\n",
    "def lowercase_example(example):\n",
    "    example[QUESTION_COL] =  example[QUESTION_COL].lower()\n",
    "    example[CONTEXT_COL] =  example[CONTEXT_COL].lower()\n",
    "    example[ANSWERS_COL][TEXT_COL] =  [example[ANSWERS_COL][TEXT_COL][0].lower()]\n",
    "    return example\n",
    "\n",
    "if model_name == 'wangchanberta-base-att-spm-uncased':\n",
    "    datasets = datasets.map(lowercase_example)"
   ]
  },
  {
   "cell_type": "code",
   "execution_count": 16,
   "metadata": {
    "id": "X6HrpprwIrIz"
   },
   "outputs": [
    {
     "data": {
      "text/plain": [
       "{'answers': {'answer_end': [50],\n",
       "  'answer_start': [31],\n",
       "  'text': ['3 ธันวาคม พ.ศ. 2533']},\n",
       " 'article_id': '01KZTrxgvC5mOovXFMPJ',\n",
       " 'context': 'พัทธ์ธีรา ศรุติพงศ์โภคิน (เกิด 3 ธันวาคม พ.ศ. 2533) หรือชื่อเล่นว่า อร เป็นนักแสดงหญิงชาวไทย สำเร็จมัธยมศึกษาจากcatholic cathedral college ประเทศนิวซีแลนด์ และปริญญาตรีจากraffles international college สาขา business marketing\\n\\nเข้าสู่วงการตั้งแต่อายุ 6 ขวบ จากการแสดงละครเวทีกับ ครูชลประคัลภ์ จันทร์เรือง จากนั้นก็เล่นโฆษณาในวัยเด็ก 2- 3 ชิ้น และยังเคยแสดงช่วงละครสั้น ในรายการซุปเปอร์จิ๋ว ประมาณปี 2542\\n\\nปัจจุบันเป็นทั้ง นักแสดง , พิธีกร และ วีเจ อยู่ที่คลื่น เก็ท 102.5 bangkok international hits music station และยังเป็นพิธีกรให้กับช่อง ทรู มิวสิก',\n",
       " 'question': 'พัทธ์ธีรา ศรุติพงศ์โภคิน เกิดวันที่เท่าไร',\n",
       " 'question_id': '01KZTrxgvC5mOovXFMPJ_000',\n",
       " 'title': 'พัทธ์ธีรา ศรุติพงศ์โภคิน'}"
      ]
     },
     "execution_count": 16,
     "metadata": {},
     "output_type": "execute_result"
    }
   ],
   "source": [
    "datasets[\"train\"][0]"
   ]
  },
  {
   "cell_type": "markdown",
   "metadata": {
    "id": "n9qywopnIrJH"
   },
   "source": [
    "## Preprocessing the training data"
   ]
  },
  {
   "cell_type": "markdown",
   "metadata": {},
   "source": [
    "### Rationale"
   ]
  },
  {
   "cell_type": "markdown",
   "metadata": {},
   "source": [
    "#### Concatenate question and context"
   ]
  },
  {
   "cell_type": "markdown",
   "metadata": {
    "id": "rowT4iCLIrJK"
   },
   "source": [
    "You can directly call this tokenizer on two sentences (one for the answer, one for the context):"
   ]
  },
  {
   "cell_type": "code",
   "execution_count": 17,
   "metadata": {
    "id": "a5hBlsrHIrJL"
   },
   "outputs": [
    {
     "data": {
      "text/plain": [
       "{'input_ids': [5, 645, 185, 13066, 74, 6, 6, 10, 6333, 444, 6], 'attention_mask': [1, 1, 1, 1, 1, 1, 1, 1, 1, 1, 1]}"
      ]
     },
     "execution_count": 17,
     "metadata": {},
     "output_type": "execute_result"
    }
   ],
   "source": [
    "tokenizer(\"เธอเองก็เป็นได้นะ\", \"ฮีโร่น่ะ\")"
   ]
  },
  {
   "cell_type": "code",
   "execution_count": 18,
   "metadata": {
    "id": "goFjPIItG_S8"
   },
   "outputs": [
    {
     "data": {
      "text/plain": [
       "'<s> เธอเองก็เป็นได้นะ</s></s> ฮีโร่น่ะ</s>'"
      ]
     },
     "execution_count": 18,
     "metadata": {},
     "output_type": "execute_result"
    }
   ],
   "source": [
    "tokenizer.decode(tokenizer(\"เธอเองก็เป็นได้นะ\", \"ฮีโร่น่ะ\")['input_ids'])"
   ]
  },
  {
   "cell_type": "markdown",
   "metadata": {},
   "source": [
    "#### Document striding for contexts that exceed max sequence length"
   ]
  },
  {
   "cell_type": "markdown",
   "metadata": {
    "id": "qywIbtPMZoxU"
   },
   "source": [
    "Now one specific thing for the preprocessing in question answering is how to deal with very long documents. We usually truncate them in other tasks, when they are longer than the model maximum sentence length, but here, removing part of the the context might result in losing the answer we are looking for. To deal with this, we will allow one (long) example in our dataset to give several input features, each of length shorter than the maximum length of the model (or the one we set as a hyper-parameter). Also, just in case the answer lies at the point we split a long context, we allow some overlap between the features we generate controlled by the hyper-parameter `doc_stride`:"
   ]
  },
  {
   "cell_type": "code",
   "execution_count": 19,
   "metadata": {
    "id": "wXpuVghfZoxU"
   },
   "outputs": [],
   "source": [
    "max_length = 416 # The maximum length of a feature (question and context)\n",
    "doc_stride = 128 # The authorized overlap between two part of the context when splitting it is needed."
   ]
  },
  {
   "cell_type": "markdown",
   "metadata": {
    "id": "2pqoiwTRZoxV"
   },
   "source": [
    "Let's find one long example in our dataset:"
   ]
  },
  {
   "cell_type": "code",
   "execution_count": 20,
   "metadata": {
    "id": "oRh_176DZoxV"
   },
   "outputs": [
    {
     "name": "stderr",
     "output_type": "stream",
     "text": [
      "Token indices sequence length is longer than the specified maximum sequence length for this model (524 > 416). Running this sequence through the model will result in indexing errors\n"
     ]
    },
    {
     "name": "stdout",
     "output_type": "stream",
     "text": [
      "6\n",
      "('ออสเตรเลีย (อังกฤษ: australia) หรือชื่อทางการคือ เครือรัฐออสเตรเลีย '\n",
      " '(commonwealth of australia) '\n",
      " 'เป็นประเทศซึ่งประกอบด้วยแผ่นดินหลักของทวีปออสเตรเลีย, เกาะแทสเมเนีย '\n",
      " 'และเกาะอื่น ๆ ในมหาสมุทรอินเดีย แปซิฟิก และมหาสมุทรใต้ '\n",
      " 'มันเป็นประเทศที่ใหญ่เป็นอันดับหกของโลกเมื่อนับพื้นที่ทั้งหมด '\n",
      " 'ประเทศเพื่อนบ้านของออสเตรเลียประกอบด้วย อินโดนีเซีย '\n",
      " 'ปาปัวนิวกินีและติมอร์-เลสเตทางเหนือ หมู่เกาะโซโลมอน วานูอาตู '\n",
      " 'และนิวแคลิโดเนียทางตะวันออกเฉียงเหนือ และนิวซีแลนด์ทางตะวันออกเฉียงใต้\\n'\n",
      " '\\n'\n",
      " 'เป็นเวลาอย่างน้อย 40,000 ปี[6] '\n",
      " 'ก่อนที่จะตั้งถิ่นฐานครั้งแรกของอังกฤษในศตวรรษที่ 18,[7][8] '\n",
      " 'ประเทศออสเตรเลียเป็นที่อยู่อาศัยของชาวออสเตรเลียพื้นเมือง[9] '\n",
      " 'ที่พูดภาษาที่แบ่งออกได้เป็นกลุ่มประมาณ 250 ภาษา.[10][11] '\n",
      " 'หลังจากการค้นพบของทวีปโดยนักสำรวจชาวดัตช์ในปี ค.ศ. 1606, '\n",
      " 'ครึ่งหนึ่งของฝั่งตะวันออกของออสเตรเลียถูกอ้างว่าเป็นของสหราชอาณาจักรในปี '\n",
      " 'ค.ศ. 1770 '\n",
      " 'และตั้งรกรากในขั้นต้นโดยการขนส่งนักโทษมายังอาณานิคมของนิวเซาธ์เวลส์จากวันที่ '\n",
      " '26 มกราคม ค.ศ. 1788 จำนวนประชากรเพิ่มขึ้นอย่างต่อเนื่องในทศวรรษที่ผ่านมา '\n",
      " 'ทวีปถูกสำรวจ และอีกห้าอาณานิคมปกครองตนเองของพระมหากษัตริย์ถูกจัดตั้งขึ้น\\n'\n",
      " '\\n'\n",
      " 'เมื่อวันที่ 1 มกราคม ค.ศ. 1901 หกอาณานิคมถูกตั้งขึ้นเป็นสหพันธ์, '\n",
      " 'รวมตัวกันเป็นเครือรัฐออสเตรเลีย. ตั้งแต่นั้นมา '\n",
      " 'ออสเตรเลียยังคงรักษาระบบการเมืองเสรีนิยมประชาธิปไตยที่มั่นคง ที่ '\n",
      " 'ทำหน้าที่เป็นรัฐสภาประชาธิปไตยของรัฐบาลกลางและพระมหากษัตริย์ตามรัฐธรรมนูญ '\n",
      " 'สหพันธ์ประกอบด้วยหกรัฐ และอีกหลายพื้นที่ ประชากร 23.1 ล้านคน[12] '\n",
      " 'อยู่ในเมืองเป็นส่วนใหญ่และมีความหนาแน่นอย่างมากในรัฐทางตะวันออก[13]\\n'\n",
      " '\\n'\n",
      " 'ออสเตรเลียเป็นประเทศที่พัฒนาแล้ว '\n",
      " 'และเป็นหนึ่งในประเทศที่ร่ำรวยที่สุดในโลกที่มีเศรษฐกิจ '\n",
      " 'ใหญ่ที่สุดเป็นอันดับที่ 12 ของโลก ในปี ค.ศ. 2012 '\n",
      " 'ออสเตรเลียมีรายได้ต่อหัวที่สูงที่สุดอันดับห้าของโลก[14] '\n",
      " 'ค่าใช้จ่ายทางทหารของออสเตรเลียมากที่สุดเป็นอันดับที่ 13 ของโลก '\n",
      " 'ด้วยดัชนีการพัฒนามนุษย์ที่สูงที่สุดอันดับที่สองทั่วโลก, '\n",
      " 'ออสเตรเลียถูกจัดอันดับที่สูงในการเปรียบเทียบระหว่างประเทศจำนวนมากของประสิทธิภาพการทำงานในระดับชาติ '\n",
      " 'เช่น คุณภาพชีวิต, สุขภาพ, การศึกษา, เสรีภาพทางเศรษฐกิจ, '\n",
      " 'และการปกป้องเสรีภาพของพลเมืองและสิทธิทางการเมือง.[15] '\n",
      " 'ออสเตรเลียเป็นสมาชิกของสหประชาชาติ, g20, เครือจักรภพแห่งชาติ, anzus, '\n",
      " 'องค์การเพื่อความร่วมมือทางเศรษฐกิจและการพัฒนา (oecd), องค์การการค้าโลก, '\n",
      " 'ความร่วมมือทางเศรษฐกิจเอเชียแปซิฟิกและหมู่เกาะแปซิฟิกฟอรั่ม')\n"
     ]
    }
   ],
   "source": [
    "for i, example in enumerate(datasets[\"train\"]):\n",
    "    if len(tokenizer(example[QUESTION_COL], example[CONTEXT_COL])[\"input_ids\"]) > max_length:\n",
    "        break\n",
    "\n",
    "# i=4\n",
    "example = datasets[\"train\"][i]\n",
    "print(i)\n",
    "pprint.pprint(example['context'])"
   ]
  },
  {
   "cell_type": "markdown",
   "metadata": {
    "id": "FvRF0f-pZoxV"
   },
   "source": [
    "Without any truncation, we get the following length for the input IDs:"
   ]
  },
  {
   "cell_type": "code",
   "execution_count": 21,
   "metadata": {
    "id": "nu_5kuLlZoxV"
   },
   "outputs": [
    {
     "data": {
      "text/plain": [
       "524"
      ]
     },
     "execution_count": 21,
     "metadata": {},
     "output_type": "execute_result"
    }
   ],
   "source": [
    "len(tokenizer(example[QUESTION_COL], example[CONTEXT_COL])[\"input_ids\"])"
   ]
  },
  {
   "cell_type": "markdown",
   "metadata": {
    "id": "6P_gXme-ZoxW"
   },
   "source": [
    "Now, if we just truncate, we will lose information (and possibly the answer to our question):"
   ]
  },
  {
   "cell_type": "code",
   "execution_count": 22,
   "metadata": {
    "id": "ECdAvTqrZoxW"
   },
   "outputs": [
    {
     "data": {
      "text/plain": [
       "416"
      ]
     },
     "execution_count": 22,
     "metadata": {},
     "output_type": "execute_result"
    }
   ],
   "source": [
    "len(tokenizer(example[QUESTION_COL], example[CONTEXT_COL], max_length=max_length, truncation=\"only_second\")[\"input_ids\"])"
   ]
  },
  {
   "cell_type": "markdown",
   "metadata": {
    "id": "5PUWFfiZZoxW"
   },
   "source": [
    "Note that we never want to truncate the question, only the context, else the `only_second` truncation picked. Now, our tokenizer can automatically return us a list of features capped by a certain maximum length, with the overlap we talked above, we just have to tell it with `return_overflowing_tokens=True` and by passing the stride:"
   ]
  },
  {
   "cell_type": "code",
   "execution_count": 23,
   "metadata": {
    "id": "UEaG7UAOZoxY"
   },
   "outputs": [],
   "source": [
    "tokenized_example = tokenizer(\n",
    "    example[QUESTION_COL],\n",
    "    example[CONTEXT_COL],\n",
    "    max_length=max_length,\n",
    "    truncation=\"only_second\",\n",
    "    return_overflowing_tokens=True,\n",
    "    stride=doc_stride\n",
    ")"
   ]
  },
  {
   "cell_type": "markdown",
   "metadata": {
    "id": "578Q8lO_ZoxY"
   },
   "source": [
    "Now we don't have one list of `input_ids`, but several: "
   ]
  },
  {
   "cell_type": "code",
   "execution_count": 24,
   "metadata": {
    "id": "epDpLIiCZoxY"
   },
   "outputs": [
    {
     "data": {
      "text/plain": [
       "[416, 248]"
      ]
     },
     "execution_count": 24,
     "metadata": {},
     "output_type": "execute_result"
    }
   ],
   "source": [
    "[len(x) for x in tokenized_example[\"input_ids\"]]"
   ]
  },
  {
   "cell_type": "code",
   "execution_count": 25,
   "metadata": {},
   "outputs": [
    {
     "data": {
      "text/plain": [
       "['<s> ประเทศออสเตรเลียใหญ่เป็นอันดับที่เท่าไหร่ของโลก</s></s> ออสเตรเลีย (อังกฤษ: australia) หรือชื่อทางการคือ เครือรัฐออสเตรเลีย (commonwealth of australia) เป็นประเทศซึ่งประกอบด้วยแผ่นดินหลักของทวีปออสเตรเลีย, เกาะแทสเมเนีย และเกาะอื่น ๆ ในมหาสมุทรอินเดีย แปซิฟิก และมหาสมุทรใต้ มันเป็นประเทศที่ใหญ่เป็นอันดับหกของโลกเมื่อนับพื้นที่ทั้งหมด ประเทศเพื่อนบ้านของออสเตรเลียประกอบด้วย อินโดนีเซีย ปาปัวนิวกินีและติมอร์-เลสเตทางเหนือ หมู่เกาะโซโลมอน วานูอาตู และนิวแคลิโดเนียทางตะวันออกเฉียงเหนือ และนิวซีแลนด์ทางตะวันออกเฉียงใต้ เป็นเวลาอย่างน้อย 40,000 ปี[6] ก่อนที่จะตั้งถิ่นฐานครั้งแรกของอังกฤษในศตวรรษที่ 18,[7][8] ประเทศออสเตรเลียเป็นที่อยู่อาศัยของชาวออสเตรเลียพื้นเมือง[9] ที่พูดภาษาที่แบ่งออกได้เป็นกลุ่มประมาณ 250 ภาษา.[10][11] หลังจากการค้นพบของทวีปโดยนักสํารวจชาวดัตช์ในปี ค.ศ. 1606, ครึ่งหนึ่งของฝั่งตะวันออกของออสเตรเลียถูกอ้างว่าเป็นของสหราชอาณาจักรในปี ค.ศ. 1770 และตั้งรกรากในขั้นต้นโดยการขนส่งนักโทษมายังอาณานิคมของนิวเซาธ์เวลส์จากวันที่ 26 มกราคม ค.ศ. 1788 จํานวนประชากรเพิ่มขึ้นอย่างต่อเนื่องในทศวรรษที่ผ่านมา ทวีปถูกสํารวจ และอีกห้าอาณานิคมปกครองตนเองของพระมหากษัตริย์ถูกจัดตั้งขึ้น เมื่อวันที่ 1 มกราคม ค.ศ. 1901 หกอาณานิคมถูกตั้งขึ้นเป็นสหพันธ์, รวมตัวกันเป็นเครือรัฐออสเตรเลีย. ตั้งแต่นั้นมา ออสเตรเลียยังคงรักษาระบบการเมืองเสรีนิยมประชาธิปไตยที่มั่นคง ที่ ทําหน้าที่เป็นรัฐสภาประชาธิปไตยของรัฐบาลกลางและพระมหากษัตริย์ตามรัฐธรรมนูญ สหพันธ์ประกอบด้วยหกรัฐ และอีกหลายพื้นที่ ประชากร 23.1 ล้านคน[12] อยู่ในเมืองเป็นส่วนใหญ่และมีความหนาแน่นอย่างมากในรัฐทางตะวันออก[13] ออสเตรเลียเป็นประเทศที่พัฒนาแล้ว และเป็นหนึ่งในประเทศที่ร่ํารวยที่สุดในโลกที่มีเศรษฐกิจ ใหญ่ที่สุดเป็นอันดับที่ 12 ของโลก ในปี ค.ศ. 2012 ออสเตรเลียมีรายได้ต่อหัวที่สูงที่สุดอันดับห้าของโลก[14] ค่าใช้จ่ายทางทหารของออสเตรเลียมากที่สุดเป็นอันดับที่ </s>',\n",
       " '<s> ประเทศออสเตรเลียใหญ่เป็นอันดับที่เท่าไหร่ของโลก</s></s>1 หกอาณานิคมถูกตั้งขึ้นเป็นสหพันธ์, รวมตัวกันเป็นเครือรัฐออสเตรเลีย. ตั้งแต่นั้นมา ออสเตรเลียยังคงรักษาระบบการเมืองเสรีนิยมประชาธิปไตยที่มั่นคง ที่ ทําหน้าที่เป็นรัฐสภาประชาธิปไตยของรัฐบาลกลางและพระมหากษัตริย์ตามรัฐธรรมนูญ สหพันธ์ประกอบด้วยหกรัฐ และอีกหลายพื้นที่ ประชากร 23.1 ล้านคน[12] อยู่ในเมืองเป็นส่วนใหญ่และมีความหนาแน่นอย่างมากในรัฐทางตะวันออก[13] ออสเตรเลียเป็นประเทศที่พัฒนาแล้ว และเป็นหนึ่งในประเทศที่ร่ํารวยที่สุดในโลกที่มีเศรษฐกิจ ใหญ่ที่สุดเป็นอันดับที่ 12 ของโลก ในปี ค.ศ. 2012 ออสเตรเลียมีรายได้ต่อหัวที่สูงที่สุดอันดับห้าของโลก[14] ค่าใช้จ่ายทางทหารของออสเตรเลียมากที่สุดเป็นอันดับที่ 13 ของโลก ด้วยดัชนีการพัฒนามนุษย์ที่สูงที่สุดอันดับที่สองทั่วโลก, ออสเตรเลียถูกจัดอันดับที่สูงในการเปรียบเทียบระหว่างประเทศจํานวนมากของประสิทธิภาพการทํางานในระดับชาติ เช่น คุณภาพชีวิต, สุขภาพ, การศึกษา, เสรีภาพทางเศรษฐกิจ, และการปกป้องเสรีภาพของพลเมืองและสิทธิทางการเมือง.[15] ออสเตรเลียเป็นสมาชิกของสหประชาชาติ, g20, เครือจักรภพแห่งชาติ, anzus, องค์การเพื่อความร่วมมือทางเศรษฐกิจและการพัฒนา (oecd), องค์การการค้าโลก, ความร่วมมือทางเศรษฐกิจเอเชียแปซิฟิกและหมู่เกาะแปซิฟิกฟอรั่ม</s>']"
      ]
     },
     "execution_count": 25,
     "metadata": {},
     "output_type": "execute_result"
    }
   ],
   "source": [
    "[tokenizer.decode(x) for x in tokenized_example[\"input_ids\"]]"
   ]
  },
  {
   "cell_type": "markdown",
   "metadata": {
    "id": "AJ2AfDSJZoxY"
   },
   "source": [
    "And if we decode them, we can see the overlap:"
   ]
  },
  {
   "cell_type": "code",
   "execution_count": 26,
   "metadata": {
    "id": "xqtmDuscZoxY"
   },
   "outputs": [
    {
     "name": "stdout",
     "output_type": "stream",
     "text": [
      "('<s> ประเทศออสเตรเลียใหญ่เป็นอันดับที่เท่าไหร่ของโลก</s></s> ออสเตรเลีย '\n",
      " '(อังกฤษ: australia) หรือชื่อทางการคือ เครือรัฐออสเตรเลีย (commonwealth of '\n",
      " 'australia) เป็นประเทศซึ่งประกอบด้วยแผ่นดินหลักของทวีปออสเตรเลีย, '\n",
      " 'เกาะแทสเมเนีย และเกาะอื่น ๆ ในมหาสมุทรอินเดีย แปซิฟิก และมหาสมุทรใต้ '\n",
      " 'มันเป็นประเทศที่ใหญ่เป็นอันดับหกของโลกเมื่อนับพื้นที่ทั้งหมด '\n",
      " 'ประเทศเพื่อนบ้านของออสเตรเลียประกอบด้วย อินโดนีเซีย '\n",
      " 'ปาปัวนิวกินีและติมอร์-เลสเตทางเหนือ หมู่เกาะโซโลมอน วานูอาตู '\n",
      " 'และนิวแคลิโดเนียทางตะวันออกเฉียงเหนือ และนิวซีแลนด์ทางตะวันออกเฉียงใต้ '\n",
      " 'เป็นเวลาอย่างน้อย 40,000 ปี[6] '\n",
      " 'ก่อนที่จะตั้งถิ่นฐานครั้งแรกของอังกฤษในศตวรรษที่ 18,[7][8] '\n",
      " 'ประเทศออสเตรเลียเป็นที่อยู่อาศัยของชาวออสเตรเลียพื้นเมือง[9] '\n",
      " 'ที่พูดภาษาที่แบ่งออกได้เป็นกลุ่มประมาณ 250 ภาษา.[10][11] '\n",
      " 'หลังจากการค้นพบของทวีปโดยนักสํารวจชาวดัตช์ในปี ค.ศ. 1606, '\n",
      " 'ครึ่งหนึ่งของฝั่งตะวันออกของออสเตรเลียถูกอ้างว่าเป็นของสหราชอาณาจักรในปี '\n",
      " 'ค.ศ. 1770 '\n",
      " 'และตั้งรกรากในขั้นต้นโดยการขนส่งนักโทษมายังอาณานิคมของนิวเซาธ์เวลส์จากวันที่ '\n",
      " '26 มกราคม ค.ศ. 1788 จํานวนประชากรเพิ่มขึ้นอย่างต่อเนื่องในทศวรรษที่ผ่านมา '\n",
      " 'ทวีปถูกสํารวจ และอีกห้าอาณานิคมปกครองตนเองของพระมหากษัตริย์ถูกจัดตั้งขึ้น '\n",
      " 'เมื่อวันที่ 1 มกราคม ค.ศ. 1901 หกอาณานิคมถูกตั้งขึ้นเป็นสหพันธ์, '\n",
      " 'รวมตัวกันเป็นเครือรัฐออสเตรเลีย. ตั้งแต่นั้นมา '\n",
      " 'ออสเตรเลียยังคงรักษาระบบการเมืองเสรีนิยมประชาธิปไตยที่มั่นคง ที่ '\n",
      " 'ทําหน้าที่เป็นรัฐสภาประชาธิปไตยของรัฐบาลกลางและพระมหากษัตริย์ตามรัฐธรรมนูญ '\n",
      " 'สหพันธ์ประกอบด้วยหกรัฐ และอีกหลายพื้นที่ ประชากร 23.1 ล้านคน[12] '\n",
      " 'อยู่ในเมืองเป็นส่วนใหญ่และมีความหนาแน่นอย่างมากในรัฐทางตะวันออก[13] '\n",
      " 'ออสเตรเลียเป็นประเทศที่พัฒนาแล้ว '\n",
      " 'และเป็นหนึ่งในประเทศที่ร่ํารวยที่สุดในโลกที่มีเศรษฐกิจ '\n",
      " 'ใหญ่ที่สุดเป็นอันดับที่ 12 ของโลก ในปี ค.ศ. 2012 '\n",
      " 'ออสเตรเลียมีรายได้ต่อหัวที่สูงที่สุดอันดับห้าของโลก[14] '\n",
      " 'ค่าใช้จ่ายทางทหารของออสเตรเลียมากที่สุดเป็นอันดับที่ </s>')\n",
      "('<s> ประเทศออสเตรเลียใหญ่เป็นอันดับที่เท่าไหร่ของโลก</s></s>1 '\n",
      " 'หกอาณานิคมถูกตั้งขึ้นเป็นสหพันธ์, รวมตัวกันเป็นเครือรัฐออสเตรเลีย. '\n",
      " 'ตั้งแต่นั้นมา ออสเตรเลียยังคงรักษาระบบการเมืองเสรีนิยมประชาธิปไตยที่มั่นคง '\n",
      " 'ที่ '\n",
      " 'ทําหน้าที่เป็นรัฐสภาประชาธิปไตยของรัฐบาลกลางและพระมหากษัตริย์ตามรัฐธรรมนูญ '\n",
      " 'สหพันธ์ประกอบด้วยหกรัฐ และอีกหลายพื้นที่ ประชากร 23.1 ล้านคน[12] '\n",
      " 'อยู่ในเมืองเป็นส่วนใหญ่และมีความหนาแน่นอย่างมากในรัฐทางตะวันออก[13] '\n",
      " 'ออสเตรเลียเป็นประเทศที่พัฒนาแล้ว '\n",
      " 'และเป็นหนึ่งในประเทศที่ร่ํารวยที่สุดในโลกที่มีเศรษฐกิจ '\n",
      " 'ใหญ่ที่สุดเป็นอันดับที่ 12 ของโลก ในปี ค.ศ. 2012 '\n",
      " 'ออสเตรเลียมีรายได้ต่อหัวที่สูงที่สุดอันดับห้าของโลก[14] '\n",
      " 'ค่าใช้จ่ายทางทหารของออสเตรเลียมากที่สุดเป็นอันดับที่ 13 ของโลก '\n",
      " 'ด้วยดัชนีการพัฒนามนุษย์ที่สูงที่สุดอันดับที่สองทั่วโลก, '\n",
      " 'ออสเตรเลียถูกจัดอันดับที่สูงในการเปรียบเทียบระหว่างประเทศจํานวนมากของประสิทธิภาพการทํางานในระดับชาติ '\n",
      " 'เช่น คุณภาพชีวิต, สุขภาพ, การศึกษา, เสรีภาพทางเศรษฐกิจ, '\n",
      " 'และการปกป้องเสรีภาพของพลเมืองและสิทธิทางการเมือง.[15] '\n",
      " 'ออสเตรเลียเป็นสมาชิกของสหประชาชาติ, g20, เครือจักรภพแห่งชาติ, anzus, '\n",
      " 'องค์การเพื่อความร่วมมือทางเศรษฐกิจและการพัฒนา (oecd), องค์การการค้าโลก, '\n",
      " 'ความร่วมมือทางเศรษฐกิจเอเชียแปซิฟิกและหมู่เกาะแปซิฟิกฟอรั่ม</s>')\n"
     ]
    }
   ],
   "source": [
    "for x in tokenized_example[\"input_ids\"][:2]:\n",
    "    pprint.pprint(tokenizer.decode(x))"
   ]
  },
  {
   "cell_type": "markdown",
   "metadata": {},
   "source": [
    "#### Map character positions to token positions with `offset_mapping`"
   ]
  },
  {
   "cell_type": "markdown",
   "metadata": {
    "id": "qVXTxhpVZoxZ"
   },
   "source": [
    "Now this will give us some work to properly treat the answers: we need to find in which of those features the answer actually is, and where exactly in that feature. The models we will use require the start and end positions of these answers in the tokens, so we will also need to to map parts of the original context to some tokens. Thankfully, the tokenizer we're using can help us with that by returning an `offset_mapping`:"
   ]
  },
  {
   "cell_type": "code",
   "execution_count": 27,
   "metadata": {
    "id": "LJm6Jzm9ZoxZ"
   },
   "outputs": [],
   "source": [
    "tokenized_example = tokenizer(\n",
    "    example[QUESTION_COL],\n",
    "    example[CONTEXT_COL],\n",
    "    max_length=max_length,\n",
    "    truncation=\"only_second\",\n",
    "    return_overflowing_tokens=True,\n",
    "    return_offsets_mapping=True,\n",
    "    stride=doc_stride\n",
    ")"
   ]
  },
  {
   "cell_type": "code",
   "execution_count": 28,
   "metadata": {
    "id": "JEWrw7JXktph"
   },
   "outputs": [
    {
     "data": {
      "text/plain": [
       "[(0, 0), (0, 1), (0, 6), (6, 16), (16, 20), (20, 30), (30, 33), (33, 41)]"
      ]
     },
     "execution_count": 28,
     "metadata": {},
     "output_type": "execute_result"
    }
   ],
   "source": [
    "#offsets\n",
    "tokenized_example[\"offset_mapping\"][0][:8]"
   ]
  },
  {
   "cell_type": "code",
   "execution_count": 29,
   "metadata": {
    "id": "_HuPUWd4Zoxf"
   },
   "outputs": [
    {
     "name": "stdout",
     "output_type": "stream",
     "text": [
      "[None, 0, 0, 0, 0, 0, 0, 0, 0, None, None, 1, 1, 1, 1, 1, 1, 1, 1, 1, 1, 1, 1, 1, 1, 1, 1, 1, 1, 1, 1, 1, 1, 1, 1, 1, 1, 1, 1, 1, 1, 1, 1, 1, 1, 1, 1, 1, 1, 1, 1, 1, 1, 1, 1, 1, 1, 1, 1, 1, 1, 1, 1, 1, 1, 1, 1, 1, 1, 1, 1, 1, 1, 1, 1, 1, 1, 1, 1, 1, 1, 1, 1, 1, 1, 1, 1, 1, 1, 1, 1, 1, 1, 1, 1, 1, 1, 1, 1, 1, 1, 1, 1, 1, 1, 1, 1, 1, 1, 1, 1, 1, 1, 1, 1, 1, 1, 1, 1, 1, 1, 1, 1, 1, 1, 1, 1, 1, 1, 1, 1, 1, 1, 1, 1, 1, 1, 1, 1, 1, 1, 1, 1, 1, 1, 1, 1, 1, 1, 1, 1, 1, 1, 1, 1, 1, 1, 1, 1, 1, 1, 1, 1, 1, 1, 1, 1, 1, 1, 1, 1, 1, 1, 1, 1, 1, 1, 1, 1, 1, 1, 1, 1, 1, 1, 1, 1, 1, 1, 1, 1, 1, 1, 1, 1, 1, 1, 1, 1, 1, 1, 1, 1, 1, 1, 1, 1, 1, 1, 1, 1, 1, 1, 1, 1, 1, 1, 1, 1, 1, 1, 1, 1, 1, 1, 1, 1, 1, 1, 1, 1, 1, 1, 1, 1, 1, 1, 1, 1, 1, 1, 1, 1, 1, 1, 1, 1, 1, 1, 1, 1, 1, 1, 1, 1, 1, 1, 1, 1, 1, 1, 1, 1, 1, 1, 1, 1, 1, 1, 1, 1, 1, 1, 1, 1, 1, 1, 1, 1, 1, 1, 1, 1, 1, 1, 1, 1, 1, 1, 1, 1, 1, 1, 1, 1, 1, 1, 1, 1, 1, 1, 1, 1, 1, 1, 1, 1, 1, 1, 1, 1, 1, 1, 1, 1, 1, 1, 1, 1, 1, 1, 1, 1, 1, 1, 1, 1, 1, 1, 1, 1, 1, 1, 1, 1, 1, 1, 1, 1, 1, 1, 1, 1, 1, 1, 1, 1, 1, 1, 1, 1, 1, 1, 1, 1, 1, 1, 1, 1, 1, 1, 1, 1, 1, 1, 1, 1, 1, 1, 1, 1, 1, 1, 1, 1, 1, 1, 1, 1, 1, 1, 1, 1, 1, 1, 1, 1, 1, 1, 1, 1, 1, 1, 1, 1, 1, 1, 1, 1, 1, 1, 1, 1, 1, 1, 1, 1, 1, 1, 1, 1, 1, 1, 1, 1, None]\n"
     ]
    }
   ],
   "source": [
    "#separate first and second sentences\n",
    "sequence_ids = tokenized_example.sequence_ids()\n",
    "print(sequence_ids)"
   ]
  },
  {
   "cell_type": "code",
   "execution_count": 30,
   "metadata": {
    "id": "QYpSQ6tmkAFq"
   },
   "outputs": [
    {
     "data": {
      "text/plain": [
       "{'answer_end': [257],\n",
       " 'answer_start': [219],\n",
       " 'text': ['มันเป็นประเทศที่ใหญ่เป็นอันดับหกของโลก']}"
      ]
     },
     "execution_count": 30,
     "metadata": {},
     "output_type": "execute_result"
    }
   ],
   "source": [
    "answers = example[ANSWERS_COL]\n",
    "start_char = answers[START_COL][0]\n",
    "end_char = start_char + len(answers[TEXT_COL][0]) \n",
    "answers"
   ]
  },
  {
   "cell_type": "markdown",
   "metadata": {
    "id": "BAWPIdyzIT36"
   },
   "source": [
    "We know character `start_char` and `end_char`; we want to find the token `start_position` and `end_position`."
   ]
  },
  {
   "cell_type": "code",
   "execution_count": 31,
   "metadata": {
    "id": "sUuTCSwoZoxg"
   },
   "outputs": [
    {
     "name": "stdout",
     "output_type": "stream",
     "text": [
      "71 76\n"
     ]
    }
   ],
   "source": [
    "answers = example[ANSWERS_COL]\n",
    "start_char = answers[START_COL][0]\n",
    "end_char = start_char + len(answers[TEXT_COL][0]) \n",
    "\n",
    "# start token index of context in input_ids\n",
    "token_start_index = 0\n",
    "while sequence_ids[token_start_index] != 1:\n",
    "    token_start_index += 1\n",
    "\n",
    "# end token index of context in input_ids\n",
    "token_end_index = len(tokenized_example[\"input_ids\"][0]) - 1\n",
    "while sequence_ids[token_end_index] != 1:\n",
    "    token_end_index -= 1\n",
    "\n",
    "# detect if the answer is out of the span; if so, label with (0,0) token\n",
    "# offset mapping is does not reset with chunk\n",
    "offsets = tokenized_example[\"offset_mapping\"][0] #offset mapping of the chunk of context; try 0 and 1\n",
    "\n",
    "if (offsets[token_start_index][0] <= start_char and offsets[token_end_index][1] >= end_char): #check if answer in span\n",
    "    #go from starting token `token_start_index` and increase until start_char is found\n",
    "    while token_start_index < len(offsets) and offsets[token_start_index][0] <= start_char:\n",
    "        token_start_index += 1\n",
    "    start_position = token_start_index - 1\n",
    "\n",
    "    #go from ending token `token_end_index` and decrease until end_char is found\n",
    "    while offsets[token_end_index][1] >= end_char:\n",
    "        token_end_index -= 1\n",
    "    end_position = token_end_index + 1\n",
    "    print(start_position, end_position)\n",
    "else:\n",
    "    print(\"The answer is not in this feature.\")"
   ]
  },
  {
   "cell_type": "code",
   "execution_count": 32,
   "metadata": {
    "id": "Ggx8tiiqcJxo"
   },
   "outputs": [
    {
     "data": {
      "text/plain": [
       "('มันเป็นประเทศที่ใหญ่เป็นอันดับหก',\n",
       " [2466, 4770, 217, 6475, 2728],\n",
       " ['มันเป็น', 'ประเทศที่', 'ใหญ่', 'เป็นอันดับ', 'หก'],\n",
       " ['มันเป็นประเทศที่ใหญ่เป็นอันดับหกของโลก'])"
      ]
     },
     "execution_count": 32,
     "metadata": {},
     "output_type": "execute_result"
    }
   ],
   "source": [
    "answer_tokens = tokenized_example[\"input_ids\"][0][start_position:end_position]\n",
    "tokenizer.decode(answer_tokens), answer_tokens, [tokenizer.decode(i) for i in answer_tokens], example[ANSWERS_COL][TEXT_COL]"
   ]
  },
  {
   "cell_type": "markdown",
   "metadata": {},
   "source": [
    "#### Padding sides"
   ]
  },
  {
   "cell_type": "markdown",
   "metadata": {
    "id": "kbs9tiv5Zoxh"
   },
   "source": [
    "For this notebook to work with any kind of models, we need to account for the special case where the model expects padding on the left (in which case we switch the order of the question and the context):"
   ]
  },
  {
   "cell_type": "code",
   "execution_count": 33,
   "metadata": {
    "id": "mQf_mDjfZoxh"
   },
   "outputs": [
    {
     "data": {
      "text/plain": [
       "True"
      ]
     },
     "execution_count": 33,
     "metadata": {},
     "output_type": "execute_result"
    }
   ],
   "source": [
    "pad_on_right = tokenizer.padding_side == \"right\"\n",
    "pad_on_right"
   ]
  },
  {
   "cell_type": "markdown",
   "metadata": {},
   "source": [
    "### Putting them together "
   ]
  },
  {
   "cell_type": "code",
   "execution_count": 34,
   "metadata": {
    "id": "QaXfZr9LS2ej"
   },
   "outputs": [],
   "source": [
    "def _get_context_span(input_ids,\n",
    "                     sequence_ids,\n",
    "                     answers, \n",
    "                     start_col, \n",
    "                     text_col='text',\n",
    "                     pad_on_right=True):\n",
    "    \n",
    "    # Start/end character index of the answer in the text.\n",
    "    start_char = answers[start_col][0] \n",
    "    end_char = start_char + len(answers[text_col][0]) + 1\n",
    "\n",
    "    # Start token index of the current span in the text.\n",
    "    token_start_index = 0\n",
    "    while sequence_ids[token_start_index] != (1 if pad_on_right else 0):\n",
    "        token_start_index += 1\n",
    "\n",
    "    # End token index of the current span in the text.\n",
    "    token_end_index = len(input_ids) - 1\n",
    "    while sequence_ids[token_end_index] != (1 if pad_on_right else 0):\n",
    "        token_end_index -= 1\n",
    "    \n",
    "    return token_start_index, token_end_index, start_char, end_char\n",
    "\n",
    "def _get_answer_span(tokenized_examples,\n",
    "                    offsets,\n",
    "                    start_char,\n",
    "                    end_char,\n",
    "                    token_start_index,\n",
    "                    token_end_index,):\n",
    "\n",
    "    while token_start_index < len(offsets) and offsets[token_start_index][0] <= start_char:\n",
    "        token_start_index += 1\n",
    "    start_position = token_start_index - 1\n",
    "    while offsets[token_end_index][1] >= end_char:\n",
    "        token_end_index -= 1\n",
    "    end_position = token_end_index + 1\n",
    "\n",
    "    return start_position, end_position\n",
    "\n",
    "def prepare_qa_train_features(examples, \n",
    "                           tokenizer,\n",
    "                           question_col='question',\n",
    "                           context_col='context',\n",
    "                           answers_col='answers',\n",
    "                           start_col='answer_start',\n",
    "                           text_col='text',\n",
    "                           pad_on_right=True,\n",
    "                           max_length=416,\n",
    "                           doc_stride=128):\n",
    "    \n",
    "    tokenized_examples = tokenizer(\n",
    "        examples[question_col if pad_on_right else context_col],\n",
    "        examples[context_col if pad_on_right else question_col],\n",
    "        truncation=\"only_second\" if pad_on_right else \"only_first\",\n",
    "        max_length=max_length,\n",
    "        stride=doc_stride, #overlapping of overflowing tokens\n",
    "        return_overflowing_tokens=True, #return multiple input ids if exceeding max_length\n",
    "        return_offsets_mapping=True,\n",
    "        padding=\"max_length\",\n",
    "    )\n",
    "\n",
    "    sample_mapping = tokenized_examples.pop(\"overflow_to_sample_mapping\") #map overflowing examples to original examples\n",
    "    offset_mapping = tokenized_examples.pop(\"offset_mapping\") #offset map; character index not resetted across overflowing examples\n",
    "\n",
    "    tokenized_examples[\"start_positions\"] = []\n",
    "    tokenized_examples[\"end_positions\"] = []\n",
    "\n",
    "    #loop through all examples' offset_mapping\n",
    "    for i, offsets in enumerate(offset_mapping):\n",
    "        input_ids = tokenized_examples[\"input_ids\"][i] #a list of tokens\n",
    "        cls_index = input_ids.index(tokenizer.cls_token_id) #use cls as answer when there is no answer \n",
    "        sequence_ids = tokenized_examples.sequence_ids(i) #sequence_ids 0 for question and 1 for context\n",
    "        sample_index = sample_mapping[i] #since many examples can point to the same question due to overflowing\n",
    "        answers = examples[answers_col][sample_index] #answers of each example\n",
    "\n",
    "        # If no answers are given, set the cls_index as answer\n",
    "        if len(answers[text_col]) == 0:\n",
    "            tokenized_examples[\"start_positions\"].append(cls_index)\n",
    "            tokenized_examples[\"end_positions\"].append(cls_index)\n",
    "        else:\n",
    "            token_start_index, token_end_index, start_char, end_char = _get_context_span(input_ids=input_ids,\n",
    "                                                                sequence_ids=sequence_ids,\n",
    "                                                                answers=answers, \n",
    "                                                                start_col=start_col, \n",
    "                                                                text_col=text_col,\n",
    "                                                                pad_on_right=pad_on_right)\n",
    "            # If answer is not in span, return cls_index as answer\n",
    "            if not (offsets[token_start_index][0] <= start_char and offsets[token_end_index][1] >= end_char):\n",
    "                tokenized_examples[\"start_positions\"].append(cls_index)\n",
    "                tokenized_examples[\"end_positions\"].append(cls_index)\n",
    "            else:                \n",
    "                start_position, end_position = _get_answer_span(tokenized_examples,\n",
    "                    offsets,\n",
    "                    start_char,\n",
    "                    end_char,\n",
    "                    token_start_index,\n",
    "                    token_end_index,)\n",
    "                tokenized_examples[\"start_positions\"].append(start_position)\n",
    "                tokenized_examples[\"end_positions\"].append(end_position)\n",
    "                \n",
    "    return tokenized_examples"
   ]
  },
  {
   "cell_type": "code",
   "execution_count": 35,
   "metadata": {},
   "outputs": [
    {
     "name": "stderr",
     "output_type": "stream",
     "text": [
      "Loading cached processed dataset at iapp_thaiqa/train/cache-77825e7377c5279f.arrow\n",
      "Loading cached processed dataset at iapp_thaiqa/validation/cache-42d7145812da9e7a.arrow\n",
      "Loading cached processed dataset at iapp_thaiqa/test/cache-f62c03065751181e.arrow\n"
     ]
    },
    {
     "data": {
      "text/plain": [
       "DatasetDict({\n",
       "    train: Dataset({\n",
       "        features: ['attention_mask', 'end_positions', 'input_ids', 'start_positions'],\n",
       "        num_rows: 23899\n",
       "    })\n",
       "    validation: Dataset({\n",
       "        features: ['attention_mask', 'end_positions', 'input_ids', 'start_positions'],\n",
       "        num_rows: 881\n",
       "    })\n",
       "    test: Dataset({\n",
       "        features: ['attention_mask', 'end_positions', 'input_ids', 'start_positions'],\n",
       "        num_rows: 863\n",
       "    })\n",
       "})"
      ]
     },
     "execution_count": 35,
     "metadata": {},
     "output_type": "execute_result"
    }
   ],
   "source": [
    "#using function in notebook\n",
    "tokenized_datasets = datasets.map(lambda x: prepare_qa_train_features(x, tokenizer), \n",
    "                                  batched=True, \n",
    "                                  remove_columns=datasets[\"train\"].column_names)\n",
    "tokenized_datasets"
   ]
  },
  {
   "cell_type": "code",
   "execution_count": 36,
   "metadata": {},
   "outputs": [],
   "source": [
    "# #using thai2transformers\n",
    "# from thai2transformers.preprocess import prepare_qa_train_features\n",
    "# tokenized_datasets = datasets.map(lambda x: prepare_qa_train_features(x, tokenizer), \n",
    "#                                   batched=True, \n",
    "#                                   remove_columns=datasets[\"train\"].column_names)"
   ]
  },
  {
   "cell_type": "code",
   "execution_count": 37,
   "metadata": {
    "id": "wyK95VEABS94"
   },
   "outputs": [
    {
     "data": {
      "text/plain": [
       "(881,\n",
       " 'อธิการซูว์เฌ',\n",
       " '<s> ซูว์เฌแห่งแซ็ง-เดอนี หรืออีกชื่อหนึ่งว่าอะไร</s></s> ซูว์เฌแห่งแซ็ง-เดอนี (ฝรั่งเศส: suger de saint-denis, ออกเสียง, ) หรือ อธิการซูว์เฌ (อังกฤษ: abbot suger) (ราว ค.ศ. 1081 - 13 มกราคม ค.ศ. 1151) ผู้เป็นอธิการ-รัฐบุรุษชาวฝรั่งเศสคนสุดท้าย เป็นสถาปนิกคนแรกที่มีบทบาทสําคัญในการวิวัฒนาการลักษณะสถาปัตยกรรมกอทิก ประวัติเมื่อปฐมวัยของอธิการซูว์เฌไม่เป็นที่ทราบ ในบทเขียนของอธิการซูว์เฌเองกล่าวว่ามาจากฐานะที่ต่ําต้อย แต่ก็อาจจะเป็นเพียงการกล่าวถ่อมตนตามประเพณีการเขียนอัตชีวประวัติแบบโบราณ ในปี ค.ศ. 1091 เมื่ออายุได้สิบขวบ ซูว์เฌก็ได้รับเข้าศึกษาที่อารามแซ็ง-เดอนี ซูว์เฌได้รับการฝึกหัดที่ไพรออรีของอารามแซ็ง-เดอนีและได้มีโอกาสเข้าเฝ้าผู้ที่ต่อมาขึ้นครองราชย์เป็นพระเจ้าหลุยส์ที่ 6 แห่งฝรั่งเศส ระหว่างปี ค.ศ. 1104 ถึงปี ค.ศ. 1106 ซูว์เฌก็ย้ายสถานศึกษา ที่อาจจะเป็นสถานศึกษาของอารามแซงต์-เบอนัวต์-เซอร์-ลัวร์ ในปี ค.ศ. 1106 ซูว์เฌก็ได้เป็นเลขาธิการของอธิการอารามแซ็ง-เดอนี ปีต่อมาก็ได้เป็นโพรโวสต์ (provost) หรือรองอธิการอารามแบร์เนวาลในนอร์ม็องดี และในปี ค.ศ. 1109 ของตูรี ในปี ค.ศ. 1118 พระเจ้าหลุยส์ที่ 6 ทรงส่งซูว์เฌไปยังราชสํานักของสมเด็จพระสันตะปาปาเกลาซิอุสที่ 2 ที่วีลเนิฟ-แล-มาเกอลอน และระหว่างปี ค.ศ. 1121 ถึงปี ค.ศ. 1122 ก็ทํางานอยู่ที่สํานัก สมเด็จพระสันตะปาปาคาลิกซ์ตุสที่ 2</s>')"
      ]
     },
     "execution_count": 37,
     "metadata": {},
     "output_type": "execute_result"
    }
   ],
   "source": [
    "#8 in datasets['validation'] points to both 8 and 9 in tokenized_datasets['validation'] due to overflowing tokens\n",
    "i = 8\n",
    "example = tokenized_datasets['validation'][i]\n",
    "combined_text = tokenizer.decode(example['input_ids'])\n",
    "answer_with_token_idx = tokenizer.decode(example['input_ids'][example['start_positions']:example['end_positions']])\n",
    "\n",
    "#there are quite a few more \n",
    "len(tokenized_datasets['validation']), answer_with_token_idx, combined_text"
   ]
  },
  {
   "cell_type": "code",
   "execution_count": 38,
   "metadata": {
    "id": "cV-8zg94HLBL"
   },
   "outputs": [
    {
     "data": {
      "text/plain": [
       "(742,\n",
       " {'answers': {'answer_end': [83],\n",
       "   'answer_start': [71],\n",
       "   'text': ['อธิการซูว์เฌ']},\n",
       "  'article_id': '1fMtw74xGdNi8azvvp9E',\n",
       "  'context': 'ซูว์เฌแห่งแซ็ง-เดอนี (ฝรั่งเศส: suger de saint-denis, ออกเสียง, ) หรือ อธิการซูว์เฌ (อังกฤษ: abbot suger) (ราว ค.ศ. 1081 - 13 มกราคม ค.ศ. 1151) ผู้เป็นอธิการ-รัฐบุรุษชาวฝรั่งเศสคนสุดท้าย เป็นสถาปนิกคนแรกที่มีบทบาทสำคัญในการวิวัฒนาการลักษณะสถาปัตยกรรมกอทิก\\n\\nประวัติเมื่อปฐมวัยของอธิการซูว์เฌไม่เป็นที่ทราบ ในบทเขียนของอธิการซูว์เฌเองกล่าวว่ามาจากฐานะที่ต่ำต้อย แต่ก็อาจจะเป็นเพียงการกล่าวถ่อมตนตามประเพณีการเขียนอัตชีวประวัติแบบโบราณ ในปี ค.ศ. 1091 เมื่ออายุได้สิบขวบ ซูว์เฌก็ได้รับเข้าศึกษาที่อารามแซ็ง-เดอนี ซูว์เฌได้รับการฝึกหัดที่ไพรออรีของอารามแซ็ง-เดอนีและได้มีโอกาสเข้าเฝ้าผู้ที่ต่อมาขึ้นครองราชย์เป็นพระเจ้าหลุยส์ที่ 6 แห่งฝรั่งเศส ระหว่างปี ค.ศ. 1104 ถึงปี ค.ศ. 1106 ซูว์เฌก็ย้ายสถานศึกษา ที่อาจจะเป็นสถานศึกษาของอารามแซงต์-เบอนัวต์-เซอร์-ลัวร์ ในปี ค.ศ. 1106 ซูว์เฌก็ได้เป็นเลขาธิการของอธิการอารามแซ็ง-เดอนี ปีต่อมาก็ได้เป็นโพรโวสต์ (provost) หรือรองอธิการอารามแบร์เนวาลในนอร์ม็องดี และในปี ค.ศ. 1109 ของตูรี ในปี ค.ศ. 1118 พระเจ้าหลุยส์ที่ 6 ทรงส่งซูว์เฌไปยังราชสำนักของสมเด็จพระสันตะปาปาเกลาซิอุสที่ 2 ที่วีลเนิฟ-แล-มาเกอลอน และระหว่างปี ค.ศ. 1121 ถึงปี ค.ศ. 1122 ก็ทำงานอยู่ที่สำนัก สมเด็จพระสันตะปาปาคาลิกซ์ตุสที่ 2 พระสันตะปาปาองค์ต่อมา',\n",
       "  'question': 'ซูว์เฌแห่งแซ็ง-เดอนี หรืออีกชื่อหนึ่งว่าอะไร',\n",
       "  'question_id': '1fMtw74xGdNi8azvvp9E_000',\n",
       "  'title': 'ซูว์เฌแห่งแซ็ง-เดอนี'})"
      ]
     },
     "execution_count": 38,
     "metadata": {},
     "output_type": "execute_result"
    }
   ],
   "source": [
    "#8 in datasets['validation'] points to both 8 and 9 in tokenized_datasets['validation'] due to overflowing tokens\n",
    "len(datasets['validation']), datasets['validation'][i] "
   ]
  },
  {
   "cell_type": "markdown",
   "metadata": {
    "id": "545PP3o8IrJV"
   },
   "source": [
    "## Finetuning the model"
   ]
  },
  {
   "cell_type": "markdown",
   "metadata": {
    "id": "FBiW8UpKIrJW"
   },
   "source": [
    "Now that our data is ready for training, we can download the pretrained model and fine-tune it. Since our task is question answering, we use the `AutoModelForQuestionAnswering` class. \n",
    "\n",
    "The model is trying to predict which tokens are `start_positions` and `end_positions` with cross-entropy loss.\n",
    "\n",
    "Like with the tokenizer, the `from_pretrained` method will download and cache the model for us:"
   ]
  },
  {
   "cell_type": "code",
   "execution_count": 39,
   "metadata": {
    "id": "TlqNaB8jIrJW"
   },
   "outputs": [
    {
     "name": "stderr",
     "output_type": "stream",
     "text": [
      "Some weights of the model checkpoint at airesearch/wangchanberta-base-att-spm-uncased were not used when initializing CamembertForQuestionAnswering: ['lm_head.bias', 'lm_head.dense.weight', 'lm_head.dense.bias', 'lm_head.layer_norm.weight', 'lm_head.layer_norm.bias', 'lm_head.decoder.weight', 'lm_head.decoder.bias']\n",
      "- This IS expected if you are initializing CamembertForQuestionAnswering from the checkpoint of a model trained on another task or with another architecture (e.g. initializing a BertForSequenceClassification model from a BertForPreTraining model).\n",
      "- This IS NOT expected if you are initializing CamembertForQuestionAnswering from the checkpoint of a model that you expect to be exactly identical (initializing a BertForSequenceClassification model from a BertForSequenceClassification model).\n",
      "Some weights of CamembertForQuestionAnswering were not initialized from the model checkpoint at airesearch/wangchanberta-base-att-spm-uncased and are newly initialized: ['qa_outputs.weight', 'qa_outputs.bias']\n",
      "You should probably TRAIN this model on a down-stream task to be able to use it for predictions and inference.\n"
     ]
    }
   ],
   "source": [
    "model = AutoModelForQuestionAnswering.from_pretrained(\n",
    "            f'airesearch/{model_name}' if model_name not in public_models else f'{model_name}',\n",
    "            revision='main',)"
   ]
  },
  {
   "cell_type": "markdown",
   "metadata": {
    "id": "CczA5lJlIrJX"
   },
   "source": [
    "The warning is telling us we are throwing away some weights (the `vocab_transform` and `vocab_layer_norm` layers) and randomly initializing some other (the `pre_classifier` and `classifier` layers). This is absolutely normal in this case, because we are removing the head used to pretrain the model on a masked language modeling objective and replacing it with a new head for which we don't have pretrained weights, so the library warns us we should fine-tune this model before using it for inference, which is exactly what we are going to do."
   ]
  },
  {
   "cell_type": "markdown",
   "metadata": {
    "id": "_N8urzhyIrJY"
   },
   "source": [
    "To instantiate a `Trainer`, we will need to define three more things. The most important is the [`TrainingArguments`](https://huggingface.co/transformers/main_classes/trainer.html#transformers.TrainingArguments), which is a class that contains all the attributes to customize the training. It requires one folder name, which will be used to save the checkpoints of the model, and all other arguments are optional:"
   ]
  },
  {
   "cell_type": "code",
   "execution_count": 40,
   "metadata": {
    "id": "Bliy8zgjIrJY"
   },
   "outputs": [],
   "source": [
    "batch_size = 16\n",
    "learning_rate = 2e-5\n",
    "\n",
    "args = TrainingArguments(\n",
    "    f\"finetune_iapp_thaiqa\",\n",
    "    evaluation_strategy = \"epoch\",\n",
    "    learning_rate=learning_rate,\n",
    "    per_device_train_batch_size=batch_size,\n",
    "    per_device_eval_batch_size=batch_size*2,\n",
    "    num_train_epochs=2,\n",
    "    warmup_ratio=0.2,\n",
    "    weight_decay=0.01,\n",
    "    fp16=True,\n",
    "    save_total_limit=3,\n",
    "    load_best_model_at_end=True,\n",
    ")"
   ]
  },
  {
   "cell_type": "markdown",
   "metadata": {
    "id": "km3pGVdTIrJc"
   },
   "source": [
    "Here we set the evaluation to be done at the end of each epoch, tweak the learning rate, use the `batch_size` defined at the top of the notebook and customize the number of epochs for training, as well as the weight decay."
   ]
  },
  {
   "cell_type": "markdown",
   "metadata": {
    "id": "7jzNg8QgZoxm"
   },
   "source": [
    "Then we will need a data collator that will batch our processed examples together, here the default one will work:"
   ]
  },
  {
   "cell_type": "code",
   "execution_count": 41,
   "metadata": {
    "id": "GwEJbGDNZoxn"
   },
   "outputs": [],
   "source": [
    "data_collator = default_data_collator"
   ]
  },
  {
   "cell_type": "markdown",
   "metadata": {
    "id": "rXuFTAzDIrJe"
   },
   "source": [
    "We will evaluate our model and compute metrics in the next section (this is a very long operation, so we will only compute the evaluation loss during training).\n",
    "\n",
    "Then we just need to pass all of this along with our datasets to the `Trainer`:"
   ]
  },
  {
   "cell_type": "code",
   "execution_count": 42,
   "metadata": {
    "id": "imY1oC3SIrJf"
   },
   "outputs": [],
   "source": [
    "trainer = Trainer(\n",
    "    model=model,\n",
    "    args=args,\n",
    "    train_dataset=tokenized_datasets[\"train\"],\n",
    "    eval_dataset=tokenized_datasets[\"validation\"],\n",
    "    data_collator=data_collator,\n",
    "    tokenizer=tokenizer,\n",
    ")"
   ]
  },
  {
   "cell_type": "markdown",
   "metadata": {
    "id": "CdzABDVcIrJg"
   },
   "source": [
    "We can now finetune our model by just calling the `train` method:"
   ]
  },
  {
   "cell_type": "code",
   "execution_count": 43,
   "metadata": {
    "id": "uNx5pyRlIrJh"
   },
   "outputs": [
    {
     "name": "stderr",
     "output_type": "stream",
     "text": [
      "\u001b[34m\u001b[1mwandb\u001b[0m: Currently logged in as: \u001b[33mcstorm125\u001b[0m (use `wandb login --relogin` to force relogin)\n",
      "\u001b[34m\u001b[1mwandb\u001b[0m: wandb version 0.10.24 is available!  To upgrade, please run:\n",
      "\u001b[34m\u001b[1mwandb\u001b[0m:  $ pip install wandb --upgrade\n"
     ]
    },
    {
     "data": {
      "text/html": [
       "\n",
       "                Tracking run with wandb version 0.10.23<br/>\n",
       "                Syncing run <strong style=\"color:#cdcd00\">finetune_iapp_thaiqa</strong> to <a href=\"https://wandb.ai\" target=\"_blank\">Weights & Biases</a> <a href=\"https://docs.wandb.com/integrations/jupyter.html\" target=\"_blank\">(Documentation)</a>.<br/>\n",
       "                Project page: <a href=\"https://wandb.ai/cstorm125/huggingface\" target=\"_blank\">https://wandb.ai/cstorm125/huggingface</a><br/>\n",
       "                Run page: <a href=\"https://wandb.ai/cstorm125/huggingface/runs/e70vwkdy\" target=\"_blank\">https://wandb.ai/cstorm125/huggingface/runs/e70vwkdy</a><br/>\n",
       "                Run data is saved locally in <code>/home/cstorm125/thai2transformers/notebooks/wandb/run-20210404_100104-e70vwkdy</code><br/><br/>\n",
       "            "
      ],
      "text/plain": [
       "<IPython.core.display.HTML object>"
      ]
     },
     "metadata": {},
     "output_type": "display_data"
    },
    {
     "name": "stderr",
     "output_type": "stream",
     "text": [
      "/opt/conda/lib/python3.7/site-packages/torch/nn/modules/module.py:760: UserWarning: Using non-full backward hooks on a Module that does not return a single Tensor or a tuple of Tensors is deprecated and will be removed in future versions. This hook will be missing some of the grad_output. Please use register_full_backward_hook to get the documented behavior.\n",
      "  warnings.warn(\"Using non-full backward hooks on a Module that does not return a \"\n",
      "/opt/conda/lib/python3.7/site-packages/torch/nn/modules/module.py:795: UserWarning: Using a non-full backward hook when the forward contains multiple autograd Nodes is deprecated and will be removed in future versions. This hook will be missing some grad_input. Please use register_full_backward_hook to get the documented behavior.\n",
      "  warnings.warn(\"Using a non-full backward hook when the forward contains multiple autograd Nodes \"\n",
      "/opt/conda/lib/python3.7/site-packages/torch/optim/lr_scheduler.py:134: UserWarning: Detected call of `lr_scheduler.step()` before `optimizer.step()`. In PyTorch 1.1.0 and later, you should call them in the opposite order: `optimizer.step()` before `lr_scheduler.step()`.  Failure to do this will result in PyTorch skipping the first value of the learning rate schedule. See more details at https://pytorch.org/docs/stable/optim.html#how-to-adjust-learning-rate\n",
      "  \"https://pytorch.org/docs/stable/optim.html#how-to-adjust-learning-rate\", UserWarning)\n"
     ]
    },
    {
     "data": {
      "text/html": [
       "\n",
       "    <div>\n",
       "        <style>\n",
       "            /* Turns off some styling */\n",
       "            progress {\n",
       "                /* gets rid of default border in Firefox and Opera. */\n",
       "                border: none;\n",
       "                /* Needs to be in here for Safari polyfill so background images work as expected. */\n",
       "                background-size: auto;\n",
       "            }\n",
       "        </style>\n",
       "      \n",
       "      <progress value='2988' max='2988' style='width:300px; height:20px; vertical-align: middle;'></progress>\n",
       "      [2988/2988 09:39, Epoch 2/2]\n",
       "    </div>\n",
       "    <table border=\"1\" class=\"dataframe\">\n",
       "  <thead>\n",
       "    <tr style=\"text-align: left;\">\n",
       "      <th>Epoch</th>\n",
       "      <th>Training Loss</th>\n",
       "      <th>Validation Loss</th>\n",
       "      <th>Runtime</th>\n",
       "      <th>Samples Per Second</th>\n",
       "    </tr>\n",
       "  </thead>\n",
       "  <tbody>\n",
       "    <tr>\n",
       "      <td>1</td>\n",
       "      <td>1.434600</td>\n",
       "      <td>1.504566</td>\n",
       "      <td>6.694800</td>\n",
       "      <td>131.595000</td>\n",
       "    </tr>\n",
       "    <tr>\n",
       "      <td>2</td>\n",
       "      <td>1.227600</td>\n",
       "      <td>1.465974</td>\n",
       "      <td>6.701000</td>\n",
       "      <td>131.473000</td>\n",
       "    </tr>\n",
       "  </tbody>\n",
       "</table><p>"
      ],
      "text/plain": [
       "<IPython.core.display.HTML object>"
      ]
     },
     "metadata": {},
     "output_type": "display_data"
    },
    {
     "data": {
      "text/plain": [
       "TrainOutput(global_step=2988, training_loss=1.494524219109511, metrics={'train_runtime': 583.5213, 'train_samples_per_second': 5.121, 'total_flos': 1.2485783214218496e+16, 'epoch': 2.0, 'init_mem_cpu_alloc_delta': 10085807, 'init_mem_gpu_alloc_delta': 419929600, 'init_mem_cpu_peaked_delta': 18306, 'init_mem_gpu_peaked_delta': 0, 'train_mem_cpu_alloc_delta': 15079505, 'train_mem_gpu_alloc_delta': 1716482560, 'train_mem_cpu_peaked_delta': 77177522, 'train_mem_gpu_peaked_delta': 7420559872})"
      ]
     },
     "execution_count": 43,
     "metadata": {},
     "output_type": "execute_result"
    }
   ],
   "source": [
    "trainer.train()"
   ]
  },
  {
   "cell_type": "markdown",
   "metadata": {
    "id": "0Il0e0NJZoxo"
   },
   "source": [
    "Since this training is particularly long, let's save the model just in case we need to restart."
   ]
  },
  {
   "cell_type": "code",
   "execution_count": 44,
   "metadata": {
    "id": "uIU45W5HZoxo"
   },
   "outputs": [],
   "source": [
    "trainer.save_model(\"finetune_iapp_thaiqa\")"
   ]
  },
  {
   "cell_type": "code",
   "execution_count": 45,
   "metadata": {
    "id": "XYt9LrfLgTUj"
   },
   "outputs": [],
   "source": [
    "#load finetuned model\n",
    "model = AutoModelForQuestionAnswering.from_pretrained('finetune_iapp_thaiqa')\n",
    "\n",
    "trainer = Trainer(\n",
    "    model,\n",
    "    args,\n",
    "    train_dataset=tokenized_datasets[\"train\"],\n",
    "    eval_dataset=tokenized_datasets[\"validation\"],\n",
    "    data_collator=data_collator,\n",
    "    tokenizer=tokenizer,\n",
    ")"
   ]
  },
  {
   "cell_type": "markdown",
   "metadata": {
    "id": "swNwz25FZoxo"
   },
   "source": [
    "## Evaluation"
   ]
  },
  {
   "cell_type": "markdown",
   "metadata": {},
   "source": [
    "### Rationale"
   ]
  },
  {
   "cell_type": "markdown",
   "metadata": {},
   "source": [
    "#### Logit outputs"
   ]
  },
  {
   "cell_type": "markdown",
   "metadata": {
    "id": "UGZ6Y0-EZoxo"
   },
   "source": [
    "The model predicts logits for the **start and end position of our answers**."
   ]
  },
  {
   "cell_type": "code",
   "execution_count": 46,
   "metadata": {
    "id": "wlMJchS2Zoxo"
   },
   "outputs": [
    {
     "data": {
      "text/plain": [
       "odict_keys(['loss', 'start_logits', 'end_logits'])"
      ]
     },
     "execution_count": 46,
     "metadata": {},
     "output_type": "execute_result"
    }
   ],
   "source": [
    "import torch\n",
    "\n",
    "batch = next(iter(trainer.get_eval_dataloader()))\n",
    "batch = {k: v.to(trainer.args.device) for k, v in batch.items()}\n",
    "\n",
    "with torch.no_grad():\n",
    "    output = trainer.model(**batch)\n",
    "\n",
    "output.keys()"
   ]
  },
  {
   "cell_type": "code",
   "execution_count": 47,
   "metadata": {
    "id": "CfZZ1efzZoxp"
   },
   "outputs": [
    {
     "data": {
      "text/plain": [
       "(torch.Size([32, 416]), torch.Size([32, 416]))"
      ]
     },
     "execution_count": 47,
     "metadata": {},
     "output_type": "execute_result"
    }
   ],
   "source": [
    "#(batch size, sequence length)\n",
    "output.start_logits.shape, output.end_logits.shape"
   ]
  },
  {
   "cell_type": "markdown",
   "metadata": {
    "id": "ygKh07-nZoxq"
   },
   "source": [
    "We have one logit for each feature and each token. The most obvious thing to predict an answer for each featyre is to take the index for the maximum of the start logits as a start position and the index of the maximum of the end logits as an end position."
   ]
  },
  {
   "cell_type": "code",
   "execution_count": 48,
   "metadata": {
    "id": "Lqef4Rr2Zoxq"
   },
   "outputs": [
    {
     "data": {
      "text/plain": [
       "(tensor([ 32,  33,  81,  18,  18, 102,  46, 138,  53,  32,  70,  53,  70,  53,\n",
       "         114,   0,  92,   4,  43, 174, 234, 253,  40,  18,  74,  78,  36,  52,\n",
       "          63,  39,  39,  33], device='cuda:0'),\n",
       " tensor([ 30,  43,  87,  24,  24, 106, 130, 140,  59,  28,  89,  73,  89,  73,\n",
       "         119,   0, 114,   4,  49, 178, 251, 259,  42,  22,  75,  89,  40,  55,\n",
       "          74,  43,  43,  36], device='cuda:0'))"
      ]
     },
     "execution_count": 48,
     "metadata": {},
     "output_type": "execute_result"
    }
   ],
   "source": [
    "output.start_logits.argmax(dim=-1), output.end_logits.argmax(dim=-1)"
   ]
  },
  {
   "cell_type": "markdown",
   "metadata": {},
   "source": [
    "#### Pick `n_best_size` token positions for `start_logits` and `end_logits`"
   ]
  },
  {
   "cell_type": "markdown",
   "metadata": {
    "id": "ztdy5YD6Zoxq"
   },
   "source": [
    "One way to turn logits into predictions is to get `n_best_size` scores of `start_logits` and `end_logits`, then use their combinations as predictions. We filter out those that `end_index` comes before `start_index`."
   ]
  },
  {
   "cell_type": "code",
   "execution_count": 49,
   "metadata": {
    "id": "lTbqlCKTZoxq"
   },
   "outputs": [],
   "source": [
    "n_best_size = 20\n",
    "start_logits = output.start_logits[0].cpu().numpy()\n",
    "end_logits = output.end_logits[0].cpu().numpy()\n",
    "# Gather the indices the best start/end logits:\n",
    "start_indexes = np.argsort(start_logits)[-1 : -n_best_size - 1 : -1].tolist()\n",
    "end_indexes = np.argsort(end_logits)[-1 : -n_best_size - 1 : -1].tolist()\n",
    "valid_answers = []\n",
    "for start_index in start_indexes:\n",
    "    for end_index in end_indexes:\n",
    "        if start_index <= end_index: # We need to refine that test to check the answer is inside the context\n",
    "            valid_answers.append(\n",
    "                {\n",
    "                    \"score\": start_logits[start_index] + end_logits[end_index],\n",
    "                    \"text\": \"\" # We need to find a way to get back the original substring corresponding to the answer in the context\n",
    "                }\n",
    "            )\n"
   ]
  },
  {
   "cell_type": "markdown",
   "metadata": {},
   "source": [
    "#### Prepare features for model prediction"
   ]
  },
  {
   "cell_type": "markdown",
   "metadata": {
    "id": "OzDSo5VmZoxr"
   },
   "source": [
    "And then we can sort the `valid_answers` according to their `score` and only keep the best one. The only point left is how to check a given span is inside the context (and not the question) and how to get back the text inside. To do this, we need to add two things to our validation features:\n",
    "\n",
    "- `example_id` of the example that generated the feature (since each example can generate several features, as seen before).\n",
    "\n",
    "- `offset_mapping` that will give us a map from token indices to character positions in the context."
   ]
  },
  {
   "cell_type": "code",
   "execution_count": 50,
   "metadata": {
    "id": "J9tknvOT23dw"
   },
   "outputs": [],
   "source": [
    "def prepare_validation_features(examples, \n",
    "                           tokenizer,\n",
    "                           question_col='question',\n",
    "                           context_col='context',\n",
    "                           question_id_col = 'question_id',\n",
    "                           pad_on_right=True,\n",
    "                           max_length=416,\n",
    "                           doc_stride=128):\n",
    "\n",
    "    tokenized_examples = tokenizer(\n",
    "        examples[question_col if pad_on_right else context_col],\n",
    "        examples[context_col if pad_on_right else question_col],\n",
    "        truncation=\"only_second\" if pad_on_right else \"only_first\",\n",
    "        max_length=max_length,\n",
    "        stride=doc_stride,\n",
    "        return_overflowing_tokens=True,\n",
    "        return_offsets_mapping=True,\n",
    "        padding=\"max_length\",\n",
    "    )\n",
    "\n",
    "    sample_mapping = tokenized_examples.pop(\"overflow_to_sample_mapping\")\n",
    "    tokenized_examples[\"example_id\"] = []\n",
    "    pass\n",
    "\n",
    "    for i in range(len(tokenized_examples[\"input_ids\"])):\n",
    "        # Grab the sequence corresponding to that example (to know what is the context and what is the question).\n",
    "        sequence_ids = tokenized_examples.sequence_ids(i)\n",
    "        context_index = 1 if pad_on_right else 0\n",
    "\n",
    "        # One example can give several spans, this is the index of the example containing this span of text.\n",
    "        sample_index = sample_mapping[i]\n",
    "        tokenized_examples[\"example_id\"].append(examples[question_id_col][sample_index])\n",
    "\n",
    "        # Set to None the offset_mapping that are not part of the context so it's easy to determine if a token position is part of the context or not.\n",
    "        tokenized_examples[\"offset_mapping\"][i] = [\n",
    "            (o if sequence_ids[k] == context_index else None)\n",
    "            for k, o in enumerate(tokenized_examples[\"offset_mapping\"][i])\n",
    "        ]\n",
    "\n",
    "    return tokenized_examples"
   ]
  },
  {
   "cell_type": "code",
   "execution_count": 51,
   "metadata": {
    "id": "FCIxcX11Zoxr"
   },
   "outputs": [
    {
     "name": "stderr",
     "output_type": "stream",
     "text": [
      "Loading cached processed dataset at iapp_thaiqa/validation/cache-909541a8f087f2ff.arrow\n"
     ]
    }
   ],
   "source": [
    "validation_features = datasets[\"validation\"].map(\n",
    "    lambda x: prepare_validation_features(x, tokenizer),\n",
    "    batched=True,\n",
    "    remove_columns=datasets[\"validation\"].column_names\n",
    ")"
   ]
  },
  {
   "cell_type": "markdown",
   "metadata": {},
   "source": [
    "#### Make predictions"
   ]
  },
  {
   "cell_type": "markdown",
   "metadata": {
    "id": "yuA4cazmZoxs"
   },
   "source": [
    "Now we can grab the predictions for all features by using the `Trainer.predict` method:"
   ]
  },
  {
   "cell_type": "code",
   "execution_count": 52,
   "metadata": {
    "id": "BBdTEXKdZoxs"
   },
   "outputs": [
    {
     "data": {
      "text/html": [
       "\n",
       "    <div>\n",
       "        <style>\n",
       "            /* Turns off some styling */\n",
       "            progress {\n",
       "                /* gets rid of default border in Firefox and Opera. */\n",
       "                border: none;\n",
       "                /* Needs to be in here for Safari polyfill so background images work as expected. */\n",
       "                background-size: auto;\n",
       "            }\n",
       "        </style>\n",
       "      \n",
       "      <progress value='300' max='28' style='width:300px; height:20px; vertical-align: middle;'></progress>\n",
       "      [28/28 09:49]\n",
       "    </div>\n",
       "    "
      ],
      "text/plain": [
       "<IPython.core.display.HTML object>"
      ]
     },
     "metadata": {},
     "output_type": "display_data"
    }
   ],
   "source": [
    "raw_predictions = trainer.predict(validation_features)"
   ]
  },
  {
   "cell_type": "code",
   "execution_count": 53,
   "metadata": {
    "id": "SfJPeafA4PUS"
   },
   "outputs": [],
   "source": [
    "#recover `offset_mapping` and `question_id`\n",
    "validation_features.set_format(type=validation_features.format[\"type\"], columns=list(validation_features.features.keys()))"
   ]
  },
  {
   "cell_type": "markdown",
   "metadata": {
    "id": "cqvU9YlVZoxt"
   },
   "source": [
    "We can now refine the test we had before: since we set `None` in the offset mappings when it corresponds to a part of the question, it's easy to check if an answer is fully inside the context. We also eliminate very long answers from our considerations (with an hyper-parameter we can tune)"
   ]
  },
  {
   "cell_type": "code",
   "execution_count": 54,
   "metadata": {
    "id": "ouV0pvSlZoxu"
   },
   "outputs": [
    {
     "data": {
      "text/plain": [
       "[{'score': 20.915524, 'text': 'ประเทศเม็กซิโก'},\n",
       " {'score': 19.425282, 'text': 'เม็กซิโก'},\n",
       " {'score': 13.669949,\n",
       "  'text': 'เกิดขึ้นเมื่อวันที่ 7 กันยายน พ.ศ. 2560 เวลา 23:49 น. ตามเวลาออมแสงกลาง (11:49 น. ของวันที่ 8 กันยายน ตามเวลาในประเทศไทย) ในอ่าวเตอวนเตเปกนอกชายฝั่งทางใต้ของรัฐเชียปัส ประเทศเม็กซิโก'},\n",
       " {'score': 13.648281, 'text': 'ประเทศเม็กซิโก '},\n",
       " {'score': 13.483629,\n",
       "  'text': 'ประเทศไทย) ในอ่าวเตอวนเตเปกนอกชายฝั่งทางใต้ของรัฐเชียปัส ประเทศเม็กซิโก'},\n",
       " {'score': 13.147661,\n",
       "  'text': 'เมื่อวันที่ 7 กันยายน พ.ศ. 2560 เวลา 23:49 น. ตามเวลาออมแสงกลาง (11:49 น. ของวันที่ 8 กันยายน ตามเวลาในประเทศไทย) ในอ่าวเตอวนเตเปกนอกชายฝั่งทางใต้ของรัฐเชียปัส ประเทศเม็กซิโก'},\n",
       " {'score': 12.8306265,\n",
       "  'text': 'ปิฆิเฆียปัน พ.ศ. 2560 (terremoto de pijijiapan de 2017) เกิดขึ้นเมื่อวันที่ 7 กันยายน พ.ศ. 2560 เวลา 23:49 น. ตามเวลาออมแสงกลาง (11:49 น. ของวันที่ 8 กันยายน ตามเวลาในประเทศไทย) ในอ่าวเตอวนเตเปกนอกชายฝั่งทางใต้ของรัฐเชียปัส ประเทศเม็กซิโก'},\n",
       " {'score': 12.261585,\n",
       "  'text': 'terremoto de pijijiapan de 2017) เกิดขึ้นเมื่อวันที่ 7 กันยายน พ.ศ. 2560 เวลา 23:49 น. ตามเวลาออมแสงกลาง (11:49 น. ของวันที่ 8 กันยายน ตามเวลาในประเทศไทย) ในอ่าวเตอวนเตเปกนอกชายฝั่งทางใต้ของรัฐเชียปัส ประเทศเม็กซิโก'},\n",
       " {'score': 12.246475, 'text': ''},\n",
       " {'score': 12.158041, 'text': 'เม็กซิโก '},\n",
       " {'score': 11.774784,\n",
       "  'text': 'แผ่นดินไหวในปิฆิเฆียปัน พ.ศ. 2560 (terremoto de pijijiapan de 2017) เกิดขึ้นเมื่อวันที่ 7 กันยายน พ.ศ. 2560 เวลา 23:49 น. ตามเวลาออมแสงกลาง (11:49 น. ของวันที่ 8 กันยายน ตามเวลาในประเทศไทย) ในอ่าวเตอวนเตเปกนอกชายฝั่งทางใต้ของรัฐเชียปัส ประเทศเม็กซิโก'},\n",
       " {'score': 11.295059,\n",
       "  'text': '23:49 น. ตามเวลาออมแสงกลาง (11:49 น. ของวันที่ 8 กันยายน ตามเวลาในประเทศไทย) ในอ่าวเตอวนเตเปกนอกชายฝั่งทางใต้ของรัฐเชียปัส ประเทศเม็กซิโก'},\n",
       " {'score': 11.199093,\n",
       "  'text': 'ในอ่าวเตอวนเตเปกนอกชายฝั่งทางใต้ของรัฐเชียปัส ประเทศเม็กซิโก'},\n",
       " {'score': 11.133189, 'text': ' ประเทศเม็กซิโก'},\n",
       " {'score': 10.949521,\n",
       "  'text': 'พ.ศ. 2560 (terremoto de pijijiapan de 2017) เกิดขึ้นเมื่อวันที่ 7 กันยายน พ.ศ. 2560 เวลา 23:49 น. ตามเวลาออมแสงกลาง (11:49 น. ของวันที่ 8 กันยายน ตามเวลาในประเทศไทย) ในอ่าวเตอวนเตเปกนอกชายฝั่งทางใต้ของรัฐเชียปัส ประเทศเม็กซิโก'},\n",
       " {'score': 10.814131, 'text': 'ของรัฐเชียปัส ประเทศเม็กซิโก'},\n",
       " {'score': 10.652262,\n",
       "  'text': 'ประเทศเม็กซิโก ห่างจากเมืองปิฆิเฆียปันไปทางทิศใต้ประมาณ 87 กิโลเมตร (54 ไมล์)'},\n",
       " {'score': 10.483156, 'text': 'ประเทศ'},\n",
       " {'score': 10.282263,\n",
       "  'text': ' เวลา 23:49 น. ตามเวลาออมแสงกลาง (11:49 น. ของวันที่ 8 กันยายน ตามเวลาในประเทศไทย) ในอ่าวเตอวนเตเปกนอกชายฝั่งทางใต้ของรัฐเชียปัส ประเทศเม็กซิโก'},\n",
       " {'score': 10.040919,\n",
       "  'text': 'ตามเวลาออมแสงกลาง (11:49 น. ของวันที่ 8 กันยายน ตามเวลาในประเทศไทย) ในอ่าวเตอวนเตเปกนอกชายฝั่งทางใต้ของรัฐเชียปัส ประเทศเม็กซิโก'}]"
      ]
     },
     "execution_count": 54,
     "metadata": {},
     "output_type": "execute_result"
    }
   ],
   "source": [
    "i=7\n",
    "max_answer_length = 100\n",
    "\n",
    "start_logits = output.start_logits[i].cpu().numpy()\n",
    "end_logits = output.end_logits[i].cpu().numpy()\n",
    "offset_mapping = validation_features[i][\"offset_mapping\"]\n",
    "input_ids = validation_features[i]['input_ids']\n",
    "context = datasets[\"validation\"][i][CONTEXT_COL]\n",
    "\n",
    "# Gather the indices the best start/end logits:\n",
    "start_indexes = np.argsort(start_logits)[-1 : -n_best_size - 1 : -1].tolist()\n",
    "end_indexes = np.argsort(end_logits)[-1 : -n_best_size - 1 : -1].tolist()\n",
    "valid_answers = []\n",
    "for start_index in start_indexes:\n",
    "    for end_index in end_indexes:\n",
    "        # Don't consider out-of-scope answers, either because the indices are out of bounds or correspond to part of the input_ids that are not in the context.\n",
    "        if (\n",
    "            start_index >= len(offset_mapping)\n",
    "            or end_index >= len(offset_mapping)\n",
    "            or offset_mapping[start_index] is None\n",
    "            or offset_mapping[end_index-1] is None #end_index is exclusive upperbound\n",
    "        ):\n",
    "            continue\n",
    "        # Don't consider answers with a length that is either < 0 or > max_answer_length.\n",
    "        if end_index < start_index or end_index - start_index + 1 > max_answer_length:\n",
    "            continue\n",
    "\n",
    "        if start_index <= end_index: # We need to refine that test to check the answer is inside the context\n",
    "            start_char = offset_mapping[start_index][0]\n",
    "            end_char = offset_mapping[end_index-1][1] #end_index is exclusive upperbound\n",
    "            \n",
    "            valid_answers.append(\n",
    "                {\n",
    "                    \"score\": start_logits[start_index] + end_logits[end_index],\n",
    "                    \"text\": context[start_char:end_char],\n",
    "                }\n",
    "            )\n",
    "\n",
    "valid_answers = sorted(valid_answers, key=lambda x: x[\"score\"], reverse=True)[:n_best_size]\n",
    "valid_answers"
   ]
  },
  {
   "cell_type": "markdown",
   "metadata": {
    "id": "k55vVW43Zoxu"
   },
   "source": [
    "We can compare to the actual ground-truth answer:"
   ]
  },
  {
   "cell_type": "code",
   "execution_count": 55,
   "metadata": {
    "id": "vQz0H-XzZoxv"
   },
   "outputs": [
    {
     "data": {
      "text/plain": [
       "{'answer_end': [325], 'answer_start': [311], 'text': ['ประเทศเม็กซิโก']}"
      ]
     },
     "execution_count": 55,
     "metadata": {},
     "output_type": "execute_result"
    }
   ],
   "source": [
    "datasets[\"validation\"][i][ANSWERS_COL]"
   ]
  },
  {
   "cell_type": "markdown",
   "metadata": {},
   "source": [
    "#### Map examples to questions"
   ]
  },
  {
   "cell_type": "markdown",
   "metadata": {
    "id": "YhCyh2fWZoxv"
   },
   "source": [
    "As we mentioned in the code above, this was easy on the first feature because we knew it comes from the first example. For the other features, we will need a map between examples and their corresponding features. Also, since one example can give several features, we will need to gather together all the answers in all the features generated by a given example, then pick the best one. The following code builds a map from example index to its corresponding features indices:"
   ]
  },
  {
   "cell_type": "code",
   "execution_count": 56,
   "metadata": {
    "id": "bhBk2WKSZoxv"
   },
   "outputs": [],
   "source": [
    "examples = datasets[\"validation\"]\n",
    "features = validation_features\n",
    "\n",
    "example_id_to_index = {k: i for i, k in enumerate(examples[QUESTION_ID_COL])}\n",
    "features_per_example = collections.defaultdict(list)\n",
    "for i, feature in enumerate(features):\n",
    "    features_per_example[example_id_to_index[feature[\"example_id\"]]].append(i)"
   ]
  },
  {
   "cell_type": "code",
   "execution_count": 57,
   "metadata": {
    "id": "MgyLroGUrQxV"
   },
   "outputs": [
    {
     "data": {
      "text/plain": [
       "(742, 742, 742)"
      ]
     },
     "execution_count": 57,
     "metadata": {},
     "output_type": "execute_result"
    }
   ],
   "source": [
    "len(features_per_example), len(examples), len(example_id_to_index)"
   ]
  },
  {
   "cell_type": "markdown",
   "metadata": {},
   "source": [
    "#### Deal with impossible answers"
   ]
  },
  {
   "cell_type": "markdown",
   "metadata": {
    "id": "GYNovWkwZoxv"
   },
   "source": [
    "We're almost ready for our post-processing function. The last bit to deal with is the impossible answer. The code above only keeps answers that are inside the context, we need to also grab the score for the impossible answer (which has start and end indices corresponding to the index of the cls token). When one example gives several features, we have to predict the impossible answer when all the features give a high score to the impossible answer (since one feature could predict the impossible answer just because the answer isn't in the part of the context it has access too), which is why the score of the impossible answer for one example is the *minimum* of the scores for the impossible answer in each feature generated by the example.\n",
    "\n",
    "We then predict the impossible answer when that score is greater than the score of the best non-impossible answer. All combined together, this gives us this post-processing function:"
   ]
  },
  {
   "cell_type": "code",
   "execution_count": 83,
   "metadata": {
    "id": "ytdihejEZoxw"
   },
   "outputs": [],
   "source": [
    "def _postprocess_qa_predictions(examples,\n",
    "                               features, \n",
    "                               raw_predictions,\n",
    "                               tokenizer,\n",
    "                               n_best_size = 20, \n",
    "                               max_answer_length = 30,\n",
    "                               allow_no_answer=False,\n",
    "                               question_id_col='question_id'):\n",
    "    \n",
    "    #get start_logits and end_logits\n",
    "    all_start_logits, all_end_logits = raw_predictions\n",
    "\n",
    "    #get `offset_mapping` and `example_id` back\n",
    "    features.set_format(type=features.format[\"type\"], columns=list(features.features.keys()))\n",
    "\n",
    "    # Build a map example to its corresponding features.\n",
    "    example_id_to_index = {k: i for i, k in enumerate(examples[question_id_col])}\n",
    "    features_per_example = collections.defaultdict(list)\n",
    "    for i, feature in enumerate(features):\n",
    "        features_per_example[example_id_to_index[feature[\"example_id\"]]].append(i)\n",
    "\n",
    "    # The dictionaries we have to fill.\n",
    "    predictions = collections.OrderedDict()\n",
    "\n",
    "    # Let's loop over all the examples!\n",
    "    for example_index, example in enumerate(tqdm(examples)):\n",
    "        # Those are the indices of the features associated to the current example.\n",
    "        feature_indices = features_per_example[example_index]\n",
    "        context = example[\"context\"]\n",
    "\n",
    "        min_null_score = None\n",
    "        valid_answers = []\n",
    "        # Looping through all the features associated to the current example.\n",
    "        for feature_index in feature_indices:\n",
    "            # We grab the predictions of the model for this feature.\n",
    "            start_logits = all_start_logits[feature_index]\n",
    "            end_logits = all_end_logits[feature_index]\n",
    "\n",
    "            # This is what will allow us to map some the positions in our logits to span of texts in the original context.\n",
    "            offset_mapping = features[feature_index][\"offset_mapping\"]\n",
    "\n",
    "            #debug\n",
    "            input_ids = features[feature_index]['input_ids'] \n",
    "\n",
    "            # Update minimum null prediction.\n",
    "            cls_index = features[feature_index][\"input_ids\"].index(tokenizer.cls_token_id)\n",
    "            feature_null_score = start_logits[cls_index] + end_logits[cls_index]\n",
    "            if min_null_score is None or min_null_score < feature_null_score:\n",
    "                min_null_score = feature_null_score\n",
    "\n",
    "            # Go through all possibilities for the `n_best_size` greater start and end logits.\n",
    "            start_indexes = np.argsort(start_logits)[-1 : -n_best_size - 1 : -1].tolist()\n",
    "            end_indexes = np.argsort(end_logits)[-1 : -n_best_size - 1 : -1].tolist()\n",
    "            for start_index in start_indexes:\n",
    "                for end_index in end_indexes:\n",
    "                    # Don't consider out-of-scope answers, either because the indices are out of bounds or correspond\n",
    "                    # to part of the input_ids that are not in the context.\n",
    "                    if (\n",
    "                        start_index >= len(offset_mapping)\n",
    "                        or end_index >= len(offset_mapping)\n",
    "                        or offset_mapping[start_index] is None\n",
    "                        or offset_mapping[end_index-1] is None #end_index is the exclusive upperbound\n",
    "                    ):\n",
    "                        continue\n",
    "                    # Don't consider answers with a length that is either < 0 or > max_answer_length.\n",
    "                    if end_index < start_index or end_index - start_index + 1 > max_answer_length:\n",
    "                        continue\n",
    "\n",
    "                    start_char = offset_mapping[start_index][0]\n",
    "                    end_char = offset_mapping[end_index-1][1] #end_index is the exclusive upperbound\n",
    "                    valid_answers.append(\n",
    "                        {\n",
    "                            \"score\": start_logits[start_index] + end_logits[end_index],\n",
    "                            \"text_decode\": tokenizer.decode(input_ids[start_index:end_index]),\n",
    "                            \"text\": context[start_char:end_char],\n",
    "                        }\n",
    "                    )\n",
    "        \n",
    "        if len(valid_answers) > 0:\n",
    "            best_answer = sorted(valid_answers, key=lambda x: x[\"score\"], reverse=True)[0]\n",
    "        else:\n",
    "            # In the very rare edge case we have not a single non-null prediction, we create a fake prediction to avoid failure.\n",
    "            best_answer = {\"text\": \"\", \"score\": 0.0}\n",
    "            \n",
    "        if not allow_no_answer:\n",
    "            predictions[example[question_id_col]] = best_answer[\"text\"]\n",
    "        else:\n",
    "            answer = best_answer[\"text\"] if best_answer[\"score\"] > min_null_score else \"\"\n",
    "            predictions[example[question_id_col]] = answer\n",
    "\n",
    "    return predictions"
   ]
  },
  {
   "cell_type": "code",
   "execution_count": 93,
   "metadata": {
    "id": "Ml3ixiSFtXah"
   },
   "outputs": [
    {
     "name": "stderr",
     "output_type": "stream",
     "text": [
      "Loading cached processed dataset at iapp_thaiqa/validation/cache-909541a8f087f2ff.arrow\n"
     ]
    }
   ],
   "source": [
    "#features\n",
    "validation_features = datasets[\"validation\"].map(\n",
    "    lambda x: prepare_validation_features(x, tokenizer),\n",
    "    batched=True,\n",
    "    remove_columns=datasets[\"test\"].column_names\n",
    ")\n",
    "\n",
    "#raw predictions\n",
    "raw_predictions = trainer.predict(validation_features)"
   ]
  },
  {
   "cell_type": "code",
   "execution_count": 95,
   "metadata": {
    "id": "ITWPi3_tyQq7"
   },
   "outputs": [
    {
     "data": {
      "application/vnd.jupyter.widget-view+json": {
       "model_id": "ebf098c85cc04acb9ea43c20f8be4504",
       "version_major": 2,
       "version_minor": 0
      },
      "text/plain": [
       "HBox(children=(FloatProgress(value=0.0, max=742.0), HTML(value='')))"
      ]
     },
     "metadata": {},
     "output_type": "display_data"
    },
    {
     "name": "stdout",
     "output_type": "stream",
     "text": [
      "\n"
     ]
    }
   ],
   "source": [
    "question_id_predictions = _postprocess_qa_predictions(datasets[\"validation\"], validation_features, raw_predictions.predictions, tokenizer)"
   ]
  },
  {
   "cell_type": "code",
   "execution_count": 96,
   "metadata": {
    "id": "Qk5Uhh5Y4elA"
   },
   "outputs": [
    {
     "data": {
      "text/plain": [
       "[('0U2lA8nJQESIxbZrjZQc_000', '31 กรกฎาคม พ.ศ. 2555'),\n",
       " ('0U2lA8nJQESIxbZrjZQc_001', '31 กรกฎาคม พ.ศ. 2555'),\n",
       " ('0U2lA8nJQESIxbZrjZQc_003', 'พ.ศ. 2529'),\n",
       " ('1bTjyZ6RFqHEk9Xx5HdW_000', 'พ.ศ. 2560'),\n",
       " ('1bTjyZ6RFqHEk9Xx5HdW_001', 'พ.ศ. 2560'),\n",
       " ('1bTjyZ6RFqHEk9Xx5HdW_002', 'ตามเวลาออมแสงกลาง'),\n",
       " ('1bTjyZ6RFqHEk9Xx5HdW_003', 'อ่าวเตอวนเตเปก'),\n",
       " ('1bTjyZ6RFqHEk9Xx5HdW_004', 'ประเทศเม็กซิโก'),\n",
       " ('1fMtw74xGdNi8azvvp9E_000', 'อธิการซูว์เฌ'),\n",
       " ('1fMtw74xGdNi8azvvp9E_001', 'ค.ศ. 1081 - 13 มกราคม ค.ศ. 115')]"
      ]
     },
     "execution_count": 96,
     "metadata": {},
     "output_type": "execute_result"
    }
   ],
   "source": [
    "#what question_id_predictions look like\n",
    "[x for x in question_id_predictions.items()][:10]"
   ]
  },
  {
   "cell_type": "markdown",
   "metadata": {},
   "source": [
    "#### Metric; replace space tokenization with `newmm` tokenization"
   ]
  },
  {
   "cell_type": "markdown",
   "metadata": {
    "id": "jwnUarTBZoxw"
   },
   "source": [
    "For metric, we will use token-level F1 as detailed in SQuAD but use `newmm` to tokenize instead of space. We will need to format the final predictions and referenes. Text normalization is changed to use `thai2transformers.preprocess.process_transformers`."
   ]
  },
  {
   "cell_type": "code",
   "execution_count": 97,
   "metadata": {
    "id": "XUrCF0SoZoxw"
   },
   "outputs": [
    {
     "data": {
      "text/plain": [
       "Metric(name: \"squad\", features: {'predictions': {'id': Value(dtype='string', id=None), 'prediction_text': Value(dtype='string', id=None)}, 'references': {'id': Value(dtype='string', id=None), 'answers': Sequence(feature={'text': Value(dtype='string', id=None), 'answer_start': Value(dtype='int32', id=None)}, length=-1, id=None)}}, usage: \"\"\"\n",
       "Computes SQuAD scores (F1 and EM).\n",
       "Args:\n",
       "    predictions: List of question-answers dictionaries with the following key-values:\n",
       "        - 'id': id of the question-answer pair as given in the references (see below)\n",
       "        - 'prediction_text': the text of the answer\n",
       "    references: List of question-answers dictionaries with the following key-values:\n",
       "        - 'id': id of the question-answer pair (see above),\n",
       "        - 'answers': a Dict in the SQuAD dataset format\n",
       "            {\n",
       "                'text': list of possible texts for the answer, as a list of strings\n",
       "                'answer_start': list of start positions for the answer, as a list of ints\n",
       "            }\n",
       "            Note that answer_start values are not taken into account to compute the metric.\n",
       "Returns:\n",
       "    'exact_match': Exact match (the normalized answer exactly match the gold answer)\n",
       "    'f1': The F-score of predicted tokens versus the gold answer\n",
       "Examples:\n",
       "\n",
       "    >>> predictions = [{'prediction_text': '1976', 'id': '56e10a3be3433e1400422b22'}]\n",
       "    >>> references = [{'answers': {'answer_start': [97], 'text': ['1976']}, 'id': '56e10a3be3433e1400422b22'}]\n",
       "    >>> squad_metric = datasets.load_metric(\"squad\")\n",
       "    >>> results = squad_metric.compute(predictions=predictions, references=references)\n",
       "    >>> print(results)\n",
       "    {'exact_match': 100.0, 'f1': 100.0}\n",
       "\"\"\", stored examples: 0)"
      ]
     },
     "execution_count": 97,
     "metadata": {},
     "output_type": "execute_result"
    }
   ],
   "source": [
    "metric = squad_newmm_metric\n",
    "metric"
   ]
  },
  {
   "cell_type": "code",
   "execution_count": 98,
   "metadata": {
    "id": "ULLrhksgZoxx"
   },
   "outputs": [
    {
     "data": {
      "text/plain": [
       "[{'id': '0U2lA8nJQESIxbZrjZQc_000', 'prediction_text': '31 กรกฎาคม พ.ศ. 2555'},\n",
       " {'id': '0U2lA8nJQESIxbZrjZQc_001', 'prediction_text': '31 กรกฎาคม พ.ศ. 2555'},\n",
       " {'id': '0U2lA8nJQESIxbZrjZQc_003', 'prediction_text': 'พ.ศ. 2529'},\n",
       " {'id': '1bTjyZ6RFqHEk9Xx5HdW_000', 'prediction_text': 'พ.ศ. 2560'},\n",
       " {'id': '1bTjyZ6RFqHEk9Xx5HdW_001', 'prediction_text': 'พ.ศ. 2560'},\n",
       " {'id': '1bTjyZ6RFqHEk9Xx5HdW_002', 'prediction_text': 'ตามเวลาออมแสงกลาง'},\n",
       " {'id': '1bTjyZ6RFqHEk9Xx5HdW_003', 'prediction_text': 'อ่าวเตอวนเตเปก'},\n",
       " {'id': '1bTjyZ6RFqHEk9Xx5HdW_004', 'prediction_text': 'ประเทศเม็กซิโก'},\n",
       " {'id': '1fMtw74xGdNi8azvvp9E_000', 'prediction_text': 'อธิการซูว์เฌ'},\n",
       " {'id': '1fMtw74xGdNi8azvvp9E_001',\n",
       "  'prediction_text': 'ค.ศ. 1081 - 13 มกราคม ค.ศ. 115'}]"
      ]
     },
     "execution_count": 98,
     "metadata": {},
     "output_type": "execute_result"
    }
   ],
   "source": [
    "#format to have same field names as squad\n",
    "formatted_predictions = [{\"id\": str(k), \"prediction_text\": v} for k, v in question_id_predictions.items()]\n",
    "formatted_predictions[:10]"
   ]
  },
  {
   "cell_type": "code",
   "execution_count": 100,
   "metadata": {
    "id": "3ron3NyM-oKQ"
   },
   "outputs": [
    {
     "data": {
      "text/plain": [
       "[{'id': '0U2lA8nJQESIxbZrjZQc_000',\n",
       "  'answers': {'text': ['1 พฤศจิกายน พ.ศ. 2476'], 'answer_start': [24]}},\n",
       " {'id': '0U2lA8nJQESIxbZrjZQc_001',\n",
       "  'answers': {'text': ['31 กรกฎาคม พ.ศ. 2555'], 'answer_start': [48]}},\n",
       " {'id': '0U2lA8nJQESIxbZrjZQc_003',\n",
       "  'answers': {'text': ['พ.ศ. 2529'], 'answer_start': [274]}},\n",
       " {'id': '1bTjyZ6RFqHEk9Xx5HdW_000',\n",
       "  'answers': {'text': ['พ.ศ. 2560'], 'answer_start': [23]}},\n",
       " {'id': '1bTjyZ6RFqHEk9Xx5HdW_001',\n",
       "  'answers': {'text': ['7 กันยายน พ.ศ. 2560'], 'answer_start': [163]}},\n",
       " {'id': '1bTjyZ6RFqHEk9Xx5HdW_002',\n",
       "  'answers': {'text': ['23:49 น.'], 'answer_start': [188]}},\n",
       " {'id': '1bTjyZ6RFqHEk9Xx5HdW_003',\n",
       "  'answers': {'text': ['อ่าวเตอวนเตเปกนอกชายฝั่งทางใต้ของรัฐเชียปัส'],\n",
       "   'answer_start': [267]}},\n",
       " {'id': '1bTjyZ6RFqHEk9Xx5HdW_004',\n",
       "  'answers': {'text': ['ประเทศเม็กซิโก'], 'answer_start': [311]}},\n",
       " {'id': '1fMtw74xGdNi8azvvp9E_000',\n",
       "  'answers': {'text': ['อธิการซูว์เฌ'], 'answer_start': [71]}},\n",
       " {'id': '1fMtw74xGdNi8azvvp9E_001',\n",
       "  'answers': {'text': ['ค.ศ. 1081'], 'answer_start': [111]}}]"
      ]
     },
     "execution_count": 100,
     "metadata": {},
     "output_type": "execute_result"
    }
   ],
   "source": [
    "#format to have same field names as squad\n",
    "references = [{\"id\": str(ex[QUESTION_ID_COL]), \n",
    "               \"answers\": {'text': ex[ANSWERS_COL][TEXT_COL],\n",
    "                           'answer_start':ex[ANSWERS_COL][START_COL]}} for ex in datasets[\"validation\"]]\n",
    "references[:10]"
   ]
  },
  {
   "cell_type": "code",
   "execution_count": 101,
   "metadata": {
    "id": "yeyo2Kvj-gDh"
   },
   "outputs": [
    {
     "data": {
      "text/plain": [
       "{'exact_match': 44.20485175202156, 'f1': 71.42503624313703}"
      ]
     },
     "execution_count": 101,
     "metadata": {},
     "output_type": "execute_result"
    }
   ],
   "source": [
    "metric.compute(predictions=formatted_predictions, references=references)"
   ]
  },
  {
   "cell_type": "markdown",
   "metadata": {},
   "source": [
    "### Put them together"
   ]
  },
  {
   "cell_type": "code",
   "execution_count": 73,
   "metadata": {},
   "outputs": [],
   "source": [
    "def prepare_qa_validation_features(examples, \n",
    "                           tokenizer,\n",
    "                           question_col='question',\n",
    "                           context_col='context',\n",
    "                           question_id_col = 'question_id',\n",
    "                           pad_on_right=True,\n",
    "                           max_length=416,\n",
    "                           doc_stride=128):\n",
    "\n",
    "    tokenized_examples = tokenizer(\n",
    "        examples[question_col if pad_on_right else context_col],\n",
    "        examples[context_col if pad_on_right else question_col],\n",
    "        truncation=\"only_second\" if pad_on_right else \"only_first\",\n",
    "        max_length=max_length,\n",
    "        stride=doc_stride,\n",
    "        return_overflowing_tokens=True,\n",
    "        return_offsets_mapping=True,\n",
    "        padding=\"max_length\",\n",
    "    )\n",
    "\n",
    "    sample_mapping = tokenized_examples.pop(\"overflow_to_sample_mapping\")\n",
    "    tokenized_examples[\"example_id\"] = []\n",
    "    pass\n",
    "\n",
    "    for i in range(len(tokenized_examples[\"input_ids\"])):\n",
    "        # Grab the sequence corresponding to that example (to know what is the context and what is the question).\n",
    "        sequence_ids = tokenized_examples.sequence_ids(i)\n",
    "        context_index = 1 if pad_on_right else 0\n",
    "\n",
    "        # One example can give several spans, this is the index of the example containing this span of text.\n",
    "        sample_index = sample_mapping[i]\n",
    "        tokenized_examples[\"example_id\"].append(examples[question_id_col][sample_index])\n",
    "\n",
    "        # Set to None the offset_mapping that are not part of the context so it's easy to determine if a token position is part of the context or not.\n",
    "        tokenized_examples[\"offset_mapping\"][i] = [\n",
    "            (o if sequence_ids[k] == context_index else None)\n",
    "            for k, o in enumerate(tokenized_examples[\"offset_mapping\"][i])\n",
    "        ]\n",
    "\n",
    "    return tokenized_examples"
   ]
  },
  {
   "cell_type": "code",
   "execution_count": 78,
   "metadata": {},
   "outputs": [],
   "source": [
    "def _postprocess_qa_predictions(examples,\n",
    "                               features, \n",
    "                               raw_predictions,\n",
    "                               tokenizer,\n",
    "                               n_best_size = 20, \n",
    "                               max_answer_length = 30,\n",
    "                               allow_no_answer=False,\n",
    "                               question_id_col='question_id'):\n",
    "    \n",
    "    #get start_logits and end_logits\n",
    "    all_start_logits, all_end_logits = raw_predictions\n",
    "\n",
    "    #get `offset_mapping` and `example_id` back\n",
    "    features.set_format(type=features.format[\"type\"], columns=list(features.features.keys()))\n",
    "\n",
    "    # Build a map example to its corresponding features.\n",
    "    example_id_to_index = {k: i for i, k in enumerate(examples[question_id_col])}\n",
    "    features_per_example = collections.defaultdict(list)\n",
    "    for i, feature in enumerate(features):\n",
    "        features_per_example[example_id_to_index[feature[\"example_id\"]]].append(i)\n",
    "\n",
    "    # The dictionaries we have to fill.\n",
    "    predictions = collections.OrderedDict()\n",
    "\n",
    "    # Let's loop over all the examples!\n",
    "    for example_index, example in enumerate(tqdm(examples)):\n",
    "        # Those are the indices of the features associated to the current example.\n",
    "        feature_indices = features_per_example[example_index]\n",
    "        context = example[\"context\"]\n",
    "\n",
    "        min_null_score = None\n",
    "        valid_answers = []\n",
    "        # Looping through all the features associated to the current example.\n",
    "        for feature_index in feature_indices:\n",
    "            # We grab the predictions of the model for this feature.\n",
    "            start_logits = all_start_logits[feature_index]\n",
    "            end_logits = all_end_logits[feature_index]\n",
    "\n",
    "            # This is what will allow us to map some the positions in our logits to span of texts in the original context.\n",
    "            offset_mapping = features[feature_index][\"offset_mapping\"]\n",
    "\n",
    "            #debug\n",
    "            input_ids = features[feature_index]['input_ids'] \n",
    "\n",
    "            # Update minimum null prediction.\n",
    "            cls_index = features[feature_index][\"input_ids\"].index(tokenizer.cls_token_id)\n",
    "            feature_null_score = start_logits[cls_index] + end_logits[cls_index]\n",
    "            if min_null_score is None or min_null_score < feature_null_score:\n",
    "                min_null_score = feature_null_score\n",
    "\n",
    "            # Go through all possibilities for the `n_best_size` greater start and end logits.\n",
    "            start_indexes = np.argsort(start_logits)[-1 : -n_best_size - 1 : -1].tolist()\n",
    "            end_indexes = np.argsort(end_logits)[-1 : -n_best_size - 1 : -1].tolist()\n",
    "            for start_index in start_indexes:\n",
    "                for end_index in end_indexes:\n",
    "                    # Don't consider out-of-scope answers, either because the indices are out of bounds or correspond\n",
    "                    # to part of the input_ids that are not in the context.\n",
    "                    if (\n",
    "                        start_index >= len(offset_mapping)\n",
    "                        or end_index >= len(offset_mapping)\n",
    "                        or offset_mapping[start_index] is None\n",
    "                        or offset_mapping[end_index-1] is None #end_index is the exclusive upperbound\n",
    "                    ):\n",
    "                        continue\n",
    "                    # Don't consider answers with a length that is either < 0 or > max_answer_length.\n",
    "                    if end_index < start_index or end_index - start_index + 1 > max_answer_length:\n",
    "                        continue\n",
    "\n",
    "                    start_char = offset_mapping[start_index][0]\n",
    "                    end_char = offset_mapping[end_index-1][1] #end_index is the exclusive upperbound\n",
    "                    valid_answers.append(\n",
    "                        {\n",
    "                            \"score\": start_logits[start_index] + end_logits[end_index],\n",
    "                            \"text_decode\": tokenizer.decode(input_ids[start_index:end_index]),\n",
    "                            \"text\": context[start_char:end_char],\n",
    "                        }\n",
    "                    )\n",
    "        \n",
    "        if len(valid_answers) > 0:\n",
    "            best_answer = sorted(valid_answers, key=lambda x: x[\"score\"], reverse=True)[0]\n",
    "        else:\n",
    "            # In the very rare edge case we have not a single non-null prediction, we create a fake prediction to avoid failure.\n",
    "            best_answer = {\"text\": \"\", \"score\": 0.0}\n",
    "            \n",
    "        if not allow_no_answer:\n",
    "            predictions[example[question_id_col]] = best_answer[\"text\"]\n",
    "        else:\n",
    "            answer = best_answer[\"text\"] if best_answer[\"score\"] > min_null_score else \"\"\n",
    "            predictions[example[question_id_col]] = answer\n",
    "\n",
    "    return predictions"
   ]
  },
  {
   "cell_type": "code",
   "execution_count": 79,
   "metadata": {},
   "outputs": [],
   "source": [
    "def question_answering_metrics(datasets,\n",
    "                               trainer,\n",
    "                               metric=squad_newmm_metric,\n",
    "                               n_best_size=20,\n",
    "                               max_answer_length=100,\n",
    "                               allow_no_answer=False,\n",
    "                               question_col='question',\n",
    "                               context_col='context',\n",
    "                               question_id_col='question_id',\n",
    "                               answers_col='answers',\n",
    "                               text_col='text',\n",
    "                               start_col='answer_start',\n",
    "                               pad_on_right=True,\n",
    "                               max_length=416,\n",
    "                               doc_stride=128):\n",
    "    \n",
    "    validation_features = datasets.map(\n",
    "        lambda examples: prepare_qa_validation_features(examples=datasets, \n",
    "                           tokenizer=trainer.tokenizer,\n",
    "                           question_col=question_col,\n",
    "                           context_col=context_col,\n",
    "                           question_id_col = question_id_col,\n",
    "                           pad_on_right=pad_on_right,\n",
    "                           max_length=max_length,\n",
    "                           doc_stride=doc_stride),\n",
    "        batched=True,\n",
    "        remove_columns=datasets.column_names\n",
    "    )\n",
    "    \n",
    "    #logits for start and end\n",
    "    pred = trainer.predict(validation_features)\n",
    "    \n",
    "    #question_id, answer text format\n",
    "    question_id_predictions = _postprocess_qa_predictions(examples=datasets,\n",
    "                               features=validation_features, \n",
    "                               raw_predictions=pred.predictions,\n",
    "                               tokenizer=trainer.tokenizer,\n",
    "                               n_best_size = n_best_size, \n",
    "                               max_answer_length = max_answer_length,\n",
    "                               allow_no_answer = allow_no_answer,\n",
    "                               question_id_col=question_id_col)\n",
    "\n",
    "\n",
    "    #format to have same field names as squad\n",
    "    formatted_predictions = [{\"id\": str(k), \"prediction_text\": v} for k, v in question_id_predictions.items()]\n",
    "\n",
    "    #format to have same field names as squad\n",
    "    references = [{\"id\": str(ex[question_id_col]), \n",
    "                   \"answers\": {'text': ex[answers_col][text_col],\n",
    "                               'answer_start':ex[answers_col][start_col]}} for ex in datasets]\n",
    "\n",
    "    return metric.compute(predictions=formatted_predictions, references=references), formatted_predictions, references"
   ]
  },
  {
   "cell_type": "code",
   "execution_count": 81,
   "metadata": {},
   "outputs": [
    {
     "data": {
      "application/vnd.jupyter.widget-view+json": {
       "model_id": "ca47c67792ea48ceb34227cedd9b03d8",
       "version_major": 2,
       "version_minor": 0
      },
      "text/plain": [
       "HBox(children=(FloatProgress(value=0.0, max=1.0), HTML(value='')))"
      ]
     },
     "metadata": {},
     "output_type": "display_data"
    },
    {
     "name": "stdout",
     "output_type": "stream",
     "text": [
      "\n"
     ]
    },
    {
     "data": {
      "application/vnd.jupyter.widget-view+json": {
       "model_id": "f2f7270a49464e839b378331a102d31a",
       "version_major": 2,
       "version_minor": 0
      },
      "text/plain": [
       "HBox(children=(FloatProgress(value=0.0, max=739.0), HTML(value='')))"
      ]
     },
     "metadata": {},
     "output_type": "display_data"
    },
    {
     "name": "stdout",
     "output_type": "stream",
     "text": [
      "\n"
     ]
    },
    {
     "data": {
      "text/plain": [
       "{'exact_match': 45.73748308525034, 'f1': 71.40397245711455}"
      ]
     },
     "execution_count": 81,
     "metadata": {},
     "output_type": "execute_result"
    }
   ],
   "source": [
    "#using function in notebook\n",
    "metrics, formatted_predictions, references = question_answering_metrics(datasets['test'], trainer)\n",
    "metrics"
   ]
  },
  {
   "cell_type": "code",
   "execution_count": 103,
   "metadata": {},
   "outputs": [
    {
     "data": {
      "application/vnd.jupyter.widget-view+json": {
       "model_id": "8c45f5647d4d47d28352daf7f83a8fd7",
       "version_major": 2,
       "version_minor": 0
      },
      "text/plain": [
       "HBox(children=(FloatProgress(value=0.0, max=1.0), HTML(value='')))"
      ]
     },
     "metadata": {},
     "output_type": "display_data"
    },
    {
     "name": "stdout",
     "output_type": "stream",
     "text": [
      "\n"
     ]
    },
    {
     "data": {
      "application/vnd.jupyter.widget-view+json": {
       "model_id": "ce7436bd73dd4957b7d9b46867d32617",
       "version_major": 2,
       "version_minor": 0
      },
      "text/plain": [
       "HBox(children=(FloatProgress(value=0.0, max=739.0), HTML(value='')))"
      ]
     },
     "metadata": {},
     "output_type": "display_data"
    },
    {
     "name": "stdout",
     "output_type": "stream",
     "text": [
      "\n"
     ]
    },
    {
     "data": {
      "text/plain": [
       "{'exact_match': 45.73748308525034, 'f1': 71.40397245711455}"
      ]
     },
     "execution_count": 103,
     "metadata": {},
     "output_type": "execute_result"
    }
   ],
   "source": [
    "#using thai2transformers\n",
    "from thai2transformers.metrics import question_answering_metrics\n",
    "metrics, formatted_predictions, references = question_answering_metrics(datasets['test'], trainer)\n",
    "metrics"
   ]
  },
  {
   "cell_type": "markdown",
   "metadata": {},
   "source": [
    "## Error Analysis"
   ]
  },
  {
   "cell_type": "code",
   "execution_count": 104,
   "metadata": {},
   "outputs": [
    {
     "name": "stderr",
     "output_type": "stream",
     "text": [
      "/opt/conda/lib/python3.7/site-packages/ipykernel_launcher.py:2: FutureWarning: Passing a negative integer is deprecated in version 1.0 and will not be supported in future version. Instead, use None to not limit the column width.\n",
      "  \n"
     ]
    }
   ],
   "source": [
    "import pandas as pd\n",
    "pd.set_option('display.max_colwidth', -1)\n",
    "from fuzzywuzzy import fuzz\n",
    "df = pd.DataFrame({#'id':[i['id'] for i in references],\n",
    "                    'context':[i['context'] for i in datasets['test']],\n",
    "                    'question':[i['question'] for i in datasets['test']],\n",
    "                    'text':[i['answers']['text'][0] for i in references],\n",
    "                    'prediction_text':[i['prediction_text'] for i in formatted_predictions]})\n",
    "df['partial_ratio'] = df.apply(lambda row: fuzz.partial_ratio(row['text'],row['prediction_text']),1)\n",
    "df = df.sort_values('partial_ratio')"
   ]
  },
  {
   "cell_type": "code",
   "execution_count": 106,
   "metadata": {},
   "outputs": [
    {
     "data": {
      "text/html": [
       "<div>\n",
       "<style scoped>\n",
       "    .dataframe tbody tr th:only-of-type {\n",
       "        vertical-align: middle;\n",
       "    }\n",
       "\n",
       "    .dataframe tbody tr th {\n",
       "        vertical-align: top;\n",
       "    }\n",
       "\n",
       "    .dataframe thead th {\n",
       "        text-align: right;\n",
       "    }\n",
       "</style>\n",
       "<table border=\"1\" class=\"dataframe\">\n",
       "  <thead>\n",
       "    <tr style=\"text-align: right;\">\n",
       "      <th></th>\n",
       "      <th>context</th>\n",
       "      <th>question</th>\n",
       "      <th>text</th>\n",
       "      <th>prediction_text</th>\n",
       "      <th>partial_ratio</th>\n",
       "    </tr>\n",
       "  </thead>\n",
       "  <tbody>\n",
       "    <tr>\n",
       "      <th>545</th>\n",
       "      <td>t line\\nรายละเอียดสินค้า\\nใช้สำหรับงานตกแต่งภายในทั่วไป เช่น ฉากกั้นที่มีเฟรมต่างๆ หน้าบานตู้ ประตู และ หน้าต่างเข้าเฟรมต่างๆ\\nคุณสมบัติ\\nประเภทกระจกตกแต่งภายในแบบกระจกหลอมลวดลาย\\nลวดลาย/ดีไซน์แบบพื้นผิวมีลาย\\nสีหลัก (สีพื้น)แบบสีขาว\\nไม่ทราบราคาของสินค้า\\nขนาด w1830 x h2440 หนา 5 mm.</td>\n",
       "      <td>ราคาเท่าไรหรอครับ</td>\n",
       "      <td>ไม่ทราบราคาของสินค้า</td>\n",
       "      <td></td>\n",
       "      <td>0</td>\n",
       "    </tr>\n",
       "  </tbody>\n",
       "</table>\n",
       "</div>"
      ],
      "text/plain": [
       "                                                                                                                                                                                                                                                                                           context  \\\n",
       "545  t line\\nรายละเอียดสินค้า\\nใช้สำหรับงานตกแต่งภายในทั่วไป เช่น ฉากกั้นที่มีเฟรมต่างๆ หน้าบานตู้ ประตู และ หน้าต่างเข้าเฟรมต่างๆ\\nคุณสมบัติ\\nประเภทกระจกตกแต่งภายในแบบกระจกหลอมลวดลาย\\nลวดลาย/ดีไซน์แบบพื้นผิวมีลาย\\nสีหลัก (สีพื้น)แบบสีขาว\\nไม่ทราบราคาของสินค้า\\nขนาด w1830 x h2440 หนา 5 mm.   \n",
       "\n",
       "              question                  text prediction_text  partial_ratio  \n",
       "545  ราคาเท่าไรหรอครับ  ไม่ทราบราคาของสินค้า                  0              "
      ]
     },
     "execution_count": 106,
     "metadata": {},
     "output_type": "execute_result"
    }
   ],
   "source": [
    "df[df.prediction_text==''] #no answer"
   ]
  },
  {
   "cell_type": "code",
   "execution_count": 116,
   "metadata": {},
   "outputs": [
    {
     "data": {
      "text/plain": [
       "<AxesSubplot:>"
      ]
     },
     "execution_count": 116,
     "metadata": {},
     "output_type": "execute_result"
    },
    {
     "data": {
      "image/png": "[encoded data removed]",
      "text/plain": [
       "<Figure size 432x288 with 1 Axes>"
      ]
     },
     "metadata": {
      "needs_background": "light"
     },
     "output_type": "display_data"
    }
   ],
   "source": [
    "df[df.partial_ratio<100].partial_ratio.hist()"
   ]
  },
  {
   "cell_type": "code",
   "execution_count": 107,
   "metadata": {},
   "outputs": [
    {
     "data": {
      "text/html": [
       "<div>\n",
       "<style scoped>\n",
       "    .dataframe tbody tr th:only-of-type {\n",
       "        vertical-align: middle;\n",
       "    }\n",
       "\n",
       "    .dataframe tbody tr th {\n",
       "        vertical-align: top;\n",
       "    }\n",
       "\n",
       "    .dataframe thead th {\n",
       "        text-align: right;\n",
       "    }\n",
       "</style>\n",
       "<table border=\"1\" class=\"dataframe\">\n",
       "  <thead>\n",
       "    <tr style=\"text-align: right;\">\n",
       "      <th></th>\n",
       "      <th>context</th>\n",
       "      <th>question</th>\n",
       "      <th>text</th>\n",
       "      <th>prediction_text</th>\n",
       "      <th>partial_ratio</th>\n",
       "    </tr>\n",
       "  </thead>\n",
       "  <tbody>\n",
       "    <tr>\n",
       "      <th>725</th>\n",
       "      <td>เฮอโรโดทัส (herodotos หรือ herodotus – ประมาณ พ.ศ. 58-118) นักประวัติศาสตร์ชาวกรีกผู้บันทึกสงครามเปอร์เซีย ผู้เริ่มต้นประวัติศาสตร์นิพนธ์ตะวันตก เกิดที่เมืองฮาลิคาร์นาสซัส ภาคตะวันตกเฉียงใต้ของเอเชียไมเนอร์ซึ่งในขณะนั้นอยู่ภายใต้การปกครองของเปอร์เซีย เฮอโรโดทัสได้เดินทางท่องเที่ยวศึกษาทั่วดินแดนในเอเชียไมเนอร์และตะวันออกกลาง และยังได้เดินทางลงใต้ไปอียิปต์ถึงเมืองเอเลแฟนทีน (อัสวานในปัจจุบัน)\\n\\n\\nแผนที่โบราณแสดงส่วนของโลกที่มีมนุษย์อยู่อาศัย (oikumene) ประมาณ พ.ศ. 90 หรือ 450 ปีก่อนคริสตกาล โดยจำลองจากบันทึกของเฮอโรโดทัส\\nเฮอโรโดทัส เคยอาศัยอยู่ที่กรุงเอเธนส์ หรืออย่างน้อยก็ตอนกลางของกรีกและได้พบกับโสโฟเคิลส์ (sophocles) ก่อนที่จะไปเข้าเป็นพลเมืองร่วมอยู่กับอาณานิคมกรีกที่เมืองธุริ (thurii) เมื่อปี พ.ศ. 100 และจากเมืองอาณานิคมธูรินี้เฮอโรโดทัสก็ได้เดินทางไปซิชิลีและอิตาลีตอนล่าง จากนั้นไปถึงลิเบีย ซีเรีย บาบิโลเนีย เมืองซูซาในอีแลม ลีเดีย ไพรเจียจนถึงบิแซนเทียม (byzantium) และมาซิโดเนีย โดยเดินทางทั้งทางบกและทางเรือ ทางภาคเหนือเฮอโรโดทัสได้ไปถึงแม่น้ำดานูบและไซเธียไปจนถึงทะเลดำ ซึ่งคงใช้เวลาเดินนานหลายปี ในระหว่างการเดินทางเขาได้รวบรวมข้อมูลต่าง ๆ ที่ได้พบเห็นไว้เป็นจำนวนมากและได้นำมาใช้ในการพรรณาทางประวัติศาสตร์ที่ถือว่ายิ่งใหญ่ โดยได้บันทึกสงครามระหว่างกรีกกับเปอร์เซีย และยังเป็นผู้จัดลำดับเจ็ดสิ่งมหัศจรรย์ของโลกขึ้นเป็นครั้งแรกซึ่งยังเป็นที่อ้างอิงกล่าวขานมาจนถึงปัจจุบัน ซิเซโรขนานนามเฮอโรโดทัสว่าเป็น “บิดาแห่งประวัติศาสตร์”</td>\n",
       "      <td>เฮอรอโดทัสเกิดเมื่อใด</td>\n",
       "      <td>พ.ศ. 58</td>\n",
       "      <td>ที่เมืองฮาลิคาร์นาสซัส</td>\n",
       "      <td>0</td>\n",
       "    </tr>\n",
       "    <tr>\n",
       "      <th>370</th>\n",
       "      <td>พระพุทธมณีรัตนปฏิมากร เป็นพระพุทธรูปที่สร้างขึ้นในรัชสมัยพระบาทสมเด็จพระมงกุฏเกล้าเจ้าอยู่หัวทรงพระกรุณาโปรดเกล้าให้สร้างขึ้นเพื่อเป็นพระแก้วประจำรัชกาลของพระองค์ เป็นพระหยกสีเขียวเข้ม ศิลปะแบบรัตนโกสินทร์ สร้างเมื่อพุทธศักราช 2457 หน้าตักกว้างประมาณ 9.5 นิ้วไม่ปรากฏเอกสารหรือหลักฐานว่าใช้พระพุทธมณีรัตนปฏิมากรในวาระโอกาสใดในอดีต ทั้งนี้เมื่อวันที่ 27 กรกฎาคม พ.ศ. 2560 สมเด็จพระเจ้าอยู่หัวมหาวชิราลงกรณ บดินทรเทพยวรางกูร ทรงพระกรุณาโปรดเกล้าฯ ให้อัญเชิญพระพุทธมณีรัตนปฏิมากร จากพระที่นั่งอัมพรสถาน พระราชวังดุสิต ไปในพิธีเจริญพระพุทธมนต์ถวายพระราชกุศลอุทิศถวาย พระบาทสมเด็จพระเจ้าอยู่หัวภูมิพลอดุลยเดช และพิธีเจริญพระพุทธมนต์ถวายพระพรชัยมงคลถวายพระราชกุศลสมเด็จพระนางเจ้าสิริกิติ์ พระบรมราชินีนาถ ในรัชกาลที่ 9 เนื่องในโอกาสวันเฉลิมพระชนมพรรษาสมเด็จพระเจ้าอยู่หัวฯ 28 กรกฎาคม พ.ศ. 2560 ณ พระลานพระราชวังดุสิ</td>\n",
       "      <td>พระพุทธมณีรัตนปฏิมากร สร้างเมื่อรัชสมัยใด</td>\n",
       "      <td>รัชสมัยพระบาทสมเด็จพระมงกุฏเกล้าเจ้าอยู่หัว</td>\n",
       "      <td>2457</td>\n",
       "      <td>0</td>\n",
       "    </tr>\n",
       "    <tr>\n",
       "      <th>61</th>\n",
       "      <td>เบอร์เซิร์ก (ญี่ปุ่น: ベルセルク โรมาจิ: beruseruku; อังกฤษ: berserk) เป็นชื่อมังงะ แนวดาร์ค แฟนตาซี ของญี่ปุ่น วาดโดยเคนทาโร่ มิอุระ มีการดำเนินเรื่องเกิดขึ้นในยุคกลางของยุโรป โดยได้รับอิทธิพลมาจากโลกแห่งจินตนิมิตด้านมืด มีตัวละครเอกของเรื่องคือ กัทส์ ทหารรับจ้างผู้โดดเดี่ยวและ กริฟฟิท หัวหน้าของกลุ่มทหารรับจ้างที่รวมตัวกันภายใต้ชื่อ กองพันเหยี่ยว\\n\\nเนื้อเรื่องมีสาระสำคัญเกี่ยวกับความโดดเดี่ยวของมนุษย์ , ความสัมพันธ์ในเชิงของมิตรภาพ และเต็มไปด้วยการตั้งคำถามเกี่ยวกับมนุษยธรรม รวมถึงประเด็นเรื่องปีศาจและการต่อต้านพระเจ้า นอกจากนี้ยังสื่อให้เห็นถึงธรรมชาติของความเป็นมนุษย์ทั้งในด้านที่ดีที่สุดและเลวร้ายที่สุด\\n\\nเบอร์เซิร์กได้ชื่อว่าเป็นหนังสือการ์ตูนญี่ปุ่นที่เนื้อหาและภาพมีความรุนแรงสูง รวมถึงมีลายเส้นของภาพที่มีความละเอียดเป็นอย่างมาก ในขณะเดียวกันก็ได้รับความนิยมและมียอดขายมากอันดับต้นๆเช่นกัน ในประเทศญี่ปุ่นลงตีพิมพ์ในนิตยสารยัง แอนิมอล โดยสำนักพิมพ์ฮะคุเซนชะ ส่วนในประเทศไทยมีการตีพิมพ์ฉบับลิขสิทธิ์จัดจำหน่ายครั้งแรกโดยสำนักพิมพ์วิบูลย์กิจ ซึ่งได้ตีพิมพ์จนถึงฉบับรวมเล่มที่ 37 ต่อมาในปี พ.ศ. 2560 ทางสำนักพิมพ์วิบูลย์กิจได้ประกาศหยุดตีพิมพ์หนังสือในเครือฮะคุเซนชะ ทำให้บริษัทสยามอินเตอร์มัลติมีเดีย ได้เข้าถือครองลิขสิทธิ์การตีพิมพ์เรื่องเบอร์เซิร์กฉบับภาษาไทยในปัจจุบัน โดยมีการตีพิมพ์ซ้ำตั้งแต่เล่ม 1 - 37 และ เล่มที่ 38 เป็นต้นไป ส่วนฉบับอนิเมะได้ลิขสิทธิ์จัดจำหน่ายโดย tiga\\n\\nนอกจากนี้ยังมีการแปลและตีพิมพ์จัดจำหน่ายในอีกหลายประเทศเช่นสหราชอาณาจักร, ฝรั่งเศส, สเปน, เนเธอร์แลนด์, โปแลนด์, อิตาลี, เยอรมัน, บราซิล, เม็กซิโก และเกาหลีใต้</td>\n",
       "      <td>ฉบับอนิเมะได้ลิขสิทธิ์จัดจำหน่ายโดยค่ายอะไร</td>\n",
       "      <td>tiga</td>\n",
       "      <td>สำนักพิมพ์วิบูลย์กิจ</td>\n",
       "      <td>0</td>\n",
       "    </tr>\n",
       "    <tr>\n",
       "      <th>680</th>\n",
       "      <td>ออสเตรเลียเน็กซ์ท็อปโมเดล ฤดูกาลที่ 9 เป็นรายการเรียลลิตี้โชว์ค้นหาสุดยอดนางแบบของประเทศออสเตรเลีย ตอนแรกของฤดูกาลนี้ออกอากาศในวันที่ 30 เมษายน พ.ศ. 2558 ทางสถานีโทรทัศน์ช่อง ฟ็อกซ์8[1] เจนนิเฟอร์ ฮอว์กินส์ กลับมารับหน้าที่เป็นผู้ดำเนินรายการและผู้ตัดสินหลักอีกครั้ง ร่วมกับ อเล็กซ์ เพอร์รี่ และในฤดูกาลนี้ยังได้ เชเยนน์ ทอซซี มารับหน้าที่เมนเทอร์เป็นครั้งแรก ร่วมกับ ดิดิเยร์ โคเฮน[2][3]\\n\\nรางวัลสำหรับผู้ชนะในฤดูกาลนี้ จะได้เซ็นสัญญาเป็นนางแบบกับ ไอเอ็มจี โมเดลส์ เอเจนซีนางแบบในกรุงซิดนีย์เป็นเวลา 1 ปี, ทริปเดินทางไปนิวยอร์กเพื่อไป นิวยอร์กแฟชั่นวีค พร้อมเงินรางวัล 20,000 ดอลลาร์ออสเตรเลีย สนับสนุนโดย ผลิตภัณฑ์เทรเซมเม่, รถยนต์ มาสดา 2 เกนกิ และได้ถ่ายแบบแฟชั่นลงในนิตยสาร แอลล์ ออสเตรเลีย\\n\\nผู้ชนะในฤดูกาลนี้คือ บริททานี่ บีตตี อายุ 20 ปี จากเมืองวิทเทิลซี รัฐวิกทอเรีย</td>\n",
       "      <td>ออสเตรเลียเน็กซ์ท็อปโมเดล ตอนแรกฤดูกาล ออกขึ้นปีอะไร</td>\n",
       "      <td>วันที่ 30 เมษายน พ.ศ. 2558</td>\n",
       "      <td>9</td>\n",
       "      <td>0</td>\n",
       "    </tr>\n",
       "    <tr>\n",
       "      <th>545</th>\n",
       "      <td>t line\\nรายละเอียดสินค้า\\nใช้สำหรับงานตกแต่งภายในทั่วไป เช่น ฉากกั้นที่มีเฟรมต่างๆ หน้าบานตู้ ประตู และ หน้าต่างเข้าเฟรมต่างๆ\\nคุณสมบัติ\\nประเภทกระจกตกแต่งภายในแบบกระจกหลอมลวดลาย\\nลวดลาย/ดีไซน์แบบพื้นผิวมีลาย\\nสีหลัก (สีพื้น)แบบสีขาว\\nไม่ทราบราคาของสินค้า\\nขนาด w1830 x h2440 หนา 5 mm.</td>\n",
       "      <td>ราคาเท่าไรหรอครับ</td>\n",
       "      <td>ไม่ทราบราคาของสินค้า</td>\n",
       "      <td></td>\n",
       "      <td>0</td>\n",
       "    </tr>\n",
       "    <tr>\n",
       "      <th>15</th>\n",
       "      <td>เพย์แบ็ก (2017) (อังกฤษ: payback (2017)) เป็นการแสดงมวยปล้ำอาชีพแบบ เพย์-เพอร์-วิว (ppv) ของดับเบิลยูดับเบิลยูอี(wwe) เป็นการแสดงของนักมวยปล้ำค่ายรอว์ จัดเป็นครั้งที่5 โดยมีกำหนดจัดวันที่ 30 เมษายน 2017 ที่สนามsap center ที่เมืองแซนโฮเซ รัฐแคลิฟอร์เนีย สหรัฐ</td>\n",
       "      <td>เพย์แบ็ก อยู่เวทีอะไรของมวยปล้ำอะไร</td>\n",
       "      <td>ดับเบิลยูดับเบิลยูอี</td>\n",
       "      <td>ที่สนามsap center</td>\n",
       "      <td>6</td>\n",
       "    </tr>\n",
       "    <tr>\n",
       "      <th>45</th>\n",
       "      <td>ปลาบู่เขือคางยื่น (อังกฤษ: bearded worm goby; \\nชื่อวิทยาศาสตร์: taenioides cirratus) ปลาน้ำเค็มชนิดหนึ่งที่สามารถปรับตัวให้อยู่ในน้ำกร่อยได้ ในวงศ์ปลาบู่ (gobiidae) มีรูปร่างยาวคล้ายงู หัวเหมือนปลาบู่ทั่วไป แต่หน้าหัก คางยื่นออกมาเล็กน้อย ปากกว้าง มีฟันเป็นซี่แหลมขนาดเล็กในปาก ใต้ปากล่างมีติ่งเนื้อยื่นออกมาโดยรอบ ตามีขนาดเล็กมาก ครีบอกมีขนาดใหญ่ ครีบหลัง ครีบก้นไม่ต่อเนื่องกับครีบก้น ลำตัวลื่นมาก มีเกล็ดขนาดเล็กละเอียด พื้นสีลำตัวเป็นสีชมพูหรือเหลืองเหลือบทองในบางตัว ยาวเต็มที่ประมาณ 30 นิ้ว\\nอาศัยอยู่ในป่าชายเลนหรือป่าจากปากแม่น้ำ โดยขุดรูอยู่ในดินโคลน ออกหากินในเวลากลางคืน และอาศัยอยู่ในที่ ๆ ไม่ต้องใช้แสงสว่าง ตาจึงปรับสภาพให้มีขนาดเล็ก กินอาหารได้หลากหลาย ตั้งแต่ สัตว์น้ำขนาดเล็กรวมถึงซากพืช ซากสัตว์\\nพบกระจายอย่างกว้างขวาง ตั้งแต่ชายฝั่งทะเลแอฟริกาตะวันออก, เอเชียใต้, เอเชียตะวันออกเฉียงใต้จรดโอเชียเนียและเอเชียตะวันออก\\nไม่จัดเป็นปลาเศรษฐกิจ แต่สามารถนำมาบริโภคได้ โดยไม่มีพิษหรืออันตรายใด ๆ เช่น ทอดกระเทียม\\nด้วยรูปร่างประหลาดแลดูคล้ายงูหรือมังกรนี้ จึงมักถูกจับมาขายในตลาดปลาสวยงามบ่อย ๆ โดยมีชื่อเรียกเฉพาะว่า \"มังกรแยงซีเกียง\" หรือ \"มังกรเงิน มังกรทอง\" หรือ \"ดราก้อนบอล\" หรือสุดแต่ผู้ขายจะตั้งชื่อ ซึ่งผู้ขายมักจะบอกว่า เป็นปลาหายากจากแดนไกล สามารถเลี้ยงในน้ำจืดได้ แต่การนำมาเลี้ยงจริง ๆ มักไม่รอดเพราะปลาไม่สามารถปรับตัวให้เข้ากับสภาวะในสถานที่เลี้ยงได้ มีชื่อเรียกอื่น ๆ อีก เช่น \"ปลาเขือ\", \"ปลาเขือหน้าผี\", \"ปลาเขือยักษ์\", \"ปลาเขือแดง\" หรือ \"ปลาเขือลื่น\" เป็นต้น</td>\n",
       "      <td>ปลาบู่เขือคางยื่นในแวดวงปลาสวยงามมีชื่อเรียกว่าอะไร</td>\n",
       "      <td>มังกรแยงซีเกียง</td>\n",
       "      <td>\\nชื่อวิทยาศาสตร์: taenioides cirratus</td>\n",
       "      <td>7</td>\n",
       "    </tr>\n",
       "    <tr>\n",
       "      <th>718</th>\n",
       "      <td>อะตอม (อังกฤษ: atom) เป็นตัวละครการ์ตูนซูเปอร์ฮีโรที่ปรากฏในหนังสือการ์ตูนของดีซีคอมิกส์ สร้างสรรค์โดย การ์ดเนอร์ ฟ็อก และกิล เคน ปรากฏตัวครั้งแรกในการ์ตูน showcase ฉบับที่ 34 (ตุลาคม 1961)[1]</td>\n",
       "      <td>อะตอม ปรากฏตัวครั้งแรกในการ์ตูนวันที่เท่าไร</td>\n",
       "      <td>ตุลาคม 1961</td>\n",
       "      <td>showcase ฉบับที่ 34</td>\n",
       "      <td>9</td>\n",
       "    </tr>\n",
       "    <tr>\n",
       "      <th>656</th>\n",
       "      <td>เกรแฮมสแกน (อังกฤษ:graham scan) เป็นขั้นตอนวิธีสำหรับคำนวณหา เปลือกนูน ของเซตจุดบนระนาบ โดยมีความซับซ้อนด้านเวลา (time complexity) เป็น o(n log n) ชื่อของชั้นตอนวิธีมาจากผู้เผยเพร่ขั้นตอนวิธีต้นฉบับในปี ค.ศ. 1972\\nขั้นตอนวิธีเริ่มจากจุดที่มีพิกัด y ต่ำสุด หากพบจุดที่มีคู่อันดับ y ต่ำสุดมากกว่าหนึ่งจุด ให้เลือกจุดที่มีคู่อันดับ x ต่ำสุดในกลุ่มนั้น เรียกจุดนี้ว่าจุด p ขั้นตอนนี้ใช้เวลา o(n) โดยที่ n คือจำนวนของจุดทั้งหมด\\n\\nถัดมา เรียงลำดับจุดที่เหลือตามมุมที่จุด p และจุดนั้นๆกระทำกับแกน x โดยเรียงจากน้อยไปหามาก การเรียงลำดับสามารถใช้ขั้นตอนวิธีแบบใดก็ได้ เช่น การเรียงลำดับโดยใช้ฮีป (ใช้เวลา o(n log n)) เพื่อความรวดเร็วในการคำนวณ ไม่จำเป็นต้องหาค่าองศาของมุมระหว่างแกน x และเส้นจากจุด p ไปยังจุดหนึ่งๆ เพื่อนำมาเรียงลำดับ สามารถใช้ค่า โคไซน์ ของมุม ซึ่งในปัญหา convex hull จะเป็นฟังก์ชันลดทางเดียว (monotonically decresing funcion) มีค่าระหว่าง 0 ถึง 180 องศา ซึ่งสามารถคำนวณได้จากคณิตศาสตร์อย่างง่าย\\n\\nจากนั้น พิจารณาแต่ละจุดตามลำดับที่เรียงไว้ โดยพิจารณาจากจุดนั้นๆร่วมกับก่อนหน้าสองจุด ว่าการเลือกจุดถัดไปนั้นเป็นการ \"เลี้ยวขวา\" หรือ \"เลี้ยวซ้าย\" หากเป็นการ \"เลี้ยวขวา\" หมายความว่าจุดตรงกลางไม่เป็นส่วนหนึ่งของผนัง convex hull และจะไม่นำมาพิจารณาอีก พิจารณาในขั้นตอนนี้ไปเรื่อยๆ จนกระทั่งพบการ \"เลี้ยวซ้าย\" ซึ่งหมายความว่า จุดตรงกลางคือส่วนหนึ่งของผนัง convex hull จึงพิจารณาจุดถัดไป (หากระหว่างการพิจารณาพบเส้นทางตรงซึ่งไม่มีการเลี้ยว อาจรวม หรือ ไม่รวม จุดนั้นในเซตคำตอบ ขึ้นกับปัญหา เนื่องจากการนำไปใช้บางสถานการณ์จำเป็นต้องรวมทุกจุดบนผนัง convex hull ลงไปในคำตอบ)\\n\\nเช่นเดียวกับการเรียงลำดับจุดตามมุมในขั้นตอนที่สอง การพิจารณาจุดสามจุดว่าเป็นการ \"เลี้ยวขวา\" หรือ \"เลี้ยวซ้าย\" ไม่จำเป็นต้องคำนวณองศาของระหว่างเส้นสองเส้น แต่สามารถคำนวณจากคณิตศาสตร์อย่างง่าย สำหรับจุดสามจุด {\\displaystyle (x_{1},y_{1})} {\\displaystyle (x_{1},y_{1})}, {\\displaystyle (x_{2},y_{2})} {\\displaystyle (x_{2},y_{2})} และ {\\displaystyle (x_{3},y_{3})} {\\displaystyle (x_{3},y_{3})} นั้น สามารถคำนวณหาทิศทางของผลลัพธ์จากการครอสส์เวกเตอร์ {\\displaystyle ((x_{1},y_{1}),(x_{2},y_{2}))} {\\displaystyle ((x_{1},y_{1}),(x_{2},y_{2}))} และ {\\displaystyle ((x_{1},y_{1}),(x_{3},y_{3}))} {\\displaystyle ((x_{1},y_{1}),(x_{3},y_{3}))} ซึ่งคำนวณได้จากเครื่องหมายของนิพจน์ {\\displaystyle (x_{2}-x_{1})(y_{3}-y_{1})-(y_{2}-y_{1})(x_{3}-x_{1})} {\\displaystyle (x_{2}-x_{1})(y_{3}-y_{1})-(y_{2}-y_{1})(x_{3}-x_{1})} หากผลลัพธ์เป็น 0 แสดงว่าจุดสามจุดเรียงกันเป็นเส้นตรง หากผลลัพธ์เป็นบวก แสดงจุดทั้งสามทำให้เกิดการ \"เลี้ยวซ้าย\" และหากผลลัพธ์เป็นลบ แสดงว่าเกิดการ \"เลี้ยวขวา\"\\n\\nสุดท้าย กระบวนการจะวนกลับมายังจุดเริ่มต้น ทำให้เสร็จสิ้นขั้นตอนวิธี ได้ผลลัพธ์เป็นจุดที่อยู่บนผนัง convex hull เรียงตามลำดับทวนเข็มนาฬิกาจากจุด p</td>\n",
       "      <td>เกรแฮมสแกน คือ ?</td>\n",
       "      <td>เป็นขั้นตอนวิธีสำหรับคำนวณหา เปลือกนูน ของเซตจุดบนระนาบ</td>\n",
       "      <td>o(n log n)</td>\n",
       "      <td>10</td>\n",
       "    </tr>\n",
       "    <tr>\n",
       "      <th>136</th>\n",
       "      <td>จันทรุปราคาเต็มดวงเกิดขึ้นเมื่อวันที่ 31 มกราคม พ.ศ. 2561 เนื่องจากดวงจันทร์อยู่ใกล้จุดปลายระยะทางวงโคจร เมื่อวันที่ 30 มกราคม จึงเรียกได้ว่า \"ซูเปอร์มูน\" โดยซูเปอร์มูนครั้งก่อน เกิดขึ้นเมื่อเดือนกันยายน พ.ศ.​ 2558[1]\\nนอกจากนี้ปรากฏการณ์ดังกล่าวยังเรียกว่าบลูมูน ซึ่งเป็นวันที่ดวงจันทร์เต็มดวงครั้งที่สองของเดือนมกราคม พ.ศ.​ 2561 นอกจากนั้น ยังได้รับการกล่าวถึงในสื่อมวลชนว่า \"ซูเปอร์บลูบลัดมูน\" (super blue blood moon)คำว่า \"บลัด (blood)\" มีนัยยะสื่อถึงสีแดงดั่งโลหิตของดวงจันทร์ระหว่างปรากฎการณ์จันทรุปราคา[2] ปรากฏการณ์นี้เกิดขึ้นครั้งล่าสุดเมื่อวันที 30 ธันวาคม พ.ศ. 2409 สำหรับซีกโลกตะวันออก[3] และก่อนหน้านั้น เมื่อวันที่ 31 มีนาคม พ.ศ. 2409[4][5] ครั้งต่อไปจะเกิดขึ้นในวันที่ 31 มกราคม พ.ศ. 2580 ในอีกหนึ่งรอบวัฏจักรเมตอน (19 ปี)</td>\n",
       "      <td>ซูเปอร์บลูบลัดมูน คืออะไร</td>\n",
       "      <td>เป็นวันที่ดวงจันทร์เต็มดวงครั้งที่สองของเดือนมกราคม พ.ศ.​ 2561</td>\n",
       "      <td>super blue blood moon</td>\n",
       "      <td>10</td>\n",
       "    </tr>\n",
       "    <tr>\n",
       "      <th>431</th>\n",
       "      <td>มโพฟูขึ้นชกมวยสากลครั้งแรกเมื่อ 29 มีนาคม พ.ศ. 2541 เสมอกับ แอนโทนี ทเซลา ที่แอฟริกาใต้ จากนั้นขึ้นชกชนะเป็นส่วนใหญ่ จนได้ชิงแชมป์แอฟริกาใต้รุ่นซูเปอร์แบนตัมเวทที่ว่างเมื่อ 25 มกราคม พ.ศ. 2543 ชนะน็อค วูยิซิเล ติงกา ได้แชมป์มาครอง แต่พอป้องกันแชมป์ครั้งแรกก็เป็นฝ่ายแพ้คะแนนอินโดนเซนต์ มทาลาเน เสียแชมป์ไปเมื่อ 30 เมษายน พ.ศ. 2543 หลังจากนั้นมโพฟูขึ้นชกชนะรวดตลอด รวมทั้งชนะคะแนนลุยจิ ค้สติโยเนที่อิตาลีด้วย จากนั้นขึ้นิงแชมป์แอฟริกาใต้รุ่นเฟเธอร์เวทเมื่อ 26 ตุลาคม พ.ศ. 2545 ปรากฏว่าแพ้คะแนนทากาลานี นโดลวู ไม่ได้แชมป์ จากนั้นในเดือนธันวาคม มโพฟูเดินทางมาชิงแชมป์ paba รุ่นซูเปอร์เฟเธอร์เวทในไทย ซึ่งเป็นฝ่ายแพ้น็อค สมศักดิ์ ศิษย์ชัชวาล ยก 12\\n\\nหลังจากชกแพ้สมศักดิ์ มโพฟูหยุดชกไปถึง 3 ปี กลับมาชกอีกใน พ.ศ. 2548 ซึ่งมโพฟูได้ชกชิงแชมป์แอฟริกาใต้รุ่นเฟเธอร์เวทอีกถึงสองครั้ง แต่ไม่สำเร็จ ครั้งแรก แพ้คะแนนมัลคอร์ม กลาสเซน ใน พ.ศ. 2548และแพ้คะแนน ลูดูโม กาลาดา เมื่อ พ.ศ. 2550 หลังจากนั้น มโพฟูชกแพ้และเสมอ ไม่ชนะใครอีก จนกระทั่งแพ้คะแนน ทันดูโซโล ดยานี เมื่อ 29 กันยายน พ.ศ. 2551 มโพฟูจึงแขวนนวมไป</td>\n",
       "      <td>เอ็ดเวิร์ด มโพฟู ได้แชมครั้งแรกที่ไหน</td>\n",
       "      <td>แอฟริกาใต้</td>\n",
       "      <td>อินโดนเซนต์ มทาลาเน</td>\n",
       "      <td>10</td>\n",
       "    </tr>\n",
       "    <tr>\n",
       "      <th>543</th>\n",
       "      <td>ปลาค้อถ้ำพระวังแดง เป็นปลาน้ำจืดชนิดหนึ่ง มีชื่อวิทยาศาสตร์ว่า schistura spiesi อยู่ในวงศ์ปลาค้อ (balitoridae) มีลักษณะลำตัวค่อนข้างป้อม สีเนื้ออมชมพูและเหลืองอ่อน ครีบมีสีใสสีเหลืองเรื่อ ๆ ตัวผู้มีส่วนหลังโค้งนูน รูจมูกมีติ่งแหลมคล้ายหนวด ตาลดขนาดเล็กจนมีขนาดเล็กมากจนเป็นจุดเล็ก ๆ เนื่องจากไม่ได้ใช้งานเพราะอาศัยอยู่ในถ้ำลึก ปากมีขนาดหนา\\nมีลำตัวยาวประมาณ 8–13 เซนติเมตร เป็นปลาที่เพิ่งถูกค้นพบเมื่อ ค.ศ. 2003 โดยนักมีนวิทยาชาวไทยและนักมีนวิทยาชาวสิงคโปร์ เป็นปลาถิ่นเดียว พบที่เฉพาะในถ้ำพระวังแดง ในอุทยานแห่งชาติทุ่งแสลงหลวง จังหวัดพิษณุโลก โดยอยู่ลึกเข้าไปตั้งแต่ 100 เมตรขึ้นไป โดยอาศัยอยู่เป็นกลุ่มเล็ก ๆ 3–10 ตัว ในฤดูผสมพันธุ์ตัวผู้จะต่อสู้กันเพื่อแย่งตัวเมีย\\nปัจจุบันปลาค้อถ้ำพระวังแดงเป็นสัตว์น้ำคุ้มครองตามประกาศของกรมประมง และพบได้เฉพาะถิ่นเดียวในประเทศไทยเท่านั้น</td>\n",
       "      <td>ปลาค้อถ้ำพระวังแดงเป็นสัตว์น้ำคุ้มครองสามารถพบได้ที่ประเทศใดบ้าง</td>\n",
       "      <td>พบได้เฉพาะถิ่นเดียวในประเทศไทยเท่านั้น</td>\n",
       "      <td>ค.ศ. 2003</td>\n",
       "      <td>11</td>\n",
       "    </tr>\n",
       "    <tr>\n",
       "      <th>654</th>\n",
       "      <td>ทับสมิงคลา เป็นภาพยนตร์ไทย 16 มม. จากบทประพันธ์และบทภาพยนตร์ของ เศก ดุสิต สร้างโดยบริษัทวชิรนทร์ภาพยนตร์ที่มิตร ชัยบัญชาร่วมเปิดบริษัทกับเพื่อน และซื้อลิขสิทธิ์ อินทรีแดงตอนที่ 6 คือ ทับสมิงคลา กำกับการแสดงโดย วิน วันชัย นำแสดงโดย มิตร ชัยบัญชาและอมรา อัศวนนท์ และได้เศก ดุสิตมาทำหน้าที่เขียบทภาพยนตร์ชุดนี้เป็นครั้งแรก ภาพยนตร์ออกฉายเมื่อวันที่ 21 ธันวาคม พ.ศ. 2505 ที่โรงภาพยนตร์เอ็มไพร์ ประสบความสำเร็จในด้านรายได้เกินกว่าหนึ่งล้านบาท ปัจจุบันไม่หลงเหลือฟิล์มภาพยนตร์เรื่องนี้แล้ว[1]\\n\\nภาพยนตร์มีเนื้อเรื่องเกี่ยวกับอินทรีแดงที่ตามล่าทำลายล้างแก๊งงูทับสมิงคลา ไปพร้อมกับ ร.อ. เทอด ธรรมรักษ์ (อนุชา รัตนมาลย์) และนักสืบสาวจากฮ่องกง ลี่หยิน (น้ำเงิน บุญหนัก) โดยมีพร ไพโรจน์ รับบทหมวดชาติเหมือนเดิม แต่ผู้รับบทเป็นสารวัติมนตรีคือ จรูญ สินธุเศรษฐ์</td>\n",
       "      <td>บริษัทวชิรนทร์ ใครช่วยเริ่มเปิดบริษัท</td>\n",
       "      <td>มิตร ชัยบัญชา</td>\n",
       "      <td>วชิรนทร์</td>\n",
       "      <td>12</td>\n",
       "    </tr>\n",
       "    <tr>\n",
       "      <th>452</th>\n",
       "      <td>ชุมตาบง เป็นอำเภอหนึ่งของจังหวัดนครสวรรค์\\n\\nอำเภอชุมตาบงตั้งอยู่ทางทิศตะวันตกของจังหวัด มีอาณาเขตติดต่อกับเขตการปกครองข้างเคียง ดังนี้\\n\\nทิศเหนือ ติดต่อกับอำเภอแม่วงก์\\nทิศตะวันออก ติดต่อกับอำเภอลาดยาว\\nทิศใต้ ติดต่อกับอำเภอสว่างอารมณ์และอำเภอลานสัก (จังหวัดอุทัยธานี)\\nทิศตะวันตก ติดต่อกับอำเภอแม่เปิน\\n\\nท้องที่อำเภอชุมตาบงเดิมเป็นส่วนหนึ่งของตำบลห้วยน้ำหอม อำเภอลาดยาว ในปี พ.ศ. 2535 ทางราชการได้จัดตั้งกิ่งอำเภอแม่วงก์ขึ้นซึ่งรวมพื้นที่ตำบลห้วยน้ำหอมไว้ด้วย และตำบลห้วยน้ำหอมได้แยกหมู่บ้านบางแห่งตั้งเป็นตำบลชุมตาบงและตำบลปางสวรรค์ในปีต่อมา จนกระทั่งสองตำบลนี้ได้รับการจัดตั้งเป็น กิ่งอำเภอชุมตาบง อยู่ในเขตการปกครองของอำเภอลาดยาว ตามประกาศกระทรวงมหาดไทยลงวันที่ 1 มิถุนายน พ.ศ. 2540 มีผลบังคับตั้งแต่วันที่ 1 กรกฎาคม ปีเดียวกัน[1] และในวันที่ 24 สิงหาคม พ.ศ. 2550 ได้มีพระราชกฤษฎีกายกฐานะขึ้นเป็น อำเภอชุมตาบง โดยมีผลบังคับตั้งแต่วันที่ 8 กันยายน ปีเดียวกัน\\n\\n</td>\n",
       "      <td>พระราชกฤษฎีกายกฐานะขึ้นเป็น อำเภอชุมตาบง มีผลบังคับเมื่อวันที่เท่าไร</td>\n",
       "      <td>นที่ 8 กันยายน</td>\n",
       "      <td>24 สิงหาคม พ.ศ. 2550</td>\n",
       "      <td>13</td>\n",
       "    </tr>\n",
       "    <tr>\n",
       "      <th>429</th>\n",
       "      <td>มโพฟูขึ้นชกมวยสากลครั้งแรกเมื่อ 29 มีนาคม พ.ศ. 2541 เสมอกับ แอนโทนี ทเซลา ที่แอฟริกาใต้ จากนั้นขึ้นชกชนะเป็นส่วนใหญ่ จนได้ชิงแชมป์แอฟริกาใต้รุ่นซูเปอร์แบนตัมเวทที่ว่างเมื่อ 25 มกราคม พ.ศ. 2543 ชนะน็อค วูยิซิเล ติงกา ได้แชมป์มาครอง แต่พอป้องกันแชมป์ครั้งแรกก็เป็นฝ่ายแพ้คะแนนอินโดนเซนต์ มทาลาเน เสียแชมป์ไปเมื่อ 30 เมษายน พ.ศ. 2543 หลังจากนั้นมโพฟูขึ้นชกชนะรวดตลอด รวมทั้งชนะคะแนนลุยจิ ค้สติโยเนที่อิตาลีด้วย จากนั้นขึ้นิงแชมป์แอฟริกาใต้รุ่นเฟเธอร์เวทเมื่อ 26 ตุลาคม พ.ศ. 2545 ปรากฏว่าแพ้คะแนนทากาลานี นโดลวู ไม่ได้แชมป์ จากนั้นในเดือนธันวาคม มโพฟูเดินทางมาชิงแชมป์ paba รุ่นซูเปอร์เฟเธอร์เวทในไทย ซึ่งเป็นฝ่ายแพ้น็อค สมศักดิ์ ศิษย์ชัชวาล ยก 12\\n\\nหลังจากชกแพ้สมศักดิ์ มโพฟูหยุดชกไปถึง 3 ปี กลับมาชกอีกใน พ.ศ. 2548 ซึ่งมโพฟูได้ชกชิงแชมป์แอฟริกาใต้รุ่นเฟเธอร์เวทอีกถึงสองครั้ง แต่ไม่สำเร็จ ครั้งแรก แพ้คะแนนมัลคอร์ม กลาสเซน ใน พ.ศ. 2548และแพ้คะแนน ลูดูโม กาลาดา เมื่อ พ.ศ. 2550 หลังจากนั้น มโพฟูชกแพ้และเสมอ ไม่ชนะใครอีก จนกระทั่งแพ้คะแนน ทันดูโซโล ดยานี เมื่อ 29 กันยายน พ.ศ. 2551 มโพฟูจึงแขวนนวมไป</td>\n",
       "      <td>คู่ชกของ เอ็ดเวิร์ด มโพฟู คือใคร</td>\n",
       "      <td>แอนโทนี ทเซลา</td>\n",
       "      <td>ลุยจิ ค้สติโยเน</td>\n",
       "      <td>15</td>\n",
       "    </tr>\n",
       "    <tr>\n",
       "      <th>432</th>\n",
       "      <td>มโพฟูขึ้นชกมวยสากลครั้งแรกเมื่อ 29 มีนาคม พ.ศ. 2541 เสมอกับ แอนโทนี ทเซลา ที่แอฟริกาใต้ จากนั้นขึ้นชกชนะเป็นส่วนใหญ่ จนได้ชิงแชมป์แอฟริกาใต้รุ่นซูเปอร์แบนตัมเวทที่ว่างเมื่อ 25 มกราคม พ.ศ. 2543 ชนะน็อค วูยิซิเล ติงกา ได้แชมป์มาครอง แต่พอป้องกันแชมป์ครั้งแรกก็เป็นฝ่ายแพ้คะแนนอินโดนเซนต์ มทาลาเน เสียแชมป์ไปเมื่อ 30 เมษายน พ.ศ. 2543 หลังจากนั้นมโพฟูขึ้นชกชนะรวดตลอด รวมทั้งชนะคะแนนลุยจิ ค้สติโยเนที่อิตาลีด้วย จากนั้นขึ้นิงแชมป์แอฟริกาใต้รุ่นเฟเธอร์เวทเมื่อ 26 ตุลาคม พ.ศ. 2545 ปรากฏว่าแพ้คะแนนทากาลานี นโดลวู ไม่ได้แชมป์ จากนั้นในเดือนธันวาคม มโพฟูเดินทางมาชิงแชมป์ paba รุ่นซูเปอร์เฟเธอร์เวทในไทย ซึ่งเป็นฝ่ายแพ้น็อค สมศักดิ์ ศิษย์ชัชวาล ยก 12\\n\\nหลังจากชกแพ้สมศักดิ์ มโพฟูหยุดชกไปถึง 3 ปี กลับมาชกอีกใน พ.ศ. 2548 ซึ่งมโพฟูได้ชกชิงแชมป์แอฟริกาใต้รุ่นเฟเธอร์เวทอีกถึงสองครั้ง แต่ไม่สำเร็จ ครั้งแรก แพ้คะแนนมัลคอร์ม กลาสเซน ใน พ.ศ. 2548และแพ้คะแนน ลูดูโม กาลาดา เมื่อ พ.ศ. 2550 หลังจากนั้น มโพฟูชกแพ้และเสมอ ไม่ชนะใครอีก จนกระทั่งแพ้คะแนน ทันดูโซโล ดยานี เมื่อ 29 กันยายน พ.ศ. 2551 มโพฟูจึงแขวนนวมไป</td>\n",
       "      <td>เอ็ดเวิร์ด มโพฟู ป้องกันแชม กับใคร</td>\n",
       "      <td>อินโดนเซนต์ มทาลาเน</td>\n",
       "      <td>ป้องกันแชมป์</td>\n",
       "      <td>17</td>\n",
       "    </tr>\n",
       "    <tr>\n",
       "      <th>354</th>\n",
       "      <td>ในคริสต์ศตวรรษที่ 19 ชาติมหาอำนาจยุโรปประสบปัญหากับการรักษาไว้ซึ่งสมดุลของอำนาจทั่วทวีปยุโรป ซึ่งเป็นผลมาจากเครือข่ายพันธมิตรทางการเมืองและทหารอันซับซ้อนทั่วทั้งทวีปจนถึง ค.ศ. 1900 พันธมิตรเหล่านี้ถือกำเนิดขึ้นใน ค.ศ. 1815 ด้วยพันธมิตรอันศักดิ์สิทธิ์ระหว่างปรัสเซีย รัสเซียและออสเตรีย จากนั้น ในเดือนตุลาคม ค.ศ. 1873 นายกรัฐมนตรีเยอรมนี ออตโต ฟอน บิสมาร์ก เจรจาตั้งสันนิบาตสามจักรพรรดิระหว่างพระมหากษัตริย์ของออสเตรีย-ฮังการี รัสเซียและเยอรมนี ความตกลงดังกล่าวล้มเหลวเพราะออสเตรีย-ฮังการีและรัสเซียไม่สามารถตกลงกันได้ในนโยบายเหนือคาบสมุทรบอลข่าน ทิ้งให้เยอรมนีและออสเตรีย-ฮังการีจัดตั้งพันธมิตรกันสองประเทศใน ค.ศ. 1879 เรียกว่า ทวิพันธมิตร ซึ่งถูกมองว่าเป็นวิธีการตอบโต้อิทธิพลของรัสเซียในคาบสมุทรบอลข่านเมื่อจักรวรรดิออตโตมันอ่อนแอลงอย่างต่อเนื่อง ใน ค.ศ. 1882 พันธมิตรนี้ขยายรวมไปถึงอิตาลีและเกิดเป็นไตรพันธมิตร\\n\\nหลัง ค.ศ. 1870 ความขัดแย้งในยุโรปเบี่ยงเบนไปส่วนใหญ่ผ่านเครือข่ายสนธิสัญญาที่มีการวางแผนไว้อย่างระมัดระวังระหว่างจักรวรรดิเยอรมันกับประเทศที่เหลือในยุโรปด้วยฝีมือของนายกรัฐมนตรีบิสมาร์ค เขาเน้นการทำงานเพื่อยึดรัสเซียให้อยู่ฝ่ายเดียวกับเยอรมนีเพื่อหลีกเลี่ยงสงครามสองแนวรบกับฝรั่งเศสและรัสเซีย เมื่อจักรพรรดิวิลเฮล์มที่ 2 เสด็จขึ้นครองราชย์เป็นจักรพรรดิเยอรมนี (ไกเซอร์) พันธมิตรของบิสมาร์คค่อย ๆ ถูกลดความสำคัญลง เช่น จักรพรรดิวิลเฮล์มที่ 2 ทรงปฏิเสธจะต่อสนธิสัญญาประกันพันธไมตรีกับรัสเซียใน ค.ศ. 1890 อีกสองปีต่อมา มีการลงนามจัดตั้งพันธมิตรฝรั่งเศส-รัสเซียเพื่อตอบโต้อำนาจของไตรพันธมิตร ใน ค.ศ. 1904 สหราชอาณาจักรประทับตราเป็นพันธมิตรกับฝรั่งเศส ซึ่งเรียกว่า ความตกลงฉันทไมตรี และใน ค.ศ. 1907 สหราชอาณาจักรและรัสเซียลงนามในอนุสัญญาอังกฤษ-รัสเซีย ระบบนี้ประสานความตกลงทวิภาคีและก่อตั้งไตรภาคี\\n\\nอำนาจทางอุตสาหกรรมและเศรษฐกิจของเยอรมนีเติบโตขึ้นอย่างมากหลังการรวมชาติและการสถาปนาจักรวรรดิใน ค.ศ. 1870 นับตั้งแต่กลางคริสต์ทศวรรษ 1890 เป็นต้นมา รัฐบาลของจักรพรรดิวิลเฮล์มที่ 2 ได้ใช้ฐานนี้ในการจัดสรรทรัพยากรทางเศรษฐกิจเพื่อสร้างกองทัพเรือจักรวรรดิเยอรมันขนานใหญ่ จัดตั้งขึ้นโดยพลเรือเอกอัลเฟรด ฟอน ทีร์พิทซ์ แข่งขันกับกองทัพเรืออังกฤษเพื่อชิงความเป็นเจ้านาวิกโลก ผลที่ตามมาคือ ทั้งสองชาติต่างพยายามแข่งขันผลิตเรือรบขนาดใหญ่ระหว่างกัน ด้วยการปล่อยเอชเอ็มเอส ดรีดนอท ใน ค.ศ. 1906 จักรวรรดิอังกฤษได้ขยายความได้เปรียบเหนือเยอรมนีคู่แข่งอย่างสำคัญ การแข่งขันอาวุธระหว่างอังกฤษและเยอรมนีได้ลุกลามไปยังส่วนที่เหลือของยุโรปในที่สุด โดยประเทศมหาอำนาจทั้งหมดทุ่มเทฐานอุตสาหกรรมของตนในการผลิตยุทโธปกรณ์และอาวุธที่จำเป็นสำหรับความขัดแย้งทั่วทวีปยุโรป ระหว่าง ค.ศ. 1908 และ 1913 ค่าใช้จ่ายด้านการทหารของประเทศในยุโรปเพิ่มขึ้น 50 เปอร์เซนต์\\n\\nออสเตรีย-ฮังการีจุดชนวนเร่งให้เกิดวิกฤตการณ์บอสเนีย ค.ศ. 1908-1909 โดยการผนวกบอสเนียและเฮอร์เซโกวีนา ซึ่งเป็นอดีตดินแดนของจักรวรรดิออตโตมัน อย่างเป็นทางการ หลังได้ยึดครองมาตั้งแต่ ค.ศ. 1878 สร้างความโกรธแค้นแก่ราชอาณาจักรเซอร์เบียและประเทศผู้ให้การสนับสนุน คือ จักรวรรดิรัสเซียซึ่งมีแนวคิดรวมชาติสลาฟ การดำเนินกลยุทธ์ทางการเมืองของรัสเซียในภูมิภาคบั่นทอนเสถียรภาพของสันติภาพควบคู่ไปกับความแตกร้าวที่เกิดขึ้นแล้วในสิ่งที่เป็นที่รู้จักกันว่า \"ถังดินปืนแห่งยุโรป\"\\n\\nใน ค.ศ. 1912 และ 1913 สงครามบอลข่านครั้งที่หนึ่งสู้รบกันระหว่างสันนิบาตบอลข่านและจักรวรรดิออตโตมันที่เสื่อมอำนาจลง สนธิสัญญาลอนดอนอันเป็นผลของสงครามได้ลดขนาดของจักรวรรดิออตโตมันไปอีก สถาปนาอัลเบเนียเป็นรัฐเอกราช ขณะที่เพิ่มดินแดนให้แก่บัลแกเรีย เซอร์เบียมอนเตเนโกรและกรีซ เมื่อบัลแกเรียโจมตีเซอร์เบียและกรีซเมื่อวันที่ 16 มิถุนายน ค.ศ. 1913 บัลแกเรียก็เสียมาซิโดเนียส่วนใหญ่ให้แก่เซอร์เบียและกรีซ และเสียเซาเทิร์นดอบรูจาให้แก่โรมาเนียในสงครามบอลข่านครั้งที่สองนาน 33 วัน ซึ่งยิ่งบั่นทอนเสถียรภาพในภูมิภาคขึ้นไปอีก\\n\\nวันที่ 28 มิถุนายน ค.ศ. 1914 กัฟรีโล ปรินซีป นักศึกษาชาวบอสเนียเซิร์บและสมาชิกบอสเนียหนุ่ม ลอบปลงพระชนม์รัชทายาทแห่งออสเตรีย-ฮังการี อาร์ชดยุกฟรานซ์ เฟอร์ดินานด์แห่งออสเตรีย ในซาราเยโว บอสเนีย อันเป็นจุดเริ่มต้นของการดำเนินกลยุทธ์ทางการทูตระหว่างออสเตรีย-ฮังการี เยอรมนี รัสเซีย ฝรั่งเศสและอังกฤษ เรียกว่า วิกฤตการณ์เดือนกรกฎาคม โดยต้องการยุติการเข้าแทรกแซงของเซอร์เบียในบอสเนีย ออสเตรีย-ฮังการีจึงยื่นคำขาดเดือนกรกฎาคมแก่เซอร์เบีย ซึ่งเป็นข้อเรียกร้องสิบประการซึ่งมีเจตนาทำให้ยอมรับไม่ได้ และเจตนาจุดชนวนสงครามกับเซอร์เบีย เมื่อเซอร์เบียยอมตกลงในข้อเรียกร้องเพียงแปดจากสิบข้อ ออสเตรีย-ฮังการีจึงประกาศสงครามเมื่อวันที่ 28 กรกฎาคม ค.ศ. 1914\\n\\nจักรวรรดิรัสเซีย ซึ่งไม่ต้องการปล่อยให้ออสเตรีย-ฮังการีกำจัดอิทธิพลของตนในบอลข่าน และเพื่อให้การสนับสนุนชาวเซิร์บที่อยู่ในความคุ้มครองเป็นเวลานานแล้ว จึงออกคำสั่งระดมพลบางส่วนในวันต่อมา เมื่อจักรวรรดิเยอรมันเริ่มระดมพลเมื่อวันที่ 30 กรกฎาคม ค.ศ. 1914 ฝรั่งเศส ซึ่งโกรธแค้นจากการยึดครองอัลซาซ-ลอแรนของเยอรมนีระหว่างสงครามฝรั่งเศส-ปรัสเซีย จึงสั่งระดมพลเช่นกันเมื่อวันที่ 1 สิงหาคม เยอรมนีประกาศสงครามต่อรัสเซียในวันเดียวกัน สหราชอาณาจักรประกาศสงครามต่อเยอรมนีเมื่อวันที่ 4 สิงหาคม ค.ศ. 1914 หลัง \"คำตอบซึ่งไม่น่าพอใจ\" ต่อคำขาดของอังกฤษที่เรียกร้องให้เคารพความเป็นกลางของเบลเยียม</td>\n",
       "      <td>สงครามบอลข่านครั้งที่หนึ่งสู้รบกันระหว่างสันนิบาตบอลข่านและจักรวรรดิออตโตมัน เกิดขึ้นระหว่าง ค.ศ. ใด</td>\n",
       "      <td>ค.ศ. 1912 และ 1913</td>\n",
       "      <td>33 วัน</td>\n",
       "      <td>17</td>\n",
       "    </tr>\n",
       "    <tr>\n",
       "      <th>534</th>\n",
       "      <td>ยุทธการที่นิวบรีครั้งที่ 1 (อังกฤษ: first battle of newbury) เป็นยุทธการในสงครามกลางเมืองอังกฤษครั้งที่ 1 ที่เกิดขึ้นเมื่อวันที่ 20 กันยายน ค.ศ. 1643 ที่นิวบรีในอังกฤษ เป็นการต่อสู้ระหว่างกองทัพของฝ่ายนิยมกษัตริย์ของพระเจ้าชาลส์ที่ 1 ที่นำโดยเจ้าชายรูเพิร์ตแห่งไรน์และเจคอบ แอสต์ลีย์ บารอนแอสต์ลีย์ที่ 1 แห่งเรดิง และฝ่ายรัฐสภาที่นำโดยรอเบิร์ต เดเวอรู เอิร์ลที่ 3 แห่งเอสเซกซ์ ผลของสงครามครั้งนี้ไม่มีฝ่ายใดแพ้ไม่มีฝ่ายใดชนะ ในด้านความเสียหายมีผู้เสียชีวิตรวมกันทั้งสองฝ่ายประมาณ 3,500 คน</td>\n",
       "      <td>ยุทธการที่นิวบรีครั้งที่ 1 เกิดที่เมืองอะไร</td>\n",
       "      <td>นิวบรี</td>\n",
       "      <td>ในอังกฤษ</td>\n",
       "      <td>17</td>\n",
       "    </tr>\n",
       "    <tr>\n",
       "      <th>469</th>\n",
       "      <td>สัญญารัก วันหิมะโปรยเป็นภาพยนตร์เกาหลีเข้าฉายในปีค.ศ.2007 กำกับการแสดงโดย han sang hye นำแสดงโดยนักแสดงเกาหลี อี จุน-กีและนักแสดงสาวญี่ปุ่น อาโออิ มิยาซากิ\\n\\nมิน (อี จุน-กี) เป็นเด็กเกาหลีย้ายตามพ่อมาญี่ปุ่นซึ้งเป็นช้างปั้น วันหนึ่ง ณ ศาลท้องถิ่นเขาได้พบกับนานาเอะ (มิยาซากิ) สาวญี่ปุ่นที่สวยงามเธอปรารถนาที่จะเป็นจิตรกร ในนาทีนั้นมินตกหลุมรักตั้งแต่แรกเห็นและพบว่าใน นานาเอะ เข้าเรียนที่โรงเรียนเดียวกับเขา มิตรภาพของพวกเขาพัฒนาอย่างรวดเร็วแม้จะมีความแตกต่างทางวัฒนธรรมและภาษาของพวกเขา แต่เมื่อคุณยายของมินเกิดล้มป่วยมินเร่งรีบกลับมาเกาหลีโดยกะทันหัน ไม่ต้องมีเวลาที่จะอธิบายสถานการณ์ที่ นานาเอะ หลังจากที่คุณยายของมินหายป่วยมินรีบกลับไปที่ญี่ปุ่น แต่หานานาเอะ โดยที่มินไม่รู้ถึงความรู้สึกที่แท้จริงของนานาเอะ และทำไมนานาเอะได้หายไปเพราะเหตุใด?</td>\n",
       "      <td>นางเอกในเรื่องสัญญารัก วันหิมะโปรยมาจากประเทศไหน</td>\n",
       "      <td>ญี่ปุ่น</td>\n",
       "      <td>เกาหลี</td>\n",
       "      <td>17</td>\n",
       "    </tr>\n",
       "    <tr>\n",
       "      <th>435</th>\n",
       "      <td>ภาพยนตร์ชุด วิ่งสู้ฟัด (อังกฤษ: police story film series) เป็นซีรีส์ภาพยนตร์แอคชั่นหลายเรื่อง ที่มีจุดเริ่มต้นมาจากภาพยนตร์เรื่อง วิ่งสู้ฟัด ภาพยนตร์แอคชั่นของเฉินหลง ที่ออกฉายเมื่อ ค.ศ. 1985 นำแสดงโดย เฉินหลง, หลิน ชิงเสีย และจาง ม่านอวี้\\n\\nภาพยนตร์เรื่อง วิ่งสู้ฟัด สร้างชื่อเสียงให้กับทั้งเฉินหลง, หลิน ชิงเสีย และจาง ม่านอวี้ ต่อมาจึงมีการสร้างภาพยนตร์ภาคต่ออีก 5 ภาค ได้แก่\\n\\nวิ่งสู้ฟัด (police story) ออกฉายปี ค.ศ. 1985 กำกับและนำแสดงโดย เฉินหลง\\nวิ่งสู้ฟัด 2 (police story 2) ออกฉายปี ค.ศ. 1988 กำกับและนำแสดงโดย เฉินหลง\\nวิ่งสู้ฟัด 3 (police story 3: supercop) ออกฉายในปี ค.ศ. 1992 กำกับโดย สแตนลี่ ตง\\nวิ่งสู้ฟัด 4 หรือ ใหญ่ฟัดโลก 2 (police story 4: first strike) ออกฉายในปี ค.ศ. 1996 กำกับโดย สแตนลี่ ตง\\nวิ่งสู้ฟัด 5 เหิรสู้ฟัด (new police story) ออกฉายในปี 2004 กำกับโดย เบนนี่ ชาน นำแสดงโดย เฉินหลง แดเนียล วู เซียะ ถิงฟง ภาพยนตร์เรื่องนี้เป็นการรีบูตเรื่องราวใน วิ่งสู้ฟัด ขึ้นมาใหม่\\nวิ่งสู้ฟัด 2013 (police story 2013) ออกฉายในปี 2013 กำกับโดย ติง ถง</td>\n",
       "      <td>วิ่งสู้ฟัด 2013 (police story 2013) ออกฉายในปี 2013 กำกับโดย ?</td>\n",
       "      <td>ติง ถง</td>\n",
       "      <td>เบนนี่ ชาน</td>\n",
       "      <td>17</td>\n",
       "    </tr>\n",
       "  </tbody>\n",
       "</table>\n",
       "</div>"
      ],
      "text/plain": [
       "                                                                                                                                                                                                                                                                                                                                                                                                                                                                                                                                                                                                                                                                                                                                                                                                                                                                                                                                                                                                                                                                                                                                                                                                                                                                                                                                                                                                                                                                                                                                                                                                                                                                                                                                                                                                                                                                                                                                                                                                                                                                                                                                                                                                                                                                                                                                                                                                                                                                                                                                                                                                                                                                                                                                                                                                                                                                                                                                                                                                                                                                                                                                                                                                                                                                                                                                                                                                                                                                                                                                                                                                                                                                                                                                                                                                                                                                                                                                                                                                                                                                                                                                                                                                                                                                                                                                                                                                                                                                                                                                                                                                                                                                                                                                                                                                                                      context  \\\n",
       "725  เฮอโรโดทัส (herodotos หรือ herodotus – ประมาณ พ.ศ. 58-118) นักประวัติศาสตร์ชาวกรีกผู้บันทึกสงครามเปอร์เซีย ผู้เริ่มต้นประวัติศาสตร์นิพนธ์ตะวันตก เกิดที่เมืองฮาลิคาร์นาสซัส ภาคตะวันตกเฉียงใต้ของเอเชียไมเนอร์ซึ่งในขณะนั้นอยู่ภายใต้การปกครองของเปอร์เซีย เฮอโรโดทัสได้เดินทางท่องเที่ยวศึกษาทั่วดินแดนในเอเชียไมเนอร์และตะวันออกกลาง และยังได้เดินทางลงใต้ไปอียิปต์ถึงเมืองเอเลแฟนทีน (อัสวานในปัจจุบัน)\\n\\n\\nแผนที่โบราณแสดงส่วนของโลกที่มีมนุษย์อยู่อาศัย (oikumene) ประมาณ พ.ศ. 90 หรือ 450 ปีก่อนคริสตกาล โดยจำลองจากบันทึกของเฮอโรโดทัส\\nเฮอโรโดทัส เคยอาศัยอยู่ที่กรุงเอเธนส์ หรืออย่างน้อยก็ตอนกลางของกรีกและได้พบกับโสโฟเคิลส์ (sophocles) ก่อนที่จะไปเข้าเป็นพลเมืองร่วมอยู่กับอาณานิคมกรีกที่เมืองธุริ (thurii) เมื่อปี พ.ศ. 100 และจากเมืองอาณานิคมธูรินี้เฮอโรโดทัสก็ได้เดินทางไปซิชิลีและอิตาลีตอนล่าง จากนั้นไปถึงลิเบีย ซีเรีย บาบิโลเนีย เมืองซูซาในอีแลม ลีเดีย ไพรเจียจนถึงบิแซนเทียม (byzantium) และมาซิโดเนีย โดยเดินทางทั้งทางบกและทางเรือ ทางภาคเหนือเฮอโรโดทัสได้ไปถึงแม่น้ำดานูบและไซเธียไปจนถึงทะเลดำ ซึ่งคงใช้เวลาเดินนานหลายปี ในระหว่างการเดินทางเขาได้รวบรวมข้อมูลต่าง ๆ ที่ได้พบเห็นไว้เป็นจำนวนมากและได้นำมาใช้ในการพรรณาทางประวัติศาสตร์ที่ถือว่ายิ่งใหญ่ โดยได้บันทึกสงครามระหว่างกรีกกับเปอร์เซีย และยังเป็นผู้จัดลำดับเจ็ดสิ่งมหัศจรรย์ของโลกขึ้นเป็นครั้งแรกซึ่งยังเป็นที่อ้างอิงกล่าวขานมาจนถึงปัจจุบัน ซิเซโรขนานนามเฮอโรโดทัสว่าเป็น “บิดาแห่งประวัติศาสตร์”                                                                                                                                                                                                                                                                                                                                                                                                                                                                                                                                                                                                                                                                                                                                                                                                                                                                                                                                                                                                                                                                                                                                                                                                                                                                                                                                                                                                                                                                                                                                                                                                                                                                                                                                                                                                                                                                                                                                                                                                                                                                                                                                                                                                                                                                                                                                                                                                                                                                                                                                                                                                                                                                                                                                                                                                                                                                                                                                                                                                                                                                                                                                                                                                                                                                                                                                                                                                                                      \n",
       "370  พระพุทธมณีรัตนปฏิมากร เป็นพระพุทธรูปที่สร้างขึ้นในรัชสมัยพระบาทสมเด็จพระมงกุฏเกล้าเจ้าอยู่หัวทรงพระกรุณาโปรดเกล้าให้สร้างขึ้นเพื่อเป็นพระแก้วประจำรัชกาลของพระองค์ เป็นพระหยกสีเขียวเข้ม ศิลปะแบบรัตนโกสินทร์ สร้างเมื่อพุทธศักราช 2457 หน้าตักกว้างประมาณ 9.5 นิ้วไม่ปรากฏเอกสารหรือหลักฐานว่าใช้พระพุทธมณีรัตนปฏิมากรในวาระโอกาสใดในอดีต ทั้งนี้เมื่อวันที่ 27 กรกฎาคม พ.ศ. 2560 สมเด็จพระเจ้าอยู่หัวมหาวชิราลงกรณ บดินทรเทพยวรางกูร ทรงพระกรุณาโปรดเกล้าฯ ให้อัญเชิญพระพุทธมณีรัตนปฏิมากร จากพระที่นั่งอัมพรสถาน พระราชวังดุสิต ไปในพิธีเจริญพระพุทธมนต์ถวายพระราชกุศลอุทิศถวาย พระบาทสมเด็จพระเจ้าอยู่หัวภูมิพลอดุลยเดช และพิธีเจริญพระพุทธมนต์ถวายพระพรชัยมงคลถวายพระราชกุศลสมเด็จพระนางเจ้าสิริกิติ์ พระบรมราชินีนาถ ในรัชกาลที่ 9 เนื่องในโอกาสวันเฉลิมพระชนมพรรษาสมเด็จพระเจ้าอยู่หัวฯ 28 กรกฎาคม พ.ศ. 2560 ณ พระลานพระราชวังดุสิ                                                                                                                                                                                                                                                                                                                                                                                                                                                                                                                                                                                                                                                                                                                                                                                                                                                                                                                                                                                                                                                                                                                                                                                                                                                                                                                                                                                                                                                                                                                                                                                                                                                                                                                                                                                                                                                                                                                                                                                                                                                                                                                                                                                                                                                                                                                                                                                                                                                                                                                                                                                                                                                                                                                                                                                                                                                                                                                                                                                                                                                                                                                                                                                                                                                                                                                                                                                                                                                                                                                                                                                                                                                                                                                                                                                                                                                                                                                                                                                                  \n",
       "61   เบอร์เซิร์ก (ญี่ปุ่น: ベルセルク โรมาจิ: beruseruku; อังกฤษ: berserk) เป็นชื่อมังงะ แนวดาร์ค แฟนตาซี ของญี่ปุ่น วาดโดยเคนทาโร่ มิอุระ มีการดำเนินเรื่องเกิดขึ้นในยุคกลางของยุโรป โดยได้รับอิทธิพลมาจากโลกแห่งจินตนิมิตด้านมืด มีตัวละครเอกของเรื่องคือ กัทส์ ทหารรับจ้างผู้โดดเดี่ยวและ กริฟฟิท หัวหน้าของกลุ่มทหารรับจ้างที่รวมตัวกันภายใต้ชื่อ กองพันเหยี่ยว\\n\\nเนื้อเรื่องมีสาระสำคัญเกี่ยวกับความโดดเดี่ยวของมนุษย์ , ความสัมพันธ์ในเชิงของมิตรภาพ และเต็มไปด้วยการตั้งคำถามเกี่ยวกับมนุษยธรรม รวมถึงประเด็นเรื่องปีศาจและการต่อต้านพระเจ้า นอกจากนี้ยังสื่อให้เห็นถึงธรรมชาติของความเป็นมนุษย์ทั้งในด้านที่ดีที่สุดและเลวร้ายที่สุด\\n\\nเบอร์เซิร์กได้ชื่อว่าเป็นหนังสือการ์ตูนญี่ปุ่นที่เนื้อหาและภาพมีความรุนแรงสูง รวมถึงมีลายเส้นของภาพที่มีความละเอียดเป็นอย่างมาก ในขณะเดียวกันก็ได้รับความนิยมและมียอดขายมากอันดับต้นๆเช่นกัน ในประเทศญี่ปุ่นลงตีพิมพ์ในนิตยสารยัง แอนิมอล โดยสำนักพิมพ์ฮะคุเซนชะ ส่วนในประเทศไทยมีการตีพิมพ์ฉบับลิขสิทธิ์จัดจำหน่ายครั้งแรกโดยสำนักพิมพ์วิบูลย์กิจ ซึ่งได้ตีพิมพ์จนถึงฉบับรวมเล่มที่ 37 ต่อมาในปี พ.ศ. 2560 ทางสำนักพิมพ์วิบูลย์กิจได้ประกาศหยุดตีพิมพ์หนังสือในเครือฮะคุเซนชะ ทำให้บริษัทสยามอินเตอร์มัลติมีเดีย ได้เข้าถือครองลิขสิทธิ์การตีพิมพ์เรื่องเบอร์เซิร์กฉบับภาษาไทยในปัจจุบัน โดยมีการตีพิมพ์ซ้ำตั้งแต่เล่ม 1 - 37 และ เล่มที่ 38 เป็นต้นไป ส่วนฉบับอนิเมะได้ลิขสิทธิ์จัดจำหน่ายโดย tiga\\n\\nนอกจากนี้ยังมีการแปลและตีพิมพ์จัดจำหน่ายในอีกหลายประเทศเช่นสหราชอาณาจักร, ฝรั่งเศส, สเปน, เนเธอร์แลนด์, โปแลนด์, อิตาลี, เยอรมัน, บราซิล, เม็กซิโก และเกาหลีใต้                                                                                                                                                                                                                                                                                                                                                                                                                                                                                                                                                                                                                                                                                                                                                                                                                                                                                                                                                                                                                                                                                                                                                                                                                                                                                                                                                                                                                                                                                                                                                                                                                                                                                                                                                                                                                                                                                                                                                                                                                                                                                                                                                                                                                                                                                                                                                                                                                                                                                                                                                                                                                                                                                                                                                                                                                                                                                                                                                                                                                                                                                                                                                                                                                                                                                                                             \n",
       "680  ออสเตรเลียเน็กซ์ท็อปโมเดล ฤดูกาลที่ 9 เป็นรายการเรียลลิตี้โชว์ค้นหาสุดยอดนางแบบของประเทศออสเตรเลีย ตอนแรกของฤดูกาลนี้ออกอากาศในวันที่ 30 เมษายน พ.ศ. 2558 ทางสถานีโทรทัศน์ช่อง ฟ็อกซ์8[1] เจนนิเฟอร์ ฮอว์กินส์ กลับมารับหน้าที่เป็นผู้ดำเนินรายการและผู้ตัดสินหลักอีกครั้ง ร่วมกับ อเล็กซ์ เพอร์รี่ และในฤดูกาลนี้ยังได้ เชเยนน์ ทอซซี มารับหน้าที่เมนเทอร์เป็นครั้งแรก ร่วมกับ ดิดิเยร์ โคเฮน[2][3]\\n\\nรางวัลสำหรับผู้ชนะในฤดูกาลนี้ จะได้เซ็นสัญญาเป็นนางแบบกับ ไอเอ็มจี โมเดลส์ เอเจนซีนางแบบในกรุงซิดนีย์เป็นเวลา 1 ปี, ทริปเดินทางไปนิวยอร์กเพื่อไป นิวยอร์กแฟชั่นวีค พร้อมเงินรางวัล 20,000 ดอลลาร์ออสเตรเลีย สนับสนุนโดย ผลิตภัณฑ์เทรเซมเม่, รถยนต์ มาสดา 2 เกนกิ และได้ถ่ายแบบแฟชั่นลงในนิตยสาร แอลล์ ออสเตรเลีย\\n\\nผู้ชนะในฤดูกาลนี้คือ บริททานี่ บีตตี อายุ 20 ปี จากเมืองวิทเทิลซี รัฐวิกทอเรีย                                                                                                                                                                                                                                                                                                                                                                                                                                                                                                                                                                                                                                                                                                                                                                                                                                                                                                                                                                                                                                                                                                                                                                                                                                                                                                                                                                                                                                                                                                                                                                                                                                                                                                                                                                                                                                                                                                                                                                                                                                                                                                                                                                                                                                                                                                                                                                                                                                                                                                                                                                                                                                                                                                                                                                                                                                                                                                                                                                                                                                                                                                                                                                                                                                                                                                                                                                                                                                                                                                                                                                                                                                                                                                                                                                                                                                                                                                                                                                                                                                 \n",
       "545  t line\\nรายละเอียดสินค้า\\nใช้สำหรับงานตกแต่งภายในทั่วไป เช่น ฉากกั้นที่มีเฟรมต่างๆ หน้าบานตู้ ประตู และ หน้าต่างเข้าเฟรมต่างๆ\\nคุณสมบัติ\\nประเภทกระจกตกแต่งภายในแบบกระจกหลอมลวดลาย\\nลวดลาย/ดีไซน์แบบพื้นผิวมีลาย\\nสีหลัก (สีพื้น)แบบสีขาว\\nไม่ทราบราคาของสินค้า\\nขนาด w1830 x h2440 หนา 5 mm.                                                                                                                                                                                                                                                                                                                                                                                                                                                                                                                                                                                                                                                                                                                                                                                                                                                                                                                                                                                                                                                                                                                                                                                                                                                                                                                                                                                                                                                                                                                                                                                                                                                                                                                                                                                                                                                                                                                                                                                                                                                                                                                                                                                                                                                                                                                                                                                                                                                                                                                                                                                                                                                                                                                                                                                                                                                                                                                                                                                                                                                                                                                                                                                                                                                                                                                                                                                                                                                                                                                                                                                                                                                                                                                                                                                                                                                                                                                                                                                                                                                                                                                                                                                                                                                                                                                                                                                                                                                                                                                                              \n",
       "15   เพย์แบ็ก (2017) (อังกฤษ: payback (2017)) เป็นการแสดงมวยปล้ำอาชีพแบบ เพย์-เพอร์-วิว (ppv) ของดับเบิลยูดับเบิลยูอี(wwe) เป็นการแสดงของนักมวยปล้ำค่ายรอว์ จัดเป็นครั้งที่5 โดยมีกำหนดจัดวันที่ 30 เมษายน 2017 ที่สนามsap center ที่เมืองแซนโฮเซ รัฐแคลิฟอร์เนีย สหรัฐ                                                                                                                                                                                                                                                                                                                                                                                                                                                                                                                                                                                                                                                                                                                                                                                                                                                                                                                                                                                                                                                                                                                                                                                                                                                                                                                                                                                                                                                                                                                                                                                                                                                                                                                                                                                                                                                                                                                                                                                                                                                                                                                                                                                                                                                                                                                                                                                                                                                                                                                                                                                                                                                                                                                                                                                                                                                                                                                                                                                                                                                                                                                                                                                                                                                                                                                                                                                                                                                                                                                                                                                                                                                                                                                                                                                                                                                                                                                                                                                                                                                                                                                                                                                                                                                                                                                                                                                                                                                                                                                                                                         \n",
       "45   ปลาบู่เขือคางยื่น (อังกฤษ: bearded worm goby; \\nชื่อวิทยาศาสตร์: taenioides cirratus) ปลาน้ำเค็มชนิดหนึ่งที่สามารถปรับตัวให้อยู่ในน้ำกร่อยได้ ในวงศ์ปลาบู่ (gobiidae) มีรูปร่างยาวคล้ายงู หัวเหมือนปลาบู่ทั่วไป แต่หน้าหัก คางยื่นออกมาเล็กน้อย ปากกว้าง มีฟันเป็นซี่แหลมขนาดเล็กในปาก ใต้ปากล่างมีติ่งเนื้อยื่นออกมาโดยรอบ ตามีขนาดเล็กมาก ครีบอกมีขนาดใหญ่ ครีบหลัง ครีบก้นไม่ต่อเนื่องกับครีบก้น ลำตัวลื่นมาก มีเกล็ดขนาดเล็กละเอียด พื้นสีลำตัวเป็นสีชมพูหรือเหลืองเหลือบทองในบางตัว ยาวเต็มที่ประมาณ 30 นิ้ว\\nอาศัยอยู่ในป่าชายเลนหรือป่าจากปากแม่น้ำ โดยขุดรูอยู่ในดินโคลน ออกหากินในเวลากลางคืน และอาศัยอยู่ในที่ ๆ ไม่ต้องใช้แสงสว่าง ตาจึงปรับสภาพให้มีขนาดเล็ก กินอาหารได้หลากหลาย ตั้งแต่ สัตว์น้ำขนาดเล็กรวมถึงซากพืช ซากสัตว์\\nพบกระจายอย่างกว้างขวาง ตั้งแต่ชายฝั่งทะเลแอฟริกาตะวันออก, เอเชียใต้, เอเชียตะวันออกเฉียงใต้จรดโอเชียเนียและเอเชียตะวันออก\\nไม่จัดเป็นปลาเศรษฐกิจ แต่สามารถนำมาบริโภคได้ โดยไม่มีพิษหรืออันตรายใด ๆ เช่น ทอดกระเทียม\\nด้วยรูปร่างประหลาดแลดูคล้ายงูหรือมังกรนี้ จึงมักถูกจับมาขายในตลาดปลาสวยงามบ่อย ๆ โดยมีชื่อเรียกเฉพาะว่า \"มังกรแยงซีเกียง\" หรือ \"มังกรเงิน มังกรทอง\" หรือ \"ดราก้อนบอล\" หรือสุดแต่ผู้ขายจะตั้งชื่อ ซึ่งผู้ขายมักจะบอกว่า เป็นปลาหายากจากแดนไกล สามารถเลี้ยงในน้ำจืดได้ แต่การนำมาเลี้ยงจริง ๆ มักไม่รอดเพราะปลาไม่สามารถปรับตัวให้เข้ากับสภาวะในสถานที่เลี้ยงได้ มีชื่อเรียกอื่น ๆ อีก เช่น \"ปลาเขือ\", \"ปลาเขือหน้าผี\", \"ปลาเขือยักษ์\", \"ปลาเขือแดง\" หรือ \"ปลาเขือลื่น\" เป็นต้น                                                                                                                                                                                                                                                                                                                                                                                                                                                                                                                                                                                                                                                                                                                                                                                                                                                                                                                                                                                                                                                                                                                                                                                                                                                                                                                                                                                                                                                                                                                                                                                                                                                                                                                                                                                                                                                                                                                                                                                                                                                                                                                                                                                                                                                                                                                                                                                                                                                                                                                                                                                                                                                                                                                                                                                                                                                                                                                                                                                                                                                                                                                                                                                                                                                                                                                                                                                             \n",
       "718  อะตอม (อังกฤษ: atom) เป็นตัวละครการ์ตูนซูเปอร์ฮีโรที่ปรากฏในหนังสือการ์ตูนของดีซีคอมิกส์ สร้างสรรค์โดย การ์ดเนอร์ ฟ็อก และกิล เคน ปรากฏตัวครั้งแรกในการ์ตูน showcase ฉบับที่ 34 (ตุลาคม 1961)[1]                                                                                                                                                                                                                                                                                                                                                                                                                                                                                                                                                                                                                                                                                                                                                                                                                                                                                                                                                                                                                                                                                                                                                                                                                                                                                                                                                                                                                                                                                                                                                                                                                                                                                                                                                                                                                                                                                                                                                                                                                                                                                                                                                                                                                                                                                                                                                                                                                                                                                                                                                                                                                                                                                                                                                                                                                                                                                                                                                                                                                                                                                                                                                                                                                                                                                                                                                                                                                                                                                                                                                                                                                                                                                                                                                                                                                                                                                                                                                                                                                                                                                                                                                                                                                                                                                                                                                                                                                                                                                                                                                                                                                                           \n",
       "656  เกรแฮมสแกน (อังกฤษ:graham scan) เป็นขั้นตอนวิธีสำหรับคำนวณหา เปลือกนูน ของเซตจุดบนระนาบ โดยมีความซับซ้อนด้านเวลา (time complexity) เป็น o(n log n) ชื่อของชั้นตอนวิธีมาจากผู้เผยเพร่ขั้นตอนวิธีต้นฉบับในปี ค.ศ. 1972\\nขั้นตอนวิธีเริ่มจากจุดที่มีพิกัด y ต่ำสุด หากพบจุดที่มีคู่อันดับ y ต่ำสุดมากกว่าหนึ่งจุด ให้เลือกจุดที่มีคู่อันดับ x ต่ำสุดในกลุ่มนั้น เรียกจุดนี้ว่าจุด p ขั้นตอนนี้ใช้เวลา o(n) โดยที่ n คือจำนวนของจุดทั้งหมด\\n\\nถัดมา เรียงลำดับจุดที่เหลือตามมุมที่จุด p และจุดนั้นๆกระทำกับแกน x โดยเรียงจากน้อยไปหามาก การเรียงลำดับสามารถใช้ขั้นตอนวิธีแบบใดก็ได้ เช่น การเรียงลำดับโดยใช้ฮีป (ใช้เวลา o(n log n)) เพื่อความรวดเร็วในการคำนวณ ไม่จำเป็นต้องหาค่าองศาของมุมระหว่างแกน x และเส้นจากจุด p ไปยังจุดหนึ่งๆ เพื่อนำมาเรียงลำดับ สามารถใช้ค่า โคไซน์ ของมุม ซึ่งในปัญหา convex hull จะเป็นฟังก์ชันลดทางเดียว (monotonically decresing funcion) มีค่าระหว่าง 0 ถึง 180 องศา ซึ่งสามารถคำนวณได้จากคณิตศาสตร์อย่างง่าย\\n\\nจากนั้น พิจารณาแต่ละจุดตามลำดับที่เรียงไว้ โดยพิจารณาจากจุดนั้นๆร่วมกับก่อนหน้าสองจุด ว่าการเลือกจุดถัดไปนั้นเป็นการ \"เลี้ยวขวา\" หรือ \"เลี้ยวซ้าย\" หากเป็นการ \"เลี้ยวขวา\" หมายความว่าจุดตรงกลางไม่เป็นส่วนหนึ่งของผนัง convex hull และจะไม่นำมาพิจารณาอีก พิจารณาในขั้นตอนนี้ไปเรื่อยๆ จนกระทั่งพบการ \"เลี้ยวซ้าย\" ซึ่งหมายความว่า จุดตรงกลางคือส่วนหนึ่งของผนัง convex hull จึงพิจารณาจุดถัดไป (หากระหว่างการพิจารณาพบเส้นทางตรงซึ่งไม่มีการเลี้ยว อาจรวม หรือ ไม่รวม จุดนั้นในเซตคำตอบ ขึ้นกับปัญหา เนื่องจากการนำไปใช้บางสถานการณ์จำเป็นต้องรวมทุกจุดบนผนัง convex hull ลงไปในคำตอบ)\\n\\nเช่นเดียวกับการเรียงลำดับจุดตามมุมในขั้นตอนที่สอง การพิจารณาจุดสามจุดว่าเป็นการ \"เลี้ยวขวา\" หรือ \"เลี้ยวซ้าย\" ไม่จำเป็นต้องคำนวณองศาของระหว่างเส้นสองเส้น แต่สามารถคำนวณจากคณิตศาสตร์อย่างง่าย สำหรับจุดสามจุด {\\displaystyle (x_{1},y_{1})} {\\displaystyle (x_{1},y_{1})}, {\\displaystyle (x_{2},y_{2})} {\\displaystyle (x_{2},y_{2})} และ {\\displaystyle (x_{3},y_{3})} {\\displaystyle (x_{3},y_{3})} นั้น สามารถคำนวณหาทิศทางของผลลัพธ์จากการครอสส์เวกเตอร์ {\\displaystyle ((x_{1},y_{1}),(x_{2},y_{2}))} {\\displaystyle ((x_{1},y_{1}),(x_{2},y_{2}))} และ {\\displaystyle ((x_{1},y_{1}),(x_{3},y_{3}))} {\\displaystyle ((x_{1},y_{1}),(x_{3},y_{3}))} ซึ่งคำนวณได้จากเครื่องหมายของนิพจน์ {\\displaystyle (x_{2}-x_{1})(y_{3}-y_{1})-(y_{2}-y_{1})(x_{3}-x_{1})} {\\displaystyle (x_{2}-x_{1})(y_{3}-y_{1})-(y_{2}-y_{1})(x_{3}-x_{1})} หากผลลัพธ์เป็น 0 แสดงว่าจุดสามจุดเรียงกันเป็นเส้นตรง หากผลลัพธ์เป็นบวก แสดงจุดทั้งสามทำให้เกิดการ \"เลี้ยวซ้าย\" และหากผลลัพธ์เป็นลบ แสดงว่าเกิดการ \"เลี้ยวขวา\"\\n\\nสุดท้าย กระบวนการจะวนกลับมายังจุดเริ่มต้น ทำให้เสร็จสิ้นขั้นตอนวิธี ได้ผลลัพธ์เป็นจุดที่อยู่บนผนัง convex hull เรียงตามลำดับทวนเข็มนาฬิกาจากจุด p                                                                                                                                                                                                                                                                                                                                                                                                                                                                                                                                                                                                                                                                                                                                                                                                                                                                                                                                                                                                                                                                                                                                                                                                                                                                                                                                                                                                                                                                                                                                                                                                                                                                                                                                                                                                                                                                                                                                                                                                                                                                                                                                     \n",
       "136  จันทรุปราคาเต็มดวงเกิดขึ้นเมื่อวันที่ 31 มกราคม พ.ศ. 2561 เนื่องจากดวงจันทร์อยู่ใกล้จุดปลายระยะทางวงโคจร เมื่อวันที่ 30 มกราคม จึงเรียกได้ว่า \"ซูเปอร์มูน\" โดยซูเปอร์มูนครั้งก่อน เกิดขึ้นเมื่อเดือนกันยายน พ.ศ.​ 2558[1]\\nนอกจากนี้ปรากฏการณ์ดังกล่าวยังเรียกว่าบลูมูน ซึ่งเป็นวันที่ดวงจันทร์เต็มดวงครั้งที่สองของเดือนมกราคม พ.ศ.​ 2561 นอกจากนั้น ยังได้รับการกล่าวถึงในสื่อมวลชนว่า \"ซูเปอร์บลูบลัดมูน\" (super blue blood moon)คำว่า \"บลัด (blood)\" มีนัยยะสื่อถึงสีแดงดั่งโลหิตของดวงจันทร์ระหว่างปรากฎการณ์จันทรุปราคา[2] ปรากฏการณ์นี้เกิดขึ้นครั้งล่าสุดเมื่อวันที 30 ธันวาคม พ.ศ. 2409 สำหรับซีกโลกตะวันออก[3] และก่อนหน้านั้น เมื่อวันที่ 31 มีนาคม พ.ศ. 2409[4][5] ครั้งต่อไปจะเกิดขึ้นในวันที่ 31 มกราคม พ.ศ. 2580 ในอีกหนึ่งรอบวัฏจักรเมตอน (19 ปี)                                                                                                                                                                                                                                                                                                                                                                                                                                                                                                                                                                                                                                                                                                                                                                                                                                                                                                                                                                                                                                                                                                                                                                                                                                                                                                                                                                                                                                                                                                                                                                                                                                                                                                                                                                                                                                                                                                                                                                                                                                                                                                                                                                                                                                                                                                                                                                                                                                                                                                                                                                                                                                                                                                                                                                                                                                                                                                                                                                                                                                                                                                                                                                                                                                                                                                                                                                                                                                                                                                                                                                                                                                                                                                                                                                                                                                                                                                                                                                                                                                                                          \n",
       "431  มโพฟูขึ้นชกมวยสากลครั้งแรกเมื่อ 29 มีนาคม พ.ศ. 2541 เสมอกับ แอนโทนี ทเซลา ที่แอฟริกาใต้ จากนั้นขึ้นชกชนะเป็นส่วนใหญ่ จนได้ชิงแชมป์แอฟริกาใต้รุ่นซูเปอร์แบนตัมเวทที่ว่างเมื่อ 25 มกราคม พ.ศ. 2543 ชนะน็อค วูยิซิเล ติงกา ได้แชมป์มาครอง แต่พอป้องกันแชมป์ครั้งแรกก็เป็นฝ่ายแพ้คะแนนอินโดนเซนต์ มทาลาเน เสียแชมป์ไปเมื่อ 30 เมษายน พ.ศ. 2543 หลังจากนั้นมโพฟูขึ้นชกชนะรวดตลอด รวมทั้งชนะคะแนนลุยจิ ค้สติโยเนที่อิตาลีด้วย จากนั้นขึ้นิงแชมป์แอฟริกาใต้รุ่นเฟเธอร์เวทเมื่อ 26 ตุลาคม พ.ศ. 2545 ปรากฏว่าแพ้คะแนนทากาลานี นโดลวู ไม่ได้แชมป์ จากนั้นในเดือนธันวาคม มโพฟูเดินทางมาชิงแชมป์ paba รุ่นซูเปอร์เฟเธอร์เวทในไทย ซึ่งเป็นฝ่ายแพ้น็อค สมศักดิ์ ศิษย์ชัชวาล ยก 12\\n\\nหลังจากชกแพ้สมศักดิ์ มโพฟูหยุดชกไปถึง 3 ปี กลับมาชกอีกใน พ.ศ. 2548 ซึ่งมโพฟูได้ชกชิงแชมป์แอฟริกาใต้รุ่นเฟเธอร์เวทอีกถึงสองครั้ง แต่ไม่สำเร็จ ครั้งแรก แพ้คะแนนมัลคอร์ม กลาสเซน ใน พ.ศ. 2548และแพ้คะแนน ลูดูโม กาลาดา เมื่อ พ.ศ. 2550 หลังจากนั้น มโพฟูชกแพ้และเสมอ ไม่ชนะใครอีก จนกระทั่งแพ้คะแนน ทันดูโซโล ดยานี เมื่อ 29 กันยายน พ.ศ. 2551 มโพฟูจึงแขวนนวมไป                                                                                                                                                                                                                                                                                                                                                                                                                                                                                                                                                                                                                                                                                                                                                                                                                                                                                                                                                                                                                                                                                                                                                                                                                                                                                                                                                                                                                                                                                                                                                                                                                                                                                                                                                                                                                                                                                                                                                                                                                                                                                                                                                                                                                                                                                                                                                                                                                                                                                                                                                                                                                                                                                                                                                                                                                                                                                                                                                                                                                                                                                                                                                                                                                                                                                                                                                                                                                                                                                                                                                                                                                                                                                                                                                                                                      \n",
       "543  ปลาค้อถ้ำพระวังแดง เป็นปลาน้ำจืดชนิดหนึ่ง มีชื่อวิทยาศาสตร์ว่า schistura spiesi อยู่ในวงศ์ปลาค้อ (balitoridae) มีลักษณะลำตัวค่อนข้างป้อม สีเนื้ออมชมพูและเหลืองอ่อน ครีบมีสีใสสีเหลืองเรื่อ ๆ ตัวผู้มีส่วนหลังโค้งนูน รูจมูกมีติ่งแหลมคล้ายหนวด ตาลดขนาดเล็กจนมีขนาดเล็กมากจนเป็นจุดเล็ก ๆ เนื่องจากไม่ได้ใช้งานเพราะอาศัยอยู่ในถ้ำลึก ปากมีขนาดหนา\\nมีลำตัวยาวประมาณ 8–13 เซนติเมตร เป็นปลาที่เพิ่งถูกค้นพบเมื่อ ค.ศ. 2003 โดยนักมีนวิทยาชาวไทยและนักมีนวิทยาชาวสิงคโปร์ เป็นปลาถิ่นเดียว พบที่เฉพาะในถ้ำพระวังแดง ในอุทยานแห่งชาติทุ่งแสลงหลวง จังหวัดพิษณุโลก โดยอยู่ลึกเข้าไปตั้งแต่ 100 เมตรขึ้นไป โดยอาศัยอยู่เป็นกลุ่มเล็ก ๆ 3–10 ตัว ในฤดูผสมพันธุ์ตัวผู้จะต่อสู้กันเพื่อแย่งตัวเมีย\\nปัจจุบันปลาค้อถ้ำพระวังแดงเป็นสัตว์น้ำคุ้มครองตามประกาศของกรมประมง และพบได้เฉพาะถิ่นเดียวในประเทศไทยเท่านั้น                                                                                                                                                                                                                                                                                                                                                                                                                                                                                                                                                                                                                                                                                                                                                                                                                                                                                                                                                                                                                                                                                                                                                                                                                                                                                                                                                                                                                                                                                                                                                                                                                                                                                                                                                                                                                                                                                                                                                                                                                                                                                                                                                                                                                                                                                                                                                                                                                                                                                                                                                                                                                                                                                                                                                                                                                                                                                                                                                                                                                                                                                                                                                                                                                                                                                                                                                                                                                                                                                                                                                                                                                                                                                                                                                                                                                                                                                                                                                                                                                                 \n",
       "654  ทับสมิงคลา เป็นภาพยนตร์ไทย 16 มม. จากบทประพันธ์และบทภาพยนตร์ของ เศก ดุสิต สร้างโดยบริษัทวชิรนทร์ภาพยนตร์ที่มิตร ชัยบัญชาร่วมเปิดบริษัทกับเพื่อน และซื้อลิขสิทธิ์ อินทรีแดงตอนที่ 6 คือ ทับสมิงคลา กำกับการแสดงโดย วิน วันชัย นำแสดงโดย มิตร ชัยบัญชาและอมรา อัศวนนท์ และได้เศก ดุสิตมาทำหน้าที่เขียบทภาพยนตร์ชุดนี้เป็นครั้งแรก ภาพยนตร์ออกฉายเมื่อวันที่ 21 ธันวาคม พ.ศ. 2505 ที่โรงภาพยนตร์เอ็มไพร์ ประสบความสำเร็จในด้านรายได้เกินกว่าหนึ่งล้านบาท ปัจจุบันไม่หลงเหลือฟิล์มภาพยนตร์เรื่องนี้แล้ว[1]\\n\\nภาพยนตร์มีเนื้อเรื่องเกี่ยวกับอินทรีแดงที่ตามล่าทำลายล้างแก๊งงูทับสมิงคลา ไปพร้อมกับ ร.อ. เทอด ธรรมรักษ์ (อนุชา รัตนมาลย์) และนักสืบสาวจากฮ่องกง ลี่หยิน (น้ำเงิน บุญหนัก) โดยมีพร ไพโรจน์ รับบทหมวดชาติเหมือนเดิม แต่ผู้รับบทเป็นสารวัติมนตรีคือ จรูญ สินธุเศรษฐ์                                                                                                                                                                                                                                                                                                                                                                                                                                                                                                                                                                                                                                                                                                                                                                                                                                                                                                                                                                                                                                                                                                                                                                                                                                                                                                                                                                                                                                                                                                                                                                                                                                                                                                                                                                                                                                                                                                                                                                                                                                                                                                                                                                                                                                                                                                                                                                                                                                                                                                                                                                                                                                                                                                                                                                                                                                                                                                                                                                                                                                                                                                                                                                                                                                                                                                                                                                                                                                                                                                                                                                                                                                                                                                                                                                                                                                                                                                                                                                                                                                                               \n",
       "452  ชุมตาบง เป็นอำเภอหนึ่งของจังหวัดนครสวรรค์\\n\\nอำเภอชุมตาบงตั้งอยู่ทางทิศตะวันตกของจังหวัด มีอาณาเขตติดต่อกับเขตการปกครองข้างเคียง ดังนี้\\n\\nทิศเหนือ ติดต่อกับอำเภอแม่วงก์\\nทิศตะวันออก ติดต่อกับอำเภอลาดยาว\\nทิศใต้ ติดต่อกับอำเภอสว่างอารมณ์และอำเภอลานสัก (จังหวัดอุทัยธานี)\\nทิศตะวันตก ติดต่อกับอำเภอแม่เปิน\\n\\nท้องที่อำเภอชุมตาบงเดิมเป็นส่วนหนึ่งของตำบลห้วยน้ำหอม อำเภอลาดยาว ในปี พ.ศ. 2535 ทางราชการได้จัดตั้งกิ่งอำเภอแม่วงก์ขึ้นซึ่งรวมพื้นที่ตำบลห้วยน้ำหอมไว้ด้วย และตำบลห้วยน้ำหอมได้แยกหมู่บ้านบางแห่งตั้งเป็นตำบลชุมตาบงและตำบลปางสวรรค์ในปีต่อมา จนกระทั่งสองตำบลนี้ได้รับการจัดตั้งเป็น กิ่งอำเภอชุมตาบง อยู่ในเขตการปกครองของอำเภอลาดยาว ตามประกาศกระทรวงมหาดไทยลงวันที่ 1 มิถุนายน พ.ศ. 2540 มีผลบังคับตั้งแต่วันที่ 1 กรกฎาคม ปีเดียวกัน[1] และในวันที่ 24 สิงหาคม พ.ศ. 2550 ได้มีพระราชกฤษฎีกายกฐานะขึ้นเป็น อำเภอชุมตาบง โดยมีผลบังคับตั้งแต่วันที่ 8 กันยายน ปีเดียวกัน\\n\\n                                                                                                                                                                                                                                                                                                                                                                                                                                                                                                                                                                                                                                                                                                                                                                                                                                                                                                                                                                                                                                                                                                                                                                                                                                                                                                                                                                                                                                                                                                                                                                                                                                                                                                                                                                                                                                                                                                                                                                                                                                                                                                                                                                                                                                                                                                                                                                                                                                                                                                                                                                                                                                                                                                                                                                                                                                                                                                                                                                                                                                                                                                                                                                                                                                                                                                                                                                                                                                                                                                                                                                                                                                                                                                                                                                                                                                                                                                                                       \n",
       "429  มโพฟูขึ้นชกมวยสากลครั้งแรกเมื่อ 29 มีนาคม พ.ศ. 2541 เสมอกับ แอนโทนี ทเซลา ที่แอฟริกาใต้ จากนั้นขึ้นชกชนะเป็นส่วนใหญ่ จนได้ชิงแชมป์แอฟริกาใต้รุ่นซูเปอร์แบนตัมเวทที่ว่างเมื่อ 25 มกราคม พ.ศ. 2543 ชนะน็อค วูยิซิเล ติงกา ได้แชมป์มาครอง แต่พอป้องกันแชมป์ครั้งแรกก็เป็นฝ่ายแพ้คะแนนอินโดนเซนต์ มทาลาเน เสียแชมป์ไปเมื่อ 30 เมษายน พ.ศ. 2543 หลังจากนั้นมโพฟูขึ้นชกชนะรวดตลอด รวมทั้งชนะคะแนนลุยจิ ค้สติโยเนที่อิตาลีด้วย จากนั้นขึ้นิงแชมป์แอฟริกาใต้รุ่นเฟเธอร์เวทเมื่อ 26 ตุลาคม พ.ศ. 2545 ปรากฏว่าแพ้คะแนนทากาลานี นโดลวู ไม่ได้แชมป์ จากนั้นในเดือนธันวาคม มโพฟูเดินทางมาชิงแชมป์ paba รุ่นซูเปอร์เฟเธอร์เวทในไทย ซึ่งเป็นฝ่ายแพ้น็อค สมศักดิ์ ศิษย์ชัชวาล ยก 12\\n\\nหลังจากชกแพ้สมศักดิ์ มโพฟูหยุดชกไปถึง 3 ปี กลับมาชกอีกใน พ.ศ. 2548 ซึ่งมโพฟูได้ชกชิงแชมป์แอฟริกาใต้รุ่นเฟเธอร์เวทอีกถึงสองครั้ง แต่ไม่สำเร็จ ครั้งแรก แพ้คะแนนมัลคอร์ม กลาสเซน ใน พ.ศ. 2548และแพ้คะแนน ลูดูโม กาลาดา เมื่อ พ.ศ. 2550 หลังจากนั้น มโพฟูชกแพ้และเสมอ ไม่ชนะใครอีก จนกระทั่งแพ้คะแนน ทันดูโซโล ดยานี เมื่อ 29 กันยายน พ.ศ. 2551 มโพฟูจึงแขวนนวมไป                                                                                                                                                                                                                                                                                                                                                                                                                                                                                                                                                                                                                                                                                                                                                                                                                                                                                                                                                                                                                                                                                                                                                                                                                                                                                                                                                                                                                                                                                                                                                                                                                                                                                                                                                                                                                                                                                                                                                                                                                                                                                                                                                                                                                                                                                                                                                                                                                                                                                                                                                                                                                                                                                                                                                                                                                                                                                                                                                                                                                                                                                                                                                                                                                                                                                                                                                                                                                                                                                                                                                                                                                                                                                                                                                                                                      \n",
       "432  มโพฟูขึ้นชกมวยสากลครั้งแรกเมื่อ 29 มีนาคม พ.ศ. 2541 เสมอกับ แอนโทนี ทเซลา ที่แอฟริกาใต้ จากนั้นขึ้นชกชนะเป็นส่วนใหญ่ จนได้ชิงแชมป์แอฟริกาใต้รุ่นซูเปอร์แบนตัมเวทที่ว่างเมื่อ 25 มกราคม พ.ศ. 2543 ชนะน็อค วูยิซิเล ติงกา ได้แชมป์มาครอง แต่พอป้องกันแชมป์ครั้งแรกก็เป็นฝ่ายแพ้คะแนนอินโดนเซนต์ มทาลาเน เสียแชมป์ไปเมื่อ 30 เมษายน พ.ศ. 2543 หลังจากนั้นมโพฟูขึ้นชกชนะรวดตลอด รวมทั้งชนะคะแนนลุยจิ ค้สติโยเนที่อิตาลีด้วย จากนั้นขึ้นิงแชมป์แอฟริกาใต้รุ่นเฟเธอร์เวทเมื่อ 26 ตุลาคม พ.ศ. 2545 ปรากฏว่าแพ้คะแนนทากาลานี นโดลวู ไม่ได้แชมป์ จากนั้นในเดือนธันวาคม มโพฟูเดินทางมาชิงแชมป์ paba รุ่นซูเปอร์เฟเธอร์เวทในไทย ซึ่งเป็นฝ่ายแพ้น็อค สมศักดิ์ ศิษย์ชัชวาล ยก 12\\n\\nหลังจากชกแพ้สมศักดิ์ มโพฟูหยุดชกไปถึง 3 ปี กลับมาชกอีกใน พ.ศ. 2548 ซึ่งมโพฟูได้ชกชิงแชมป์แอฟริกาใต้รุ่นเฟเธอร์เวทอีกถึงสองครั้ง แต่ไม่สำเร็จ ครั้งแรก แพ้คะแนนมัลคอร์ม กลาสเซน ใน พ.ศ. 2548และแพ้คะแนน ลูดูโม กาลาดา เมื่อ พ.ศ. 2550 หลังจากนั้น มโพฟูชกแพ้และเสมอ ไม่ชนะใครอีก จนกระทั่งแพ้คะแนน ทันดูโซโล ดยานี เมื่อ 29 กันยายน พ.ศ. 2551 มโพฟูจึงแขวนนวมไป                                                                                                                                                                                                                                                                                                                                                                                                                                                                                                                                                                                                                                                                                                                                                                                                                                                                                                                                                                                                                                                                                                                                                                                                                                                                                                                                                                                                                                                                                                                                                                                                                                                                                                                                                                                                                                                                                                                                                                                                                                                                                                                                                                                                                                                                                                                                                                                                                                                                                                                                                                                                                                                                                                                                                                                                                                                                                                                                                                                                                                                                                                                                                                                                                                                                                                                                                                                                                                                                                                                                                                                                                                                                                                                                                                                                      \n",
       "354  ในคริสต์ศตวรรษที่ 19 ชาติมหาอำนาจยุโรปประสบปัญหากับการรักษาไว้ซึ่งสมดุลของอำนาจทั่วทวีปยุโรป ซึ่งเป็นผลมาจากเครือข่ายพันธมิตรทางการเมืองและทหารอันซับซ้อนทั่วทั้งทวีปจนถึง ค.ศ. 1900 พันธมิตรเหล่านี้ถือกำเนิดขึ้นใน ค.ศ. 1815 ด้วยพันธมิตรอันศักดิ์สิทธิ์ระหว่างปรัสเซีย รัสเซียและออสเตรีย จากนั้น ในเดือนตุลาคม ค.ศ. 1873 นายกรัฐมนตรีเยอรมนี ออตโต ฟอน บิสมาร์ก เจรจาตั้งสันนิบาตสามจักรพรรดิระหว่างพระมหากษัตริย์ของออสเตรีย-ฮังการี รัสเซียและเยอรมนี ความตกลงดังกล่าวล้มเหลวเพราะออสเตรีย-ฮังการีและรัสเซียไม่สามารถตกลงกันได้ในนโยบายเหนือคาบสมุทรบอลข่าน ทิ้งให้เยอรมนีและออสเตรีย-ฮังการีจัดตั้งพันธมิตรกันสองประเทศใน ค.ศ. 1879 เรียกว่า ทวิพันธมิตร ซึ่งถูกมองว่าเป็นวิธีการตอบโต้อิทธิพลของรัสเซียในคาบสมุทรบอลข่านเมื่อจักรวรรดิออตโตมันอ่อนแอลงอย่างต่อเนื่อง ใน ค.ศ. 1882 พันธมิตรนี้ขยายรวมไปถึงอิตาลีและเกิดเป็นไตรพันธมิตร\\n\\nหลัง ค.ศ. 1870 ความขัดแย้งในยุโรปเบี่ยงเบนไปส่วนใหญ่ผ่านเครือข่ายสนธิสัญญาที่มีการวางแผนไว้อย่างระมัดระวังระหว่างจักรวรรดิเยอรมันกับประเทศที่เหลือในยุโรปด้วยฝีมือของนายกรัฐมนตรีบิสมาร์ค เขาเน้นการทำงานเพื่อยึดรัสเซียให้อยู่ฝ่ายเดียวกับเยอรมนีเพื่อหลีกเลี่ยงสงครามสองแนวรบกับฝรั่งเศสและรัสเซีย เมื่อจักรพรรดิวิลเฮล์มที่ 2 เสด็จขึ้นครองราชย์เป็นจักรพรรดิเยอรมนี (ไกเซอร์) พันธมิตรของบิสมาร์คค่อย ๆ ถูกลดความสำคัญลง เช่น จักรพรรดิวิลเฮล์มที่ 2 ทรงปฏิเสธจะต่อสนธิสัญญาประกันพันธไมตรีกับรัสเซียใน ค.ศ. 1890 อีกสองปีต่อมา มีการลงนามจัดตั้งพันธมิตรฝรั่งเศส-รัสเซียเพื่อตอบโต้อำนาจของไตรพันธมิตร ใน ค.ศ. 1904 สหราชอาณาจักรประทับตราเป็นพันธมิตรกับฝรั่งเศส ซึ่งเรียกว่า ความตกลงฉันทไมตรี และใน ค.ศ. 1907 สหราชอาณาจักรและรัสเซียลงนามในอนุสัญญาอังกฤษ-รัสเซีย ระบบนี้ประสานความตกลงทวิภาคีและก่อตั้งไตรภาคี\\n\\nอำนาจทางอุตสาหกรรมและเศรษฐกิจของเยอรมนีเติบโตขึ้นอย่างมากหลังการรวมชาติและการสถาปนาจักรวรรดิใน ค.ศ. 1870 นับตั้งแต่กลางคริสต์ทศวรรษ 1890 เป็นต้นมา รัฐบาลของจักรพรรดิวิลเฮล์มที่ 2 ได้ใช้ฐานนี้ในการจัดสรรทรัพยากรทางเศรษฐกิจเพื่อสร้างกองทัพเรือจักรวรรดิเยอรมันขนานใหญ่ จัดตั้งขึ้นโดยพลเรือเอกอัลเฟรด ฟอน ทีร์พิทซ์ แข่งขันกับกองทัพเรืออังกฤษเพื่อชิงความเป็นเจ้านาวิกโลก ผลที่ตามมาคือ ทั้งสองชาติต่างพยายามแข่งขันผลิตเรือรบขนาดใหญ่ระหว่างกัน ด้วยการปล่อยเอชเอ็มเอส ดรีดนอท ใน ค.ศ. 1906 จักรวรรดิอังกฤษได้ขยายความได้เปรียบเหนือเยอรมนีคู่แข่งอย่างสำคัญ การแข่งขันอาวุธระหว่างอังกฤษและเยอรมนีได้ลุกลามไปยังส่วนที่เหลือของยุโรปในที่สุด โดยประเทศมหาอำนาจทั้งหมดทุ่มเทฐานอุตสาหกรรมของตนในการผลิตยุทโธปกรณ์และอาวุธที่จำเป็นสำหรับความขัดแย้งทั่วทวีปยุโรป ระหว่าง ค.ศ. 1908 และ 1913 ค่าใช้จ่ายด้านการทหารของประเทศในยุโรปเพิ่มขึ้น 50 เปอร์เซนต์\\n\\nออสเตรีย-ฮังการีจุดชนวนเร่งให้เกิดวิกฤตการณ์บอสเนีย ค.ศ. 1908-1909 โดยการผนวกบอสเนียและเฮอร์เซโกวีนา ซึ่งเป็นอดีตดินแดนของจักรวรรดิออตโตมัน อย่างเป็นทางการ หลังได้ยึดครองมาตั้งแต่ ค.ศ. 1878 สร้างความโกรธแค้นแก่ราชอาณาจักรเซอร์เบียและประเทศผู้ให้การสนับสนุน คือ จักรวรรดิรัสเซียซึ่งมีแนวคิดรวมชาติสลาฟ การดำเนินกลยุทธ์ทางการเมืองของรัสเซียในภูมิภาคบั่นทอนเสถียรภาพของสันติภาพควบคู่ไปกับความแตกร้าวที่เกิดขึ้นแล้วในสิ่งที่เป็นที่รู้จักกันว่า \"ถังดินปืนแห่งยุโรป\"\\n\\nใน ค.ศ. 1912 และ 1913 สงครามบอลข่านครั้งที่หนึ่งสู้รบกันระหว่างสันนิบาตบอลข่านและจักรวรรดิออตโตมันที่เสื่อมอำนาจลง สนธิสัญญาลอนดอนอันเป็นผลของสงครามได้ลดขนาดของจักรวรรดิออตโตมันไปอีก สถาปนาอัลเบเนียเป็นรัฐเอกราช ขณะที่เพิ่มดินแดนให้แก่บัลแกเรีย เซอร์เบียมอนเตเนโกรและกรีซ เมื่อบัลแกเรียโจมตีเซอร์เบียและกรีซเมื่อวันที่ 16 มิถุนายน ค.ศ. 1913 บัลแกเรียก็เสียมาซิโดเนียส่วนใหญ่ให้แก่เซอร์เบียและกรีซ และเสียเซาเทิร์นดอบรูจาให้แก่โรมาเนียในสงครามบอลข่านครั้งที่สองนาน 33 วัน ซึ่งยิ่งบั่นทอนเสถียรภาพในภูมิภาคขึ้นไปอีก\\n\\nวันที่ 28 มิถุนายน ค.ศ. 1914 กัฟรีโล ปรินซีป นักศึกษาชาวบอสเนียเซิร์บและสมาชิกบอสเนียหนุ่ม ลอบปลงพระชนม์รัชทายาทแห่งออสเตรีย-ฮังการี อาร์ชดยุกฟรานซ์ เฟอร์ดินานด์แห่งออสเตรีย ในซาราเยโว บอสเนีย อันเป็นจุดเริ่มต้นของการดำเนินกลยุทธ์ทางการทูตระหว่างออสเตรีย-ฮังการี เยอรมนี รัสเซีย ฝรั่งเศสและอังกฤษ เรียกว่า วิกฤตการณ์เดือนกรกฎาคม โดยต้องการยุติการเข้าแทรกแซงของเซอร์เบียในบอสเนีย ออสเตรีย-ฮังการีจึงยื่นคำขาดเดือนกรกฎาคมแก่เซอร์เบีย ซึ่งเป็นข้อเรียกร้องสิบประการซึ่งมีเจตนาทำให้ยอมรับไม่ได้ และเจตนาจุดชนวนสงครามกับเซอร์เบีย เมื่อเซอร์เบียยอมตกลงในข้อเรียกร้องเพียงแปดจากสิบข้อ ออสเตรีย-ฮังการีจึงประกาศสงครามเมื่อวันที่ 28 กรกฎาคม ค.ศ. 1914\\n\\nจักรวรรดิรัสเซีย ซึ่งไม่ต้องการปล่อยให้ออสเตรีย-ฮังการีกำจัดอิทธิพลของตนในบอลข่าน และเพื่อให้การสนับสนุนชาวเซิร์บที่อยู่ในความคุ้มครองเป็นเวลานานแล้ว จึงออกคำสั่งระดมพลบางส่วนในวันต่อมา เมื่อจักรวรรดิเยอรมันเริ่มระดมพลเมื่อวันที่ 30 กรกฎาคม ค.ศ. 1914 ฝรั่งเศส ซึ่งโกรธแค้นจากการยึดครองอัลซาซ-ลอแรนของเยอรมนีระหว่างสงครามฝรั่งเศส-ปรัสเซีย จึงสั่งระดมพลเช่นกันเมื่อวันที่ 1 สิงหาคม เยอรมนีประกาศสงครามต่อรัสเซียในวันเดียวกัน สหราชอาณาจักรประกาศสงครามต่อเยอรมนีเมื่อวันที่ 4 สิงหาคม ค.ศ. 1914 หลัง \"คำตอบซึ่งไม่น่าพอใจ\" ต่อคำขาดของอังกฤษที่เรียกร้องให้เคารพความเป็นกลางของเบลเยียม   \n",
       "534  ยุทธการที่นิวบรีครั้งที่ 1 (อังกฤษ: first battle of newbury) เป็นยุทธการในสงครามกลางเมืองอังกฤษครั้งที่ 1 ที่เกิดขึ้นเมื่อวันที่ 20 กันยายน ค.ศ. 1643 ที่นิวบรีในอังกฤษ เป็นการต่อสู้ระหว่างกองทัพของฝ่ายนิยมกษัตริย์ของพระเจ้าชาลส์ที่ 1 ที่นำโดยเจ้าชายรูเพิร์ตแห่งไรน์และเจคอบ แอสต์ลีย์ บารอนแอสต์ลีย์ที่ 1 แห่งเรดิง และฝ่ายรัฐสภาที่นำโดยรอเบิร์ต เดเวอรู เอิร์ลที่ 3 แห่งเอสเซกซ์ ผลของสงครามครั้งนี้ไม่มีฝ่ายใดแพ้ไม่มีฝ่ายใดชนะ ในด้านความเสียหายมีผู้เสียชีวิตรวมกันทั้งสองฝ่ายประมาณ 3,500 คน                                                                                                                                                                                                                                                                                                                                                                                                                                                                                                                                                                                                                                                                                                                                                                                                                                                                                                                                                                                                                                                                                                                                                                                                                                                                                                                                                                                                                                                                                                                                                                                                                                                                                                                                                                                                                                                                                                                                                                                                                                                                                                                                                                                                                                                                                                                                                                                                                                                                                                                                                                                                                                                                                                                                                                                                                                                                                                                                                                                                                                                                                                                                                                                                                                                                                                                                                                                                                                                                                                                                                                                                                                                                                                                                                                                                                                                                                                                                                                                                                                                                                                                                                                                                                                                                                                                                   \n",
       "469  สัญญารัก วันหิมะโปรยเป็นภาพยนตร์เกาหลีเข้าฉายในปีค.ศ.2007 กำกับการแสดงโดย han sang hye นำแสดงโดยนักแสดงเกาหลี อี จุน-กีและนักแสดงสาวญี่ปุ่น อาโออิ มิยาซากิ\\n\\nมิน (อี จุน-กี) เป็นเด็กเกาหลีย้ายตามพ่อมาญี่ปุ่นซึ้งเป็นช้างปั้น วันหนึ่ง ณ ศาลท้องถิ่นเขาได้พบกับนานาเอะ (มิยาซากิ) สาวญี่ปุ่นที่สวยงามเธอปรารถนาที่จะเป็นจิตรกร ในนาทีนั้นมินตกหลุมรักตั้งแต่แรกเห็นและพบว่าใน นานาเอะ เข้าเรียนที่โรงเรียนเดียวกับเขา มิตรภาพของพวกเขาพัฒนาอย่างรวดเร็วแม้จะมีความแตกต่างทางวัฒนธรรมและภาษาของพวกเขา แต่เมื่อคุณยายของมินเกิดล้มป่วยมินเร่งรีบกลับมาเกาหลีโดยกะทันหัน ไม่ต้องมีเวลาที่จะอธิบายสถานการณ์ที่ นานาเอะ หลังจากที่คุณยายของมินหายป่วยมินรีบกลับไปที่ญี่ปุ่น แต่หานานาเอะ โดยที่มินไม่รู้ถึงความรู้สึกที่แท้จริงของนานาเอะ และทำไมนานาเอะได้หายไปเพราะเหตุใด?                                                                                                                                                                                                                                                                                                                                                                                                                                                                                                                                                                                                                                                                                                                                                                                                                                                                                                                                                                                                                                                                                                                                                                                                                                                                                                                                                                                                                                                                                                                                                                                                                                                                                                                                                                                                                                                                                                                                                                                                                                                                                                                                                                                                                                                                                                                                                                                                                                                                                                                                                                                                                                                                                                                                                                                                                                                                                                                                                                                                                                                                                                                                                                                                                                                                                                                                                                                                                                                                                                                                                                                                                                                                                                                                                                                                                                                                                                                                                                                                                                                                 \n",
       "435  ภาพยนตร์ชุด วิ่งสู้ฟัด (อังกฤษ: police story film series) เป็นซีรีส์ภาพยนตร์แอคชั่นหลายเรื่อง ที่มีจุดเริ่มต้นมาจากภาพยนตร์เรื่อง วิ่งสู้ฟัด ภาพยนตร์แอคชั่นของเฉินหลง ที่ออกฉายเมื่อ ค.ศ. 1985 นำแสดงโดย เฉินหลง, หลิน ชิงเสีย และจาง ม่านอวี้\\n\\nภาพยนตร์เรื่อง วิ่งสู้ฟัด สร้างชื่อเสียงให้กับทั้งเฉินหลง, หลิน ชิงเสีย และจาง ม่านอวี้ ต่อมาจึงมีการสร้างภาพยนตร์ภาคต่ออีก 5 ภาค ได้แก่\\n\\nวิ่งสู้ฟัด (police story) ออกฉายปี ค.ศ. 1985 กำกับและนำแสดงโดย เฉินหลง\\nวิ่งสู้ฟัด 2 (police story 2) ออกฉายปี ค.ศ. 1988 กำกับและนำแสดงโดย เฉินหลง\\nวิ่งสู้ฟัด 3 (police story 3: supercop) ออกฉายในปี ค.ศ. 1992 กำกับโดย สแตนลี่ ตง\\nวิ่งสู้ฟัด 4 หรือ ใหญ่ฟัดโลก 2 (police story 4: first strike) ออกฉายในปี ค.ศ. 1996 กำกับโดย สแตนลี่ ตง\\nวิ่งสู้ฟัด 5 เหิรสู้ฟัด (new police story) ออกฉายในปี 2004 กำกับโดย เบนนี่ ชาน นำแสดงโดย เฉินหลง แดเนียล วู เซียะ ถิงฟง ภาพยนตร์เรื่องนี้เป็นการรีบูตเรื่องราวใน วิ่งสู้ฟัด ขึ้นมาใหม่\\nวิ่งสู้ฟัด 2013 (police story 2013) ออกฉายในปี 2013 กำกับโดย ติง ถง                                                                                                                                                                                                                                                                                                                                                                                                                                                                                                                                                                                                                                                                                                                                                                                                                                                                                                                                                                                                                                                                                                                                                                                                                                                                                                                                                                                                                                                                                                                                                                                                                                                                                                                                                                                                                                                                                                                                                                                                                                                                                                                                                                                                                                                                                                                                                                                                                                                                                                                                                                                                                                                                                                                                                                                                                                                                                                                                                                                                                                                                                                                                                                                                                                                                                                                                                                                                                                                                                                                                                                                                                                                                                                                                                                                                                                   \n",
       "\n",
       "                                                                                                 question  \\\n",
       "725  เฮอรอโดทัสเกิดเมื่อใด                                                                                  \n",
       "370  พระพุทธมณีรัตนปฏิมากร สร้างเมื่อรัชสมัยใด                                                              \n",
       "61   ฉบับอนิเมะได้ลิขสิทธิ์จัดจำหน่ายโดยค่ายอะไร                                                            \n",
       "680  ออสเตรเลียเน็กซ์ท็อปโมเดล ตอนแรกฤดูกาล ออกขึ้นปีอะไร                                                   \n",
       "545  ราคาเท่าไรหรอครับ                                                                                      \n",
       "15   เพย์แบ็ก อยู่เวทีอะไรของมวยปล้ำอะไร                                                                    \n",
       "45   ปลาบู่เขือคางยื่นในแวดวงปลาสวยงามมีชื่อเรียกว่าอะไร                                                    \n",
       "718  อะตอม ปรากฏตัวครั้งแรกในการ์ตูนวันที่เท่าไร                                                            \n",
       "656  เกรแฮมสแกน คือ ?                                                                                       \n",
       "136  ซูเปอร์บลูบลัดมูน คืออะไร                                                                              \n",
       "431  เอ็ดเวิร์ด มโพฟู ได้แชมครั้งแรกที่ไหน                                                                  \n",
       "543  ปลาค้อถ้ำพระวังแดงเป็นสัตว์น้ำคุ้มครองสามารถพบได้ที่ประเทศใดบ้าง                                       \n",
       "654  บริษัทวชิรนทร์ ใครช่วยเริ่มเปิดบริษัท                                                                  \n",
       "452  พระราชกฤษฎีกายกฐานะขึ้นเป็น อำเภอชุมตาบง มีผลบังคับเมื่อวันที่เท่าไร                                   \n",
       "429  คู่ชกของ เอ็ดเวิร์ด มโพฟู คือใคร                                                                       \n",
       "432  เอ็ดเวิร์ด มโพฟู ป้องกันแชม กับใคร                                                                     \n",
       "354  สงครามบอลข่านครั้งที่หนึ่งสู้รบกันระหว่างสันนิบาตบอลข่านและจักรวรรดิออตโตมัน เกิดขึ้นระหว่าง ค.ศ. ใด   \n",
       "534  ยุทธการที่นิวบรีครั้งที่ 1 เกิดที่เมืองอะไร                                                            \n",
       "469  นางเอกในเรื่องสัญญารัก วันหิมะโปรยมาจากประเทศไหน                                                       \n",
       "435  วิ่งสู้ฟัด 2013 (police story 2013) ออกฉายในปี 2013 กำกับโดย ?                                         \n",
       "\n",
       "                                                               text  \\\n",
       "725  พ.ศ. 58                                                          \n",
       "370  รัชสมัยพระบาทสมเด็จพระมงกุฏเกล้าเจ้าอยู่หัว                      \n",
       "61   tiga                                                             \n",
       "680  วันที่ 30 เมษายน พ.ศ. 2558                                       \n",
       "545  ไม่ทราบราคาของสินค้า                                             \n",
       "15   ดับเบิลยูดับเบิลยูอี                                             \n",
       "45   มังกรแยงซีเกียง                                                  \n",
       "718  ตุลาคม 1961                                                      \n",
       "656  เป็นขั้นตอนวิธีสำหรับคำนวณหา เปลือกนูน ของเซตจุดบนระนาบ          \n",
       "136  เป็นวันที่ดวงจันทร์เต็มดวงครั้งที่สองของเดือนมกราคม พ.ศ.​ 2561   \n",
       "431  แอฟริกาใต้                                                       \n",
       "543  พบได้เฉพาะถิ่นเดียวในประเทศไทยเท่านั้น                           \n",
       "654  มิตร ชัยบัญชา                                                    \n",
       "452  นที่ 8 กันยายน                                                   \n",
       "429  แอนโทนี ทเซลา                                                    \n",
       "432  อินโดนเซนต์ มทาลาเน                                              \n",
       "354  ค.ศ. 1912 และ 1913                                               \n",
       "534  นิวบรี                                                           \n",
       "469  ญี่ปุ่น                                                          \n",
       "435  ติง ถง                                                           \n",
       "\n",
       "                            prediction_text  partial_ratio  \n",
       "725  ที่เมืองฮาลิคาร์นาสซัส                  0              \n",
       "370  2457                                    0              \n",
       "61   สำนักพิมพ์วิบูลย์กิจ                    0              \n",
       "680  9                                       0              \n",
       "545                                          0              \n",
       "15   ที่สนามsap center                       6              \n",
       "45   \\nชื่อวิทยาศาสตร์: taenioides cirratus  7              \n",
       "718  showcase ฉบับที่ 34                     9              \n",
       "656  o(n log n)                              10             \n",
       "136  super blue blood moon                   10             \n",
       "431  อินโดนเซนต์ มทาลาเน                     10             \n",
       "543  ค.ศ. 2003                               11             \n",
       "654  วชิรนทร์                                12             \n",
       "452  24 สิงหาคม พ.ศ. 2550                    13             \n",
       "429  ลุยจิ ค้สติโยเน                         15             \n",
       "432  ป้องกันแชมป์                            17             \n",
       "354  33 วัน                                  17             \n",
       "534  ในอังกฤษ                                17             \n",
       "469  เกาหลี                                  17             \n",
       "435  เบนนี่ ชาน                              17             "
      ]
     },
     "execution_count": 107,
     "metadata": {},
     "output_type": "execute_result"
    }
   ],
   "source": [
    "df.head(20) #most likely wrong answers"
   ]
  },
  {
   "cell_type": "code",
   "execution_count": null,
   "metadata": {},
   "outputs": [],
   "source": []
  }
 ],
 "metadata": {
  "accelerator": "GPU",
  "colab": {
   "collapsed_sections": [],
   "name": "wip_train_question_answering_lm_finetuning",
   "private_outputs": true,
   "provenance": [],
   "toc_visible": true
  },
  "kernelspec": {
   "display_name": "Python 3",
   "language": "python",
   "name": "python3"
  },
  "language_info": {
   "codemirror_mode": {
    "name": "ipython",
    "version": 3
   },
   "file_extension": ".py",
   "mimetype": "text/x-python",
   "name": "python",
   "nbconvert_exporter": "python",
   "pygments_lexer": "ipython3",
   "version": "3.7.10"
  }
 },
 "nbformat": 4,
 "nbformat_minor": 1
}
